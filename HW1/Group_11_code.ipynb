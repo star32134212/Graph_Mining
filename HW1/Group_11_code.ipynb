{
 "cells": [
  {
   "cell_type": "code",
   "execution_count": 6,
   "metadata": {},
   "outputs": [],
   "source": [
    "import re\n",
    "from collections import defaultdict\n",
    "import matplotlib.pyplot as plt\n",
    "import os\n",
    "import numpy as np\n",
    "import powerlaw\n",
    "import math\n",
    "from sklearn import linear_model\n",
    "from scipy.stats import norm\n",
    "np.set_printoptions(suppress=True)\n"
   ]
  },
  {
   "cell_type": "markdown",
   "metadata": {},
   "source": [
    "### All functions"
   ]
  },
  {
   "cell_type": "code",
   "execution_count": 7,
   "metadata": {},
   "outputs": [],
   "source": [
    "def load_flle(filename):\n",
    "    x = []\n",
    "    with open(filename) as f:\n",
    "        line = f.readline()\n",
    "        line = line.strip('\\n')\n",
    "    return line\n",
    "\n",
    "def dirlist(path, files): #找到指定資料夾下所有資料\n",
    "    filelist = os.listdir(path)\n",
    "\n",
    "    for filename in filelist:\n",
    "        filepath = os.path.join(path, filename)\n",
    "        if os.path.isdir(filepath):\n",
    "            dirlist(filepath, files)\n",
    "        else:\n",
    "            files.append(filepath)\n",
    "    return files\n",
    "\n",
    "def load_train_files(path):\n",
    "    x = []\n",
    "    y = []\n",
    "    list = os.listdir(path)\n",
    "    for i in range(0, len(list)):\n",
    "        path2 = os.path.join(path, list[i])\n",
    "        if os.path.isfile(path2):\n",
    "            x.append(load_flle(path2))\n",
    "            y.append(0)\n",
    "    return x, y\n",
    "\n",
    "\n",
    "def load_attack_files(path, x, y, attack_type):\n",
    "    total = 0\n",
    "    for i in range(1,11):\n",
    "        files = dirlist(path + attack_type +\"_\" + str(i), [])\n",
    "        total = total + len(files)\n",
    "        for file in files:\n",
    "            x.append(load_flle(file))\n",
    "            y.append(1)\n",
    "    print(attack_type + \" data: \" + str(total))\n",
    "    return x, y\n",
    "\n",
    "def get_increasing_array(length): #拿到x軸的數列 : [1,2,3,.....,N]\n",
    "    arr = np.zeros(length)\n",
    "    for i in range(length):\n",
    "        arr[i] = i\n",
    "    return arr\n",
    "\n",
    "def find_one(arr): #找到陣列第一個出現1的index\n",
    "    for i in range(len(arr)):\n",
    "        if arr[i] == 1:\n",
    "            break\n",
    "    return i\n",
    "\n",
    "def indent(arr): #壓縮連續重複呼叫的system call number成一個\n",
    "    last = -1\n",
    "    rt_arr = np.zeros(1)\n",
    "    for i in range(len(arr)):\n",
    "        if arr[i] != last:\n",
    "            rt_arr = np.append(rt_arr, arr[i])\n",
    "            last = arr[i]\n",
    "            \n",
    "    return rt_arr[1:]\n",
    "\n",
    "def systemcall_classify(query):\n",
    "    class_outcome = np.zeros((1,12))\n",
    "    query = query.strip().split(' ')\n",
    "    for i in query:\n",
    "        if int(i) in Machine_dependent:\n",
    "            class_outcome[0][0] += 1\n",
    "        elif int(i) in Filesystem:\n",
    "            class_outcome[0][1] += 1\n",
    "        elif int(i) in Linux_Kernel:\n",
    "            class_outcome[0][2] += 1\n",
    "        elif int(i) in Scheduling:\n",
    "            class_outcome[0][3] += 1\n",
    "        elif int(i) in Signals:\n",
    "            class_outcome[0][4] += 1\n",
    "        elif int(i) in Systems:\n",
    "            class_outcome[0][5] += 1\n",
    "        elif int(i) in Time:\n",
    "            class_outcome[0][6] += 1\n",
    "        elif int(i) in Kernel_Process:\n",
    "            class_outcome[0][7] += 1\n",
    "        elif int(i) in UID:\n",
    "            class_outcome[0][8] += 1\n",
    "        elif int(i) in Memory_Management:\n",
    "            class_outcome[0][9] += 1\n",
    "        elif int(i) in Swapfile:\n",
    "            class_outcome[0][10] += 1\n",
    "        elif int(i) in Socket:\n",
    "            class_outcome[0][11] += 1\n",
    "    return class_outcome\n",
    "\n",
    "def systemcall_transfer(query):\n",
    "    query = query.strip().split(' ')\n",
    "    for i in range(len(query)):\n",
    "        if int(query[i]) in Machine_dependent:\n",
    "            query[i] = '1'\n",
    "        elif int(query[i]) in Filesystem:\n",
    "            query[i] = '2'\n",
    "        elif int(query[2]) in Linux_Kernel:\n",
    "            query[i] = '3'\n",
    "        elif int(query[i]) in Scheduling:\n",
    "            query[i] = '4'\n",
    "        elif int(query[i]) in Signals:\n",
    "            query[i] = '5'\n",
    "        elif int(query[i]) in Systems:\n",
    "            query[i] = '6'\n",
    "        elif int(query[i]) in Time:\n",
    "            query[i] = '7'\n",
    "        elif int(query[i]) in Kernel_Process:\n",
    "            query[i] = '8'\n",
    "        elif int(query[i]) in UID:\n",
    "            query[i] = '9'\n",
    "        elif int(query[i]) in Memory_Management:\n",
    "            query[i] = '10'\n",
    "        elif int(query[i]) in Swapfile:\n",
    "            query[i] = '11'\n",
    "        elif int(query[i]) in Socket:\n",
    "            query[i] = '12'\n",
    "        else:\n",
    "            query[i] = '0' #self-defined system call\n",
    "    return query\n",
    "\n",
    "def log_and_fit(X,Y):\n",
    "    X = np.log10(X)  \n",
    "    Y = np.log10(Y) \n",
    "    X2 = []\n",
    "    Y2 = []\n",
    "    for xi ,yi in zip(X,Y):\n",
    "        X2.append([float(xi)])\n",
    "        Y2.append(float(yi))\n",
    "\n",
    "    regr = linear_model.LinearRegression()\n",
    "    regr.fit(X2, Y2)\n",
    "    #y' = Gamma * X' + A\n",
    "    print('Gamma: ', regr.coef_)\n",
    "    print(\"A: \",regr.intercept_)\n",
    "    # The mean square error\n",
    "    print(\"error: %.8f\" % np.mean((regr.predict(X2) - Y2) ** 2))  # 残差平方\n",
    "\n",
    "    plt.title(\"Log Data\")\n",
    "    plt.scatter(X2, Y2,  color='blue', s=10)\n",
    "    plt.plot(X2, regr.predict(X2), color='red',linewidth=3)\n",
    "\n",
    "    #plt.xticks([]) #關閉X軸\n",
    "    #plt.yticks([]) #關閉y軸\n",
    "    plt.show()\n",
    "    \n",
    "def load_new_attack_files(path, x, y, attack_type):\n",
    "    # return x:length of each attack file\n",
    "    total = 0\n",
    "    files = dirlist(path + attack_type, [])\n",
    "    total = total + len(files)\n",
    "    for file in files:\n",
    "        x.append(load_flle(file))\n",
    "        y.append(1)\n",
    "    print(attack_type + \" data: \" + str(total))\n",
    "    return x, y\n",
    "\n",
    "def calculate_attack_syscall_avg(attack_type):\n",
    "    x_orig = []\n",
    "    x_extend = []\n",
    "    y_orig = []\n",
    "    y_extend = []\n",
    "\n",
    "    x_orig, y_orig = load_attack_files(\"ADFA-LD/Attack_Data_Master/\", x_orig, y_orig, attack_type)\n",
    "    fileIndex = 0 # attack count\n",
    "    totalLen = 0\n",
    "    x_avglen = 0\n",
    "    for d in x_orig:\n",
    "        d = d.rstrip()\n",
    "        fileIndex+=1\n",
    "        if (fileIndex == 1): print(fileIndex, \": \", d, \"\\nThe syscall length of this attack file: \", len(d.split(' ')),  \"\\n\")\n",
    "        totalLen += len(d.split(' '))\n",
    "\n",
    "    x_avglen = totalLen / len(x_orig)\n",
    "    print(\"Avg\", attack_type, \"system call length:\", x_avglen, \"\\n\")\n",
    "    return x_avglen\n"
   ]
  },
  {
   "cell_type": "markdown",
   "metadata": {},
   "source": [
    "### Sampling attack data"
   ]
  },
  {
   "cell_type": "code",
   "execution_count": 8,
   "metadata": {},
   "outputs": [],
   "source": [
    "# sampling the attack sequence data\n",
    "def sampling(attack_type):\n",
    "    x_orig = []\n",
    "    y_orig = []\n",
    "    x_orig, y_orig = load_attack_files(\"ADFA-LD/Attack_Data_Master/\", x_orig, y_orig, attack_type)\n",
    "    syscalls = []\n",
    "    \n",
    "    dic_addusr = defaultdict(lambda: 0)\n",
    "    n = 3 # 3-gram\n",
    "      \n",
    "    ## one attack data n-gram\n",
    "    for d in x_orig:\n",
    "        data = d.strip().split(' ')\n",
    "        for i in range(len(data) - n + 1):\n",
    "            index = ' '.join(data[i:i+n])\n",
    "            dic_addusr[index] = dic_addusr[index] + 1\n",
    "    out = sorted(dic_addusr.items(), key=lambda kv: kv[1], reverse=True)\n",
    "    print( \"3-gram:\", list(out[1][0].strip().split(' ')), list(out[1][0].strip().split(' ')) )\n",
    "    \n",
    "    ## compare to the avg.\n",
    "    avg = calculate_attack_syscall_avg(attack_type)\n",
    "    \n",
    "    \n",
    "    print(\"========== starting sampling data ==========\\n\")\n",
    "    \n",
    "    new_syscall = []\n",
    "    i=0 # file index\n",
    "    j=0 # syscall index\n",
    "    m=0 # new file index\n",
    "    for d in x_orig:\n",
    "        i+=1\n",
    "        print(\"==========\", attack_type, i, \"==========\\n\")\n",
    "        syscalls = d.strip().split(' ')\n",
    "        for call in syscalls:\n",
    "            j+=1\n",
    "            for k in range(0, 100):\n",
    "                tmp = (list(out[k][0].strip().split(' ')))\n",
    "                if ( call == tmp[0] ):\n",
    "                    # deal with sampling\n",
    "                    # print(\"file:\", i, \", call index:\", j, \", find in: \", k, \", the syscall is: \", call, \", the 3-gram: \", tmp)\n",
    "                    new_syscall.extend( list(out[k][0].split(' ')) )\n",
    "                    break\n",
    "                if ( len(new_syscall) > avg ):\n",
    "                    m+=1\n",
    "                    # output new attack data as txt\n",
    "                    print(len(new_syscall), new_syscall, \"\\n\")\n",
    "                    with open('ADFA-LD/new_data/{0}/{1}_{2}_{3}.txt'.format(attack_type, attack_type, i, m), 'w') as f:\n",
    "                        for item in new_syscall:\n",
    "                            f.write(\"%s \" % item)\n",
    "                    new_syscall = []\n",
    "        m=0\n",
    "        j=0"
   ]
  },
  {
   "cell_type": "markdown",
   "metadata": {},
   "source": [
    "### sampling data"
   ]
  },
  {
   "cell_type": "code",
   "execution_count": 9,
   "metadata": {},
   "outputs": [
    {
     "name": "stdout",
     "output_type": "stream",
     "text": [
      "Adduser data: 91\n",
      "3-gram: ['162', '162', '162'] ['162', '162', '162']\n",
      "Adduser data: 91\n",
      "1 :  3 3 168 168 168 146 168 168 168 265 3 265 168 168 265 168 168 168 265 265 3 168 168 265 168 146 168 265 168 168 168 146 168 168 265 168 146 168 265 265 3 168 168 3 3 168 3 3 265 3 168 265 168 3 168 168 168 168 3 168 146 168 265 168 78 265 168 168 3 265 78 265 168 168 168 265 168 19 265 265 168 265 168 4 3 168 265 168 265 265 3 78 265 3 168 168 146 168 146 3 168 146 168 168 265 265 168 168 168 168 168 168 168 146 265 3 3 168 168 265 168 168 168 3 265 168 265 168 146 3 265 146 146 168 168 146 168 146 3 146 168 168 168 168 168 168 168 3 168 168 146 168 265 3 168 146 3 168 265 168 168 146 3 168 265 168 168 168 168 146 168 265 168 168 168 146 168 168 168 265 265 3 168 168 265 168 168 168 168 168 168 168 168 265 168 168 168 265 3 168 168 146 168 265 3 146 168 168 168 265 19 168 168 168 265 168 265 3 168 265 168 168 146 265 168 146 3 168 3 3 265 168 168 265 265 265 162 168 3 78 265 78 4 19 19 19 4 19 19 4 19 19 265 168 265 168 168 265 3 265 168 265 265 168 3 3 3 168 3 168 168 168 265 265 168 168 265 168 265 265 168 265 146 168 3 3 168 19 19 19 3 3 19 19 19 19 265 265 19 146 168 3 168 3 265 3 3 3 3 3 19 3 78 19 19 78 19 19 19 3 19 19 168 168 265 168 265 168 265 265 168 265 265 265 168 168 19 78 19 3 168 19 19 3 19 168 265 3 19 3 3 19 3 168 19 3 3 162 168 168 3 168 265 19 19 19 168 3 3 265 168 168 168 168 168 162 168 78 265 168 168 78 146 265 3 265 168 265 265 146 265 265 265 265 168 265 168 265 168 168 146 168 146 3 265 265 265 168 168 168 168 3 265 265 168 168 168 265 265 146 146 168 3 265 168 146 168 168 3 3 265 265 168 168 265 168 265 3 168 168 168 265 265 3 146 3 168 168 168 3 3 3 168 54 146 3 146 3 168 265 3 168 265 265 168 3 168 168 265 265 146 168 168 3 265 265 168 168 168 265 168 168 3 168 265 168 3 168 146 3 146 168 168 168 168 168 168 265 168 168 168 168 3 168 3 3 3 168 168 3 168 168 168 168 168 168 168 265 265 265 3 146 265 168 168 3 265 \n",
      "The syscall length of this attack file:  527 \n",
      "\n",
      "Avg Adduser system call length: 460.8021978021978 \n",
      "\n",
      "========== starting sampling data ==========\n",
      "\n",
      "========== Adduser 1 ==========\n",
      "\n",
      "462 ['3', '168', '168', '3', '168', '168', '168', '168', '168', '168', '168', '168', '168', '168', '168', '146', '168', '168', '168', '168', '168', '168', '168', '168', '168', '168', '168', '265', '168', '168', '3', '168', '168', '265', '168', '168', '168', '168', '168', '168', '168', '168', '265', '168', '168', '168', '168', '168', '168', '168', '168', '168', '168', '168', '265', '168', '168', '265', '168', '168', '3', '168', '168', '168', '168', '168', '168', '168', '168', '265', '168', '168', '168', '168', '168', '146', '168', '168', '168', '168', '168', '265', '168', '168', '168', '168', '168', '168', '168', '168', '168', '168', '168', '146', '168', '168', '168', '168', '168', '168', '168', '168', '265', '168', '168', '168', '168', '168', '146', '168', '168', '168', '168', '168', '265', '168', '168', '265', '168', '168', '3', '168', '168', '168', '168', '168', '168', '168', '168', '3', '168', '168', '3', '168', '168', '168', '168', '168', '3', '168', '168', '3', '168', '168', '265', '168', '168', '3', '168', '168', '168', '168', '168', '265', '168', '168', '168', '168', '168', '3', '168', '168', '168', '168', '168', '168', '168', '168', '168', '168', '168', '168', '168', '168', '3', '168', '168', '168', '168', '168', '146', '168', '168', '168', '168', '168', '265', '168', '168', '168', '168', '168', '78', '78', '78', '265', '168', '168', '168', '168', '168', '168', '168', '168', '3', '168', '168', '265', '168', '168', '78', '78', '78', '265', '168', '168', '168', '168', '168', '168', '168', '168', '168', '168', '168', '265', '168', '168', '168', '168', '168', '265', '168', '168', '265', '168', '168', '168', '168', '168', '265', '168', '168', '168', '168', '168', '4', '4', '4', '3', '168', '168', '168', '168', '168', '265', '168', '168', '168', '168', '168', '265', '168', '168', '265', '168', '168', '3', '168', '168', '78', '78', '78', '265', '168', '168', '3', '168', '168', '168', '168', '168', '168', '168', '168', '146', '168', '168', '168', '168', '168', '146', '168', '168', '3', '168', '168', '168', '168', '168', '146', '168', '168', '168', '168', '168', '168', '168', '168', '265', '168', '168', '265', '168', '168', '168', '168', '168', '168', '168', '168', '168', '168', '168', '168', '168', '168', '168', '168', '168', '168', '168', '168', '168', '168', '168', '146', '168', '168', '265', '168', '168', '3', '168', '168', '3', '168', '168', '168', '168', '168', '168', '168', '168', '265', '168', '168', '168', '168', '168', '168', '168', '168', '168', '168', '168', '3', '168', '168', '265', '168', '168', '168', '168', '168', '265', '168', '168', '168', '168', '168', '146', '168', '168', '3', '168', '168', '265', '168', '168', '146', '168', '168', '146', '168', '168', '168', '168', '168', '168', '168', '168', '146', '168', '168', '168', '168', '168', '146', '168', '168', '3', '168', '168', '146', '168', '168', '168', '168', '168', '168', '168', '168', '168', '168', '168', '168', '168', '168', '168', '168', '168', '168', '168', '168', '168', '168', '168', '3', '168', '168', '168', '168', '168', '168', '168', '168', '146', '168', '168', '168', '168', '168', '265', '168', '168', '3', '168', '168', '168', '168', '168'] \n",
      "\n"
     ]
    },
    {
     "ename": "FileNotFoundError",
     "evalue": "[Errno 2] No such file or directory: 'ADFA-LD/new_data/Adduser/Adduser_1_1.txt'",
     "output_type": "error",
     "traceback": [
      "\u001b[0;31m---------------------------------------------------------------------------\u001b[0m",
      "\u001b[0;31mFileNotFoundError\u001b[0m                         Traceback (most recent call last)",
      "\u001b[0;32m<ipython-input-9-d1d5d4ece754>\u001b[0m in \u001b[0;36m<module>\u001b[0;34m\u001b[0m\n\u001b[0;32m----> 1\u001b[0;31m \u001b[0msampling\u001b[0m\u001b[0;34m(\u001b[0m\u001b[0;34m\"Adduser\"\u001b[0m\u001b[0;34m)\u001b[0m\u001b[0;34m\u001b[0m\u001b[0;34m\u001b[0m\u001b[0m\n\u001b[0m\u001b[1;32m      2\u001b[0m \u001b[0msampling\u001b[0m\u001b[0;34m(\u001b[0m\u001b[0;34m\"Hydra_FTP\"\u001b[0m\u001b[0;34m)\u001b[0m\u001b[0;34m\u001b[0m\u001b[0;34m\u001b[0m\u001b[0m\n\u001b[1;32m      3\u001b[0m \u001b[0msampling\u001b[0m\u001b[0;34m(\u001b[0m\u001b[0;34m\"Hydra_SSH\"\u001b[0m\u001b[0;34m)\u001b[0m\u001b[0;34m\u001b[0m\u001b[0;34m\u001b[0m\u001b[0m\n\u001b[1;32m      4\u001b[0m \u001b[0msampling\u001b[0m\u001b[0;34m(\u001b[0m\u001b[0;34m\"Java_Meterpreter\"\u001b[0m\u001b[0;34m)\u001b[0m\u001b[0;34m\u001b[0m\u001b[0;34m\u001b[0m\u001b[0m\n\u001b[1;32m      5\u001b[0m \u001b[0msampling\u001b[0m\u001b[0;34m(\u001b[0m\u001b[0;34m\"Meterpreter\"\u001b[0m\u001b[0;34m)\u001b[0m\u001b[0;34m\u001b[0m\u001b[0;34m\u001b[0m\u001b[0m\n",
      "\u001b[0;32m<ipython-input-8-b38796706035>\u001b[0m in \u001b[0;36msampling\u001b[0;34m(attack_type)\u001b[0m\n\u001b[1;32m     45\u001b[0m                     \u001b[0;31m# output new attack data as txt\u001b[0m\u001b[0;34m\u001b[0m\u001b[0;34m\u001b[0m\u001b[0;34m\u001b[0m\u001b[0m\n\u001b[1;32m     46\u001b[0m                     \u001b[0mprint\u001b[0m\u001b[0;34m(\u001b[0m\u001b[0mlen\u001b[0m\u001b[0;34m(\u001b[0m\u001b[0mnew_syscall\u001b[0m\u001b[0;34m)\u001b[0m\u001b[0;34m,\u001b[0m \u001b[0mnew_syscall\u001b[0m\u001b[0;34m,\u001b[0m \u001b[0;34m\"\\n\"\u001b[0m\u001b[0;34m)\u001b[0m\u001b[0;34m\u001b[0m\u001b[0;34m\u001b[0m\u001b[0m\n\u001b[0;32m---> 47\u001b[0;31m                     \u001b[0;32mwith\u001b[0m \u001b[0mopen\u001b[0m\u001b[0;34m(\u001b[0m\u001b[0;34m'ADFA-LD/new_data/{0}/{1}_{2}_{3}.txt'\u001b[0m\u001b[0;34m.\u001b[0m\u001b[0mformat\u001b[0m\u001b[0;34m(\u001b[0m\u001b[0mattack_type\u001b[0m\u001b[0;34m,\u001b[0m \u001b[0mattack_type\u001b[0m\u001b[0;34m,\u001b[0m \u001b[0mi\u001b[0m\u001b[0;34m,\u001b[0m \u001b[0mm\u001b[0m\u001b[0;34m)\u001b[0m\u001b[0;34m,\u001b[0m \u001b[0;34m'w'\u001b[0m\u001b[0;34m)\u001b[0m \u001b[0;32mas\u001b[0m \u001b[0mf\u001b[0m\u001b[0;34m:\u001b[0m\u001b[0;34m\u001b[0m\u001b[0;34m\u001b[0m\u001b[0m\n\u001b[0m\u001b[1;32m     48\u001b[0m                         \u001b[0;32mfor\u001b[0m \u001b[0mitem\u001b[0m \u001b[0;32min\u001b[0m \u001b[0mnew_syscall\u001b[0m\u001b[0;34m:\u001b[0m\u001b[0;34m\u001b[0m\u001b[0;34m\u001b[0m\u001b[0m\n\u001b[1;32m     49\u001b[0m                             \u001b[0mf\u001b[0m\u001b[0;34m.\u001b[0m\u001b[0mwrite\u001b[0m\u001b[0;34m(\u001b[0m\u001b[0;34m\"%s \"\u001b[0m \u001b[0;34m%\u001b[0m \u001b[0mitem\u001b[0m\u001b[0;34m)\u001b[0m\u001b[0;34m\u001b[0m\u001b[0;34m\u001b[0m\u001b[0m\n",
      "\u001b[0;31mFileNotFoundError\u001b[0m: [Errno 2] No such file or directory: 'ADFA-LD/new_data/Adduser/Adduser_1_1.txt'"
     ]
    }
   ],
   "source": [
    "sampling(\"Adduser\")\n",
    "sampling(\"Hydra_FTP\")\n",
    "sampling(\"Hydra_SSH\")\n",
    "sampling(\"Java_Meterpreter\")\n",
    "sampling(\"Meterpreter\")\n",
    "sampling(\"Web_Shell\")"
   ]
  },
  {
   "cell_type": "markdown",
   "metadata": {},
   "source": [
    "## read data"
   ]
  },
  {
   "cell_type": "code",
   "execution_count": 10,
   "metadata": {},
   "outputs": [
    {
     "name": "stdout",
     "output_type": "stream",
     "text": [
      "Adduser data: 91\n",
      "Hydra_FTP data: 162\n",
      "Hydra_SSH data: 176\n",
      "Java_Meterpreter data: 124\n",
      "Meterpreter data: 75\n",
      "Web_Shell data: 118\n",
      "Adduser data: 91\n",
      "Hydra_FTP data: 162\n",
      "Hydra_SSH data: 176\n",
      "Java_Meterpreter data: 124\n",
      "Meterpreter data: 75\n",
      "Web_Shell data: 118\n"
     ]
    }
   ],
   "source": [
    "attack_type = ['Adduser', 'Hydra_FTP', 'Hydra_SSH', 'Java_Meterpreter', 'Meterpreter', 'Web_Shell']\n",
    "\n",
    "xa = []\n",
    "ya = []\n",
    "for attack in attack_type:\n",
    "    xa, ya = load_attack_files(\"ADFA-LD/Attack_Data_Master/\", xa, ya, attack)\n",
    "\n",
    "xt, yt = load_train_files(\"ADFA-LD/Training_Data_Master/\")  \n",
    "xv, yv = load_train_files(\"ADFA-LD/Validation_Data_Master/\")  \n",
    "\n",
    "x_addusr = []\n",
    "y_addusr = []\n",
    "x_addusr, y_addusr = load_attack_files(\"ADFA-LD/Attack_Data_Master/\", x_addusr, y_addusr, 'Adduser')\n",
    "\n",
    "x_ftp = []\n",
    "y_ftp = []\n",
    "x_ftp, y_ftp = load_attack_files(\"ADFA-LD/Attack_Data_Master/\", x_ftp, y_ftp, 'Hydra_FTP')\n",
    "\n",
    "x_ssh = []\n",
    "y_ssh = []\n",
    "x_ssh, y_ssh = load_attack_files(\"ADFA-LD/Attack_Data_Master/\", x_ssh, y_ssh, 'Hydra_SSH')\n",
    "\n",
    "x_java = []\n",
    "y_java = []\n",
    "x_java, y_java = load_attack_files(\"ADFA-LD/Attack_Data_Master/\", x_java, y_java, 'Java_Meterpreter')\n",
    "\n",
    "x_met = []\n",
    "y_met = []\n",
    "x_met, y_met = load_attack_files(\"ADFA-LD/Attack_Data_Master/\", x_met, y_met, 'Meterpreter')\n",
    "\n",
    "x_web = []\n",
    "y_web = []\n",
    "x_web, y_web = load_attack_files(\"ADFA-LD/Attack_Data_Master/\", x_web, y_web, 'Web_Shell')\n",
    "\n",
    "\n"
   ]
  },
  {
   "cell_type": "markdown",
   "metadata": {},
   "source": [
    "### Normal n = 1"
   ]
  },
  {
   "cell_type": "code",
   "execution_count": 11,
   "metadata": {},
   "outputs": [
    {
     "data": {
      "image/png": "[encoded data removed]",
      "text/plain": [
       "<Figure size 432x288 with 1 Axes>"
      ]
     },
     "metadata": {
      "needs_background": "light"
     },
     "output_type": "display_data"
    },
    {
     "name": "stdout",
     "output_type": "stream",
     "text": [
      "('3', '4', '6', '5', '195')\n",
      "(55664, 31342, 22782, 20503, 19414)\n",
      "Gamma:  [-2.78510005]\n",
      "A:  6.763820168881087\n",
      "error: 0.15741804\n"
     ]
    },
    {
     "data": {
      "image/png": "[encoded data removed]",
      "text/plain": [
       "<Figure size 432x288 with 1 Axes>"
      ]
     },
     "metadata": {
      "needs_background": "light"
     },
     "output_type": "display_data"
    }
   ],
   "source": [
    "n = 1\n",
    "dic_normal = defaultdict(lambda: 0)\n",
    "for d in xt:\n",
    "    data = d.strip().split(' ')\n",
    "    #data = indent(data)\n",
    "    for i in range(len(data) - n + 1):\n",
    "        index = ' '.join(data[i:i+n])\n",
    "        dic_normal[index] = dic_normal[index] + 1\n",
    "\n",
    "lists = sorted(dic_normal.items(), key=lambda kv: kv[1], reverse=True)\n",
    "px, py = zip(*lists) # unpack a list of pairs into two tuples\n",
    "\n",
    "plt.title(\"Normal Sequence Data (n=1)\")\n",
    "plt.plot(px, py)\n",
    "plt.xticks([]) #關閉X軸\n",
    "plt.show()\n",
    "print(px[:5])\n",
    "print(py[:5])\n",
    "\n",
    "ax = get_increasing_array(len(px)+1)\n",
    "py = np.array(py)\n",
    "log_and_fit(ax[1:],py)"
   ]
  },
  {
   "cell_type": "markdown",
   "metadata": {},
   "source": [
    "### Normal n = 2"
   ]
  },
  {
   "cell_type": "code",
   "execution_count": 12,
   "metadata": {},
   "outputs": [
    {
     "data": {
      "image/png": "[encoded data removed]",
      "text/plain": [
       "<Figure size 432x288 with 1 Axes>"
      ]
     },
     "metadata": {
      "needs_background": "light"
     },
     "output_type": "display_data"
    },
    {
     "name": "stdout",
     "output_type": "stream",
     "text": [
      "('3 3', '4 4', '195 195', '240 240', '197 192')\n",
      "(31531, 22334, 9163, 8999, 6716)\n",
      "Gamma:  [-1.99643313]\n",
      "A:  6.70004890695763\n",
      "error: 0.03847234\n"
     ]
    },
    {
     "data": {
      "image/png": "[encoded data removed]",
      "text/plain": [
       "<Figure size 432x288 with 1 Axes>"
      ]
     },
     "metadata": {
      "needs_background": "light"
     },
     "output_type": "display_data"
    }
   ],
   "source": [
    "n = 2\n",
    "dic_normal = defaultdict(lambda: 0)\n",
    "for d in xt:\n",
    "    data = d.strip().split(' ')\n",
    "    #data = indent(data)\n",
    "    for i in range(len(data) - n + 1):\n",
    "        index = ' '.join(data[i:i+n])\n",
    "        dic_normal[index] = dic_normal[index] + 1\n",
    "\n",
    "lists = sorted(dic_normal.items(), key=lambda kv: kv[1], reverse=True)\n",
    "px, py = zip(*lists) # unpack a list of pairs into two tuples\n",
    "plt.title(\"Normal Sequence Data (n=2)\")\n",
    "plt.plot(px, py)\n",
    "plt.xticks([]) #關閉X軸\n",
    "plt.show()\n",
    "print(px[:5])\n",
    "print(py[:5])\n",
    "\n",
    "ax = get_increasing_array(len(py)+1)\n",
    "py = np.array(py)\n",
    "log_and_fit(ax[1:],py)"
   ]
  },
  {
   "cell_type": "markdown",
   "metadata": {},
   "source": [
    "### Normal n = 3"
   ]
  },
  {
   "cell_type": "code",
   "execution_count": 13,
   "metadata": {},
   "outputs": [
    {
     "data": {
      "image/png": "[encoded data removed]",
      "text/plain": [
       "<Figure size 432x288 with 1 Axes>"
      ]
     },
     "metadata": {
      "needs_background": "light"
     },
     "output_type": "display_data"
    },
    {
     "name": "stdout",
     "output_type": "stream",
     "text": [
      "('3 3 3', '4 4 4', '195 195 195', '240 240 240', '180 180 180')\n",
      "(24377, 19206, 6560, 5802, 5305)\n",
      "Gamma:  [-1.46100414]\n",
      "A:  5.760790534996109\n",
      "error: 0.01035605\n"
     ]
    },
    {
     "data": {
      "image/png": "[encoded data removed]",
      "text/plain": [
       "<Figure size 432x288 with 1 Axes>"
      ]
     },
     "metadata": {
      "needs_background": "light"
     },
     "output_type": "display_data"
    }
   ],
   "source": [
    "n = 3\n",
    "dic_normal = defaultdict(lambda: 0)\n",
    "for d in xt:\n",
    "    data = d.strip().split(' ')\n",
    "    #data = indent(data)\n",
    "    for i in range(len(data) - n + 1):\n",
    "        index = ' '.join(data[i:i+n])\n",
    "        dic_normal[index] = dic_normal[index] + 1\n",
    "\n",
    "lists = sorted(dic_normal.items(), key=lambda kv: kv[1], reverse=True)\n",
    "px, py = zip(*lists) # unpack a list of pairs into two tuples\n",
    "plt.title(\"Normal Sequence Data (n=3)\")\n",
    "plt.plot(px, py)\n",
    "plt.xticks([]) #關閉X軸\n",
    "plt.show()\n",
    "print(px[:5])\n",
    "print(py[:5])\n",
    "\n",
    "ax = get_increasing_array(len(px)+1)\n",
    "py = np.array(py)\n",
    "log_and_fit(ax[1:],py)"
   ]
  },
  {
   "cell_type": "markdown",
   "metadata": {},
   "source": [
    "### Load new attack data"
   ]
  },
  {
   "cell_type": "code",
   "execution_count": 14,
   "metadata": {},
   "outputs": [
    {
     "ename": "FileNotFoundError",
     "evalue": "[Errno 2] No such file or directory: 'ADFA-LD/new_data/Adduser'",
     "output_type": "error",
     "traceback": [
      "\u001b[0;31m---------------------------------------------------------------------------\u001b[0m",
      "\u001b[0;31mFileNotFoundError\u001b[0m                         Traceback (most recent call last)",
      "\u001b[0;32m<ipython-input-14-810ed17b77ef>\u001b[0m in \u001b[0;36m<module>\u001b[0;34m\u001b[0m\n\u001b[1;32m      1\u001b[0m \u001b[0mx_addusr\u001b[0m \u001b[0;34m=\u001b[0m \u001b[0;34m[\u001b[0m\u001b[0;34m]\u001b[0m\u001b[0;34m\u001b[0m\u001b[0;34m\u001b[0m\u001b[0m\n\u001b[1;32m      2\u001b[0m \u001b[0my_addusr\u001b[0m \u001b[0;34m=\u001b[0m \u001b[0;34m[\u001b[0m\u001b[0;34m]\u001b[0m\u001b[0;34m\u001b[0m\u001b[0;34m\u001b[0m\u001b[0m\n\u001b[0;32m----> 3\u001b[0;31m \u001b[0mx_addusr\u001b[0m\u001b[0;34m,\u001b[0m \u001b[0my_addusr\u001b[0m \u001b[0;34m=\u001b[0m \u001b[0mload_new_attack_files\u001b[0m\u001b[0;34m(\u001b[0m\u001b[0;34m\"ADFA-LD/new_data/\"\u001b[0m\u001b[0;34m,\u001b[0m \u001b[0mx_addusr\u001b[0m\u001b[0;34m,\u001b[0m \u001b[0my_addusr\u001b[0m\u001b[0;34m,\u001b[0m \u001b[0;34m'Adduser'\u001b[0m\u001b[0;34m)\u001b[0m\u001b[0;34m\u001b[0m\u001b[0;34m\u001b[0m\u001b[0m\n\u001b[0m\u001b[1;32m      4\u001b[0m \u001b[0;34m\u001b[0m\u001b[0m\n\u001b[1;32m      5\u001b[0m \u001b[0mx_ftp\u001b[0m \u001b[0;34m=\u001b[0m \u001b[0;34m[\u001b[0m\u001b[0;34m]\u001b[0m\u001b[0;34m\u001b[0m\u001b[0;34m\u001b[0m\u001b[0m\n",
      "\u001b[0;32m<ipython-input-7-0dd817b58f91>\u001b[0m in \u001b[0;36mload_new_attack_files\u001b[0;34m(path, x, y, attack_type)\u001b[0m\n\u001b[1;32m    151\u001b[0m     \u001b[0;31m# return x:length of each attack file\u001b[0m\u001b[0;34m\u001b[0m\u001b[0;34m\u001b[0m\u001b[0;34m\u001b[0m\u001b[0m\n\u001b[1;32m    152\u001b[0m     \u001b[0mtotal\u001b[0m \u001b[0;34m=\u001b[0m \u001b[0;36m0\u001b[0m\u001b[0;34m\u001b[0m\u001b[0;34m\u001b[0m\u001b[0m\n\u001b[0;32m--> 153\u001b[0;31m     \u001b[0mfiles\u001b[0m \u001b[0;34m=\u001b[0m \u001b[0mdirlist\u001b[0m\u001b[0;34m(\u001b[0m\u001b[0mpath\u001b[0m \u001b[0;34m+\u001b[0m \u001b[0mattack_type\u001b[0m\u001b[0;34m,\u001b[0m \u001b[0;34m[\u001b[0m\u001b[0;34m]\u001b[0m\u001b[0;34m)\u001b[0m\u001b[0;34m\u001b[0m\u001b[0;34m\u001b[0m\u001b[0m\n\u001b[0m\u001b[1;32m    154\u001b[0m     \u001b[0mtotal\u001b[0m \u001b[0;34m=\u001b[0m \u001b[0mtotal\u001b[0m \u001b[0;34m+\u001b[0m \u001b[0mlen\u001b[0m\u001b[0;34m(\u001b[0m\u001b[0mfiles\u001b[0m\u001b[0;34m)\u001b[0m\u001b[0;34m\u001b[0m\u001b[0;34m\u001b[0m\u001b[0m\n\u001b[1;32m    155\u001b[0m     \u001b[0;32mfor\u001b[0m \u001b[0mfile\u001b[0m \u001b[0;32min\u001b[0m \u001b[0mfiles\u001b[0m\u001b[0;34m:\u001b[0m\u001b[0;34m\u001b[0m\u001b[0;34m\u001b[0m\u001b[0m\n",
      "\u001b[0;32m<ipython-input-7-0dd817b58f91>\u001b[0m in \u001b[0;36mdirlist\u001b[0;34m(path, files)\u001b[0m\n\u001b[1;32m      7\u001b[0m \u001b[0;34m\u001b[0m\u001b[0m\n\u001b[1;32m      8\u001b[0m \u001b[0;32mdef\u001b[0m \u001b[0mdirlist\u001b[0m\u001b[0;34m(\u001b[0m\u001b[0mpath\u001b[0m\u001b[0;34m,\u001b[0m \u001b[0mfiles\u001b[0m\u001b[0;34m)\u001b[0m\u001b[0;34m:\u001b[0m \u001b[0;31m#找到指定資料夾下所有資料\u001b[0m\u001b[0;34m\u001b[0m\u001b[0;34m\u001b[0m\u001b[0m\n\u001b[0;32m----> 9\u001b[0;31m     \u001b[0mfilelist\u001b[0m \u001b[0;34m=\u001b[0m \u001b[0mos\u001b[0m\u001b[0;34m.\u001b[0m\u001b[0mlistdir\u001b[0m\u001b[0;34m(\u001b[0m\u001b[0mpath\u001b[0m\u001b[0;34m)\u001b[0m\u001b[0;34m\u001b[0m\u001b[0;34m\u001b[0m\u001b[0m\n\u001b[0m\u001b[1;32m     10\u001b[0m \u001b[0;34m\u001b[0m\u001b[0m\n\u001b[1;32m     11\u001b[0m     \u001b[0;32mfor\u001b[0m \u001b[0mfilename\u001b[0m \u001b[0;32min\u001b[0m \u001b[0mfilelist\u001b[0m\u001b[0;34m:\u001b[0m\u001b[0;34m\u001b[0m\u001b[0;34m\u001b[0m\u001b[0m\n",
      "\u001b[0;31mFileNotFoundError\u001b[0m: [Errno 2] No such file or directory: 'ADFA-LD/new_data/Adduser'"
     ]
    }
   ],
   "source": [
    "x_addusr = []\n",
    "y_addusr = []\n",
    "x_addusr, y_addusr = load_new_attack_files(\"ADFA-LD/new_data/\", x_addusr, y_addusr, 'Adduser')\n",
    "\n",
    "x_ftp = []\n",
    "y_ftp = []\n",
    "x_ftp, y_ftp = load_new_attack_files(\"ADFA-LD/new_data/\", x_ftp, y_ftp, 'Hydra_FTP')\n",
    "\n",
    "x_ssh = []\n",
    "y_ssh = []\n",
    "x_ssh, y_ssh = load_new_attack_files(\"ADFA-LD/new_data/\", x_ssh, y_ssh, 'Hydra_SSH')\n",
    "\n",
    "pwd = x_ftp + x_ssh\n",
    "print(len(pwd), \"=\", len(x_ftp), \"+\", len(x_ssh), n)\n",
    "\n",
    "x_java = []\n",
    "y_java = []\n",
    "x_java, y_java = load_new_attack_files(\"ADFA-LD/new_data/\", x_java, y_java, 'Java_Meterpreter')\n",
    "\n",
    "x_met = []\n",
    "y_met = []\n",
    "x_met, y_met = load_new_attack_files(\"ADFA-LD/new_data/\", x_met, y_met, 'Meterpreter')\n",
    "\n",
    "dll = x_java + x_met\n",
    "print(len(dll), \"=\", len(x_java), \"+\", len(x_met), n)\n",
    "\n",
    "x_web = []\n",
    "y_web = []\n",
    "x_web, y_web = load_new_attack_files(\"ADFA-LD/new_data/\", x_web, y_web, 'Web_Shell')\n"
   ]
  },
  {
   "cell_type": "markdown",
   "metadata": {},
   "source": [
    "### Password Brute-force attack"
   ]
  },
  {
   "cell_type": "markdown",
   "metadata": {},
   "source": [
    "### n = 2"
   ]
  },
  {
   "cell_type": "code",
   "execution_count": null,
   "metadata": {},
   "outputs": [],
   "source": [
    "dic_xa = defaultdict(lambda: 0)\n",
    "n = 2\n",
    "\n",
    "for d in pwd:\n",
    "    data = d.strip().split(' ')\n",
    "    data = indent(data)\n",
    "    for i in range(len(data) - n + 1):\n",
    "        index = ' '.join(data[i:i+n])\n",
    "        dic_xa[index] = dic_xa[index] + 1\n",
    "\n",
    "lists = sorted(dic_xa.items(), key=lambda kv: kv[1], reverse=True)\n",
    "\n",
    "for i in lists[0:5]:\n",
    "    print(i)\n",
    "    pass\n",
    "px, py = zip(*lists) \n",
    "print('攻擊序列中出現的system call種類 : ',len(lists))\n",
    "x_axis = get_increasing_array(len(lists)+1)\n",
    "plt.plot(x_axis[1:], py)\n",
    "plt.show()\n",
    "\n",
    "ax = get_increasing_array(len(px)+1)\n",
    "py = np.array(py)\n",
    "log_and_fit(ax[1:],py)\n"
   ]
  },
  {
   "cell_type": "markdown",
   "metadata": {},
   "source": [
    "### n = 3"
   ]
  },
  {
   "cell_type": "code",
   "execution_count": null,
   "metadata": {},
   "outputs": [],
   "source": [
    "dic_xa = defaultdict(lambda: 0)\n",
    "n = 3\n",
    "\n",
    "for d in pwd:\n",
    "    data = d.strip().split(' ')\n",
    "    data = indent(data)\n",
    "    for i in range(len(data) - n + 1):\n",
    "        index = ' '.join(data[i:i+n])\n",
    "        dic_xa[index] = dic_xa[index] + 1\n",
    "\n",
    "lists = sorted(dic_xa.items(), key=lambda kv: kv[1], reverse=True)\n",
    "\n",
    "for i in lists[0:5]:\n",
    "    print(i)\n",
    "    pass\n",
    "px, py = zip(*lists) \n",
    "print('攻擊序列中出現的system call種類 : ',len(lists))\n",
    "x_axis = get_increasing_array(len(lists)+1)\n",
    "plt.plot(x_axis[1:], py)\n",
    "plt.show()\n",
    "\n",
    "ax = get_increasing_array(len(px)+1)\n",
    "py = np.array(py)\n",
    "log_and_fit(ax[1:],py)\n"
   ]
  },
  {
   "cell_type": "markdown",
   "metadata": {},
   "source": [
    "### Client exploit"
   ]
  },
  {
   "cell_type": "markdown",
   "metadata": {},
   "source": [
    "### n = 2"
   ]
  },
  {
   "cell_type": "code",
   "execution_count": null,
   "metadata": {},
   "outputs": [],
   "source": [
    "n = 2\n",
    "dic_xa = defaultdict(lambda: 0)\n",
    "x_addusr = []\n",
    "y_addusr = []\n",
    "x_addusr, y_addusr = load_new_attack_files(\"ADFA-LD/new_data/\", x_addusr, y_addusr, 'Adduser')\n",
    "\n",
    "for d in x_addusr:\n",
    "    data = d.strip().split(' ')\n",
    "    data = indent(data)\n",
    "    for i in range(len(data) - n + 1):\n",
    "        index = ' '.join(data[i:i+n])\n",
    "        dic_xa[index] = dic_xa[index] + 1\n",
    "\n",
    "lists = sorted(dic_xa.items(), key=lambda kv: kv[1], reverse=True)\n",
    "for i in lists[0:5]:\n",
    "    print(i)\n",
    "    pass\n",
    "\n",
    "\n",
    "px, py = zip(*lists) \n",
    "print('攻擊序列中出現的system call種類 : ',len(lists))\n",
    "x_axis = get_increasing_array(len(lists)+1)\n",
    "plt.plot(x_axis[1:], py)\n",
    "plt.show()\n",
    "\n",
    "ax = get_increasing_array(len(px)+1)\n",
    "py = np.array(py)\n",
    "log_and_fit(ax[1:],py)"
   ]
  },
  {
   "cell_type": "markdown",
   "metadata": {},
   "source": [
    "### n = 3"
   ]
  },
  {
   "cell_type": "code",
   "execution_count": null,
   "metadata": {},
   "outputs": [],
   "source": [
    "n = 3\n",
    "dic_xa = defaultdict(lambda: 0)\n",
    "x_addusr = []\n",
    "y_addusr = []\n",
    "x_addusr, y_addusr = load_new_attack_files(\"ADFA-LD/new_data/\", x_addusr, y_addusr, 'Adduser')\n",
    "\n",
    "for d in x_addusr:\n",
    "    data = d.strip().split(' ')\n",
    "    data = indent(data)\n",
    "    for i in range(len(data) - n + 1):\n",
    "        index = ' '.join(data[i:i+n])\n",
    "        dic_xa[index] = dic_xa[index] + 1\n",
    "\n",
    "lists = sorted(dic_xa.items(), key=lambda kv: kv[1], reverse=True)\n",
    "for i in lists[0:5]:\n",
    "    print(i)\n",
    "    pass\n",
    "\n",
    "\n",
    "px, py = zip(*lists) \n",
    "print('攻擊序列中出現的system call種類 : ',len(lists))\n",
    "x_axis = get_increasing_array(len(lists)+1)\n",
    "plt.plot(x_axis[1:], py)\n",
    "plt.show()\n",
    "\n",
    "ax = get_increasing_array(len(px)+1)\n",
    "py = np.array(py)\n",
    "log_and_fit(ax[1:],py)"
   ]
  },
  {
   "cell_type": "markdown",
   "metadata": {},
   "source": [
    "### DLL injection"
   ]
  },
  {
   "cell_type": "markdown",
   "metadata": {},
   "source": [
    "### n = 2"
   ]
  },
  {
   "cell_type": "code",
   "execution_count": 15,
   "metadata": {},
   "outputs": [
    {
     "ename": "NameError",
     "evalue": "name 'dll' is not defined",
     "output_type": "error",
     "traceback": [
      "\u001b[0;31m---------------------------------------------------------------------------\u001b[0m",
      "\u001b[0;31mNameError\u001b[0m                                 Traceback (most recent call last)",
      "\u001b[0;32m<ipython-input-15-fe2658d88122>\u001b[0m in \u001b[0;36m<module>\u001b[0;34m\u001b[0m\n\u001b[1;32m      2\u001b[0m \u001b[0mdic_xa\u001b[0m \u001b[0;34m=\u001b[0m \u001b[0mdefaultdict\u001b[0m\u001b[0;34m(\u001b[0m\u001b[0;32mlambda\u001b[0m\u001b[0;34m:\u001b[0m \u001b[0;36m0\u001b[0m\u001b[0;34m)\u001b[0m\u001b[0;34m\u001b[0m\u001b[0;34m\u001b[0m\u001b[0m\n\u001b[1;32m      3\u001b[0m \u001b[0;34m\u001b[0m\u001b[0m\n\u001b[0;32m----> 4\u001b[0;31m \u001b[0;32mfor\u001b[0m \u001b[0md\u001b[0m \u001b[0;32min\u001b[0m \u001b[0mdll\u001b[0m\u001b[0;34m:\u001b[0m\u001b[0;34m\u001b[0m\u001b[0;34m\u001b[0m\u001b[0m\n\u001b[0m\u001b[1;32m      5\u001b[0m     \u001b[0mdata\u001b[0m \u001b[0;34m=\u001b[0m \u001b[0md\u001b[0m\u001b[0;34m.\u001b[0m\u001b[0mstrip\u001b[0m\u001b[0;34m(\u001b[0m\u001b[0;34m)\u001b[0m\u001b[0;34m.\u001b[0m\u001b[0msplit\u001b[0m\u001b[0;34m(\u001b[0m\u001b[0;34m' '\u001b[0m\u001b[0;34m)\u001b[0m\u001b[0;34m\u001b[0m\u001b[0;34m\u001b[0m\u001b[0m\n\u001b[1;32m      6\u001b[0m     \u001b[0mdata\u001b[0m \u001b[0;34m=\u001b[0m \u001b[0mindent\u001b[0m\u001b[0;34m(\u001b[0m\u001b[0mdata\u001b[0m\u001b[0;34m)\u001b[0m\u001b[0;34m\u001b[0m\u001b[0;34m\u001b[0m\u001b[0m\n",
      "\u001b[0;31mNameError\u001b[0m: name 'dll' is not defined"
     ]
    }
   ],
   "source": [
    "n = 2\n",
    "dic_xa = defaultdict(lambda: 0)\n",
    "\n",
    "for d in dll:\n",
    "    data = d.strip().split(' ')\n",
    "    data = indent(data)\n",
    "    for i in range(len(data) - n + 1):\n",
    "        index = ' '.join(data[i:i+n])\n",
    "        dic_xa[index] = dic_xa[index] + 1\n",
    "\n",
    "lists = sorted(dic_xa.items(), key=lambda kv: kv[1], reverse=True)\n",
    "for i in lists[0:5]:\n",
    "    print(i)\n",
    "    pass\n",
    "\n",
    "px, py = zip(*lists) \n",
    "print('攻擊序列中出現的system call種類 : ',len(lists))\n",
    "x_axis = get_increasing_array(len(lists)+1)\n",
    "plt.plot(x_axis[1:], py)\n",
    "plt.show()\n",
    "\n",
    "ax = get_increasing_array(len(px)+1)\n",
    "py = np.array(py)\n",
    "log_and_fit(ax[1:],py)"
   ]
  },
  {
   "cell_type": "markdown",
   "metadata": {},
   "source": [
    "### n = 3"
   ]
  },
  {
   "cell_type": "code",
   "execution_count": null,
   "metadata": {},
   "outputs": [],
   "source": [
    "n = 3\n",
    "dic_xa = defaultdict(lambda: 0)\n",
    "\n",
    "for d in dll:\n",
    "    data = d.strip().split(' ')\n",
    "    data = indent(data)\n",
    "    for i in range(len(data) - n + 1):\n",
    "        index = ' '.join(data[i:i+n])\n",
    "        dic_xa[index] = dic_xa[index] + 1\n",
    "\n",
    "lists = sorted(dic_xa.items(), key=lambda kv: kv[1], reverse=True)\n",
    "for i in lists[0:5]:\n",
    "    print(i)\n",
    "    pass\n",
    "\n",
    "px, py = zip(*lists) \n",
    "print('攻擊序列中出現的system call種類 : ',len(lists))\n",
    "x_axis = get_increasing_array(len(lists)+1)\n",
    "plt.plot(x_axis[1:], py)\n",
    "plt.show()\n",
    "\n",
    "ax = get_increasing_array(len(px)+1)\n",
    "py = np.array(py)\n",
    "log_and_fit(ax[1:],py)"
   ]
  },
  {
   "cell_type": "markdown",
   "metadata": {},
   "source": [
    "### Remote File Inclusion"
   ]
  },
  {
   "cell_type": "markdown",
   "metadata": {},
   "source": [
    "### n = 2"
   ]
  },
  {
   "cell_type": "code",
   "execution_count": null,
   "metadata": {},
   "outputs": [],
   "source": [
    "n = 2\n",
    "dic_xa = defaultdict(lambda: 0)\n",
    "\n",
    "for d in x_web:\n",
    "    data = d.strip().split(' ')\n",
    "    data = indent(data)\n",
    "    for i in range(len(data) - n + 1):\n",
    "        index = ' '.join(data[i:i+n])\n",
    "        dic_xa[index] = dic_xa[index] + 1\n",
    "\n",
    "lists = sorted(dic_xa.items(), key=lambda kv: kv[1], reverse=True)\n",
    "for i in lists[0:5]:\n",
    "    print(i)\n",
    "    pass\n",
    "\n",
    "px, py = zip(*lists) \n",
    "print('攻擊序列中出現的system call種類 : ',len(lists))\n",
    "x_axis = get_increasing_array(len(lists)+1)\n",
    "plt.plot(x_axis[1:], py)\n",
    "plt.show()\n",
    "\n",
    "ax = get_increasing_array(len(px)+1)\n",
    "py = np.array(py)\n",
    "log_and_fit(ax[1:],py)"
   ]
  },
  {
   "cell_type": "markdown",
   "metadata": {},
   "source": [
    "### n = 3"
   ]
  },
  {
   "cell_type": "code",
   "execution_count": null,
   "metadata": {},
   "outputs": [],
   "source": [
    "n = 3\n",
    "dic_xa = defaultdict(lambda: 0)\n",
    "\n",
    "for d in x_web:\n",
    "    data = d.strip().split(' ')\n",
    "    data = indent(data)\n",
    "    for i in range(len(data) - n + 1):\n",
    "        index = ' '.join(data[i:i+n])\n",
    "        dic_xa[index] = dic_xa[index] + 1\n",
    "\n",
    "lists = sorted(dic_xa.items(), key=lambda kv: kv[1], reverse=True)\n",
    "for i in lists[0:5]:\n",
    "    print(i)\n",
    "    pass\n",
    "\n",
    "px, py = zip(*lists) \n",
    "print('攻擊序列中出現的system call種類 : ',len(lists))\n",
    "x_axis = get_increasing_array(len(lists)+1)\n",
    "plt.plot(x_axis[1:], py)\n",
    "plt.show()\n",
    "\n",
    "ax = get_increasing_array(len(px)+1)\n",
    "py = np.array(py)\n",
    "log_and_fit(ax[1:],py)"
   ]
  },
  {
   "cell_type": "markdown",
   "metadata": {},
   "source": [
    "### classification"
   ]
  },
  {
   "cell_type": "code",
   "execution_count": 16,
   "metadata": {},
   "outputs": [
    {
     "name": "stdout",
     "output_type": "stream",
     "text": [
      "total:  252\n",
      "Machine_dependent:  0\n",
      "Filesystem:  1\n",
      "Linux_Kernel:  2\n",
      "Scheduling:  3\n",
      "Signals:  4\n",
      "Systems:  5\n",
      "Time:  6\n",
      "Kernel_Process:  7\n",
      "UID:  8\n",
      "Memory_Management:  9\n",
      "Swapfile:  10\n",
      "Socket:  11\n"
     ]
    }
   ],
   "source": [
    "Machine_dependent = [101,110,123,2,11,120,190,243,244,26,67,72,119,173,179,186,42,59,82,90,109,117,192,113,166]\n",
    "#print(len(Machine_dependent))\n",
    "Filesystem = [245,246,247,248,249,36,118,134,148,183,253,254,255,256,86,41,55,63,221,135,54,143,9,10,14,38,39,40,\\\n",
    "              83,21,22,52,217,169,5,6,8,12,15,30,33,61,92,93,94,99,100,111,133,193,194,198,207,212,268,269,131,89,\\\n",
    "              141,220,3,4,19,140,145,146,180,181,187,239,142,168,18,28,84,85,106,107,108,195,196,197,62,226,227,228,\\\n",
    "              229,230,231,232,233,234,235,236,237]\n",
    "#print(len(Filesystem))\n",
    "Linux_Kernel = [51,184,185,136,1,7,114,252,258,240,104,105,128,129,162,259,260,261,262,263,264,265,266,267,103]\n",
    "#print(len(Linux_Kernel))\n",
    "Scheduling = [34,154,155,156,157,158,159,160,161,241,242]\n",
    "#print(len(Scheduling))\n",
    "Signals = [0,29,37,48,68,69,73,126,174,175,176,177,178,238,270]\n",
    "#print(len(Signals))\n",
    "Systems = [43,57,60,65,66,74,75,76,77,88,96,97,121,122,132,147,172,191,203,204,205,206,208,209,210,211,213,214,215,\\\n",
    "           216,149]\n",
    "#print(len(Systems))\n",
    "Time = [13,25,78,79,124]\n",
    "#print(len(Time))\n",
    "Kernel_Process = [20,27,64,116,199,200,201,202,224]\n",
    "#print(len(Kernel_Process))\n",
    "UID = [16,23,24,46,47,49,50,70,71,80,81,95,138,139,164,165,170,171,182]\n",
    "#print(len(UID))\n",
    "Memory_Management = [250,225,257,219,218,150,151,152,153,45,91,125,163,144]\n",
    "#print(len(Memory_Management))\n",
    "Swapfile = [87,115]\n",
    "#print(len(Swapfile))\n",
    "Socket = [102]\n",
    "#print(len(Socket))\n",
    "\n",
    "print('total: ',len(Machine_dependent) + len(Filesystem) + len(Linux_Kernel) \\\n",
    "      + len(Scheduling) + len(Signals) + len(Systems) + len(Time) + len(Kernel_Process) \\\n",
    "      + len(UID) + len(Memory_Management) + len(Swapfile) + len(Socket))\n",
    "\n",
    "system_dic = {}\n",
    "system_dic['Machine_dependent'] = 0\n",
    "system_dic['Filesystem'] = 1\n",
    "system_dic['Linux_Kernel'] = 2\n",
    "system_dic['Scheduling'] = 3\n",
    "system_dic['Signals'] = 4\n",
    "system_dic['Systems'] = 5\n",
    "system_dic['Time'] = 6\n",
    "system_dic['Kernel_Process'] = 7\n",
    "system_dic['UID'] = 8\n",
    "system_dic['Memory_Management'] = 9\n",
    "system_dic['Swapfile'] = 10\n",
    "system_dic['Socket'] = 11\n",
    "\n",
    "print('Machine_dependent: ', 0)\n",
    "print('Filesystem: ', 1)\n",
    "print('Linux_Kernel: ', 2)\n",
    "print('Scheduling: ', 3)\n",
    "print('Signals: ', 4)\n",
    "print('Systems: ', 5)\n",
    "print('Time: ', 6)\n",
    "print('Kernel_Process: ', 7)\n",
    "print('UID: ', 8)\n",
    "print('Memory_Management: ', 9)\n",
    "print('Swapfile: ', 10)\n",
    "print('Socket: ', 11)\n"
   ]
  },
  {
   "cell_type": "markdown",
   "metadata": {},
   "source": [
    "### statistical data"
   ]
  },
  {
   "cell_type": "code",
   "execution_count": 17,
   "metadata": {},
   "outputs": [
    {
     "name": "stdout",
     "output_type": "stream",
     "text": [
      "train data下各類別system call總呼叫次數\n",
      "[ 17802. 212261.  25685.    408.  11893.    891.  10902.   1303.      0.\n",
      "  16681.      0.   8646.]\n",
      "train data下各類別system call單序列平均呼叫次數\n",
      "[ 21.37094838 254.81512605  30.83433373   0.48979592  14.27731092\n",
      "   1.06962785  13.08763505   1.56422569   0.          20.02521008\n",
      "   0.          10.37935174]\n",
      "normal data下各類別system call總呼叫次數\n",
      "[ 177264. 1623308.  216464.   10860.   80682.   13966.   72059.   11657.\n",
      "       0.  121218.       0.   85812.]\n",
      "normal data下各類別system call單序列平均呼叫次數\n",
      "[ 34.05648415 311.87473583  41.58770413   2.08645533  15.50086455\n",
      "   2.68318924  13.84418828   2.23957733   0.          23.28876081\n",
      "   0.          16.48645533]\n",
      "attack data下各類別system call總呼叫次數\n",
      "[  4392. 172235.  84697.    130.   4650.   6412.  27876.   1102.      0.\n",
      "   4695.      0.   7781.]\n",
      "attack data下各類別system call單序列平均呼叫次數\n",
      "[  5.88739946 230.87801609 113.53485255   0.17426273   6.23324397\n",
      "   8.59517426  37.36729223   1.4772118    0.           6.29356568\n",
      "   0.          10.43029491]\n"
     ]
    }
   ],
   "source": [
    "xt_call_distribution = np.zeros((1,12))\n",
    "xa_call_distribution = np.zeros((1,12))\n",
    "\n",
    "for d in xt:\n",
    "    xt_call_distribution = np.concatenate((xt_call_distribution, systemcall_classify(d)), axis = 0)\n",
    "\n",
    "print('train data下各類別system call總呼叫次數')\n",
    "print(sum(xt_call_distribution[1:]))\n",
    "print('train data下各類別system call單序列平均呼叫次數')\n",
    "print(sum(xt_call_distribution[1:]) / len(xt) )    \n",
    "\n",
    "for d in xv:\n",
    "    xt_call_distribution = np.concatenate((xt_call_distribution, systemcall_classify(d)), axis = 0)\n",
    "\n",
    "print('normal data下各類別system call總呼叫次數')\n",
    "print(sum(xt_call_distribution[1:]))\n",
    "print('normal data下各類別system call單序列平均呼叫次數')\n",
    "print(sum(xt_call_distribution[1:]) / (len(xt) + len(xv)) )\n",
    "\n",
    "for d in xa:\n",
    "    xa_call_distribution = np.concatenate((xa_call_distribution, systemcall_classify(d)), axis = 0)\n",
    "    \n",
    "print('attack data下各類別system call總呼叫次數')\n",
    "print(sum(xa_call_distribution[1:]))\n",
    "print('attack data下各類別system call單序列平均呼叫次數')\n",
    "print(sum(xa_call_distribution[1:]) / len(xa))"
   ]
  },
  {
   "cell_type": "code",
   "execution_count": 18,
   "metadata": {},
   "outputs": [],
   "source": [
    "x_transfer = []\n",
    "for d in xt:\n",
    "    x_transfer.append(systemcall_transfer(d))\n",
    "for d in xv:\n",
    "    x_transfer.append(systemcall_transfer(d))"
   ]
  },
  {
   "cell_type": "markdown",
   "metadata": {},
   "source": [
    "### transfer n = 2"
   ]
  },
  {
   "cell_type": "code",
   "execution_count": 19,
   "metadata": {},
   "outputs": [
    {
     "data": {
      "image/png": "[encoded data removed]",
      "text/plain": [
       "<Figure size 432x288 with 1 Axes>"
      ]
     },
     "metadata": {
      "needs_background": "light"
     },
     "output_type": "display_data"
    },
    {
     "name": "stdout",
     "output_type": "stream",
     "text": [
      "('2 2', '0 0', '2 1', '1 2', '0 2')\n",
      "(1306868, 113112, 97566, 91575, 78536)\n",
      "Gamma:  [-2.5428628]\n",
      "A:  7.161390487631967\n",
      "error: 0.22011766\n"
     ]
    },
    {
     "data": {
      "image/png": "[encoded data removed]",
      "text/plain": [
       "<Figure size 432x288 with 1 Axes>"
      ]
     },
     "metadata": {
      "needs_background": "light"
     },
     "output_type": "display_data"
    }
   ],
   "source": [
    "n = 2\n",
    "dic_normal_transer = defaultdict(lambda: 0)\n",
    "for d in x_transfer:\n",
    "    #data = d.strip().split(' ')\n",
    "    data = d\n",
    "    #data = indent(data)\n",
    "    for i in range(len(data) - n + 1):\n",
    "        index = ' '.join(data[i:i+n])\n",
    "        dic_normal_transer[index] = dic_normal_transer[index] + 1\n",
    "\n",
    "lists = sorted(dic_normal_transer.items(), key=lambda kv: kv[1], reverse=True)\n",
    "px, py = zip(*lists) # unpack a list of pairs into two tuples\n",
    "plt.title(\"Normal Transfer Class Sequence Data (n=2)\")\n",
    "plt.plot(px, py)\n",
    "plt.xticks([]) #關閉X軸\n",
    "plt.show()\n",
    "print(px[:5])\n",
    "print(py[:5])\n",
    "\n",
    "ax = get_increasing_array(len(px)+1)\n",
    "py = np.array(py)\n",
    "log_and_fit(ax[1:],py)"
   ]
  },
  {
   "cell_type": "markdown",
   "metadata": {},
   "source": [
    "### transfer n = 3"
   ]
  },
  {
   "cell_type": "code",
   "execution_count": 20,
   "metadata": {},
   "outputs": [
    {
     "data": {
      "image/png": "[encoded data removed]",
      "text/plain": [
       "<Figure size 432x288 with 1 Axes>"
      ]
     },
     "metadata": {
      "needs_background": "light"
     },
     "output_type": "display_data"
    },
    {
     "name": "stdout",
     "output_type": "stream",
     "text": [
      "('2 2 2', '0 0 0', '2 2 1', '1 2 2', '2 0 2')\n",
      "(1094263, 87091, 86693, 77086, 48551)\n",
      "Gamma:  [-2.53464664]\n",
      "A:  8.024380789803093\n",
      "error: 0.10210715\n"
     ]
    },
    {
     "data": {
      "image/png": "[encoded data removed]",
      "text/plain": [
       "<Figure size 432x288 with 1 Axes>"
      ]
     },
     "metadata": {
      "needs_background": "light"
     },
     "output_type": "display_data"
    }
   ],
   "source": [
    "n = 3\n",
    "dic_normal_transer = defaultdict(lambda: 0)\n",
    "for d in x_transfer:\n",
    "    #data = d.strip().split(' ')\n",
    "    data = d\n",
    "    #data = indent(data)\n",
    "    for i in range(len(data) - n + 1):\n",
    "        index = ' '.join(data[i:i+n])\n",
    "        dic_normal_transer[index] = dic_normal_transer[index] + 1\n",
    "\n",
    "lists = sorted(dic_normal_transer.items(), key=lambda kv: kv[1], reverse=True)\n",
    "px, py = zip(*lists) # unpack a list of pairs into two tuples\n",
    "plt.title(\"Normal Transfer Class Sequence Data (n=3)\")\n",
    "plt.plot(px, py)\n",
    "plt.xticks([]) #關閉X軸\n",
    "plt.show()\n",
    "print(px[:5])\n",
    "print(py[:5])\n",
    "\n",
    "ax = get_increasing_array(len(px)+1)\n",
    "py = np.array(py)\n",
    "log_and_fit(ax[1:],py)"
   ]
  },
  {
   "cell_type": "markdown",
   "metadata": {},
   "source": [
    "### transfer n = 5"
   ]
  },
  {
   "cell_type": "code",
   "execution_count": null,
   "metadata": {},
   "outputs": [],
   "source": [
    "n = 5\n",
    "dic_normal_transer = defaultdict(lambda: 0)\n",
    "for d in x_transfer:\n",
    "    #data = d.strip().split(' ')\n",
    "    data = d\n",
    "    #data = indent(data)\n",
    "    for i in range(len(data) - n + 1):\n",
    "        index = ' '.join(data[i:i+n])\n",
    "        dic_normal_transer[index] = dic_normal_transer[index] + 1\n",
    "\n",
    "lists = sorted(dic_normal_transer.items(), key=lambda kv: kv[1], reverse=True)\n",
    "px, py = zip(*lists) # unpack a list of pairs into two tuples\n",
    "plt.title(\"Normal Transfer Class Sequence Data (n=5)\")\n",
    "plt.plot(px, py)\n",
    "plt.xticks([]) #關閉X軸\n",
    "plt.show()\n",
    "print(px[:5])\n",
    "print(py[:5])\n",
    "\n",
    "ax = get_increasing_array(len(px)+1)\n",
    "py = np.array(py)\n",
    "log_and_fit(ax[1:],py)"
   ]
  },
  {
   "cell_type": "markdown",
   "metadata": {},
   "source": [
    "### compute ratio"
   ]
  },
  {
   "cell_type": "code",
   "execution_count": null,
   "metadata": {},
   "outputs": [],
   "source": [
    "multiple = 1\n",
    "ratio1 = []\n",
    "ratio2 = []\n",
    "\n",
    "for query in xt_call_distribution[1:]:\n",
    "    #if query[2] != 0 :\n",
    "    \n",
    "    #method 1 ratio1 = 佔整體比例\n",
    "    if((query[2])/sum(query) != 1):\n",
    "        pr = ((query[2])/sum(query)) * multiple\n",
    "        ratio1.append(pr)\n",
    "    \n",
    "    #method 2 ratio2 = 兩類相除\n",
    "    if query[2]!=0 :\n",
    "        ratio2.append(query[1] / query[2])\n",
    "    \n",
    "ratio1 = np.sort(ratio1)[::-1]\n",
    "ratio2 = np.sort(ratio2)[::-1]\n",
    "\n",
    "#print(len(ratio))\n",
    "print(ratio1[:10])\n",
    "\n",
    "x_axis = get_increasing_array(len(ratio1)+1)\n",
    "plt.plot(x_axis[1:], ratio1)\n",
    "plt.show()\n",
    "\n",
    "x_axis = get_increasing_array(len(ratio2)+1)\n",
    "plt.plot(x_axis[1:], ratio2)\n",
    "plt.show()\n",
    "\n",
    "\n"
   ]
  },
  {
   "cell_type": "code",
   "execution_count": null,
   "metadata": {},
   "outputs": [],
   "source": [
    "print(ratio1[1])\n",
    "print(sum(ratio1[:]))\n",
    "print(sum(ratio1[:]) / len(ratio1))\n",
    "print(len(ratio1))\n",
    "test1 = np.zeros(1001)\n",
    "test0 = np.zeros(1001)\n",
    "for i in range(len(ratio1)):\n",
    "    if ratio1[i] * 1000 > 1 : \n",
    "        test0[int(np.around(ratio1[i] * 1000))] += 1\n",
    "        test1[int(np.around(abs(ratio1[i] * 1000 - 9)))] += 1\n",
    "print(test1[:10])\n",
    "print(sum(ratio2[:]))\n",
    "print(sum(ratio2[:]) / len(ratio2))"
   ]
  },
  {
   "cell_type": "code",
   "execution_count": null,
   "metadata": {},
   "outputs": [],
   "source": [
    "x_axis = get_increasing_array(len(test1))\n",
    "print(test1[:10])\n",
    "print(test1[1:5])\n",
    "plt.plot(x_axis[:], test1[:])\n",
    "plt.show()\n",
    "ax = get_increasing_array(len(px)+1)\n",
    "py = np.array(py)\n",
    "log_and_fit(ax[1:],py+1)"
   ]
  }
 ],
 "metadata": {
  "kernelspec": {
   "display_name": "Python 3",
   "language": "python",
   "name": "python3"
  },
  "language_info": {
   "codemirror_mode": {
    "name": "ipython",
    "version": 3
   },
   "file_extension": ".py",
   "mimetype": "text/x-python",
   "name": "python",
   "nbconvert_exporter": "python",
   "pygments_lexer": "ipython3",
   "version": "3.7.3"
  }
 },
 "nbformat": 4,
 "nbformat_minor": 2
}
