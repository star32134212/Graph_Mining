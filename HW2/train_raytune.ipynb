{
 "cells": [
  {
   "cell_type": "code",
   "execution_count": 11,
   "metadata": {},
   "outputs": [],
   "source": [
    "import numpy as np\n",
    "import torch\n",
    "import torch.nn as nn\n",
    "import torch.nn.functional as F\n",
    "import dgl\n",
    "from dgl.data import register_data_args\n",
    "from gcn2 import GCN\n",
    "from ray import tune\n"
   ]
  },
  {
   "cell_type": "code",
   "execution_count": 26,
   "metadata": {},
   "outputs": [
    {
     "name": "stdout",
     "output_type": "stream",
     "text": [
      "in_feats 767\n"
     ]
    }
   ],
   "source": [
    "(g,), _  = dgl.load_graphs(\"graph.dgl\")\n",
    "g = g.int().to(0)\n",
    "features = g.ndata['feat']\n",
    "labels = g.ndata['label']\n",
    "train_mask = g.ndata['train_mask'].bool()\n",
    "val_mask = g.ndata['val_mask'].bool()\n",
    "test_mask = g.ndata['test_mask'].bool()\n",
    "in_feats = features.shape[1]\n",
    "print('in_feats',in_feats)\n",
    "n_classes = len(torch.unique(labels))    \n",
    "# add self loop\n",
    "g = dgl.remove_self_loop(g)\n",
    "g = dgl.add_self_loop(g)\n",
    "\n",
    "class arguments():\n",
    "    def __init__(self):\n",
    "        self.lr = 0.0008\n",
    "        self.epochs = 800\n",
    "\n",
    "def evaluate(model, g, features, labels, mask):\n",
    "    model.eval()\n",
    "    with torch.no_grad():\n",
    "        logits = model(g, features)\n",
    "        logits = logits[mask]\n",
    "        labels = labels[mask]\n",
    "        _, indices = torch.max(logits, dim=1)\n",
    "        correct = torch.sum(indices == labels)\n",
    "        return correct.item() * 1.0 / len(labels)\n",
    "\n",
    "def main(config):\n",
    "    \"\"\"\n",
    "    # data from dgl\n",
    "    (g,), _  = dgl.load_graphs(\"graph.dgl\")\n",
    "    g = g.int().to(0)\n",
    "    features = g.ndata['feat']\n",
    "    labels = g.ndata['label']\n",
    "    train_mask = g.ndata['train_mask'].bool()\n",
    "    val_mask = g.ndata['val_mask'].bool()\n",
    "    test_mask = g.ndata['test_mask'].bool()\n",
    "    in_feats = features.shape[1]\n",
    "    print('in_feats',in_feats)\n",
    "    n_classes = len(torch.unique(labels))    \n",
    "\n",
    "    # add self loop\n",
    "    g = dgl.remove_self_loop(g)\n",
    "    g = dgl.add_self_loop(g)\n",
    "    \"\"\"\n",
    "    # args = arguments()\n",
    "    # create GCN model\n",
    "    model = GCN(in_feats, n_classes, config[\"l1\"], config[\"l2\"], config[\"l3\"])\n",
    "    model.cuda()\n",
    "    loss_fcn = torch.nn.CrossEntropyLoss()\n",
    "    # use optimizer\n",
    "    optimizer = torch.optim.Adam(model.parameters(),\n",
    "                                lr = config[\"lr\"],\n",
    "                                weight_decay = config[\"weight_decay\"])\n",
    "\n",
    "\n",
    "    # initialize graph\n",
    "    for epoch in range(config[\"epochs\"]):\n",
    "        model.train()\n",
    "        # forward\n",
    "        logits = model(g, features)\n",
    "        loss = loss_fcn(logits[train_mask], labels[train_mask])\n",
    "\n",
    "        optimizer.zero_grad()\n",
    "        loss.backward()\n",
    "        optimizer.step()\n",
    "\n",
    "        acc = evaluate(model, g, features, labels, val_mask)\n",
    "        #print(\"Epoch {:05d} | Loss {:.4f} | Accuracy {:.4f} | \". format(epoch, loss.item(), acc))\n",
    "\n",
    "    acc = evaluate(model, g, features, labels, test_mask)\n",
    "    #print(\"Test accuracy {:.2%}\".format(acc))\n",
    "    tune.report(accuracy = acc)\n",
    "\n",
    "\n",
    "    "
   ]
  },
  {
   "cell_type": "code",
   "execution_count": 33,
   "metadata": {},
   "outputs": [
    {
     "name": "stderr",
     "output_type": "stream",
     "text": [
      "2021-05-07 17:34:34,956\tWARNING worker.py:1115 -- Warning: The actor ImplicitFunc has size 46559969 when pickled. It will be stored in Redis, which could cause memory issues. This may mean that its definition uses a large array or other object.\n"
     ]
    },
    {
     "data": {
      "text/html": [
       "== Status ==<br>Memory usage on this node: 27.3/62.8 GiB<br>Using FIFO scheduling algorithm.<br>Resources requested: 1.0/8 CPUs, 1.0/2 GPUs, 0.0/41.76 GiB heap, 0.0/9.31 GiB objects (0.0/1.0 accelerator_type:GTX)<br>Result logdir: /root/ray_results/main_2021-05-07_17-34-25<br>Number of trials: 50/50 (49 PENDING, 1 RUNNING)<br><table>\n",
       "<thead>\n",
       "<tr><th>Trial name      </th><th>status  </th><th>loc  </th><th style=\"text-align: right;\">  epochs</th><th style=\"text-align: right;\">  l1</th><th style=\"text-align: right;\">  l2</th><th style=\"text-align: right;\">  l3</th><th style=\"text-align: right;\">    lr</th><th style=\"text-align: right;\">  weight_decay</th></tr>\n",
       "</thead>\n",
       "<tbody>\n",
       "<tr><td>main_780bd_00000</td><td>RUNNING </td><td>     </td><td style=\"text-align: right;\">     700</td><td style=\"text-align: right;\"> 128</td><td style=\"text-align: right;\">  64</td><td style=\"text-align: right;\">  16</td><td style=\"text-align: right;\">0.0008</td><td style=\"text-align: right;\">        0.0009</td></tr>\n",
       "<tr><td>main_780bd_00001</td><td>PENDING </td><td>     </td><td style=\"text-align: right;\">     700</td><td style=\"text-align: right;\"> 128</td><td style=\"text-align: right;\">  64</td><td style=\"text-align: right;\">  16</td><td style=\"text-align: right;\">0.001 </td><td style=\"text-align: right;\">        0.0006</td></tr>\n",
       "<tr><td>main_780bd_00002</td><td>PENDING </td><td>     </td><td style=\"text-align: right;\">     700</td><td style=\"text-align: right;\"> 128</td><td style=\"text-align: right;\">  64</td><td style=\"text-align: right;\">  16</td><td style=\"text-align: right;\">0.0016</td><td style=\"text-align: right;\">        0.0009</td></tr>\n",
       "<tr><td>main_780bd_00003</td><td>PENDING </td><td>     </td><td style=\"text-align: right;\">     800</td><td style=\"text-align: right;\"> 128</td><td style=\"text-align: right;\">  64</td><td style=\"text-align: right;\">  16</td><td style=\"text-align: right;\">0.0012</td><td style=\"text-align: right;\">        0.0006</td></tr>\n",
       "<tr><td>main_780bd_00004</td><td>PENDING </td><td>     </td><td style=\"text-align: right;\">     700</td><td style=\"text-align: right;\"> 128</td><td style=\"text-align: right;\">  64</td><td style=\"text-align: right;\">  16</td><td style=\"text-align: right;\">0.0006</td><td style=\"text-align: right;\">        0.0003</td></tr>\n",
       "<tr><td>main_780bd_00005</td><td>PENDING </td><td>     </td><td style=\"text-align: right;\">     800</td><td style=\"text-align: right;\"> 128</td><td style=\"text-align: right;\">  64</td><td style=\"text-align: right;\">  16</td><td style=\"text-align: right;\">0.0018</td><td style=\"text-align: right;\">        0.0006</td></tr>\n",
       "<tr><td>main_780bd_00006</td><td>PENDING </td><td>     </td><td style=\"text-align: right;\">     700</td><td style=\"text-align: right;\"> 128</td><td style=\"text-align: right;\">  64</td><td style=\"text-align: right;\">  16</td><td style=\"text-align: right;\">0.0016</td><td style=\"text-align: right;\">        0.0006</td></tr>\n",
       "<tr><td>main_780bd_00007</td><td>PENDING </td><td>     </td><td style=\"text-align: right;\">     800</td><td style=\"text-align: right;\"> 128</td><td style=\"text-align: right;\">  64</td><td style=\"text-align: right;\">  16</td><td style=\"text-align: right;\">0.0012</td><td style=\"text-align: right;\">        0.0006</td></tr>\n",
       "<tr><td>main_780bd_00008</td><td>PENDING </td><td>     </td><td style=\"text-align: right;\">     800</td><td style=\"text-align: right;\"> 128</td><td style=\"text-align: right;\">  64</td><td style=\"text-align: right;\">  16</td><td style=\"text-align: right;\">0.0014</td><td style=\"text-align: right;\">        0.0009</td></tr>\n",
       "<tr><td>main_780bd_00009</td><td>PENDING </td><td>     </td><td style=\"text-align: right;\">     700</td><td style=\"text-align: right;\"> 128</td><td style=\"text-align: right;\">  64</td><td style=\"text-align: right;\">  16</td><td style=\"text-align: right;\">0.0018</td><td style=\"text-align: right;\">        0.0006</td></tr>\n",
       "<tr><td>main_780bd_00010</td><td>PENDING </td><td>     </td><td style=\"text-align: right;\">     700</td><td style=\"text-align: right;\"> 128</td><td style=\"text-align: right;\">  64</td><td style=\"text-align: right;\">  16</td><td style=\"text-align: right;\">0.0008</td><td style=\"text-align: right;\">        0.0003</td></tr>\n",
       "<tr><td>main_780bd_00011</td><td>PENDING </td><td>     </td><td style=\"text-align: right;\">     800</td><td style=\"text-align: right;\"> 128</td><td style=\"text-align: right;\">  64</td><td style=\"text-align: right;\">  16</td><td style=\"text-align: right;\">0.0018</td><td style=\"text-align: right;\">        0.0009</td></tr>\n",
       "<tr><td>main_780bd_00012</td><td>PENDING </td><td>     </td><td style=\"text-align: right;\">     700</td><td style=\"text-align: right;\"> 128</td><td style=\"text-align: right;\">  64</td><td style=\"text-align: right;\">  16</td><td style=\"text-align: right;\">0.0018</td><td style=\"text-align: right;\">        0.0009</td></tr>\n",
       "<tr><td>main_780bd_00013</td><td>PENDING </td><td>     </td><td style=\"text-align: right;\">     800</td><td style=\"text-align: right;\"> 128</td><td style=\"text-align: right;\">  64</td><td style=\"text-align: right;\">  16</td><td style=\"text-align: right;\">0.0016</td><td style=\"text-align: right;\">        0.0003</td></tr>\n",
       "<tr><td>main_780bd_00014</td><td>PENDING </td><td>     </td><td style=\"text-align: right;\">     700</td><td style=\"text-align: right;\"> 128</td><td style=\"text-align: right;\">  64</td><td style=\"text-align: right;\">  16</td><td style=\"text-align: right;\">0.001 </td><td style=\"text-align: right;\">        0.0003</td></tr>\n",
       "<tr><td>main_780bd_00015</td><td>PENDING </td><td>     </td><td style=\"text-align: right;\">     800</td><td style=\"text-align: right;\"> 128</td><td style=\"text-align: right;\">  64</td><td style=\"text-align: right;\">  16</td><td style=\"text-align: right;\">0.0008</td><td style=\"text-align: right;\">        0.0003</td></tr>\n",
       "<tr><td>main_780bd_00016</td><td>PENDING </td><td>     </td><td style=\"text-align: right;\">     700</td><td style=\"text-align: right;\"> 128</td><td style=\"text-align: right;\">  64</td><td style=\"text-align: right;\">  16</td><td style=\"text-align: right;\">0.001 </td><td style=\"text-align: right;\">        0.0003</td></tr>\n",
       "<tr><td>main_780bd_00017</td><td>PENDING </td><td>     </td><td style=\"text-align: right;\">     800</td><td style=\"text-align: right;\"> 128</td><td style=\"text-align: right;\">  64</td><td style=\"text-align: right;\">  16</td><td style=\"text-align: right;\">0.0018</td><td style=\"text-align: right;\">        0.0009</td></tr>\n",
       "<tr><td>main_780bd_00018</td><td>PENDING </td><td>     </td><td style=\"text-align: right;\">     800</td><td style=\"text-align: right;\"> 128</td><td style=\"text-align: right;\">  64</td><td style=\"text-align: right;\">  16</td><td style=\"text-align: right;\">0.0018</td><td style=\"text-align: right;\">        0.0003</td></tr>\n",
       "<tr><td>main_780bd_00019</td><td>PENDING </td><td>     </td><td style=\"text-align: right;\">     700</td><td style=\"text-align: right;\"> 128</td><td style=\"text-align: right;\">  64</td><td style=\"text-align: right;\">  16</td><td style=\"text-align: right;\">0.0014</td><td style=\"text-align: right;\">        0.0006</td></tr>\n",
       "</tbody>\n",
       "</table><br>... 30 more trials not shown (30 PENDING)<br><br>"
      ],
      "text/plain": [
       "<IPython.core.display.HTML object>"
      ]
     },
     "metadata": {},
     "output_type": "display_data"
    },
    {
     "name": "stderr",
     "output_type": "stream",
     "text": [
      "\u001b[2m\u001b[36m(pid=9402)\u001b[0m Using backend: pytorch\n"
     ]
    },
    {
     "name": "stdout",
     "output_type": "stream",
     "text": [
      "\u001b[2m\u001b[36m(pid=9402)\u001b[0m l1 128 l2 64 l3 16\n"
     ]
    },
    {
     "name": "stderr",
     "output_type": "stream",
     "text": [
      "\u001b[2m\u001b[36m(pid=9426)\u001b[0m Using backend: pytorch\n"
     ]
    },
    {
     "name": "stdout",
     "output_type": "stream",
     "text": [
      "\u001b[2m\u001b[36m(pid=9426)\u001b[0m l1 128 l2 64 l3 16\n"
     ]
    },
    {
     "data": {
      "text/html": [
       "== Status ==<br>Memory usage on this node: 31.6/62.8 GiB<br>Using FIFO scheduling algorithm.<br>Resources requested: 2.0/8 CPUs, 2.0/2 GPUs, 0.0/41.76 GiB heap, 0.0/9.31 GiB objects (0.0/1.0 accelerator_type:GTX)<br>Result logdir: /root/ray_results/main_2021-05-07_17-34-25<br>Number of trials: 50/50 (48 PENDING, 2 RUNNING)<br><table>\n",
       "<thead>\n",
       "<tr><th>Trial name      </th><th>status  </th><th>loc  </th><th style=\"text-align: right;\">  epochs</th><th style=\"text-align: right;\">  l1</th><th style=\"text-align: right;\">  l2</th><th style=\"text-align: right;\">  l3</th><th style=\"text-align: right;\">    lr</th><th style=\"text-align: right;\">  weight_decay</th></tr>\n",
       "</thead>\n",
       "<tbody>\n",
       "<tr><td>main_780bd_00000</td><td>RUNNING </td><td>     </td><td style=\"text-align: right;\">     700</td><td style=\"text-align: right;\"> 128</td><td style=\"text-align: right;\">  64</td><td style=\"text-align: right;\">  16</td><td style=\"text-align: right;\">0.0008</td><td style=\"text-align: right;\">        0.0009</td></tr>\n",
       "<tr><td>main_780bd_00001</td><td>RUNNING </td><td>     </td><td style=\"text-align: right;\">     700</td><td style=\"text-align: right;\"> 128</td><td style=\"text-align: right;\">  64</td><td style=\"text-align: right;\">  16</td><td style=\"text-align: right;\">0.001 </td><td style=\"text-align: right;\">        0.0006</td></tr>\n",
       "<tr><td>main_780bd_00002</td><td>PENDING </td><td>     </td><td style=\"text-align: right;\">     700</td><td style=\"text-align: right;\"> 128</td><td style=\"text-align: right;\">  64</td><td style=\"text-align: right;\">  16</td><td style=\"text-align: right;\">0.0016</td><td style=\"text-align: right;\">        0.0009</td></tr>\n",
       "<tr><td>main_780bd_00003</td><td>PENDING </td><td>     </td><td style=\"text-align: right;\">     800</td><td style=\"text-align: right;\"> 128</td><td style=\"text-align: right;\">  64</td><td style=\"text-align: right;\">  16</td><td style=\"text-align: right;\">0.0012</td><td style=\"text-align: right;\">        0.0006</td></tr>\n",
       "<tr><td>main_780bd_00004</td><td>PENDING </td><td>     </td><td style=\"text-align: right;\">     700</td><td style=\"text-align: right;\"> 128</td><td style=\"text-align: right;\">  64</td><td style=\"text-align: right;\">  16</td><td style=\"text-align: right;\">0.0006</td><td style=\"text-align: right;\">        0.0003</td></tr>\n",
       "<tr><td>main_780bd_00005</td><td>PENDING </td><td>     </td><td style=\"text-align: right;\">     800</td><td style=\"text-align: right;\"> 128</td><td style=\"text-align: right;\">  64</td><td style=\"text-align: right;\">  16</td><td style=\"text-align: right;\">0.0018</td><td style=\"text-align: right;\">        0.0006</td></tr>\n",
       "<tr><td>main_780bd_00006</td><td>PENDING </td><td>     </td><td style=\"text-align: right;\">     700</td><td style=\"text-align: right;\"> 128</td><td style=\"text-align: right;\">  64</td><td style=\"text-align: right;\">  16</td><td style=\"text-align: right;\">0.0016</td><td style=\"text-align: right;\">        0.0006</td></tr>\n",
       "<tr><td>main_780bd_00007</td><td>PENDING </td><td>     </td><td style=\"text-align: right;\">     800</td><td style=\"text-align: right;\"> 128</td><td style=\"text-align: right;\">  64</td><td style=\"text-align: right;\">  16</td><td style=\"text-align: right;\">0.0012</td><td style=\"text-align: right;\">        0.0006</td></tr>\n",
       "<tr><td>main_780bd_00008</td><td>PENDING </td><td>     </td><td style=\"text-align: right;\">     800</td><td style=\"text-align: right;\"> 128</td><td style=\"text-align: right;\">  64</td><td style=\"text-align: right;\">  16</td><td style=\"text-align: right;\">0.0014</td><td style=\"text-align: right;\">        0.0009</td></tr>\n",
       "<tr><td>main_780bd_00009</td><td>PENDING </td><td>     </td><td style=\"text-align: right;\">     700</td><td style=\"text-align: right;\"> 128</td><td style=\"text-align: right;\">  64</td><td style=\"text-align: right;\">  16</td><td style=\"text-align: right;\">0.0018</td><td style=\"text-align: right;\">        0.0006</td></tr>\n",
       "<tr><td>main_780bd_00010</td><td>PENDING </td><td>     </td><td style=\"text-align: right;\">     700</td><td style=\"text-align: right;\"> 128</td><td style=\"text-align: right;\">  64</td><td style=\"text-align: right;\">  16</td><td style=\"text-align: right;\">0.0008</td><td style=\"text-align: right;\">        0.0003</td></tr>\n",
       "<tr><td>main_780bd_00011</td><td>PENDING </td><td>     </td><td style=\"text-align: right;\">     800</td><td style=\"text-align: right;\"> 128</td><td style=\"text-align: right;\">  64</td><td style=\"text-align: right;\">  16</td><td style=\"text-align: right;\">0.0018</td><td style=\"text-align: right;\">        0.0009</td></tr>\n",
       "<tr><td>main_780bd_00012</td><td>PENDING </td><td>     </td><td style=\"text-align: right;\">     700</td><td style=\"text-align: right;\"> 128</td><td style=\"text-align: right;\">  64</td><td style=\"text-align: right;\">  16</td><td style=\"text-align: right;\">0.0018</td><td style=\"text-align: right;\">        0.0009</td></tr>\n",
       "<tr><td>main_780bd_00013</td><td>PENDING </td><td>     </td><td style=\"text-align: right;\">     800</td><td style=\"text-align: right;\"> 128</td><td style=\"text-align: right;\">  64</td><td style=\"text-align: right;\">  16</td><td style=\"text-align: right;\">0.0016</td><td style=\"text-align: right;\">        0.0003</td></tr>\n",
       "<tr><td>main_780bd_00014</td><td>PENDING </td><td>     </td><td style=\"text-align: right;\">     700</td><td style=\"text-align: right;\"> 128</td><td style=\"text-align: right;\">  64</td><td style=\"text-align: right;\">  16</td><td style=\"text-align: right;\">0.001 </td><td style=\"text-align: right;\">        0.0003</td></tr>\n",
       "<tr><td>main_780bd_00015</td><td>PENDING </td><td>     </td><td style=\"text-align: right;\">     800</td><td style=\"text-align: right;\"> 128</td><td style=\"text-align: right;\">  64</td><td style=\"text-align: right;\">  16</td><td style=\"text-align: right;\">0.0008</td><td style=\"text-align: right;\">        0.0003</td></tr>\n",
       "<tr><td>main_780bd_00016</td><td>PENDING </td><td>     </td><td style=\"text-align: right;\">     700</td><td style=\"text-align: right;\"> 128</td><td style=\"text-align: right;\">  64</td><td style=\"text-align: right;\">  16</td><td style=\"text-align: right;\">0.001 </td><td style=\"text-align: right;\">        0.0003</td></tr>\n",
       "<tr><td>main_780bd_00017</td><td>PENDING </td><td>     </td><td style=\"text-align: right;\">     800</td><td style=\"text-align: right;\"> 128</td><td style=\"text-align: right;\">  64</td><td style=\"text-align: right;\">  16</td><td style=\"text-align: right;\">0.0018</td><td style=\"text-align: right;\">        0.0009</td></tr>\n",
       "<tr><td>main_780bd_00018</td><td>PENDING </td><td>     </td><td style=\"text-align: right;\">     800</td><td style=\"text-align: right;\"> 128</td><td style=\"text-align: right;\">  64</td><td style=\"text-align: right;\">  16</td><td style=\"text-align: right;\">0.0018</td><td style=\"text-align: right;\">        0.0003</td></tr>\n",
       "<tr><td>main_780bd_00019</td><td>PENDING </td><td>     </td><td style=\"text-align: right;\">     700</td><td style=\"text-align: right;\"> 128</td><td style=\"text-align: right;\">  64</td><td style=\"text-align: right;\">  16</td><td style=\"text-align: right;\">0.0014</td><td style=\"text-align: right;\">        0.0006</td></tr>\n",
       "</tbody>\n",
       "</table><br>... 30 more trials not shown (30 PENDING)<br><br>"
      ],
      "text/plain": [
       "<IPython.core.display.HTML object>"
      ]
     },
     "metadata": {},
     "output_type": "display_data"
    },
    {
     "name": "stdout",
     "output_type": "stream",
     "text": [
      "Result for main_780bd_00000:\n",
      "  accuracy: 0.8770909090909091\n",
      "  date: 2021-05-07_17-34-51\n",
      "  done: false\n",
      "  experiment_id: c96bd526bad94c4298106fe7f691af2e\n",
      "  hostname: 4ce982eb56f7\n",
      "  iterations_since_restore: 1\n",
      "  node_ip: 172.17.0.11\n",
      "  pid: 9402\n",
      "  time_since_restore: 13.659142971038818\n",
      "  time_this_iter_s: 13.659142971038818\n",
      "  time_total_s: 13.659142971038818\n",
      "  timestamp: 1620408891\n",
      "  timesteps_since_restore: 0\n",
      "  training_iteration: 1\n",
      "  trial_id: 780bd_00000\n",
      "  \n"
     ]
    },
    {
     "data": {
      "text/html": [
       "== Status ==<br>Memory usage on this node: 31.6/62.8 GiB<br>Using FIFO scheduling algorithm.<br>Resources requested: 2.0/8 CPUs, 2.0/2 GPUs, 0.0/41.76 GiB heap, 0.0/9.31 GiB objects (0.0/1.0 accelerator_type:GTX)<br>Result logdir: /root/ray_results/main_2021-05-07_17-34-25<br>Number of trials: 50/50 (48 PENDING, 2 RUNNING)<br><table>\n",
       "<thead>\n",
       "<tr><th>Trial name      </th><th>status  </th><th>loc             </th><th style=\"text-align: right;\">  epochs</th><th style=\"text-align: right;\">  l1</th><th style=\"text-align: right;\">  l2</th><th style=\"text-align: right;\">  l3</th><th style=\"text-align: right;\">    lr</th><th style=\"text-align: right;\">  weight_decay</th><th style=\"text-align: right;\">  iter</th><th style=\"text-align: right;\">  total time (s)</th><th style=\"text-align: right;\">  accuracy</th></tr>\n",
       "</thead>\n",
       "<tbody>\n",
       "<tr><td>main_780bd_00000</td><td>RUNNING </td><td>172.17.0.11:9402</td><td style=\"text-align: right;\">     700</td><td style=\"text-align: right;\"> 128</td><td style=\"text-align: right;\">  64</td><td style=\"text-align: right;\">  16</td><td style=\"text-align: right;\">0.0008</td><td style=\"text-align: right;\">        0.0009</td><td style=\"text-align: right;\">     1</td><td style=\"text-align: right;\">         13.6591</td><td style=\"text-align: right;\">  0.877091</td></tr>\n",
       "<tr><td>main_780bd_00001</td><td>RUNNING </td><td>                </td><td style=\"text-align: right;\">     700</td><td style=\"text-align: right;\"> 128</td><td style=\"text-align: right;\">  64</td><td style=\"text-align: right;\">  16</td><td style=\"text-align: right;\">0.001 </td><td style=\"text-align: right;\">        0.0006</td><td style=\"text-align: right;\">      </td><td style=\"text-align: right;\">                </td><td style=\"text-align: right;\">          </td></tr>\n",
       "<tr><td>main_780bd_00002</td><td>PENDING </td><td>                </td><td style=\"text-align: right;\">     700</td><td style=\"text-align: right;\"> 128</td><td style=\"text-align: right;\">  64</td><td style=\"text-align: right;\">  16</td><td style=\"text-align: right;\">0.0016</td><td style=\"text-align: right;\">        0.0009</td><td style=\"text-align: right;\">      </td><td style=\"text-align: right;\">                </td><td style=\"text-align: right;\">          </td></tr>\n",
       "<tr><td>main_780bd_00003</td><td>PENDING </td><td>                </td><td style=\"text-align: right;\">     800</td><td style=\"text-align: right;\"> 128</td><td style=\"text-align: right;\">  64</td><td style=\"text-align: right;\">  16</td><td style=\"text-align: right;\">0.0012</td><td style=\"text-align: right;\">        0.0006</td><td style=\"text-align: right;\">      </td><td style=\"text-align: right;\">                </td><td style=\"text-align: right;\">          </td></tr>\n",
       "<tr><td>main_780bd_00004</td><td>PENDING </td><td>                </td><td style=\"text-align: right;\">     700</td><td style=\"text-align: right;\"> 128</td><td style=\"text-align: right;\">  64</td><td style=\"text-align: right;\">  16</td><td style=\"text-align: right;\">0.0006</td><td style=\"text-align: right;\">        0.0003</td><td style=\"text-align: right;\">      </td><td style=\"text-align: right;\">                </td><td style=\"text-align: right;\">          </td></tr>\n",
       "<tr><td>main_780bd_00005</td><td>PENDING </td><td>                </td><td style=\"text-align: right;\">     800</td><td style=\"text-align: right;\"> 128</td><td style=\"text-align: right;\">  64</td><td style=\"text-align: right;\">  16</td><td style=\"text-align: right;\">0.0018</td><td style=\"text-align: right;\">        0.0006</td><td style=\"text-align: right;\">      </td><td style=\"text-align: right;\">                </td><td style=\"text-align: right;\">          </td></tr>\n",
       "<tr><td>main_780bd_00006</td><td>PENDING </td><td>                </td><td style=\"text-align: right;\">     700</td><td style=\"text-align: right;\"> 128</td><td style=\"text-align: right;\">  64</td><td style=\"text-align: right;\">  16</td><td style=\"text-align: right;\">0.0016</td><td style=\"text-align: right;\">        0.0006</td><td style=\"text-align: right;\">      </td><td style=\"text-align: right;\">                </td><td style=\"text-align: right;\">          </td></tr>\n",
       "<tr><td>main_780bd_00007</td><td>PENDING </td><td>                </td><td style=\"text-align: right;\">     800</td><td style=\"text-align: right;\"> 128</td><td style=\"text-align: right;\">  64</td><td style=\"text-align: right;\">  16</td><td style=\"text-align: right;\">0.0012</td><td style=\"text-align: right;\">        0.0006</td><td style=\"text-align: right;\">      </td><td style=\"text-align: right;\">                </td><td style=\"text-align: right;\">          </td></tr>\n",
       "<tr><td>main_780bd_00008</td><td>PENDING </td><td>                </td><td style=\"text-align: right;\">     800</td><td style=\"text-align: right;\"> 128</td><td style=\"text-align: right;\">  64</td><td style=\"text-align: right;\">  16</td><td style=\"text-align: right;\">0.0014</td><td style=\"text-align: right;\">        0.0009</td><td style=\"text-align: right;\">      </td><td style=\"text-align: right;\">                </td><td style=\"text-align: right;\">          </td></tr>\n",
       "<tr><td>main_780bd_00009</td><td>PENDING </td><td>                </td><td style=\"text-align: right;\">     700</td><td style=\"text-align: right;\"> 128</td><td style=\"text-align: right;\">  64</td><td style=\"text-align: right;\">  16</td><td style=\"text-align: right;\">0.0018</td><td style=\"text-align: right;\">        0.0006</td><td style=\"text-align: right;\">      </td><td style=\"text-align: right;\">                </td><td style=\"text-align: right;\">          </td></tr>\n",
       "<tr><td>main_780bd_00010</td><td>PENDING </td><td>                </td><td style=\"text-align: right;\">     700</td><td style=\"text-align: right;\"> 128</td><td style=\"text-align: right;\">  64</td><td style=\"text-align: right;\">  16</td><td style=\"text-align: right;\">0.0008</td><td style=\"text-align: right;\">        0.0003</td><td style=\"text-align: right;\">      </td><td style=\"text-align: right;\">                </td><td style=\"text-align: right;\">          </td></tr>\n",
       "<tr><td>main_780bd_00011</td><td>PENDING </td><td>                </td><td style=\"text-align: right;\">     800</td><td style=\"text-align: right;\"> 128</td><td style=\"text-align: right;\">  64</td><td style=\"text-align: right;\">  16</td><td style=\"text-align: right;\">0.0018</td><td style=\"text-align: right;\">        0.0009</td><td style=\"text-align: right;\">      </td><td style=\"text-align: right;\">                </td><td style=\"text-align: right;\">          </td></tr>\n",
       "<tr><td>main_780bd_00012</td><td>PENDING </td><td>                </td><td style=\"text-align: right;\">     700</td><td style=\"text-align: right;\"> 128</td><td style=\"text-align: right;\">  64</td><td style=\"text-align: right;\">  16</td><td style=\"text-align: right;\">0.0018</td><td style=\"text-align: right;\">        0.0009</td><td style=\"text-align: right;\">      </td><td style=\"text-align: right;\">                </td><td style=\"text-align: right;\">          </td></tr>\n",
       "<tr><td>main_780bd_00013</td><td>PENDING </td><td>                </td><td style=\"text-align: right;\">     800</td><td style=\"text-align: right;\"> 128</td><td style=\"text-align: right;\">  64</td><td style=\"text-align: right;\">  16</td><td style=\"text-align: right;\">0.0016</td><td style=\"text-align: right;\">        0.0003</td><td style=\"text-align: right;\">      </td><td style=\"text-align: right;\">                </td><td style=\"text-align: right;\">          </td></tr>\n",
       "<tr><td>main_780bd_00014</td><td>PENDING </td><td>                </td><td style=\"text-align: right;\">     700</td><td style=\"text-align: right;\"> 128</td><td style=\"text-align: right;\">  64</td><td style=\"text-align: right;\">  16</td><td style=\"text-align: right;\">0.001 </td><td style=\"text-align: right;\">        0.0003</td><td style=\"text-align: right;\">      </td><td style=\"text-align: right;\">                </td><td style=\"text-align: right;\">          </td></tr>\n",
       "<tr><td>main_780bd_00015</td><td>PENDING </td><td>                </td><td style=\"text-align: right;\">     800</td><td style=\"text-align: right;\"> 128</td><td style=\"text-align: right;\">  64</td><td style=\"text-align: right;\">  16</td><td style=\"text-align: right;\">0.0008</td><td style=\"text-align: right;\">        0.0003</td><td style=\"text-align: right;\">      </td><td style=\"text-align: right;\">                </td><td style=\"text-align: right;\">          </td></tr>\n",
       "<tr><td>main_780bd_00016</td><td>PENDING </td><td>                </td><td style=\"text-align: right;\">     700</td><td style=\"text-align: right;\"> 128</td><td style=\"text-align: right;\">  64</td><td style=\"text-align: right;\">  16</td><td style=\"text-align: right;\">0.001 </td><td style=\"text-align: right;\">        0.0003</td><td style=\"text-align: right;\">      </td><td style=\"text-align: right;\">                </td><td style=\"text-align: right;\">          </td></tr>\n",
       "<tr><td>main_780bd_00017</td><td>PENDING </td><td>                </td><td style=\"text-align: right;\">     800</td><td style=\"text-align: right;\"> 128</td><td style=\"text-align: right;\">  64</td><td style=\"text-align: right;\">  16</td><td style=\"text-align: right;\">0.0018</td><td style=\"text-align: right;\">        0.0009</td><td style=\"text-align: right;\">      </td><td style=\"text-align: right;\">                </td><td style=\"text-align: right;\">          </td></tr>\n",
       "<tr><td>main_780bd_00018</td><td>PENDING </td><td>                </td><td style=\"text-align: right;\">     800</td><td style=\"text-align: right;\"> 128</td><td style=\"text-align: right;\">  64</td><td style=\"text-align: right;\">  16</td><td style=\"text-align: right;\">0.0018</td><td style=\"text-align: right;\">        0.0003</td><td style=\"text-align: right;\">      </td><td style=\"text-align: right;\">                </td><td style=\"text-align: right;\">          </td></tr>\n",
       "<tr><td>main_780bd_00019</td><td>PENDING </td><td>                </td><td style=\"text-align: right;\">     700</td><td style=\"text-align: right;\"> 128</td><td style=\"text-align: right;\">  64</td><td style=\"text-align: right;\">  16</td><td style=\"text-align: right;\">0.0014</td><td style=\"text-align: right;\">        0.0006</td><td style=\"text-align: right;\">      </td><td style=\"text-align: right;\">                </td><td style=\"text-align: right;\">          </td></tr>\n",
       "</tbody>\n",
       "</table><br>... 30 more trials not shown (30 PENDING)<br><br>"
      ],
      "text/plain": [
       "<IPython.core.display.HTML object>"
      ]
     },
     "metadata": {},
     "output_type": "display_data"
    },
    {
     "name": "stdout",
     "output_type": "stream",
     "text": [
      "Result for main_780bd_00000:\n",
      "  accuracy: 0.8770909090909091\n",
      "  date: 2021-05-07_17-34-51\n",
      "  done: true\n",
      "  experiment_id: c96bd526bad94c4298106fe7f691af2e\n",
      "  experiment_tag: 0_epochs=700,l1=128,l2=64,l3=16,lr=0.0008,weight_decay=0.0009\n",
      "  hostname: 4ce982eb56f7\n",
      "  iterations_since_restore: 1\n",
      "  node_ip: 172.17.0.11\n",
      "  pid: 9402\n",
      "  time_since_restore: 13.659142971038818\n",
      "  time_this_iter_s: 13.659142971038818\n",
      "  time_total_s: 13.659142971038818\n",
      "  timestamp: 1620408891\n",
      "  timesteps_since_restore: 0\n",
      "  training_iteration: 1\n",
      "  trial_id: 780bd_00000\n",
      "  \n",
      "Result for main_780bd_00001:\n",
      "  accuracy: 0.8836363636363637\n",
      "  date: 2021-05-07_17-34-51\n",
      "  done: false\n",
      "  experiment_id: 34a650a6837c4f35adead722037891b1\n",
      "  hostname: 4ce982eb56f7\n",
      "  iterations_since_restore: 1\n",
      "  node_ip: 172.17.0.11\n",
      "  pid: 9426\n",
      "  time_since_restore: 13.645276308059692\n",
      "  time_this_iter_s: 13.645276308059692\n",
      "  time_total_s: 13.645276308059692\n",
      "  timestamp: 1620408891\n",
      "  timesteps_since_restore: 0\n",
      "  training_iteration: 1\n",
      "  trial_id: 780bd_00001\n",
      "  \n",
      "Result for main_780bd_00001:\n",
      "  accuracy: 0.8836363636363637\n",
      "  date: 2021-05-07_17-34-51\n",
      "  done: true\n",
      "  experiment_id: 34a650a6837c4f35adead722037891b1\n",
      "  experiment_tag: 1_epochs=700,l1=128,l2=64,l3=16,lr=0.001,weight_decay=0.0006\n",
      "  hostname: 4ce982eb56f7\n",
      "  iterations_since_restore: 1\n",
      "  node_ip: 172.17.0.11\n",
      "  pid: 9426\n",
      "  time_since_restore: 13.645276308059692\n",
      "  time_this_iter_s: 13.645276308059692\n",
      "  time_total_s: 13.645276308059692\n",
      "  timestamp: 1620408891\n",
      "  timesteps_since_restore: 0\n",
      "  training_iteration: 1\n",
      "  trial_id: 780bd_00001\n",
      "  \n"
     ]
    },
    {
     "name": "stderr",
     "output_type": "stream",
     "text": [
      "\u001b[2m\u001b[36m(pid=9514)\u001b[0m Using backend: pytorch\n",
      "\u001b[2m\u001b[36m(pid=9520)\u001b[0m Using backend: pytorch\n"
     ]
    },
    {
     "name": "stdout",
     "output_type": "stream",
     "text": [
      "\u001b[2m\u001b[36m(pid=9514)\u001b[0m l1 128 l2 64 l3 16\n",
      "\u001b[2m\u001b[36m(pid=9520)\u001b[0m l1 128 l2 64 l3 16\n",
      "Result for main_780bd_00002:\n",
      "  accuracy: 0.8792727272727273\n",
      "  date: 2021-05-07_17-35-08\n",
      "  done: false\n",
      "  experiment_id: 1cabe85822e84b89ab8558d749795155\n",
      "  hostname: 4ce982eb56f7\n",
      "  iterations_since_restore: 1\n",
      "  node_ip: 172.17.0.11\n",
      "  pid: 9514\n",
      "  time_since_restore: 12.996009349822998\n",
      "  time_this_iter_s: 12.996009349822998\n",
      "  time_total_s: 12.996009349822998\n",
      "  timestamp: 1620408908\n",
      "  timesteps_since_restore: 0\n",
      "  training_iteration: 1\n",
      "  trial_id: 780bd_00002\n",
      "  \n"
     ]
    },
    {
     "data": {
      "text/html": [
       "== Status ==<br>Memory usage on this node: 31.6/62.8 GiB<br>Using FIFO scheduling algorithm.<br>Resources requested: 2.0/8 CPUs, 2.0/2 GPUs, 0.0/41.76 GiB heap, 0.0/9.31 GiB objects (0.0/1.0 accelerator_type:GTX)<br>Result logdir: /root/ray_results/main_2021-05-07_17-34-25<br>Number of trials: 50/50 (46 PENDING, 2 RUNNING, 2 TERMINATED)<br><table>\n",
       "<thead>\n",
       "<tr><th>Trial name      </th><th>status    </th><th>loc             </th><th style=\"text-align: right;\">  epochs</th><th style=\"text-align: right;\">  l1</th><th style=\"text-align: right;\">  l2</th><th style=\"text-align: right;\">  l3</th><th style=\"text-align: right;\">    lr</th><th style=\"text-align: right;\">  weight_decay</th><th style=\"text-align: right;\">  iter</th><th style=\"text-align: right;\">  total time (s)</th><th style=\"text-align: right;\">  accuracy</th></tr>\n",
       "</thead>\n",
       "<tbody>\n",
       "<tr><td>main_780bd_00002</td><td>RUNNING   </td><td>172.17.0.11:9514</td><td style=\"text-align: right;\">     700</td><td style=\"text-align: right;\"> 128</td><td style=\"text-align: right;\">  64</td><td style=\"text-align: right;\">  16</td><td style=\"text-align: right;\">0.0016</td><td style=\"text-align: right;\">        0.0009</td><td style=\"text-align: right;\">     1</td><td style=\"text-align: right;\">         12.996 </td><td style=\"text-align: right;\">  0.879273</td></tr>\n",
       "<tr><td>main_780bd_00003</td><td>RUNNING   </td><td>                </td><td style=\"text-align: right;\">     800</td><td style=\"text-align: right;\"> 128</td><td style=\"text-align: right;\">  64</td><td style=\"text-align: right;\">  16</td><td style=\"text-align: right;\">0.0012</td><td style=\"text-align: right;\">        0.0006</td><td style=\"text-align: right;\">      </td><td style=\"text-align: right;\">                </td><td style=\"text-align: right;\">          </td></tr>\n",
       "<tr><td>main_780bd_00004</td><td>PENDING   </td><td>                </td><td style=\"text-align: right;\">     700</td><td style=\"text-align: right;\"> 128</td><td style=\"text-align: right;\">  64</td><td style=\"text-align: right;\">  16</td><td style=\"text-align: right;\">0.0006</td><td style=\"text-align: right;\">        0.0003</td><td style=\"text-align: right;\">      </td><td style=\"text-align: right;\">                </td><td style=\"text-align: right;\">          </td></tr>\n",
       "<tr><td>main_780bd_00005</td><td>PENDING   </td><td>                </td><td style=\"text-align: right;\">     800</td><td style=\"text-align: right;\"> 128</td><td style=\"text-align: right;\">  64</td><td style=\"text-align: right;\">  16</td><td style=\"text-align: right;\">0.0018</td><td style=\"text-align: right;\">        0.0006</td><td style=\"text-align: right;\">      </td><td style=\"text-align: right;\">                </td><td style=\"text-align: right;\">          </td></tr>\n",
       "<tr><td>main_780bd_00006</td><td>PENDING   </td><td>                </td><td style=\"text-align: right;\">     700</td><td style=\"text-align: right;\"> 128</td><td style=\"text-align: right;\">  64</td><td style=\"text-align: right;\">  16</td><td style=\"text-align: right;\">0.0016</td><td style=\"text-align: right;\">        0.0006</td><td style=\"text-align: right;\">      </td><td style=\"text-align: right;\">                </td><td style=\"text-align: right;\">          </td></tr>\n",
       "<tr><td>main_780bd_00007</td><td>PENDING   </td><td>                </td><td style=\"text-align: right;\">     800</td><td style=\"text-align: right;\"> 128</td><td style=\"text-align: right;\">  64</td><td style=\"text-align: right;\">  16</td><td style=\"text-align: right;\">0.0012</td><td style=\"text-align: right;\">        0.0006</td><td style=\"text-align: right;\">      </td><td style=\"text-align: right;\">                </td><td style=\"text-align: right;\">          </td></tr>\n",
       "<tr><td>main_780bd_00008</td><td>PENDING   </td><td>                </td><td style=\"text-align: right;\">     800</td><td style=\"text-align: right;\"> 128</td><td style=\"text-align: right;\">  64</td><td style=\"text-align: right;\">  16</td><td style=\"text-align: right;\">0.0014</td><td style=\"text-align: right;\">        0.0009</td><td style=\"text-align: right;\">      </td><td style=\"text-align: right;\">                </td><td style=\"text-align: right;\">          </td></tr>\n",
       "<tr><td>main_780bd_00009</td><td>PENDING   </td><td>                </td><td style=\"text-align: right;\">     700</td><td style=\"text-align: right;\"> 128</td><td style=\"text-align: right;\">  64</td><td style=\"text-align: right;\">  16</td><td style=\"text-align: right;\">0.0018</td><td style=\"text-align: right;\">        0.0006</td><td style=\"text-align: right;\">      </td><td style=\"text-align: right;\">                </td><td style=\"text-align: right;\">          </td></tr>\n",
       "<tr><td>main_780bd_00010</td><td>PENDING   </td><td>                </td><td style=\"text-align: right;\">     700</td><td style=\"text-align: right;\"> 128</td><td style=\"text-align: right;\">  64</td><td style=\"text-align: right;\">  16</td><td style=\"text-align: right;\">0.0008</td><td style=\"text-align: right;\">        0.0003</td><td style=\"text-align: right;\">      </td><td style=\"text-align: right;\">                </td><td style=\"text-align: right;\">          </td></tr>\n",
       "<tr><td>main_780bd_00011</td><td>PENDING   </td><td>                </td><td style=\"text-align: right;\">     800</td><td style=\"text-align: right;\"> 128</td><td style=\"text-align: right;\">  64</td><td style=\"text-align: right;\">  16</td><td style=\"text-align: right;\">0.0018</td><td style=\"text-align: right;\">        0.0009</td><td style=\"text-align: right;\">      </td><td style=\"text-align: right;\">                </td><td style=\"text-align: right;\">          </td></tr>\n",
       "<tr><td>main_780bd_00012</td><td>PENDING   </td><td>                </td><td style=\"text-align: right;\">     700</td><td style=\"text-align: right;\"> 128</td><td style=\"text-align: right;\">  64</td><td style=\"text-align: right;\">  16</td><td style=\"text-align: right;\">0.0018</td><td style=\"text-align: right;\">        0.0009</td><td style=\"text-align: right;\">      </td><td style=\"text-align: right;\">                </td><td style=\"text-align: right;\">          </td></tr>\n",
       "<tr><td>main_780bd_00013</td><td>PENDING   </td><td>                </td><td style=\"text-align: right;\">     800</td><td style=\"text-align: right;\"> 128</td><td style=\"text-align: right;\">  64</td><td style=\"text-align: right;\">  16</td><td style=\"text-align: right;\">0.0016</td><td style=\"text-align: right;\">        0.0003</td><td style=\"text-align: right;\">      </td><td style=\"text-align: right;\">                </td><td style=\"text-align: right;\">          </td></tr>\n",
       "<tr><td>main_780bd_00014</td><td>PENDING   </td><td>                </td><td style=\"text-align: right;\">     700</td><td style=\"text-align: right;\"> 128</td><td style=\"text-align: right;\">  64</td><td style=\"text-align: right;\">  16</td><td style=\"text-align: right;\">0.001 </td><td style=\"text-align: right;\">        0.0003</td><td style=\"text-align: right;\">      </td><td style=\"text-align: right;\">                </td><td style=\"text-align: right;\">          </td></tr>\n",
       "<tr><td>main_780bd_00015</td><td>PENDING   </td><td>                </td><td style=\"text-align: right;\">     800</td><td style=\"text-align: right;\"> 128</td><td style=\"text-align: right;\">  64</td><td style=\"text-align: right;\">  16</td><td style=\"text-align: right;\">0.0008</td><td style=\"text-align: right;\">        0.0003</td><td style=\"text-align: right;\">      </td><td style=\"text-align: right;\">                </td><td style=\"text-align: right;\">          </td></tr>\n",
       "<tr><td>main_780bd_00016</td><td>PENDING   </td><td>                </td><td style=\"text-align: right;\">     700</td><td style=\"text-align: right;\"> 128</td><td style=\"text-align: right;\">  64</td><td style=\"text-align: right;\">  16</td><td style=\"text-align: right;\">0.001 </td><td style=\"text-align: right;\">        0.0003</td><td style=\"text-align: right;\">      </td><td style=\"text-align: right;\">                </td><td style=\"text-align: right;\">          </td></tr>\n",
       "<tr><td>main_780bd_00017</td><td>PENDING   </td><td>                </td><td style=\"text-align: right;\">     800</td><td style=\"text-align: right;\"> 128</td><td style=\"text-align: right;\">  64</td><td style=\"text-align: right;\">  16</td><td style=\"text-align: right;\">0.0018</td><td style=\"text-align: right;\">        0.0009</td><td style=\"text-align: right;\">      </td><td style=\"text-align: right;\">                </td><td style=\"text-align: right;\">          </td></tr>\n",
       "<tr><td>main_780bd_00018</td><td>PENDING   </td><td>                </td><td style=\"text-align: right;\">     800</td><td style=\"text-align: right;\"> 128</td><td style=\"text-align: right;\">  64</td><td style=\"text-align: right;\">  16</td><td style=\"text-align: right;\">0.0018</td><td style=\"text-align: right;\">        0.0003</td><td style=\"text-align: right;\">      </td><td style=\"text-align: right;\">                </td><td style=\"text-align: right;\">          </td></tr>\n",
       "<tr><td>main_780bd_00019</td><td>PENDING   </td><td>                </td><td style=\"text-align: right;\">     700</td><td style=\"text-align: right;\"> 128</td><td style=\"text-align: right;\">  64</td><td style=\"text-align: right;\">  16</td><td style=\"text-align: right;\">0.0014</td><td style=\"text-align: right;\">        0.0006</td><td style=\"text-align: right;\">      </td><td style=\"text-align: right;\">                </td><td style=\"text-align: right;\">          </td></tr>\n",
       "<tr><td>main_780bd_00000</td><td>TERMINATED</td><td>                </td><td style=\"text-align: right;\">     700</td><td style=\"text-align: right;\"> 128</td><td style=\"text-align: right;\">  64</td><td style=\"text-align: right;\">  16</td><td style=\"text-align: right;\">0.0008</td><td style=\"text-align: right;\">        0.0009</td><td style=\"text-align: right;\">     1</td><td style=\"text-align: right;\">         13.6591</td><td style=\"text-align: right;\">  0.877091</td></tr>\n",
       "<tr><td>main_780bd_00001</td><td>TERMINATED</td><td>                </td><td style=\"text-align: right;\">     700</td><td style=\"text-align: right;\"> 128</td><td style=\"text-align: right;\">  64</td><td style=\"text-align: right;\">  16</td><td style=\"text-align: right;\">0.001 </td><td style=\"text-align: right;\">        0.0006</td><td style=\"text-align: right;\">     1</td><td style=\"text-align: right;\">         13.6453</td><td style=\"text-align: right;\">  0.883636</td></tr>\n",
       "</tbody>\n",
       "</table><br>... 30 more trials not shown (30 PENDING)<br><br>"
      ],
      "text/plain": [
       "<IPython.core.display.HTML object>"
      ]
     },
     "metadata": {},
     "output_type": "display_data"
    },
    {
     "name": "stdout",
     "output_type": "stream",
     "text": [
      "Result for main_780bd_00002:\n",
      "  accuracy: 0.8792727272727273\n",
      "  date: 2021-05-07_17-35-08\n",
      "  done: true\n",
      "  experiment_id: 1cabe85822e84b89ab8558d749795155\n",
      "  experiment_tag: 2_epochs=700,l1=128,l2=64,l3=16,lr=0.0016,weight_decay=0.0009\n",
      "  hostname: 4ce982eb56f7\n",
      "  iterations_since_restore: 1\n",
      "  node_ip: 172.17.0.11\n",
      "  pid: 9514\n",
      "  time_since_restore: 12.996009349822998\n",
      "  time_this_iter_s: 12.996009349822998\n",
      "  time_total_s: 12.996009349822998\n",
      "  timestamp: 1620408908\n",
      "  timesteps_since_restore: 0\n",
      "  training_iteration: 1\n",
      "  trial_id: 780bd_00002\n",
      "  \n",
      "Result for main_780bd_00003:\n",
      "  accuracy: 0.8836363636363637\n",
      "  date: 2021-05-07_17-35-10\n",
      "  done: false\n",
      "  experiment_id: de2b7254736d437ba5e1df75e95928d5\n",
      "  hostname: 4ce982eb56f7\n",
      "  iterations_since_restore: 1\n",
      "  node_ip: 172.17.0.11\n",
      "  pid: 9520\n",
      "  time_since_restore: 14.951788425445557\n",
      "  time_this_iter_s: 14.951788425445557\n",
      "  time_total_s: 14.951788425445557\n",
      "  timestamp: 1620408910\n",
      "  timesteps_since_restore: 0\n",
      "  training_iteration: 1\n",
      "  trial_id: 780bd_00003\n",
      "  \n",
      "Result for main_780bd_00003:\n",
      "  accuracy: 0.8836363636363637\n",
      "  date: 2021-05-07_17-35-10\n",
      "  done: true\n",
      "  experiment_id: de2b7254736d437ba5e1df75e95928d5\n",
      "  experiment_tag: 3_epochs=800,l1=128,l2=64,l3=16,lr=0.0012,weight_decay=0.0006\n",
      "  hostname: 4ce982eb56f7\n",
      "  iterations_since_restore: 1\n",
      "  node_ip: 172.17.0.11\n",
      "  pid: 9520\n",
      "  time_since_restore: 14.951788425445557\n",
      "  time_this_iter_s: 14.951788425445557\n",
      "  time_total_s: 14.951788425445557\n",
      "  timestamp: 1620408910\n",
      "  timesteps_since_restore: 0\n",
      "  training_iteration: 1\n",
      "  trial_id: 780bd_00003\n",
      "  \n"
     ]
    },
    {
     "name": "stderr",
     "output_type": "stream",
     "text": [
      "\u001b[2m\u001b[36m(pid=9548)\u001b[0m Using backend: pytorch\n"
     ]
    },
    {
     "name": "stdout",
     "output_type": "stream",
     "text": [
      "\u001b[2m\u001b[36m(pid=9548)\u001b[0m l1 128 l2 64 l3 16\n"
     ]
    },
    {
     "name": "stderr",
     "output_type": "stream",
     "text": [
      "\u001b[2m\u001b[36m(pid=9519)\u001b[0m Using backend: pytorch\n"
     ]
    },
    {
     "name": "stdout",
     "output_type": "stream",
     "text": [
      "\u001b[2m\u001b[36m(pid=9519)\u001b[0m l1 128 l2 64 l3 16\n",
      "Result for main_780bd_00004:\n",
      "  accuracy: 0.8763636363636363\n",
      "  date: 2021-05-07_17-35-24\n",
      "  done: false\n",
      "  experiment_id: 511fcb562beb4cf093041de99c75d2d4\n",
      "  hostname: 4ce982eb56f7\n",
      "  iterations_since_restore: 1\n",
      "  node_ip: 172.17.0.11\n",
      "  pid: 9548\n",
      "  time_since_restore: 13.116239786148071\n",
      "  time_this_iter_s: 13.116239786148071\n",
      "  time_total_s: 13.116239786148071\n",
      "  timestamp: 1620408924\n",
      "  timesteps_since_restore: 0\n",
      "  training_iteration: 1\n",
      "  trial_id: 780bd_00004\n",
      "  \n"
     ]
    },
    {
     "data": {
      "text/html": [
       "== Status ==<br>Memory usage on this node: 31.5/62.8 GiB<br>Using FIFO scheduling algorithm.<br>Resources requested: 2.0/8 CPUs, 2.0/2 GPUs, 0.0/41.76 GiB heap, 0.0/9.31 GiB objects (0.0/1.0 accelerator_type:GTX)<br>Result logdir: /root/ray_results/main_2021-05-07_17-34-25<br>Number of trials: 50/50 (44 PENDING, 2 RUNNING, 4 TERMINATED)<br><table>\n",
       "<thead>\n",
       "<tr><th>Trial name      </th><th>status    </th><th>loc             </th><th style=\"text-align: right;\">  epochs</th><th style=\"text-align: right;\">  l1</th><th style=\"text-align: right;\">  l2</th><th style=\"text-align: right;\">  l3</th><th style=\"text-align: right;\">    lr</th><th style=\"text-align: right;\">  weight_decay</th><th style=\"text-align: right;\">  iter</th><th style=\"text-align: right;\">  total time (s)</th><th style=\"text-align: right;\">  accuracy</th></tr>\n",
       "</thead>\n",
       "<tbody>\n",
       "<tr><td>main_780bd_00004</td><td>RUNNING   </td><td>172.17.0.11:9548</td><td style=\"text-align: right;\">     700</td><td style=\"text-align: right;\"> 128</td><td style=\"text-align: right;\">  64</td><td style=\"text-align: right;\">  16</td><td style=\"text-align: right;\">0.0006</td><td style=\"text-align: right;\">        0.0003</td><td style=\"text-align: right;\">     1</td><td style=\"text-align: right;\">         13.1162</td><td style=\"text-align: right;\">  0.876364</td></tr>\n",
       "<tr><td>main_780bd_00005</td><td>RUNNING   </td><td>                </td><td style=\"text-align: right;\">     800</td><td style=\"text-align: right;\"> 128</td><td style=\"text-align: right;\">  64</td><td style=\"text-align: right;\">  16</td><td style=\"text-align: right;\">0.0018</td><td style=\"text-align: right;\">        0.0006</td><td style=\"text-align: right;\">      </td><td style=\"text-align: right;\">                </td><td style=\"text-align: right;\">          </td></tr>\n",
       "<tr><td>main_780bd_00006</td><td>PENDING   </td><td>                </td><td style=\"text-align: right;\">     700</td><td style=\"text-align: right;\"> 128</td><td style=\"text-align: right;\">  64</td><td style=\"text-align: right;\">  16</td><td style=\"text-align: right;\">0.0016</td><td style=\"text-align: right;\">        0.0006</td><td style=\"text-align: right;\">      </td><td style=\"text-align: right;\">                </td><td style=\"text-align: right;\">          </td></tr>\n",
       "<tr><td>main_780bd_00007</td><td>PENDING   </td><td>                </td><td style=\"text-align: right;\">     800</td><td style=\"text-align: right;\"> 128</td><td style=\"text-align: right;\">  64</td><td style=\"text-align: right;\">  16</td><td style=\"text-align: right;\">0.0012</td><td style=\"text-align: right;\">        0.0006</td><td style=\"text-align: right;\">      </td><td style=\"text-align: right;\">                </td><td style=\"text-align: right;\">          </td></tr>\n",
       "<tr><td>main_780bd_00008</td><td>PENDING   </td><td>                </td><td style=\"text-align: right;\">     800</td><td style=\"text-align: right;\"> 128</td><td style=\"text-align: right;\">  64</td><td style=\"text-align: right;\">  16</td><td style=\"text-align: right;\">0.0014</td><td style=\"text-align: right;\">        0.0009</td><td style=\"text-align: right;\">      </td><td style=\"text-align: right;\">                </td><td style=\"text-align: right;\">          </td></tr>\n",
       "<tr><td>main_780bd_00009</td><td>PENDING   </td><td>                </td><td style=\"text-align: right;\">     700</td><td style=\"text-align: right;\"> 128</td><td style=\"text-align: right;\">  64</td><td style=\"text-align: right;\">  16</td><td style=\"text-align: right;\">0.0018</td><td style=\"text-align: right;\">        0.0006</td><td style=\"text-align: right;\">      </td><td style=\"text-align: right;\">                </td><td style=\"text-align: right;\">          </td></tr>\n",
       "<tr><td>main_780bd_00010</td><td>PENDING   </td><td>                </td><td style=\"text-align: right;\">     700</td><td style=\"text-align: right;\"> 128</td><td style=\"text-align: right;\">  64</td><td style=\"text-align: right;\">  16</td><td style=\"text-align: right;\">0.0008</td><td style=\"text-align: right;\">        0.0003</td><td style=\"text-align: right;\">      </td><td style=\"text-align: right;\">                </td><td style=\"text-align: right;\">          </td></tr>\n",
       "<tr><td>main_780bd_00011</td><td>PENDING   </td><td>                </td><td style=\"text-align: right;\">     800</td><td style=\"text-align: right;\"> 128</td><td style=\"text-align: right;\">  64</td><td style=\"text-align: right;\">  16</td><td style=\"text-align: right;\">0.0018</td><td style=\"text-align: right;\">        0.0009</td><td style=\"text-align: right;\">      </td><td style=\"text-align: right;\">                </td><td style=\"text-align: right;\">          </td></tr>\n",
       "<tr><td>main_780bd_00012</td><td>PENDING   </td><td>                </td><td style=\"text-align: right;\">     700</td><td style=\"text-align: right;\"> 128</td><td style=\"text-align: right;\">  64</td><td style=\"text-align: right;\">  16</td><td style=\"text-align: right;\">0.0018</td><td style=\"text-align: right;\">        0.0009</td><td style=\"text-align: right;\">      </td><td style=\"text-align: right;\">                </td><td style=\"text-align: right;\">          </td></tr>\n",
       "<tr><td>main_780bd_00013</td><td>PENDING   </td><td>                </td><td style=\"text-align: right;\">     800</td><td style=\"text-align: right;\"> 128</td><td style=\"text-align: right;\">  64</td><td style=\"text-align: right;\">  16</td><td style=\"text-align: right;\">0.0016</td><td style=\"text-align: right;\">        0.0003</td><td style=\"text-align: right;\">      </td><td style=\"text-align: right;\">                </td><td style=\"text-align: right;\">          </td></tr>\n",
       "<tr><td>main_780bd_00014</td><td>PENDING   </td><td>                </td><td style=\"text-align: right;\">     700</td><td style=\"text-align: right;\"> 128</td><td style=\"text-align: right;\">  64</td><td style=\"text-align: right;\">  16</td><td style=\"text-align: right;\">0.001 </td><td style=\"text-align: right;\">        0.0003</td><td style=\"text-align: right;\">      </td><td style=\"text-align: right;\">                </td><td style=\"text-align: right;\">          </td></tr>\n",
       "<tr><td>main_780bd_00015</td><td>PENDING   </td><td>                </td><td style=\"text-align: right;\">     800</td><td style=\"text-align: right;\"> 128</td><td style=\"text-align: right;\">  64</td><td style=\"text-align: right;\">  16</td><td style=\"text-align: right;\">0.0008</td><td style=\"text-align: right;\">        0.0003</td><td style=\"text-align: right;\">      </td><td style=\"text-align: right;\">                </td><td style=\"text-align: right;\">          </td></tr>\n",
       "<tr><td>main_780bd_00016</td><td>PENDING   </td><td>                </td><td style=\"text-align: right;\">     700</td><td style=\"text-align: right;\"> 128</td><td style=\"text-align: right;\">  64</td><td style=\"text-align: right;\">  16</td><td style=\"text-align: right;\">0.001 </td><td style=\"text-align: right;\">        0.0003</td><td style=\"text-align: right;\">      </td><td style=\"text-align: right;\">                </td><td style=\"text-align: right;\">          </td></tr>\n",
       "<tr><td>main_780bd_00017</td><td>PENDING   </td><td>                </td><td style=\"text-align: right;\">     800</td><td style=\"text-align: right;\"> 128</td><td style=\"text-align: right;\">  64</td><td style=\"text-align: right;\">  16</td><td style=\"text-align: right;\">0.0018</td><td style=\"text-align: right;\">        0.0009</td><td style=\"text-align: right;\">      </td><td style=\"text-align: right;\">                </td><td style=\"text-align: right;\">          </td></tr>\n",
       "<tr><td>main_780bd_00018</td><td>PENDING   </td><td>                </td><td style=\"text-align: right;\">     800</td><td style=\"text-align: right;\"> 128</td><td style=\"text-align: right;\">  64</td><td style=\"text-align: right;\">  16</td><td style=\"text-align: right;\">0.0018</td><td style=\"text-align: right;\">        0.0003</td><td style=\"text-align: right;\">      </td><td style=\"text-align: right;\">                </td><td style=\"text-align: right;\">          </td></tr>\n",
       "<tr><td>main_780bd_00019</td><td>PENDING   </td><td>                </td><td style=\"text-align: right;\">     700</td><td style=\"text-align: right;\"> 128</td><td style=\"text-align: right;\">  64</td><td style=\"text-align: right;\">  16</td><td style=\"text-align: right;\">0.0014</td><td style=\"text-align: right;\">        0.0006</td><td style=\"text-align: right;\">      </td><td style=\"text-align: right;\">                </td><td style=\"text-align: right;\">          </td></tr>\n",
       "<tr><td>main_780bd_00000</td><td>TERMINATED</td><td>                </td><td style=\"text-align: right;\">     700</td><td style=\"text-align: right;\"> 128</td><td style=\"text-align: right;\">  64</td><td style=\"text-align: right;\">  16</td><td style=\"text-align: right;\">0.0008</td><td style=\"text-align: right;\">        0.0009</td><td style=\"text-align: right;\">     1</td><td style=\"text-align: right;\">         13.6591</td><td style=\"text-align: right;\">  0.877091</td></tr>\n",
       "<tr><td>main_780bd_00001</td><td>TERMINATED</td><td>                </td><td style=\"text-align: right;\">     700</td><td style=\"text-align: right;\"> 128</td><td style=\"text-align: right;\">  64</td><td style=\"text-align: right;\">  16</td><td style=\"text-align: right;\">0.001 </td><td style=\"text-align: right;\">        0.0006</td><td style=\"text-align: right;\">     1</td><td style=\"text-align: right;\">         13.6453</td><td style=\"text-align: right;\">  0.883636</td></tr>\n",
       "<tr><td>main_780bd_00002</td><td>TERMINATED</td><td>                </td><td style=\"text-align: right;\">     700</td><td style=\"text-align: right;\"> 128</td><td style=\"text-align: right;\">  64</td><td style=\"text-align: right;\">  16</td><td style=\"text-align: right;\">0.0016</td><td style=\"text-align: right;\">        0.0009</td><td style=\"text-align: right;\">     1</td><td style=\"text-align: right;\">         12.996 </td><td style=\"text-align: right;\">  0.879273</td></tr>\n",
       "<tr><td>main_780bd_00003</td><td>TERMINATED</td><td>                </td><td style=\"text-align: right;\">     800</td><td style=\"text-align: right;\"> 128</td><td style=\"text-align: right;\">  64</td><td style=\"text-align: right;\">  16</td><td style=\"text-align: right;\">0.0012</td><td style=\"text-align: right;\">        0.0006</td><td style=\"text-align: right;\">     1</td><td style=\"text-align: right;\">         14.9518</td><td style=\"text-align: right;\">  0.883636</td></tr>\n",
       "</tbody>\n",
       "</table><br>... 30 more trials not shown (30 PENDING)<br><br>"
      ],
      "text/plain": [
       "<IPython.core.display.HTML object>"
      ]
     },
     "metadata": {},
     "output_type": "display_data"
    },
    {
     "name": "stdout",
     "output_type": "stream",
     "text": [
      "Result for main_780bd_00004:\n",
      "  accuracy: 0.8763636363636363\n",
      "  date: 2021-05-07_17-35-24\n",
      "  done: true\n",
      "  experiment_id: 511fcb562beb4cf093041de99c75d2d4\n",
      "  experiment_tag: 4_epochs=700,l1=128,l2=64,l3=16,lr=0.0006,weight_decay=0.0003\n",
      "  hostname: 4ce982eb56f7\n",
      "  iterations_since_restore: 1\n",
      "  node_ip: 172.17.0.11\n",
      "  pid: 9548\n",
      "  time_since_restore: 13.116239786148071\n",
      "  time_this_iter_s: 13.116239786148071\n",
      "  time_total_s: 13.116239786148071\n",
      "  timestamp: 1620408924\n",
      "  timesteps_since_restore: 0\n",
      "  training_iteration: 1\n",
      "  trial_id: 780bd_00004\n",
      "  \n"
     ]
    },
    {
     "name": "stderr",
     "output_type": "stream",
     "text": [
      "\u001b[2m\u001b[36m(pid=9635)\u001b[0m Using backend: pytorch\n"
     ]
    },
    {
     "name": "stdout",
     "output_type": "stream",
     "text": [
      "\u001b[2m\u001b[36m(pid=9635)\u001b[0m l1 128 l2 64 l3 16\n",
      "Result for main_780bd_00005:\n",
      "  accuracy: 0.8698181818181818\n",
      "  date: 2021-05-07_17-35-28\n",
      "  done: false\n",
      "  experiment_id: ef5e5e4de7304aa98cb9600834d92f76\n",
      "  hostname: 4ce982eb56f7\n",
      "  iterations_since_restore: 1\n",
      "  node_ip: 172.17.0.11\n",
      "  pid: 9519\n",
      "  time_since_restore: 14.979908227920532\n",
      "  time_this_iter_s: 14.979908227920532\n",
      "  time_total_s: 14.979908227920532\n",
      "  timestamp: 1620408928\n",
      "  timesteps_since_restore: 0\n",
      "  training_iteration: 1\n",
      "  trial_id: 780bd_00005\n",
      "  \n",
      "Result for main_780bd_00005:\n",
      "  accuracy: 0.8698181818181818\n",
      "  date: 2021-05-07_17-35-28\n",
      "  done: true\n",
      "  experiment_id: ef5e5e4de7304aa98cb9600834d92f76\n",
      "  experiment_tag: 5_epochs=800,l1=128,l2=64,l3=16,lr=0.0018,weight_decay=0.0006\n",
      "  hostname: 4ce982eb56f7\n",
      "  iterations_since_restore: 1\n",
      "  node_ip: 172.17.0.11\n",
      "  pid: 9519\n",
      "  time_since_restore: 14.979908227920532\n",
      "  time_this_iter_s: 14.979908227920532\n",
      "  time_total_s: 14.979908227920532\n",
      "  timestamp: 1620408928\n",
      "  timesteps_since_restore: 0\n",
      "  training_iteration: 1\n",
      "  trial_id: 780bd_00005\n",
      "  \n"
     ]
    },
    {
     "name": "stderr",
     "output_type": "stream",
     "text": [
      "\u001b[2m\u001b[36m(pid=9666)\u001b[0m Using backend: pytorch\n"
     ]
    },
    {
     "name": "stdout",
     "output_type": "stream",
     "text": [
      "\u001b[2m\u001b[36m(pid=9666)\u001b[0m l1 128 l2 64 l3 16\n",
      "Result for main_780bd_00006:\n",
      "  accuracy: 0.8727272727272727\n",
      "  date: 2021-05-07_17-35-41\n",
      "  done: false\n",
      "  experiment_id: 2de77e5ea0a54ae08ae68b53490f0dfd\n",
      "  hostname: 4ce982eb56f7\n",
      "  iterations_since_restore: 1\n",
      "  node_ip: 172.17.0.11\n",
      "  pid: 9635\n",
      "  time_since_restore: 13.20803451538086\n",
      "  time_this_iter_s: 13.20803451538086\n",
      "  time_total_s: 13.20803451538086\n",
      "  timestamp: 1620408941\n",
      "  timesteps_since_restore: 0\n",
      "  training_iteration: 1\n",
      "  trial_id: 780bd_00006\n",
      "  \n"
     ]
    },
    {
     "data": {
      "text/html": [
       "== Status ==<br>Memory usage on this node: 31.5/62.8 GiB<br>Using FIFO scheduling algorithm.<br>Resources requested: 2.0/8 CPUs, 2.0/2 GPUs, 0.0/41.76 GiB heap, 0.0/9.31 GiB objects (0.0/1.0 accelerator_type:GTX)<br>Result logdir: /root/ray_results/main_2021-05-07_17-34-25<br>Number of trials: 50/50 (42 PENDING, 2 RUNNING, 6 TERMINATED)<br><table>\n",
       "<thead>\n",
       "<tr><th>Trial name      </th><th>status    </th><th>loc             </th><th style=\"text-align: right;\">  epochs</th><th style=\"text-align: right;\">  l1</th><th style=\"text-align: right;\">  l2</th><th style=\"text-align: right;\">  l3</th><th style=\"text-align: right;\">    lr</th><th style=\"text-align: right;\">  weight_decay</th><th style=\"text-align: right;\">  iter</th><th style=\"text-align: right;\">  total time (s)</th><th style=\"text-align: right;\">  accuracy</th></tr>\n",
       "</thead>\n",
       "<tbody>\n",
       "<tr><td>main_780bd_00006</td><td>RUNNING   </td><td>172.17.0.11:9635</td><td style=\"text-align: right;\">     700</td><td style=\"text-align: right;\"> 128</td><td style=\"text-align: right;\">  64</td><td style=\"text-align: right;\">  16</td><td style=\"text-align: right;\">0.0016</td><td style=\"text-align: right;\">        0.0006</td><td style=\"text-align: right;\">     1</td><td style=\"text-align: right;\">         13.208 </td><td style=\"text-align: right;\">  0.872727</td></tr>\n",
       "<tr><td>main_780bd_00007</td><td>RUNNING   </td><td>                </td><td style=\"text-align: right;\">     800</td><td style=\"text-align: right;\"> 128</td><td style=\"text-align: right;\">  64</td><td style=\"text-align: right;\">  16</td><td style=\"text-align: right;\">0.0012</td><td style=\"text-align: right;\">        0.0006</td><td style=\"text-align: right;\">      </td><td style=\"text-align: right;\">                </td><td style=\"text-align: right;\">          </td></tr>\n",
       "<tr><td>main_780bd_00008</td><td>PENDING   </td><td>                </td><td style=\"text-align: right;\">     800</td><td style=\"text-align: right;\"> 128</td><td style=\"text-align: right;\">  64</td><td style=\"text-align: right;\">  16</td><td style=\"text-align: right;\">0.0014</td><td style=\"text-align: right;\">        0.0009</td><td style=\"text-align: right;\">      </td><td style=\"text-align: right;\">                </td><td style=\"text-align: right;\">          </td></tr>\n",
       "<tr><td>main_780bd_00009</td><td>PENDING   </td><td>                </td><td style=\"text-align: right;\">     700</td><td style=\"text-align: right;\"> 128</td><td style=\"text-align: right;\">  64</td><td style=\"text-align: right;\">  16</td><td style=\"text-align: right;\">0.0018</td><td style=\"text-align: right;\">        0.0006</td><td style=\"text-align: right;\">      </td><td style=\"text-align: right;\">                </td><td style=\"text-align: right;\">          </td></tr>\n",
       "<tr><td>main_780bd_00010</td><td>PENDING   </td><td>                </td><td style=\"text-align: right;\">     700</td><td style=\"text-align: right;\"> 128</td><td style=\"text-align: right;\">  64</td><td style=\"text-align: right;\">  16</td><td style=\"text-align: right;\">0.0008</td><td style=\"text-align: right;\">        0.0003</td><td style=\"text-align: right;\">      </td><td style=\"text-align: right;\">                </td><td style=\"text-align: right;\">          </td></tr>\n",
       "<tr><td>main_780bd_00011</td><td>PENDING   </td><td>                </td><td style=\"text-align: right;\">     800</td><td style=\"text-align: right;\"> 128</td><td style=\"text-align: right;\">  64</td><td style=\"text-align: right;\">  16</td><td style=\"text-align: right;\">0.0018</td><td style=\"text-align: right;\">        0.0009</td><td style=\"text-align: right;\">      </td><td style=\"text-align: right;\">                </td><td style=\"text-align: right;\">          </td></tr>\n",
       "<tr><td>main_780bd_00012</td><td>PENDING   </td><td>                </td><td style=\"text-align: right;\">     700</td><td style=\"text-align: right;\"> 128</td><td style=\"text-align: right;\">  64</td><td style=\"text-align: right;\">  16</td><td style=\"text-align: right;\">0.0018</td><td style=\"text-align: right;\">        0.0009</td><td style=\"text-align: right;\">      </td><td style=\"text-align: right;\">                </td><td style=\"text-align: right;\">          </td></tr>\n",
       "<tr><td>main_780bd_00013</td><td>PENDING   </td><td>                </td><td style=\"text-align: right;\">     800</td><td style=\"text-align: right;\"> 128</td><td style=\"text-align: right;\">  64</td><td style=\"text-align: right;\">  16</td><td style=\"text-align: right;\">0.0016</td><td style=\"text-align: right;\">        0.0003</td><td style=\"text-align: right;\">      </td><td style=\"text-align: right;\">                </td><td style=\"text-align: right;\">          </td></tr>\n",
       "<tr><td>main_780bd_00014</td><td>PENDING   </td><td>                </td><td style=\"text-align: right;\">     700</td><td style=\"text-align: right;\"> 128</td><td style=\"text-align: right;\">  64</td><td style=\"text-align: right;\">  16</td><td style=\"text-align: right;\">0.001 </td><td style=\"text-align: right;\">        0.0003</td><td style=\"text-align: right;\">      </td><td style=\"text-align: right;\">                </td><td style=\"text-align: right;\">          </td></tr>\n",
       "<tr><td>main_780bd_00015</td><td>PENDING   </td><td>                </td><td style=\"text-align: right;\">     800</td><td style=\"text-align: right;\"> 128</td><td style=\"text-align: right;\">  64</td><td style=\"text-align: right;\">  16</td><td style=\"text-align: right;\">0.0008</td><td style=\"text-align: right;\">        0.0003</td><td style=\"text-align: right;\">      </td><td style=\"text-align: right;\">                </td><td style=\"text-align: right;\">          </td></tr>\n",
       "<tr><td>main_780bd_00016</td><td>PENDING   </td><td>                </td><td style=\"text-align: right;\">     700</td><td style=\"text-align: right;\"> 128</td><td style=\"text-align: right;\">  64</td><td style=\"text-align: right;\">  16</td><td style=\"text-align: right;\">0.001 </td><td style=\"text-align: right;\">        0.0003</td><td style=\"text-align: right;\">      </td><td style=\"text-align: right;\">                </td><td style=\"text-align: right;\">          </td></tr>\n",
       "<tr><td>main_780bd_00017</td><td>PENDING   </td><td>                </td><td style=\"text-align: right;\">     800</td><td style=\"text-align: right;\"> 128</td><td style=\"text-align: right;\">  64</td><td style=\"text-align: right;\">  16</td><td style=\"text-align: right;\">0.0018</td><td style=\"text-align: right;\">        0.0009</td><td style=\"text-align: right;\">      </td><td style=\"text-align: right;\">                </td><td style=\"text-align: right;\">          </td></tr>\n",
       "<tr><td>main_780bd_00018</td><td>PENDING   </td><td>                </td><td style=\"text-align: right;\">     800</td><td style=\"text-align: right;\"> 128</td><td style=\"text-align: right;\">  64</td><td style=\"text-align: right;\">  16</td><td style=\"text-align: right;\">0.0018</td><td style=\"text-align: right;\">        0.0003</td><td style=\"text-align: right;\">      </td><td style=\"text-align: right;\">                </td><td style=\"text-align: right;\">          </td></tr>\n",
       "<tr><td>main_780bd_00019</td><td>PENDING   </td><td>                </td><td style=\"text-align: right;\">     700</td><td style=\"text-align: right;\"> 128</td><td style=\"text-align: right;\">  64</td><td style=\"text-align: right;\">  16</td><td style=\"text-align: right;\">0.0014</td><td style=\"text-align: right;\">        0.0006</td><td style=\"text-align: right;\">      </td><td style=\"text-align: right;\">                </td><td style=\"text-align: right;\">          </td></tr>\n",
       "<tr><td>main_780bd_00000</td><td>TERMINATED</td><td>                </td><td style=\"text-align: right;\">     700</td><td style=\"text-align: right;\"> 128</td><td style=\"text-align: right;\">  64</td><td style=\"text-align: right;\">  16</td><td style=\"text-align: right;\">0.0008</td><td style=\"text-align: right;\">        0.0009</td><td style=\"text-align: right;\">     1</td><td style=\"text-align: right;\">         13.6591</td><td style=\"text-align: right;\">  0.877091</td></tr>\n",
       "<tr><td>main_780bd_00001</td><td>TERMINATED</td><td>                </td><td style=\"text-align: right;\">     700</td><td style=\"text-align: right;\"> 128</td><td style=\"text-align: right;\">  64</td><td style=\"text-align: right;\">  16</td><td style=\"text-align: right;\">0.001 </td><td style=\"text-align: right;\">        0.0006</td><td style=\"text-align: right;\">     1</td><td style=\"text-align: right;\">         13.6453</td><td style=\"text-align: right;\">  0.883636</td></tr>\n",
       "<tr><td>main_780bd_00002</td><td>TERMINATED</td><td>                </td><td style=\"text-align: right;\">     700</td><td style=\"text-align: right;\"> 128</td><td style=\"text-align: right;\">  64</td><td style=\"text-align: right;\">  16</td><td style=\"text-align: right;\">0.0016</td><td style=\"text-align: right;\">        0.0009</td><td style=\"text-align: right;\">     1</td><td style=\"text-align: right;\">         12.996 </td><td style=\"text-align: right;\">  0.879273</td></tr>\n",
       "<tr><td>main_780bd_00003</td><td>TERMINATED</td><td>                </td><td style=\"text-align: right;\">     800</td><td style=\"text-align: right;\"> 128</td><td style=\"text-align: right;\">  64</td><td style=\"text-align: right;\">  16</td><td style=\"text-align: right;\">0.0012</td><td style=\"text-align: right;\">        0.0006</td><td style=\"text-align: right;\">     1</td><td style=\"text-align: right;\">         14.9518</td><td style=\"text-align: right;\">  0.883636</td></tr>\n",
       "<tr><td>main_780bd_00004</td><td>TERMINATED</td><td>                </td><td style=\"text-align: right;\">     700</td><td style=\"text-align: right;\"> 128</td><td style=\"text-align: right;\">  64</td><td style=\"text-align: right;\">  16</td><td style=\"text-align: right;\">0.0006</td><td style=\"text-align: right;\">        0.0003</td><td style=\"text-align: right;\">     1</td><td style=\"text-align: right;\">         13.1162</td><td style=\"text-align: right;\">  0.876364</td></tr>\n",
       "<tr><td>main_780bd_00005</td><td>TERMINATED</td><td>                </td><td style=\"text-align: right;\">     800</td><td style=\"text-align: right;\"> 128</td><td style=\"text-align: right;\">  64</td><td style=\"text-align: right;\">  16</td><td style=\"text-align: right;\">0.0018</td><td style=\"text-align: right;\">        0.0006</td><td style=\"text-align: right;\">     1</td><td style=\"text-align: right;\">         14.9799</td><td style=\"text-align: right;\">  0.869818</td></tr>\n",
       "</tbody>\n",
       "</table><br>... 30 more trials not shown (30 PENDING)<br><br>"
      ],
      "text/plain": [
       "<IPython.core.display.HTML object>"
      ]
     },
     "metadata": {},
     "output_type": "display_data"
    },
    {
     "name": "stdout",
     "output_type": "stream",
     "text": [
      "Result for main_780bd_00006:\n",
      "  accuracy: 0.8727272727272727\n",
      "  date: 2021-05-07_17-35-41\n",
      "  done: true\n",
      "  experiment_id: 2de77e5ea0a54ae08ae68b53490f0dfd\n",
      "  experiment_tag: 6_epochs=700,l1=128,l2=64,l3=16,lr=0.0016,weight_decay=0.0006\n",
      "  hostname: 4ce982eb56f7\n",
      "  iterations_since_restore: 1\n",
      "  node_ip: 172.17.0.11\n",
      "  pid: 9635\n",
      "  time_since_restore: 13.20803451538086\n",
      "  time_this_iter_s: 13.20803451538086\n",
      "  time_total_s: 13.20803451538086\n",
      "  timestamp: 1620408941\n",
      "  timesteps_since_restore: 0\n",
      "  training_iteration: 1\n",
      "  trial_id: 780bd_00006\n",
      "  \n"
     ]
    },
    {
     "name": "stderr",
     "output_type": "stream",
     "text": [
      "\u001b[2m\u001b[36m(pid=9697)\u001b[0m Using backend: pytorch\n"
     ]
    },
    {
     "name": "stdout",
     "output_type": "stream",
     "text": [
      "\u001b[2m\u001b[36m(pid=9697)\u001b[0m l1 128 l2 64 l3 16\n",
      "Result for main_780bd_00007:\n",
      "  accuracy: 0.8647272727272727\n",
      "  date: 2021-05-07_17-35-47\n",
      "  done: false\n",
      "  experiment_id: a8a6bee9611440c3ab02dbaa516e8f1e\n",
      "  hostname: 4ce982eb56f7\n",
      "  iterations_since_restore: 1\n",
      "  node_ip: 172.17.0.11\n",
      "  pid: 9666\n",
      "  time_since_restore: 15.05153751373291\n",
      "  time_this_iter_s: 15.05153751373291\n",
      "  time_total_s: 15.05153751373291\n",
      "  timestamp: 1620408947\n",
      "  timesteps_since_restore: 0\n",
      "  training_iteration: 1\n",
      "  trial_id: 780bd_00007\n",
      "  \n"
     ]
    },
    {
     "data": {
      "text/html": [
       "== Status ==<br>Memory usage on this node: 31.6/62.8 GiB<br>Using FIFO scheduling algorithm.<br>Resources requested: 2.0/8 CPUs, 2.0/2 GPUs, 0.0/41.76 GiB heap, 0.0/9.31 GiB objects (0.0/1.0 accelerator_type:GTX)<br>Result logdir: /root/ray_results/main_2021-05-07_17-34-25<br>Number of trials: 50/50 (41 PENDING, 2 RUNNING, 7 TERMINATED)<br><table>\n",
       "<thead>\n",
       "<tr><th>Trial name      </th><th>status    </th><th>loc             </th><th style=\"text-align: right;\">  epochs</th><th style=\"text-align: right;\">  l1</th><th style=\"text-align: right;\">  l2</th><th style=\"text-align: right;\">  l3</th><th style=\"text-align: right;\">    lr</th><th style=\"text-align: right;\">  weight_decay</th><th style=\"text-align: right;\">  iter</th><th style=\"text-align: right;\">  total time (s)</th><th style=\"text-align: right;\">  accuracy</th></tr>\n",
       "</thead>\n",
       "<tbody>\n",
       "<tr><td>main_780bd_00007</td><td>RUNNING   </td><td>172.17.0.11:9666</td><td style=\"text-align: right;\">     800</td><td style=\"text-align: right;\"> 128</td><td style=\"text-align: right;\">  64</td><td style=\"text-align: right;\">  16</td><td style=\"text-align: right;\">0.0012</td><td style=\"text-align: right;\">        0.0006</td><td style=\"text-align: right;\">     1</td><td style=\"text-align: right;\">         15.0515</td><td style=\"text-align: right;\">  0.864727</td></tr>\n",
       "<tr><td>main_780bd_00008</td><td>RUNNING   </td><td>                </td><td style=\"text-align: right;\">     800</td><td style=\"text-align: right;\"> 128</td><td style=\"text-align: right;\">  64</td><td style=\"text-align: right;\">  16</td><td style=\"text-align: right;\">0.0014</td><td style=\"text-align: right;\">        0.0009</td><td style=\"text-align: right;\">      </td><td style=\"text-align: right;\">                </td><td style=\"text-align: right;\">          </td></tr>\n",
       "<tr><td>main_780bd_00009</td><td>PENDING   </td><td>                </td><td style=\"text-align: right;\">     700</td><td style=\"text-align: right;\"> 128</td><td style=\"text-align: right;\">  64</td><td style=\"text-align: right;\">  16</td><td style=\"text-align: right;\">0.0018</td><td style=\"text-align: right;\">        0.0006</td><td style=\"text-align: right;\">      </td><td style=\"text-align: right;\">                </td><td style=\"text-align: right;\">          </td></tr>\n",
       "<tr><td>main_780bd_00010</td><td>PENDING   </td><td>                </td><td style=\"text-align: right;\">     700</td><td style=\"text-align: right;\"> 128</td><td style=\"text-align: right;\">  64</td><td style=\"text-align: right;\">  16</td><td style=\"text-align: right;\">0.0008</td><td style=\"text-align: right;\">        0.0003</td><td style=\"text-align: right;\">      </td><td style=\"text-align: right;\">                </td><td style=\"text-align: right;\">          </td></tr>\n",
       "<tr><td>main_780bd_00011</td><td>PENDING   </td><td>                </td><td style=\"text-align: right;\">     800</td><td style=\"text-align: right;\"> 128</td><td style=\"text-align: right;\">  64</td><td style=\"text-align: right;\">  16</td><td style=\"text-align: right;\">0.0018</td><td style=\"text-align: right;\">        0.0009</td><td style=\"text-align: right;\">      </td><td style=\"text-align: right;\">                </td><td style=\"text-align: right;\">          </td></tr>\n",
       "<tr><td>main_780bd_00012</td><td>PENDING   </td><td>                </td><td style=\"text-align: right;\">     700</td><td style=\"text-align: right;\"> 128</td><td style=\"text-align: right;\">  64</td><td style=\"text-align: right;\">  16</td><td style=\"text-align: right;\">0.0018</td><td style=\"text-align: right;\">        0.0009</td><td style=\"text-align: right;\">      </td><td style=\"text-align: right;\">                </td><td style=\"text-align: right;\">          </td></tr>\n",
       "<tr><td>main_780bd_00013</td><td>PENDING   </td><td>                </td><td style=\"text-align: right;\">     800</td><td style=\"text-align: right;\"> 128</td><td style=\"text-align: right;\">  64</td><td style=\"text-align: right;\">  16</td><td style=\"text-align: right;\">0.0016</td><td style=\"text-align: right;\">        0.0003</td><td style=\"text-align: right;\">      </td><td style=\"text-align: right;\">                </td><td style=\"text-align: right;\">          </td></tr>\n",
       "<tr><td>main_780bd_00014</td><td>PENDING   </td><td>                </td><td style=\"text-align: right;\">     700</td><td style=\"text-align: right;\"> 128</td><td style=\"text-align: right;\">  64</td><td style=\"text-align: right;\">  16</td><td style=\"text-align: right;\">0.001 </td><td style=\"text-align: right;\">        0.0003</td><td style=\"text-align: right;\">      </td><td style=\"text-align: right;\">                </td><td style=\"text-align: right;\">          </td></tr>\n",
       "<tr><td>main_780bd_00015</td><td>PENDING   </td><td>                </td><td style=\"text-align: right;\">     800</td><td style=\"text-align: right;\"> 128</td><td style=\"text-align: right;\">  64</td><td style=\"text-align: right;\">  16</td><td style=\"text-align: right;\">0.0008</td><td style=\"text-align: right;\">        0.0003</td><td style=\"text-align: right;\">      </td><td style=\"text-align: right;\">                </td><td style=\"text-align: right;\">          </td></tr>\n",
       "<tr><td>main_780bd_00016</td><td>PENDING   </td><td>                </td><td style=\"text-align: right;\">     700</td><td style=\"text-align: right;\"> 128</td><td style=\"text-align: right;\">  64</td><td style=\"text-align: right;\">  16</td><td style=\"text-align: right;\">0.001 </td><td style=\"text-align: right;\">        0.0003</td><td style=\"text-align: right;\">      </td><td style=\"text-align: right;\">                </td><td style=\"text-align: right;\">          </td></tr>\n",
       "<tr><td>main_780bd_00017</td><td>PENDING   </td><td>                </td><td style=\"text-align: right;\">     800</td><td style=\"text-align: right;\"> 128</td><td style=\"text-align: right;\">  64</td><td style=\"text-align: right;\">  16</td><td style=\"text-align: right;\">0.0018</td><td style=\"text-align: right;\">        0.0009</td><td style=\"text-align: right;\">      </td><td style=\"text-align: right;\">                </td><td style=\"text-align: right;\">          </td></tr>\n",
       "<tr><td>main_780bd_00018</td><td>PENDING   </td><td>                </td><td style=\"text-align: right;\">     800</td><td style=\"text-align: right;\"> 128</td><td style=\"text-align: right;\">  64</td><td style=\"text-align: right;\">  16</td><td style=\"text-align: right;\">0.0018</td><td style=\"text-align: right;\">        0.0003</td><td style=\"text-align: right;\">      </td><td style=\"text-align: right;\">                </td><td style=\"text-align: right;\">          </td></tr>\n",
       "<tr><td>main_780bd_00019</td><td>PENDING   </td><td>                </td><td style=\"text-align: right;\">     700</td><td style=\"text-align: right;\"> 128</td><td style=\"text-align: right;\">  64</td><td style=\"text-align: right;\">  16</td><td style=\"text-align: right;\">0.0014</td><td style=\"text-align: right;\">        0.0006</td><td style=\"text-align: right;\">      </td><td style=\"text-align: right;\">                </td><td style=\"text-align: right;\">          </td></tr>\n",
       "<tr><td>main_780bd_00000</td><td>TERMINATED</td><td>                </td><td style=\"text-align: right;\">     700</td><td style=\"text-align: right;\"> 128</td><td style=\"text-align: right;\">  64</td><td style=\"text-align: right;\">  16</td><td style=\"text-align: right;\">0.0008</td><td style=\"text-align: right;\">        0.0009</td><td style=\"text-align: right;\">     1</td><td style=\"text-align: right;\">         13.6591</td><td style=\"text-align: right;\">  0.877091</td></tr>\n",
       "<tr><td>main_780bd_00001</td><td>TERMINATED</td><td>                </td><td style=\"text-align: right;\">     700</td><td style=\"text-align: right;\"> 128</td><td style=\"text-align: right;\">  64</td><td style=\"text-align: right;\">  16</td><td style=\"text-align: right;\">0.001 </td><td style=\"text-align: right;\">        0.0006</td><td style=\"text-align: right;\">     1</td><td style=\"text-align: right;\">         13.6453</td><td style=\"text-align: right;\">  0.883636</td></tr>\n",
       "<tr><td>main_780bd_00002</td><td>TERMINATED</td><td>                </td><td style=\"text-align: right;\">     700</td><td style=\"text-align: right;\"> 128</td><td style=\"text-align: right;\">  64</td><td style=\"text-align: right;\">  16</td><td style=\"text-align: right;\">0.0016</td><td style=\"text-align: right;\">        0.0009</td><td style=\"text-align: right;\">     1</td><td style=\"text-align: right;\">         12.996 </td><td style=\"text-align: right;\">  0.879273</td></tr>\n",
       "<tr><td>main_780bd_00003</td><td>TERMINATED</td><td>                </td><td style=\"text-align: right;\">     800</td><td style=\"text-align: right;\"> 128</td><td style=\"text-align: right;\">  64</td><td style=\"text-align: right;\">  16</td><td style=\"text-align: right;\">0.0012</td><td style=\"text-align: right;\">        0.0006</td><td style=\"text-align: right;\">     1</td><td style=\"text-align: right;\">         14.9518</td><td style=\"text-align: right;\">  0.883636</td></tr>\n",
       "<tr><td>main_780bd_00004</td><td>TERMINATED</td><td>                </td><td style=\"text-align: right;\">     700</td><td style=\"text-align: right;\"> 128</td><td style=\"text-align: right;\">  64</td><td style=\"text-align: right;\">  16</td><td style=\"text-align: right;\">0.0006</td><td style=\"text-align: right;\">        0.0003</td><td style=\"text-align: right;\">     1</td><td style=\"text-align: right;\">         13.1162</td><td style=\"text-align: right;\">  0.876364</td></tr>\n",
       "<tr><td>main_780bd_00005</td><td>TERMINATED</td><td>                </td><td style=\"text-align: right;\">     800</td><td style=\"text-align: right;\"> 128</td><td style=\"text-align: right;\">  64</td><td style=\"text-align: right;\">  16</td><td style=\"text-align: right;\">0.0018</td><td style=\"text-align: right;\">        0.0006</td><td style=\"text-align: right;\">     1</td><td style=\"text-align: right;\">         14.9799</td><td style=\"text-align: right;\">  0.869818</td></tr>\n",
       "<tr><td>main_780bd_00006</td><td>TERMINATED</td><td>                </td><td style=\"text-align: right;\">     700</td><td style=\"text-align: right;\"> 128</td><td style=\"text-align: right;\">  64</td><td style=\"text-align: right;\">  16</td><td style=\"text-align: right;\">0.0016</td><td style=\"text-align: right;\">        0.0006</td><td style=\"text-align: right;\">     1</td><td style=\"text-align: right;\">         13.208 </td><td style=\"text-align: right;\">  0.872727</td></tr>\n",
       "</tbody>\n",
       "</table><br>... 30 more trials not shown (30 PENDING)<br><br>"
      ],
      "text/plain": [
       "<IPython.core.display.HTML object>"
      ]
     },
     "metadata": {},
     "output_type": "display_data"
    },
    {
     "name": "stdout",
     "output_type": "stream",
     "text": [
      "Result for main_780bd_00007:\n",
      "  accuracy: 0.8647272727272727\n",
      "  date: 2021-05-07_17-35-47\n",
      "  done: true\n",
      "  experiment_id: a8a6bee9611440c3ab02dbaa516e8f1e\n",
      "  experiment_tag: 7_epochs=800,l1=128,l2=64,l3=16,lr=0.0012,weight_decay=0.0006\n",
      "  hostname: 4ce982eb56f7\n",
      "  iterations_since_restore: 1\n",
      "  node_ip: 172.17.0.11\n",
      "  pid: 9666\n",
      "  time_since_restore: 15.05153751373291\n",
      "  time_this_iter_s: 15.05153751373291\n",
      "  time_total_s: 15.05153751373291\n",
      "  timestamp: 1620408947\n",
      "  timesteps_since_restore: 0\n",
      "  training_iteration: 1\n",
      "  trial_id: 780bd_00007\n",
      "  \n"
     ]
    },
    {
     "name": "stderr",
     "output_type": "stream",
     "text": [
      "\u001b[2m\u001b[36m(pid=9727)\u001b[0m Using backend: pytorch\n"
     ]
    },
    {
     "name": "stdout",
     "output_type": "stream",
     "text": [
      "\u001b[2m\u001b[36m(pid=9727)\u001b[0m l1 128 l2 64 l3 16\n",
      "Result for main_780bd_00008:\n",
      "  accuracy: 0.8749090909090909\n",
      "  date: 2021-05-07_17-36-00\n",
      "  done: false\n",
      "  experiment_id: f3113c995a074e91bb20a5327c0a159c\n",
      "  hostname: 4ce982eb56f7\n",
      "  iterations_since_restore: 1\n",
      "  node_ip: 172.17.0.11\n",
      "  pid: 9697\n",
      "  time_since_restore: 14.941715955734253\n",
      "  time_this_iter_s: 14.941715955734253\n",
      "  time_total_s: 14.941715955734253\n",
      "  timestamp: 1620408960\n",
      "  timesteps_since_restore: 0\n",
      "  training_iteration: 1\n",
      "  trial_id: 780bd_00008\n",
      "  \n"
     ]
    },
    {
     "data": {
      "text/html": [
       "== Status ==<br>Memory usage on this node: 31.5/62.8 GiB<br>Using FIFO scheduling algorithm.<br>Resources requested: 2.0/8 CPUs, 2.0/2 GPUs, 0.0/41.76 GiB heap, 0.0/9.31 GiB objects (0.0/1.0 accelerator_type:GTX)<br>Result logdir: /root/ray_results/main_2021-05-07_17-34-25<br>Number of trials: 50/50 (40 PENDING, 2 RUNNING, 8 TERMINATED)<br><table>\n",
       "<thead>\n",
       "<tr><th>Trial name      </th><th>status    </th><th>loc             </th><th style=\"text-align: right;\">  epochs</th><th style=\"text-align: right;\">  l1</th><th style=\"text-align: right;\">  l2</th><th style=\"text-align: right;\">  l3</th><th style=\"text-align: right;\">    lr</th><th style=\"text-align: right;\">  weight_decay</th><th style=\"text-align: right;\">  iter</th><th style=\"text-align: right;\">  total time (s)</th><th style=\"text-align: right;\">  accuracy</th></tr>\n",
       "</thead>\n",
       "<tbody>\n",
       "<tr><td>main_780bd_00008</td><td>RUNNING   </td><td>172.17.0.11:9697</td><td style=\"text-align: right;\">     800</td><td style=\"text-align: right;\"> 128</td><td style=\"text-align: right;\">  64</td><td style=\"text-align: right;\">  16</td><td style=\"text-align: right;\">0.0014</td><td style=\"text-align: right;\">        0.0009</td><td style=\"text-align: right;\">     1</td><td style=\"text-align: right;\">         14.9417</td><td style=\"text-align: right;\">  0.874909</td></tr>\n",
       "<tr><td>main_780bd_00009</td><td>RUNNING   </td><td>                </td><td style=\"text-align: right;\">     700</td><td style=\"text-align: right;\"> 128</td><td style=\"text-align: right;\">  64</td><td style=\"text-align: right;\">  16</td><td style=\"text-align: right;\">0.0018</td><td style=\"text-align: right;\">        0.0006</td><td style=\"text-align: right;\">      </td><td style=\"text-align: right;\">                </td><td style=\"text-align: right;\">          </td></tr>\n",
       "<tr><td>main_780bd_00010</td><td>PENDING   </td><td>                </td><td style=\"text-align: right;\">     700</td><td style=\"text-align: right;\"> 128</td><td style=\"text-align: right;\">  64</td><td style=\"text-align: right;\">  16</td><td style=\"text-align: right;\">0.0008</td><td style=\"text-align: right;\">        0.0003</td><td style=\"text-align: right;\">      </td><td style=\"text-align: right;\">                </td><td style=\"text-align: right;\">          </td></tr>\n",
       "<tr><td>main_780bd_00011</td><td>PENDING   </td><td>                </td><td style=\"text-align: right;\">     800</td><td style=\"text-align: right;\"> 128</td><td style=\"text-align: right;\">  64</td><td style=\"text-align: right;\">  16</td><td style=\"text-align: right;\">0.0018</td><td style=\"text-align: right;\">        0.0009</td><td style=\"text-align: right;\">      </td><td style=\"text-align: right;\">                </td><td style=\"text-align: right;\">          </td></tr>\n",
       "<tr><td>main_780bd_00012</td><td>PENDING   </td><td>                </td><td style=\"text-align: right;\">     700</td><td style=\"text-align: right;\"> 128</td><td style=\"text-align: right;\">  64</td><td style=\"text-align: right;\">  16</td><td style=\"text-align: right;\">0.0018</td><td style=\"text-align: right;\">        0.0009</td><td style=\"text-align: right;\">      </td><td style=\"text-align: right;\">                </td><td style=\"text-align: right;\">          </td></tr>\n",
       "<tr><td>main_780bd_00013</td><td>PENDING   </td><td>                </td><td style=\"text-align: right;\">     800</td><td style=\"text-align: right;\"> 128</td><td style=\"text-align: right;\">  64</td><td style=\"text-align: right;\">  16</td><td style=\"text-align: right;\">0.0016</td><td style=\"text-align: right;\">        0.0003</td><td style=\"text-align: right;\">      </td><td style=\"text-align: right;\">                </td><td style=\"text-align: right;\">          </td></tr>\n",
       "<tr><td>main_780bd_00014</td><td>PENDING   </td><td>                </td><td style=\"text-align: right;\">     700</td><td style=\"text-align: right;\"> 128</td><td style=\"text-align: right;\">  64</td><td style=\"text-align: right;\">  16</td><td style=\"text-align: right;\">0.001 </td><td style=\"text-align: right;\">        0.0003</td><td style=\"text-align: right;\">      </td><td style=\"text-align: right;\">                </td><td style=\"text-align: right;\">          </td></tr>\n",
       "<tr><td>main_780bd_00015</td><td>PENDING   </td><td>                </td><td style=\"text-align: right;\">     800</td><td style=\"text-align: right;\"> 128</td><td style=\"text-align: right;\">  64</td><td style=\"text-align: right;\">  16</td><td style=\"text-align: right;\">0.0008</td><td style=\"text-align: right;\">        0.0003</td><td style=\"text-align: right;\">      </td><td style=\"text-align: right;\">                </td><td style=\"text-align: right;\">          </td></tr>\n",
       "<tr><td>main_780bd_00016</td><td>PENDING   </td><td>                </td><td style=\"text-align: right;\">     700</td><td style=\"text-align: right;\"> 128</td><td style=\"text-align: right;\">  64</td><td style=\"text-align: right;\">  16</td><td style=\"text-align: right;\">0.001 </td><td style=\"text-align: right;\">        0.0003</td><td style=\"text-align: right;\">      </td><td style=\"text-align: right;\">                </td><td style=\"text-align: right;\">          </td></tr>\n",
       "<tr><td>main_780bd_00017</td><td>PENDING   </td><td>                </td><td style=\"text-align: right;\">     800</td><td style=\"text-align: right;\"> 128</td><td style=\"text-align: right;\">  64</td><td style=\"text-align: right;\">  16</td><td style=\"text-align: right;\">0.0018</td><td style=\"text-align: right;\">        0.0009</td><td style=\"text-align: right;\">      </td><td style=\"text-align: right;\">                </td><td style=\"text-align: right;\">          </td></tr>\n",
       "<tr><td>main_780bd_00018</td><td>PENDING   </td><td>                </td><td style=\"text-align: right;\">     800</td><td style=\"text-align: right;\"> 128</td><td style=\"text-align: right;\">  64</td><td style=\"text-align: right;\">  16</td><td style=\"text-align: right;\">0.0018</td><td style=\"text-align: right;\">        0.0003</td><td style=\"text-align: right;\">      </td><td style=\"text-align: right;\">                </td><td style=\"text-align: right;\">          </td></tr>\n",
       "<tr><td>main_780bd_00019</td><td>PENDING   </td><td>                </td><td style=\"text-align: right;\">     700</td><td style=\"text-align: right;\"> 128</td><td style=\"text-align: right;\">  64</td><td style=\"text-align: right;\">  16</td><td style=\"text-align: right;\">0.0014</td><td style=\"text-align: right;\">        0.0006</td><td style=\"text-align: right;\">      </td><td style=\"text-align: right;\">                </td><td style=\"text-align: right;\">          </td></tr>\n",
       "<tr><td>main_780bd_00000</td><td>TERMINATED</td><td>                </td><td style=\"text-align: right;\">     700</td><td style=\"text-align: right;\"> 128</td><td style=\"text-align: right;\">  64</td><td style=\"text-align: right;\">  16</td><td style=\"text-align: right;\">0.0008</td><td style=\"text-align: right;\">        0.0009</td><td style=\"text-align: right;\">     1</td><td style=\"text-align: right;\">         13.6591</td><td style=\"text-align: right;\">  0.877091</td></tr>\n",
       "<tr><td>main_780bd_00001</td><td>TERMINATED</td><td>                </td><td style=\"text-align: right;\">     700</td><td style=\"text-align: right;\"> 128</td><td style=\"text-align: right;\">  64</td><td style=\"text-align: right;\">  16</td><td style=\"text-align: right;\">0.001 </td><td style=\"text-align: right;\">        0.0006</td><td style=\"text-align: right;\">     1</td><td style=\"text-align: right;\">         13.6453</td><td style=\"text-align: right;\">  0.883636</td></tr>\n",
       "<tr><td>main_780bd_00002</td><td>TERMINATED</td><td>                </td><td style=\"text-align: right;\">     700</td><td style=\"text-align: right;\"> 128</td><td style=\"text-align: right;\">  64</td><td style=\"text-align: right;\">  16</td><td style=\"text-align: right;\">0.0016</td><td style=\"text-align: right;\">        0.0009</td><td style=\"text-align: right;\">     1</td><td style=\"text-align: right;\">         12.996 </td><td style=\"text-align: right;\">  0.879273</td></tr>\n",
       "<tr><td>main_780bd_00003</td><td>TERMINATED</td><td>                </td><td style=\"text-align: right;\">     800</td><td style=\"text-align: right;\"> 128</td><td style=\"text-align: right;\">  64</td><td style=\"text-align: right;\">  16</td><td style=\"text-align: right;\">0.0012</td><td style=\"text-align: right;\">        0.0006</td><td style=\"text-align: right;\">     1</td><td style=\"text-align: right;\">         14.9518</td><td style=\"text-align: right;\">  0.883636</td></tr>\n",
       "<tr><td>main_780bd_00004</td><td>TERMINATED</td><td>                </td><td style=\"text-align: right;\">     700</td><td style=\"text-align: right;\"> 128</td><td style=\"text-align: right;\">  64</td><td style=\"text-align: right;\">  16</td><td style=\"text-align: right;\">0.0006</td><td style=\"text-align: right;\">        0.0003</td><td style=\"text-align: right;\">     1</td><td style=\"text-align: right;\">         13.1162</td><td style=\"text-align: right;\">  0.876364</td></tr>\n",
       "<tr><td>main_780bd_00005</td><td>TERMINATED</td><td>                </td><td style=\"text-align: right;\">     800</td><td style=\"text-align: right;\"> 128</td><td style=\"text-align: right;\">  64</td><td style=\"text-align: right;\">  16</td><td style=\"text-align: right;\">0.0018</td><td style=\"text-align: right;\">        0.0006</td><td style=\"text-align: right;\">     1</td><td style=\"text-align: right;\">         14.9799</td><td style=\"text-align: right;\">  0.869818</td></tr>\n",
       "<tr><td>main_780bd_00006</td><td>TERMINATED</td><td>                </td><td style=\"text-align: right;\">     700</td><td style=\"text-align: right;\"> 128</td><td style=\"text-align: right;\">  64</td><td style=\"text-align: right;\">  16</td><td style=\"text-align: right;\">0.0016</td><td style=\"text-align: right;\">        0.0006</td><td style=\"text-align: right;\">     1</td><td style=\"text-align: right;\">         13.208 </td><td style=\"text-align: right;\">  0.872727</td></tr>\n",
       "<tr><td>main_780bd_00007</td><td>TERMINATED</td><td>                </td><td style=\"text-align: right;\">     800</td><td style=\"text-align: right;\"> 128</td><td style=\"text-align: right;\">  64</td><td style=\"text-align: right;\">  16</td><td style=\"text-align: right;\">0.0012</td><td style=\"text-align: right;\">        0.0006</td><td style=\"text-align: right;\">     1</td><td style=\"text-align: right;\">         15.0515</td><td style=\"text-align: right;\">  0.864727</td></tr>\n",
       "</tbody>\n",
       "</table><br>... 30 more trials not shown (30 PENDING)<br><br>"
      ],
      "text/plain": [
       "<IPython.core.display.HTML object>"
      ]
     },
     "metadata": {},
     "output_type": "display_data"
    },
    {
     "name": "stdout",
     "output_type": "stream",
     "text": [
      "Result for main_780bd_00008:\n",
      "  accuracy: 0.8749090909090909\n",
      "  date: 2021-05-07_17-36-00\n",
      "  done: true\n",
      "  experiment_id: f3113c995a074e91bb20a5327c0a159c\n",
      "  experiment_tag: 8_epochs=800,l1=128,l2=64,l3=16,lr=0.0014,weight_decay=0.0009\n",
      "  hostname: 4ce982eb56f7\n",
      "  iterations_since_restore: 1\n",
      "  node_ip: 172.17.0.11\n",
      "  pid: 9697\n",
      "  time_since_restore: 14.941715955734253\n",
      "  time_this_iter_s: 14.941715955734253\n",
      "  time_total_s: 14.941715955734253\n",
      "  timestamp: 1620408960\n",
      "  timesteps_since_restore: 0\n",
      "  training_iteration: 1\n",
      "  trial_id: 780bd_00008\n",
      "  \n"
     ]
    },
    {
     "name": "stderr",
     "output_type": "stream",
     "text": [
      "\u001b[2m\u001b[36m(pid=9758)\u001b[0m Using backend: pytorch\n"
     ]
    },
    {
     "name": "stdout",
     "output_type": "stream",
     "text": [
      "\u001b[2m\u001b[36m(pid=9758)\u001b[0m l1 128 l2 64 l3 16\n",
      "Result for main_780bd_00009:\n",
      "  accuracy: 0.8734545454545455\n",
      "  date: 2021-05-07_17-36-03\n",
      "  done: false\n",
      "  experiment_id: 7456c657179d4fff9d756acbcebc3845\n",
      "  hostname: 4ce982eb56f7\n",
      "  iterations_since_restore: 1\n",
      "  node_ip: 172.17.0.11\n",
      "  pid: 9727\n",
      "  time_since_restore: 13.154654741287231\n",
      "  time_this_iter_s: 13.154654741287231\n",
      "  time_total_s: 13.154654741287231\n",
      "  timestamp: 1620408963\n",
      "  timesteps_since_restore: 0\n",
      "  training_iteration: 1\n",
      "  trial_id: 780bd_00009\n",
      "  \n",
      "Result for main_780bd_00009:\n",
      "  accuracy: 0.8734545454545455\n",
      "  date: 2021-05-07_17-36-03\n",
      "  done: true\n",
      "  experiment_id: 7456c657179d4fff9d756acbcebc3845\n",
      "  experiment_tag: 9_epochs=700,l1=128,l2=64,l3=16,lr=0.0018,weight_decay=0.0006\n",
      "  hostname: 4ce982eb56f7\n",
      "  iterations_since_restore: 1\n",
      "  node_ip: 172.17.0.11\n",
      "  pid: 9727\n",
      "  time_since_restore: 13.154654741287231\n",
      "  time_this_iter_s: 13.154654741287231\n",
      "  time_total_s: 13.154654741287231\n",
      "  timestamp: 1620408963\n",
      "  timesteps_since_restore: 0\n",
      "  training_iteration: 1\n",
      "  trial_id: 780bd_00009\n",
      "  \n"
     ]
    },
    {
     "name": "stderr",
     "output_type": "stream",
     "text": [
      "\u001b[2m\u001b[36m(pid=9789)\u001b[0m Using backend: pytorch\n"
     ]
    },
    {
     "name": "stdout",
     "output_type": "stream",
     "text": [
      "\u001b[2m\u001b[36m(pid=9789)\u001b[0m l1 128 l2 64 l3 16\n",
      "Result for main_780bd_00010:\n",
      "  accuracy: 0.8727272727272727\n",
      "  date: 2021-05-07_17-36-16\n",
      "  done: false\n",
      "  experiment_id: 6921069aefa041c39a1fda204cbf7749\n",
      "  hostname: 4ce982eb56f7\n",
      "  iterations_since_restore: 1\n",
      "  node_ip: 172.17.0.11\n",
      "  pid: 9758\n",
      "  time_since_restore: 13.158153295516968\n",
      "  time_this_iter_s: 13.158153295516968\n",
      "  time_total_s: 13.158153295516968\n",
      "  timestamp: 1620408976\n",
      "  timesteps_since_restore: 0\n",
      "  training_iteration: 1\n",
      "  trial_id: 780bd_00010\n",
      "  \n"
     ]
    },
    {
     "data": {
      "text/html": [
       "== Status ==<br>Memory usage on this node: 31.5/62.8 GiB<br>Using FIFO scheduling algorithm.<br>Resources requested: 2.0/8 CPUs, 2.0/2 GPUs, 0.0/41.76 GiB heap, 0.0/9.31 GiB objects (0.0/1.0 accelerator_type:GTX)<br>Result logdir: /root/ray_results/main_2021-05-07_17-34-25<br>Number of trials: 50/50 (38 PENDING, 2 RUNNING, 10 TERMINATED)<br><table>\n",
       "<thead>\n",
       "<tr><th>Trial name      </th><th>status    </th><th>loc             </th><th style=\"text-align: right;\">  epochs</th><th style=\"text-align: right;\">  l1</th><th style=\"text-align: right;\">  l2</th><th style=\"text-align: right;\">  l3</th><th style=\"text-align: right;\">    lr</th><th style=\"text-align: right;\">  weight_decay</th><th style=\"text-align: right;\">  iter</th><th style=\"text-align: right;\">  total time (s)</th><th style=\"text-align: right;\">  accuracy</th></tr>\n",
       "</thead>\n",
       "<tbody>\n",
       "<tr><td>main_780bd_00010</td><td>RUNNING   </td><td>172.17.0.11:9758</td><td style=\"text-align: right;\">     700</td><td style=\"text-align: right;\"> 128</td><td style=\"text-align: right;\">  64</td><td style=\"text-align: right;\">  16</td><td style=\"text-align: right;\">0.0008</td><td style=\"text-align: right;\">        0.0003</td><td style=\"text-align: right;\">     1</td><td style=\"text-align: right;\">         13.1582</td><td style=\"text-align: right;\">  0.872727</td></tr>\n",
       "<tr><td>main_780bd_00011</td><td>RUNNING   </td><td>                </td><td style=\"text-align: right;\">     800</td><td style=\"text-align: right;\"> 128</td><td style=\"text-align: right;\">  64</td><td style=\"text-align: right;\">  16</td><td style=\"text-align: right;\">0.0018</td><td style=\"text-align: right;\">        0.0009</td><td style=\"text-align: right;\">      </td><td style=\"text-align: right;\">                </td><td style=\"text-align: right;\">          </td></tr>\n",
       "<tr><td>main_780bd_00012</td><td>PENDING   </td><td>                </td><td style=\"text-align: right;\">     700</td><td style=\"text-align: right;\"> 128</td><td style=\"text-align: right;\">  64</td><td style=\"text-align: right;\">  16</td><td style=\"text-align: right;\">0.0018</td><td style=\"text-align: right;\">        0.0009</td><td style=\"text-align: right;\">      </td><td style=\"text-align: right;\">                </td><td style=\"text-align: right;\">          </td></tr>\n",
       "<tr><td>main_780bd_00013</td><td>PENDING   </td><td>                </td><td style=\"text-align: right;\">     800</td><td style=\"text-align: right;\"> 128</td><td style=\"text-align: right;\">  64</td><td style=\"text-align: right;\">  16</td><td style=\"text-align: right;\">0.0016</td><td style=\"text-align: right;\">        0.0003</td><td style=\"text-align: right;\">      </td><td style=\"text-align: right;\">                </td><td style=\"text-align: right;\">          </td></tr>\n",
       "<tr><td>main_780bd_00014</td><td>PENDING   </td><td>                </td><td style=\"text-align: right;\">     700</td><td style=\"text-align: right;\"> 128</td><td style=\"text-align: right;\">  64</td><td style=\"text-align: right;\">  16</td><td style=\"text-align: right;\">0.001 </td><td style=\"text-align: right;\">        0.0003</td><td style=\"text-align: right;\">      </td><td style=\"text-align: right;\">                </td><td style=\"text-align: right;\">          </td></tr>\n",
       "<tr><td>main_780bd_00015</td><td>PENDING   </td><td>                </td><td style=\"text-align: right;\">     800</td><td style=\"text-align: right;\"> 128</td><td style=\"text-align: right;\">  64</td><td style=\"text-align: right;\">  16</td><td style=\"text-align: right;\">0.0008</td><td style=\"text-align: right;\">        0.0003</td><td style=\"text-align: right;\">      </td><td style=\"text-align: right;\">                </td><td style=\"text-align: right;\">          </td></tr>\n",
       "<tr><td>main_780bd_00016</td><td>PENDING   </td><td>                </td><td style=\"text-align: right;\">     700</td><td style=\"text-align: right;\"> 128</td><td style=\"text-align: right;\">  64</td><td style=\"text-align: right;\">  16</td><td style=\"text-align: right;\">0.001 </td><td style=\"text-align: right;\">        0.0003</td><td style=\"text-align: right;\">      </td><td style=\"text-align: right;\">                </td><td style=\"text-align: right;\">          </td></tr>\n",
       "<tr><td>main_780bd_00017</td><td>PENDING   </td><td>                </td><td style=\"text-align: right;\">     800</td><td style=\"text-align: right;\"> 128</td><td style=\"text-align: right;\">  64</td><td style=\"text-align: right;\">  16</td><td style=\"text-align: right;\">0.0018</td><td style=\"text-align: right;\">        0.0009</td><td style=\"text-align: right;\">      </td><td style=\"text-align: right;\">                </td><td style=\"text-align: right;\">          </td></tr>\n",
       "<tr><td>main_780bd_00018</td><td>PENDING   </td><td>                </td><td style=\"text-align: right;\">     800</td><td style=\"text-align: right;\"> 128</td><td style=\"text-align: right;\">  64</td><td style=\"text-align: right;\">  16</td><td style=\"text-align: right;\">0.0018</td><td style=\"text-align: right;\">        0.0003</td><td style=\"text-align: right;\">      </td><td style=\"text-align: right;\">                </td><td style=\"text-align: right;\">          </td></tr>\n",
       "<tr><td>main_780bd_00019</td><td>PENDING   </td><td>                </td><td style=\"text-align: right;\">     700</td><td style=\"text-align: right;\"> 128</td><td style=\"text-align: right;\">  64</td><td style=\"text-align: right;\">  16</td><td style=\"text-align: right;\">0.0014</td><td style=\"text-align: right;\">        0.0006</td><td style=\"text-align: right;\">      </td><td style=\"text-align: right;\">                </td><td style=\"text-align: right;\">          </td></tr>\n",
       "<tr><td>main_780bd_00020</td><td>PENDING   </td><td>                </td><td style=\"text-align: right;\">     700</td><td style=\"text-align: right;\"> 128</td><td style=\"text-align: right;\">  64</td><td style=\"text-align: right;\">  16</td><td style=\"text-align: right;\">0.0012</td><td style=\"text-align: right;\">        0.0009</td><td style=\"text-align: right;\">      </td><td style=\"text-align: right;\">                </td><td style=\"text-align: right;\">          </td></tr>\n",
       "<tr><td>main_780bd_00000</td><td>TERMINATED</td><td>                </td><td style=\"text-align: right;\">     700</td><td style=\"text-align: right;\"> 128</td><td style=\"text-align: right;\">  64</td><td style=\"text-align: right;\">  16</td><td style=\"text-align: right;\">0.0008</td><td style=\"text-align: right;\">        0.0009</td><td style=\"text-align: right;\">     1</td><td style=\"text-align: right;\">         13.6591</td><td style=\"text-align: right;\">  0.877091</td></tr>\n",
       "<tr><td>main_780bd_00001</td><td>TERMINATED</td><td>                </td><td style=\"text-align: right;\">     700</td><td style=\"text-align: right;\"> 128</td><td style=\"text-align: right;\">  64</td><td style=\"text-align: right;\">  16</td><td style=\"text-align: right;\">0.001 </td><td style=\"text-align: right;\">        0.0006</td><td style=\"text-align: right;\">     1</td><td style=\"text-align: right;\">         13.6453</td><td style=\"text-align: right;\">  0.883636</td></tr>\n",
       "<tr><td>main_780bd_00002</td><td>TERMINATED</td><td>                </td><td style=\"text-align: right;\">     700</td><td style=\"text-align: right;\"> 128</td><td style=\"text-align: right;\">  64</td><td style=\"text-align: right;\">  16</td><td style=\"text-align: right;\">0.0016</td><td style=\"text-align: right;\">        0.0009</td><td style=\"text-align: right;\">     1</td><td style=\"text-align: right;\">         12.996 </td><td style=\"text-align: right;\">  0.879273</td></tr>\n",
       "<tr><td>main_780bd_00003</td><td>TERMINATED</td><td>                </td><td style=\"text-align: right;\">     800</td><td style=\"text-align: right;\"> 128</td><td style=\"text-align: right;\">  64</td><td style=\"text-align: right;\">  16</td><td style=\"text-align: right;\">0.0012</td><td style=\"text-align: right;\">        0.0006</td><td style=\"text-align: right;\">     1</td><td style=\"text-align: right;\">         14.9518</td><td style=\"text-align: right;\">  0.883636</td></tr>\n",
       "<tr><td>main_780bd_00004</td><td>TERMINATED</td><td>                </td><td style=\"text-align: right;\">     700</td><td style=\"text-align: right;\"> 128</td><td style=\"text-align: right;\">  64</td><td style=\"text-align: right;\">  16</td><td style=\"text-align: right;\">0.0006</td><td style=\"text-align: right;\">        0.0003</td><td style=\"text-align: right;\">     1</td><td style=\"text-align: right;\">         13.1162</td><td style=\"text-align: right;\">  0.876364</td></tr>\n",
       "<tr><td>main_780bd_00005</td><td>TERMINATED</td><td>                </td><td style=\"text-align: right;\">     800</td><td style=\"text-align: right;\"> 128</td><td style=\"text-align: right;\">  64</td><td style=\"text-align: right;\">  16</td><td style=\"text-align: right;\">0.0018</td><td style=\"text-align: right;\">        0.0006</td><td style=\"text-align: right;\">     1</td><td style=\"text-align: right;\">         14.9799</td><td style=\"text-align: right;\">  0.869818</td></tr>\n",
       "<tr><td>main_780bd_00006</td><td>TERMINATED</td><td>                </td><td style=\"text-align: right;\">     700</td><td style=\"text-align: right;\"> 128</td><td style=\"text-align: right;\">  64</td><td style=\"text-align: right;\">  16</td><td style=\"text-align: right;\">0.0016</td><td style=\"text-align: right;\">        0.0006</td><td style=\"text-align: right;\">     1</td><td style=\"text-align: right;\">         13.208 </td><td style=\"text-align: right;\">  0.872727</td></tr>\n",
       "<tr><td>main_780bd_00007</td><td>TERMINATED</td><td>                </td><td style=\"text-align: right;\">     800</td><td style=\"text-align: right;\"> 128</td><td style=\"text-align: right;\">  64</td><td style=\"text-align: right;\">  16</td><td style=\"text-align: right;\">0.0012</td><td style=\"text-align: right;\">        0.0006</td><td style=\"text-align: right;\">     1</td><td style=\"text-align: right;\">         15.0515</td><td style=\"text-align: right;\">  0.864727</td></tr>\n",
       "<tr><td>main_780bd_00008</td><td>TERMINATED</td><td>                </td><td style=\"text-align: right;\">     800</td><td style=\"text-align: right;\"> 128</td><td style=\"text-align: right;\">  64</td><td style=\"text-align: right;\">  16</td><td style=\"text-align: right;\">0.0014</td><td style=\"text-align: right;\">        0.0009</td><td style=\"text-align: right;\">     1</td><td style=\"text-align: right;\">         14.9417</td><td style=\"text-align: right;\">  0.874909</td></tr>\n",
       "</tbody>\n",
       "</table><br>... 30 more trials not shown (29 PENDING, 1 TERMINATED)<br><br>"
      ],
      "text/plain": [
       "<IPython.core.display.HTML object>"
      ]
     },
     "metadata": {},
     "output_type": "display_data"
    },
    {
     "name": "stdout",
     "output_type": "stream",
     "text": [
      "Result for main_780bd_00010:\n",
      "  accuracy: 0.8727272727272727\n",
      "  date: 2021-05-07_17-36-16\n",
      "  done: true\n",
      "  experiment_id: 6921069aefa041c39a1fda204cbf7749\n",
      "  experiment_tag: 10_epochs=700,l1=128,l2=64,l3=16,lr=0.0008,weight_decay=0.0003\n",
      "  hostname: 4ce982eb56f7\n",
      "  iterations_since_restore: 1\n",
      "  node_ip: 172.17.0.11\n",
      "  pid: 9758\n",
      "  time_since_restore: 13.158153295516968\n",
      "  time_this_iter_s: 13.158153295516968\n",
      "  time_total_s: 13.158153295516968\n",
      "  timestamp: 1620408976\n",
      "  timesteps_since_restore: 0\n",
      "  training_iteration: 1\n",
      "  trial_id: 780bd_00010\n",
      "  \n"
     ]
    },
    {
     "name": "stderr",
     "output_type": "stream",
     "text": [
      "\u001b[2m\u001b[36m(pid=9821)\u001b[0m Using backend: pytorch\n"
     ]
    },
    {
     "name": "stdout",
     "output_type": "stream",
     "text": [
      "\u001b[2m\u001b[36m(pid=9821)\u001b[0m l1 128 l2 64 l3 16\n",
      "Result for main_780bd_00011:\n",
      "  accuracy: 0.8632727272727273\n",
      "  date: 2021-05-07_17-36-22\n",
      "  done: false\n",
      "  experiment_id: 3ff99004f73e466fb27470d26b9a7452\n",
      "  hostname: 4ce982eb56f7\n",
      "  iterations_since_restore: 1\n",
      "  node_ip: 172.17.0.11\n",
      "  pid: 9789\n",
      "  time_since_restore: 14.907506465911865\n",
      "  time_this_iter_s: 14.907506465911865\n",
      "  time_total_s: 14.907506465911865\n",
      "  timestamp: 1620408982\n",
      "  timesteps_since_restore: 0\n",
      "  training_iteration: 1\n",
      "  trial_id: 780bd_00011\n",
      "  \n"
     ]
    },
    {
     "data": {
      "text/html": [
       "== Status ==<br>Memory usage on this node: 31.5/62.8 GiB<br>Using FIFO scheduling algorithm.<br>Resources requested: 2.0/8 CPUs, 2.0/2 GPUs, 0.0/41.76 GiB heap, 0.0/9.31 GiB objects (0.0/1.0 accelerator_type:GTX)<br>Result logdir: /root/ray_results/main_2021-05-07_17-34-25<br>Number of trials: 50/50 (37 PENDING, 2 RUNNING, 11 TERMINATED)<br><table>\n",
       "<thead>\n",
       "<tr><th>Trial name      </th><th>status    </th><th>loc             </th><th style=\"text-align: right;\">  epochs</th><th style=\"text-align: right;\">  l1</th><th style=\"text-align: right;\">  l2</th><th style=\"text-align: right;\">  l3</th><th style=\"text-align: right;\">    lr</th><th style=\"text-align: right;\">  weight_decay</th><th style=\"text-align: right;\">  iter</th><th style=\"text-align: right;\">  total time (s)</th><th style=\"text-align: right;\">  accuracy</th></tr>\n",
       "</thead>\n",
       "<tbody>\n",
       "<tr><td>main_780bd_00011</td><td>RUNNING   </td><td>172.17.0.11:9789</td><td style=\"text-align: right;\">     800</td><td style=\"text-align: right;\"> 128</td><td style=\"text-align: right;\">  64</td><td style=\"text-align: right;\">  16</td><td style=\"text-align: right;\">0.0018</td><td style=\"text-align: right;\">        0.0009</td><td style=\"text-align: right;\">     1</td><td style=\"text-align: right;\">         14.9075</td><td style=\"text-align: right;\">  0.863273</td></tr>\n",
       "<tr><td>main_780bd_00012</td><td>RUNNING   </td><td>                </td><td style=\"text-align: right;\">     700</td><td style=\"text-align: right;\"> 128</td><td style=\"text-align: right;\">  64</td><td style=\"text-align: right;\">  16</td><td style=\"text-align: right;\">0.0018</td><td style=\"text-align: right;\">        0.0009</td><td style=\"text-align: right;\">      </td><td style=\"text-align: right;\">                </td><td style=\"text-align: right;\">          </td></tr>\n",
       "<tr><td>main_780bd_00013</td><td>PENDING   </td><td>                </td><td style=\"text-align: right;\">     800</td><td style=\"text-align: right;\"> 128</td><td style=\"text-align: right;\">  64</td><td style=\"text-align: right;\">  16</td><td style=\"text-align: right;\">0.0016</td><td style=\"text-align: right;\">        0.0003</td><td style=\"text-align: right;\">      </td><td style=\"text-align: right;\">                </td><td style=\"text-align: right;\">          </td></tr>\n",
       "<tr><td>main_780bd_00014</td><td>PENDING   </td><td>                </td><td style=\"text-align: right;\">     700</td><td style=\"text-align: right;\"> 128</td><td style=\"text-align: right;\">  64</td><td style=\"text-align: right;\">  16</td><td style=\"text-align: right;\">0.001 </td><td style=\"text-align: right;\">        0.0003</td><td style=\"text-align: right;\">      </td><td style=\"text-align: right;\">                </td><td style=\"text-align: right;\">          </td></tr>\n",
       "<tr><td>main_780bd_00015</td><td>PENDING   </td><td>                </td><td style=\"text-align: right;\">     800</td><td style=\"text-align: right;\"> 128</td><td style=\"text-align: right;\">  64</td><td style=\"text-align: right;\">  16</td><td style=\"text-align: right;\">0.0008</td><td style=\"text-align: right;\">        0.0003</td><td style=\"text-align: right;\">      </td><td style=\"text-align: right;\">                </td><td style=\"text-align: right;\">          </td></tr>\n",
       "<tr><td>main_780bd_00016</td><td>PENDING   </td><td>                </td><td style=\"text-align: right;\">     700</td><td style=\"text-align: right;\"> 128</td><td style=\"text-align: right;\">  64</td><td style=\"text-align: right;\">  16</td><td style=\"text-align: right;\">0.001 </td><td style=\"text-align: right;\">        0.0003</td><td style=\"text-align: right;\">      </td><td style=\"text-align: right;\">                </td><td style=\"text-align: right;\">          </td></tr>\n",
       "<tr><td>main_780bd_00017</td><td>PENDING   </td><td>                </td><td style=\"text-align: right;\">     800</td><td style=\"text-align: right;\"> 128</td><td style=\"text-align: right;\">  64</td><td style=\"text-align: right;\">  16</td><td style=\"text-align: right;\">0.0018</td><td style=\"text-align: right;\">        0.0009</td><td style=\"text-align: right;\">      </td><td style=\"text-align: right;\">                </td><td style=\"text-align: right;\">          </td></tr>\n",
       "<tr><td>main_780bd_00018</td><td>PENDING   </td><td>                </td><td style=\"text-align: right;\">     800</td><td style=\"text-align: right;\"> 128</td><td style=\"text-align: right;\">  64</td><td style=\"text-align: right;\">  16</td><td style=\"text-align: right;\">0.0018</td><td style=\"text-align: right;\">        0.0003</td><td style=\"text-align: right;\">      </td><td style=\"text-align: right;\">                </td><td style=\"text-align: right;\">          </td></tr>\n",
       "<tr><td>main_780bd_00019</td><td>PENDING   </td><td>                </td><td style=\"text-align: right;\">     700</td><td style=\"text-align: right;\"> 128</td><td style=\"text-align: right;\">  64</td><td style=\"text-align: right;\">  16</td><td style=\"text-align: right;\">0.0014</td><td style=\"text-align: right;\">        0.0006</td><td style=\"text-align: right;\">      </td><td style=\"text-align: right;\">                </td><td style=\"text-align: right;\">          </td></tr>\n",
       "<tr><td>main_780bd_00020</td><td>PENDING   </td><td>                </td><td style=\"text-align: right;\">     700</td><td style=\"text-align: right;\"> 128</td><td style=\"text-align: right;\">  64</td><td style=\"text-align: right;\">  16</td><td style=\"text-align: right;\">0.0012</td><td style=\"text-align: right;\">        0.0009</td><td style=\"text-align: right;\">      </td><td style=\"text-align: right;\">                </td><td style=\"text-align: right;\">          </td></tr>\n",
       "<tr><td>main_780bd_00021</td><td>PENDING   </td><td>                </td><td style=\"text-align: right;\">     800</td><td style=\"text-align: right;\"> 128</td><td style=\"text-align: right;\">  64</td><td style=\"text-align: right;\">  16</td><td style=\"text-align: right;\">0.001 </td><td style=\"text-align: right;\">        0.0003</td><td style=\"text-align: right;\">      </td><td style=\"text-align: right;\">                </td><td style=\"text-align: right;\">          </td></tr>\n",
       "<tr><td>main_780bd_00000</td><td>TERMINATED</td><td>                </td><td style=\"text-align: right;\">     700</td><td style=\"text-align: right;\"> 128</td><td style=\"text-align: right;\">  64</td><td style=\"text-align: right;\">  16</td><td style=\"text-align: right;\">0.0008</td><td style=\"text-align: right;\">        0.0009</td><td style=\"text-align: right;\">     1</td><td style=\"text-align: right;\">         13.6591</td><td style=\"text-align: right;\">  0.877091</td></tr>\n",
       "<tr><td>main_780bd_00001</td><td>TERMINATED</td><td>                </td><td style=\"text-align: right;\">     700</td><td style=\"text-align: right;\"> 128</td><td style=\"text-align: right;\">  64</td><td style=\"text-align: right;\">  16</td><td style=\"text-align: right;\">0.001 </td><td style=\"text-align: right;\">        0.0006</td><td style=\"text-align: right;\">     1</td><td style=\"text-align: right;\">         13.6453</td><td style=\"text-align: right;\">  0.883636</td></tr>\n",
       "<tr><td>main_780bd_00002</td><td>TERMINATED</td><td>                </td><td style=\"text-align: right;\">     700</td><td style=\"text-align: right;\"> 128</td><td style=\"text-align: right;\">  64</td><td style=\"text-align: right;\">  16</td><td style=\"text-align: right;\">0.0016</td><td style=\"text-align: right;\">        0.0009</td><td style=\"text-align: right;\">     1</td><td style=\"text-align: right;\">         12.996 </td><td style=\"text-align: right;\">  0.879273</td></tr>\n",
       "<tr><td>main_780bd_00003</td><td>TERMINATED</td><td>                </td><td style=\"text-align: right;\">     800</td><td style=\"text-align: right;\"> 128</td><td style=\"text-align: right;\">  64</td><td style=\"text-align: right;\">  16</td><td style=\"text-align: right;\">0.0012</td><td style=\"text-align: right;\">        0.0006</td><td style=\"text-align: right;\">     1</td><td style=\"text-align: right;\">         14.9518</td><td style=\"text-align: right;\">  0.883636</td></tr>\n",
       "<tr><td>main_780bd_00004</td><td>TERMINATED</td><td>                </td><td style=\"text-align: right;\">     700</td><td style=\"text-align: right;\"> 128</td><td style=\"text-align: right;\">  64</td><td style=\"text-align: right;\">  16</td><td style=\"text-align: right;\">0.0006</td><td style=\"text-align: right;\">        0.0003</td><td style=\"text-align: right;\">     1</td><td style=\"text-align: right;\">         13.1162</td><td style=\"text-align: right;\">  0.876364</td></tr>\n",
       "<tr><td>main_780bd_00005</td><td>TERMINATED</td><td>                </td><td style=\"text-align: right;\">     800</td><td style=\"text-align: right;\"> 128</td><td style=\"text-align: right;\">  64</td><td style=\"text-align: right;\">  16</td><td style=\"text-align: right;\">0.0018</td><td style=\"text-align: right;\">        0.0006</td><td style=\"text-align: right;\">     1</td><td style=\"text-align: right;\">         14.9799</td><td style=\"text-align: right;\">  0.869818</td></tr>\n",
       "<tr><td>main_780bd_00006</td><td>TERMINATED</td><td>                </td><td style=\"text-align: right;\">     700</td><td style=\"text-align: right;\"> 128</td><td style=\"text-align: right;\">  64</td><td style=\"text-align: right;\">  16</td><td style=\"text-align: right;\">0.0016</td><td style=\"text-align: right;\">        0.0006</td><td style=\"text-align: right;\">     1</td><td style=\"text-align: right;\">         13.208 </td><td style=\"text-align: right;\">  0.872727</td></tr>\n",
       "<tr><td>main_780bd_00007</td><td>TERMINATED</td><td>                </td><td style=\"text-align: right;\">     800</td><td style=\"text-align: right;\"> 128</td><td style=\"text-align: right;\">  64</td><td style=\"text-align: right;\">  16</td><td style=\"text-align: right;\">0.0012</td><td style=\"text-align: right;\">        0.0006</td><td style=\"text-align: right;\">     1</td><td style=\"text-align: right;\">         15.0515</td><td style=\"text-align: right;\">  0.864727</td></tr>\n",
       "<tr><td>main_780bd_00008</td><td>TERMINATED</td><td>                </td><td style=\"text-align: right;\">     800</td><td style=\"text-align: right;\"> 128</td><td style=\"text-align: right;\">  64</td><td style=\"text-align: right;\">  16</td><td style=\"text-align: right;\">0.0014</td><td style=\"text-align: right;\">        0.0009</td><td style=\"text-align: right;\">     1</td><td style=\"text-align: right;\">         14.9417</td><td style=\"text-align: right;\">  0.874909</td></tr>\n",
       "</tbody>\n",
       "</table><br>... 30 more trials not shown (28 PENDING, 2 TERMINATED)<br><br>"
      ],
      "text/plain": [
       "<IPython.core.display.HTML object>"
      ]
     },
     "metadata": {},
     "output_type": "display_data"
    },
    {
     "name": "stdout",
     "output_type": "stream",
     "text": [
      "Result for main_780bd_00011:\n",
      "  accuracy: 0.8632727272727273\n",
      "  date: 2021-05-07_17-36-22\n",
      "  done: true\n",
      "  experiment_id: 3ff99004f73e466fb27470d26b9a7452\n",
      "  experiment_tag: 11_epochs=800,l1=128,l2=64,l3=16,lr=0.0018,weight_decay=0.0009\n",
      "  hostname: 4ce982eb56f7\n",
      "  iterations_since_restore: 1\n",
      "  node_ip: 172.17.0.11\n",
      "  pid: 9789\n",
      "  time_since_restore: 14.907506465911865\n",
      "  time_this_iter_s: 14.907506465911865\n",
      "  time_total_s: 14.907506465911865\n",
      "  timestamp: 1620408982\n",
      "  timesteps_since_restore: 0\n",
      "  training_iteration: 1\n",
      "  trial_id: 780bd_00011\n",
      "  \n"
     ]
    },
    {
     "name": "stderr",
     "output_type": "stream",
     "text": [
      "\u001b[2m\u001b[36m(pid=9852)\u001b[0m Using backend: pytorch\n"
     ]
    },
    {
     "name": "stdout",
     "output_type": "stream",
     "text": [
      "\u001b[2m\u001b[36m(pid=9852)\u001b[0m l1 128 l2 64 l3 16\n",
      "Result for main_780bd_00012:\n",
      "  accuracy: 0.8683636363636363\n",
      "  date: 2021-05-07_17-36-33\n",
      "  done: false\n",
      "  experiment_id: fac99b365eda484e8b4a2c7d168aaa38\n",
      "  hostname: 4ce982eb56f7\n",
      "  iterations_since_restore: 1\n",
      "  node_ip: 172.17.0.11\n",
      "  pid: 9821\n",
      "  time_since_restore: 13.296752691268921\n",
      "  time_this_iter_s: 13.296752691268921\n",
      "  time_total_s: 13.296752691268921\n",
      "  timestamp: 1620408993\n",
      "  timesteps_since_restore: 0\n",
      "  training_iteration: 1\n",
      "  trial_id: 780bd_00012\n",
      "  \n"
     ]
    },
    {
     "data": {
      "text/html": [
       "== Status ==<br>Memory usage on this node: 31.5/62.8 GiB<br>Using FIFO scheduling algorithm.<br>Resources requested: 2.0/8 CPUs, 2.0/2 GPUs, 0.0/41.76 GiB heap, 0.0/9.31 GiB objects (0.0/1.0 accelerator_type:GTX)<br>Result logdir: /root/ray_results/main_2021-05-07_17-34-25<br>Number of trials: 50/50 (36 PENDING, 2 RUNNING, 12 TERMINATED)<br><table>\n",
       "<thead>\n",
       "<tr><th>Trial name      </th><th>status    </th><th>loc             </th><th style=\"text-align: right;\">  epochs</th><th style=\"text-align: right;\">  l1</th><th style=\"text-align: right;\">  l2</th><th style=\"text-align: right;\">  l3</th><th style=\"text-align: right;\">    lr</th><th style=\"text-align: right;\">  weight_decay</th><th style=\"text-align: right;\">  iter</th><th style=\"text-align: right;\">  total time (s)</th><th style=\"text-align: right;\">  accuracy</th></tr>\n",
       "</thead>\n",
       "<tbody>\n",
       "<tr><td>main_780bd_00012</td><td>RUNNING   </td><td>172.17.0.11:9821</td><td style=\"text-align: right;\">     700</td><td style=\"text-align: right;\"> 128</td><td style=\"text-align: right;\">  64</td><td style=\"text-align: right;\">  16</td><td style=\"text-align: right;\">0.0018</td><td style=\"text-align: right;\">        0.0009</td><td style=\"text-align: right;\">     1</td><td style=\"text-align: right;\">         13.2968</td><td style=\"text-align: right;\">  0.868364</td></tr>\n",
       "<tr><td>main_780bd_00013</td><td>RUNNING   </td><td>                </td><td style=\"text-align: right;\">     800</td><td style=\"text-align: right;\"> 128</td><td style=\"text-align: right;\">  64</td><td style=\"text-align: right;\">  16</td><td style=\"text-align: right;\">0.0016</td><td style=\"text-align: right;\">        0.0003</td><td style=\"text-align: right;\">      </td><td style=\"text-align: right;\">                </td><td style=\"text-align: right;\">          </td></tr>\n",
       "<tr><td>main_780bd_00014</td><td>PENDING   </td><td>                </td><td style=\"text-align: right;\">     700</td><td style=\"text-align: right;\"> 128</td><td style=\"text-align: right;\">  64</td><td style=\"text-align: right;\">  16</td><td style=\"text-align: right;\">0.001 </td><td style=\"text-align: right;\">        0.0003</td><td style=\"text-align: right;\">      </td><td style=\"text-align: right;\">                </td><td style=\"text-align: right;\">          </td></tr>\n",
       "<tr><td>main_780bd_00015</td><td>PENDING   </td><td>                </td><td style=\"text-align: right;\">     800</td><td style=\"text-align: right;\"> 128</td><td style=\"text-align: right;\">  64</td><td style=\"text-align: right;\">  16</td><td style=\"text-align: right;\">0.0008</td><td style=\"text-align: right;\">        0.0003</td><td style=\"text-align: right;\">      </td><td style=\"text-align: right;\">                </td><td style=\"text-align: right;\">          </td></tr>\n",
       "<tr><td>main_780bd_00016</td><td>PENDING   </td><td>                </td><td style=\"text-align: right;\">     700</td><td style=\"text-align: right;\"> 128</td><td style=\"text-align: right;\">  64</td><td style=\"text-align: right;\">  16</td><td style=\"text-align: right;\">0.001 </td><td style=\"text-align: right;\">        0.0003</td><td style=\"text-align: right;\">      </td><td style=\"text-align: right;\">                </td><td style=\"text-align: right;\">          </td></tr>\n",
       "<tr><td>main_780bd_00017</td><td>PENDING   </td><td>                </td><td style=\"text-align: right;\">     800</td><td style=\"text-align: right;\"> 128</td><td style=\"text-align: right;\">  64</td><td style=\"text-align: right;\">  16</td><td style=\"text-align: right;\">0.0018</td><td style=\"text-align: right;\">        0.0009</td><td style=\"text-align: right;\">      </td><td style=\"text-align: right;\">                </td><td style=\"text-align: right;\">          </td></tr>\n",
       "<tr><td>main_780bd_00018</td><td>PENDING   </td><td>                </td><td style=\"text-align: right;\">     800</td><td style=\"text-align: right;\"> 128</td><td style=\"text-align: right;\">  64</td><td style=\"text-align: right;\">  16</td><td style=\"text-align: right;\">0.0018</td><td style=\"text-align: right;\">        0.0003</td><td style=\"text-align: right;\">      </td><td style=\"text-align: right;\">                </td><td style=\"text-align: right;\">          </td></tr>\n",
       "<tr><td>main_780bd_00019</td><td>PENDING   </td><td>                </td><td style=\"text-align: right;\">     700</td><td style=\"text-align: right;\"> 128</td><td style=\"text-align: right;\">  64</td><td style=\"text-align: right;\">  16</td><td style=\"text-align: right;\">0.0014</td><td style=\"text-align: right;\">        0.0006</td><td style=\"text-align: right;\">      </td><td style=\"text-align: right;\">                </td><td style=\"text-align: right;\">          </td></tr>\n",
       "<tr><td>main_780bd_00020</td><td>PENDING   </td><td>                </td><td style=\"text-align: right;\">     700</td><td style=\"text-align: right;\"> 128</td><td style=\"text-align: right;\">  64</td><td style=\"text-align: right;\">  16</td><td style=\"text-align: right;\">0.0012</td><td style=\"text-align: right;\">        0.0009</td><td style=\"text-align: right;\">      </td><td style=\"text-align: right;\">                </td><td style=\"text-align: right;\">          </td></tr>\n",
       "<tr><td>main_780bd_00021</td><td>PENDING   </td><td>                </td><td style=\"text-align: right;\">     800</td><td style=\"text-align: right;\"> 128</td><td style=\"text-align: right;\">  64</td><td style=\"text-align: right;\">  16</td><td style=\"text-align: right;\">0.001 </td><td style=\"text-align: right;\">        0.0003</td><td style=\"text-align: right;\">      </td><td style=\"text-align: right;\">                </td><td style=\"text-align: right;\">          </td></tr>\n",
       "<tr><td>main_780bd_00022</td><td>PENDING   </td><td>                </td><td style=\"text-align: right;\">     800</td><td style=\"text-align: right;\"> 128</td><td style=\"text-align: right;\">  64</td><td style=\"text-align: right;\">  16</td><td style=\"text-align: right;\">0.001 </td><td style=\"text-align: right;\">        0.0003</td><td style=\"text-align: right;\">      </td><td style=\"text-align: right;\">                </td><td style=\"text-align: right;\">          </td></tr>\n",
       "<tr><td>main_780bd_00000</td><td>TERMINATED</td><td>                </td><td style=\"text-align: right;\">     700</td><td style=\"text-align: right;\"> 128</td><td style=\"text-align: right;\">  64</td><td style=\"text-align: right;\">  16</td><td style=\"text-align: right;\">0.0008</td><td style=\"text-align: right;\">        0.0009</td><td style=\"text-align: right;\">     1</td><td style=\"text-align: right;\">         13.6591</td><td style=\"text-align: right;\">  0.877091</td></tr>\n",
       "<tr><td>main_780bd_00001</td><td>TERMINATED</td><td>                </td><td style=\"text-align: right;\">     700</td><td style=\"text-align: right;\"> 128</td><td style=\"text-align: right;\">  64</td><td style=\"text-align: right;\">  16</td><td style=\"text-align: right;\">0.001 </td><td style=\"text-align: right;\">        0.0006</td><td style=\"text-align: right;\">     1</td><td style=\"text-align: right;\">         13.6453</td><td style=\"text-align: right;\">  0.883636</td></tr>\n",
       "<tr><td>main_780bd_00002</td><td>TERMINATED</td><td>                </td><td style=\"text-align: right;\">     700</td><td style=\"text-align: right;\"> 128</td><td style=\"text-align: right;\">  64</td><td style=\"text-align: right;\">  16</td><td style=\"text-align: right;\">0.0016</td><td style=\"text-align: right;\">        0.0009</td><td style=\"text-align: right;\">     1</td><td style=\"text-align: right;\">         12.996 </td><td style=\"text-align: right;\">  0.879273</td></tr>\n",
       "<tr><td>main_780bd_00003</td><td>TERMINATED</td><td>                </td><td style=\"text-align: right;\">     800</td><td style=\"text-align: right;\"> 128</td><td style=\"text-align: right;\">  64</td><td style=\"text-align: right;\">  16</td><td style=\"text-align: right;\">0.0012</td><td style=\"text-align: right;\">        0.0006</td><td style=\"text-align: right;\">     1</td><td style=\"text-align: right;\">         14.9518</td><td style=\"text-align: right;\">  0.883636</td></tr>\n",
       "<tr><td>main_780bd_00004</td><td>TERMINATED</td><td>                </td><td style=\"text-align: right;\">     700</td><td style=\"text-align: right;\"> 128</td><td style=\"text-align: right;\">  64</td><td style=\"text-align: right;\">  16</td><td style=\"text-align: right;\">0.0006</td><td style=\"text-align: right;\">        0.0003</td><td style=\"text-align: right;\">     1</td><td style=\"text-align: right;\">         13.1162</td><td style=\"text-align: right;\">  0.876364</td></tr>\n",
       "<tr><td>main_780bd_00005</td><td>TERMINATED</td><td>                </td><td style=\"text-align: right;\">     800</td><td style=\"text-align: right;\"> 128</td><td style=\"text-align: right;\">  64</td><td style=\"text-align: right;\">  16</td><td style=\"text-align: right;\">0.0018</td><td style=\"text-align: right;\">        0.0006</td><td style=\"text-align: right;\">     1</td><td style=\"text-align: right;\">         14.9799</td><td style=\"text-align: right;\">  0.869818</td></tr>\n",
       "<tr><td>main_780bd_00006</td><td>TERMINATED</td><td>                </td><td style=\"text-align: right;\">     700</td><td style=\"text-align: right;\"> 128</td><td style=\"text-align: right;\">  64</td><td style=\"text-align: right;\">  16</td><td style=\"text-align: right;\">0.0016</td><td style=\"text-align: right;\">        0.0006</td><td style=\"text-align: right;\">     1</td><td style=\"text-align: right;\">         13.208 </td><td style=\"text-align: right;\">  0.872727</td></tr>\n",
       "<tr><td>main_780bd_00007</td><td>TERMINATED</td><td>                </td><td style=\"text-align: right;\">     800</td><td style=\"text-align: right;\"> 128</td><td style=\"text-align: right;\">  64</td><td style=\"text-align: right;\">  16</td><td style=\"text-align: right;\">0.0012</td><td style=\"text-align: right;\">        0.0006</td><td style=\"text-align: right;\">     1</td><td style=\"text-align: right;\">         15.0515</td><td style=\"text-align: right;\">  0.864727</td></tr>\n",
       "<tr><td>main_780bd_00008</td><td>TERMINATED</td><td>                </td><td style=\"text-align: right;\">     800</td><td style=\"text-align: right;\"> 128</td><td style=\"text-align: right;\">  64</td><td style=\"text-align: right;\">  16</td><td style=\"text-align: right;\">0.0014</td><td style=\"text-align: right;\">        0.0009</td><td style=\"text-align: right;\">     1</td><td style=\"text-align: right;\">         14.9417</td><td style=\"text-align: right;\">  0.874909</td></tr>\n",
       "</tbody>\n",
       "</table><br>... 30 more trials not shown (27 PENDING, 3 TERMINATED)<br><br>"
      ],
      "text/plain": [
       "<IPython.core.display.HTML object>"
      ]
     },
     "metadata": {},
     "output_type": "display_data"
    },
    {
     "name": "stdout",
     "output_type": "stream",
     "text": [
      "Result for main_780bd_00012:\n",
      "  accuracy: 0.8683636363636363\n",
      "  date: 2021-05-07_17-36-33\n",
      "  done: true\n",
      "  experiment_id: fac99b365eda484e8b4a2c7d168aaa38\n",
      "  experiment_tag: 12_epochs=700,l1=128,l2=64,l3=16,lr=0.0018,weight_decay=0.0009\n",
      "  hostname: 4ce982eb56f7\n",
      "  iterations_since_restore: 1\n",
      "  node_ip: 172.17.0.11\n",
      "  pid: 9821\n",
      "  time_since_restore: 13.296752691268921\n",
      "  time_this_iter_s: 13.296752691268921\n",
      "  time_total_s: 13.296752691268921\n",
      "  timestamp: 1620408993\n",
      "  timesteps_since_restore: 0\n",
      "  training_iteration: 1\n",
      "  trial_id: 780bd_00012\n",
      "  \n"
     ]
    },
    {
     "name": "stderr",
     "output_type": "stream",
     "text": [
      "\u001b[2m\u001b[36m(pid=9883)\u001b[0m Using backend: pytorch\n"
     ]
    },
    {
     "name": "stdout",
     "output_type": "stream",
     "text": [
      "\u001b[2m\u001b[36m(pid=9883)\u001b[0m l1 128 l2 64 l3 16\n",
      "Result for main_780bd_00013:\n",
      "  accuracy: 0.8843636363636364\n",
      "  date: 2021-05-07_17-36-40\n",
      "  done: false\n",
      "  experiment_id: be45214ea1554ccb869018cc50295826\n",
      "  hostname: 4ce982eb56f7\n",
      "  iterations_since_restore: 1\n",
      "  node_ip: 172.17.0.11\n",
      "  pid: 9852\n",
      "  time_since_restore: 15.017278671264648\n",
      "  time_this_iter_s: 15.017278671264648\n",
      "  time_total_s: 15.017278671264648\n",
      "  timestamp: 1620409000\n",
      "  timesteps_since_restore: 0\n",
      "  training_iteration: 1\n",
      "  trial_id: 780bd_00013\n",
      "  \n"
     ]
    },
    {
     "data": {
      "text/html": [
       "== Status ==<br>Memory usage on this node: 31.5/62.8 GiB<br>Using FIFO scheduling algorithm.<br>Resources requested: 2.0/8 CPUs, 2.0/2 GPUs, 0.0/41.76 GiB heap, 0.0/9.31 GiB objects (0.0/1.0 accelerator_type:GTX)<br>Result logdir: /root/ray_results/main_2021-05-07_17-34-25<br>Number of trials: 50/50 (35 PENDING, 2 RUNNING, 13 TERMINATED)<br><table>\n",
       "<thead>\n",
       "<tr><th>Trial name      </th><th>status    </th><th>loc             </th><th style=\"text-align: right;\">  epochs</th><th style=\"text-align: right;\">  l1</th><th style=\"text-align: right;\">  l2</th><th style=\"text-align: right;\">  l3</th><th style=\"text-align: right;\">    lr</th><th style=\"text-align: right;\">  weight_decay</th><th style=\"text-align: right;\">  iter</th><th style=\"text-align: right;\">  total time (s)</th><th style=\"text-align: right;\">  accuracy</th></tr>\n",
       "</thead>\n",
       "<tbody>\n",
       "<tr><td>main_780bd_00013</td><td>RUNNING   </td><td>172.17.0.11:9852</td><td style=\"text-align: right;\">     800</td><td style=\"text-align: right;\"> 128</td><td style=\"text-align: right;\">  64</td><td style=\"text-align: right;\">  16</td><td style=\"text-align: right;\">0.0016</td><td style=\"text-align: right;\">        0.0003</td><td style=\"text-align: right;\">     1</td><td style=\"text-align: right;\">         15.0173</td><td style=\"text-align: right;\">  0.884364</td></tr>\n",
       "<tr><td>main_780bd_00014</td><td>RUNNING   </td><td>                </td><td style=\"text-align: right;\">     700</td><td style=\"text-align: right;\"> 128</td><td style=\"text-align: right;\">  64</td><td style=\"text-align: right;\">  16</td><td style=\"text-align: right;\">0.001 </td><td style=\"text-align: right;\">        0.0003</td><td style=\"text-align: right;\">      </td><td style=\"text-align: right;\">                </td><td style=\"text-align: right;\">          </td></tr>\n",
       "<tr><td>main_780bd_00015</td><td>PENDING   </td><td>                </td><td style=\"text-align: right;\">     800</td><td style=\"text-align: right;\"> 128</td><td style=\"text-align: right;\">  64</td><td style=\"text-align: right;\">  16</td><td style=\"text-align: right;\">0.0008</td><td style=\"text-align: right;\">        0.0003</td><td style=\"text-align: right;\">      </td><td style=\"text-align: right;\">                </td><td style=\"text-align: right;\">          </td></tr>\n",
       "<tr><td>main_780bd_00016</td><td>PENDING   </td><td>                </td><td style=\"text-align: right;\">     700</td><td style=\"text-align: right;\"> 128</td><td style=\"text-align: right;\">  64</td><td style=\"text-align: right;\">  16</td><td style=\"text-align: right;\">0.001 </td><td style=\"text-align: right;\">        0.0003</td><td style=\"text-align: right;\">      </td><td style=\"text-align: right;\">                </td><td style=\"text-align: right;\">          </td></tr>\n",
       "<tr><td>main_780bd_00017</td><td>PENDING   </td><td>                </td><td style=\"text-align: right;\">     800</td><td style=\"text-align: right;\"> 128</td><td style=\"text-align: right;\">  64</td><td style=\"text-align: right;\">  16</td><td style=\"text-align: right;\">0.0018</td><td style=\"text-align: right;\">        0.0009</td><td style=\"text-align: right;\">      </td><td style=\"text-align: right;\">                </td><td style=\"text-align: right;\">          </td></tr>\n",
       "<tr><td>main_780bd_00018</td><td>PENDING   </td><td>                </td><td style=\"text-align: right;\">     800</td><td style=\"text-align: right;\"> 128</td><td style=\"text-align: right;\">  64</td><td style=\"text-align: right;\">  16</td><td style=\"text-align: right;\">0.0018</td><td style=\"text-align: right;\">        0.0003</td><td style=\"text-align: right;\">      </td><td style=\"text-align: right;\">                </td><td style=\"text-align: right;\">          </td></tr>\n",
       "<tr><td>main_780bd_00019</td><td>PENDING   </td><td>                </td><td style=\"text-align: right;\">     700</td><td style=\"text-align: right;\"> 128</td><td style=\"text-align: right;\">  64</td><td style=\"text-align: right;\">  16</td><td style=\"text-align: right;\">0.0014</td><td style=\"text-align: right;\">        0.0006</td><td style=\"text-align: right;\">      </td><td style=\"text-align: right;\">                </td><td style=\"text-align: right;\">          </td></tr>\n",
       "<tr><td>main_780bd_00020</td><td>PENDING   </td><td>                </td><td style=\"text-align: right;\">     700</td><td style=\"text-align: right;\"> 128</td><td style=\"text-align: right;\">  64</td><td style=\"text-align: right;\">  16</td><td style=\"text-align: right;\">0.0012</td><td style=\"text-align: right;\">        0.0009</td><td style=\"text-align: right;\">      </td><td style=\"text-align: right;\">                </td><td style=\"text-align: right;\">          </td></tr>\n",
       "<tr><td>main_780bd_00021</td><td>PENDING   </td><td>                </td><td style=\"text-align: right;\">     800</td><td style=\"text-align: right;\"> 128</td><td style=\"text-align: right;\">  64</td><td style=\"text-align: right;\">  16</td><td style=\"text-align: right;\">0.001 </td><td style=\"text-align: right;\">        0.0003</td><td style=\"text-align: right;\">      </td><td style=\"text-align: right;\">                </td><td style=\"text-align: right;\">          </td></tr>\n",
       "<tr><td>main_780bd_00022</td><td>PENDING   </td><td>                </td><td style=\"text-align: right;\">     800</td><td style=\"text-align: right;\"> 128</td><td style=\"text-align: right;\">  64</td><td style=\"text-align: right;\">  16</td><td style=\"text-align: right;\">0.001 </td><td style=\"text-align: right;\">        0.0003</td><td style=\"text-align: right;\">      </td><td style=\"text-align: right;\">                </td><td style=\"text-align: right;\">          </td></tr>\n",
       "<tr><td>main_780bd_00023</td><td>PENDING   </td><td>                </td><td style=\"text-align: right;\">     800</td><td style=\"text-align: right;\"> 128</td><td style=\"text-align: right;\">  64</td><td style=\"text-align: right;\">  16</td><td style=\"text-align: right;\">0.0014</td><td style=\"text-align: right;\">        0.0009</td><td style=\"text-align: right;\">      </td><td style=\"text-align: right;\">                </td><td style=\"text-align: right;\">          </td></tr>\n",
       "<tr><td>main_780bd_00000</td><td>TERMINATED</td><td>                </td><td style=\"text-align: right;\">     700</td><td style=\"text-align: right;\"> 128</td><td style=\"text-align: right;\">  64</td><td style=\"text-align: right;\">  16</td><td style=\"text-align: right;\">0.0008</td><td style=\"text-align: right;\">        0.0009</td><td style=\"text-align: right;\">     1</td><td style=\"text-align: right;\">         13.6591</td><td style=\"text-align: right;\">  0.877091</td></tr>\n",
       "<tr><td>main_780bd_00001</td><td>TERMINATED</td><td>                </td><td style=\"text-align: right;\">     700</td><td style=\"text-align: right;\"> 128</td><td style=\"text-align: right;\">  64</td><td style=\"text-align: right;\">  16</td><td style=\"text-align: right;\">0.001 </td><td style=\"text-align: right;\">        0.0006</td><td style=\"text-align: right;\">     1</td><td style=\"text-align: right;\">         13.6453</td><td style=\"text-align: right;\">  0.883636</td></tr>\n",
       "<tr><td>main_780bd_00002</td><td>TERMINATED</td><td>                </td><td style=\"text-align: right;\">     700</td><td style=\"text-align: right;\"> 128</td><td style=\"text-align: right;\">  64</td><td style=\"text-align: right;\">  16</td><td style=\"text-align: right;\">0.0016</td><td style=\"text-align: right;\">        0.0009</td><td style=\"text-align: right;\">     1</td><td style=\"text-align: right;\">         12.996 </td><td style=\"text-align: right;\">  0.879273</td></tr>\n",
       "<tr><td>main_780bd_00003</td><td>TERMINATED</td><td>                </td><td style=\"text-align: right;\">     800</td><td style=\"text-align: right;\"> 128</td><td style=\"text-align: right;\">  64</td><td style=\"text-align: right;\">  16</td><td style=\"text-align: right;\">0.0012</td><td style=\"text-align: right;\">        0.0006</td><td style=\"text-align: right;\">     1</td><td style=\"text-align: right;\">         14.9518</td><td style=\"text-align: right;\">  0.883636</td></tr>\n",
       "<tr><td>main_780bd_00004</td><td>TERMINATED</td><td>                </td><td style=\"text-align: right;\">     700</td><td style=\"text-align: right;\"> 128</td><td style=\"text-align: right;\">  64</td><td style=\"text-align: right;\">  16</td><td style=\"text-align: right;\">0.0006</td><td style=\"text-align: right;\">        0.0003</td><td style=\"text-align: right;\">     1</td><td style=\"text-align: right;\">         13.1162</td><td style=\"text-align: right;\">  0.876364</td></tr>\n",
       "<tr><td>main_780bd_00005</td><td>TERMINATED</td><td>                </td><td style=\"text-align: right;\">     800</td><td style=\"text-align: right;\"> 128</td><td style=\"text-align: right;\">  64</td><td style=\"text-align: right;\">  16</td><td style=\"text-align: right;\">0.0018</td><td style=\"text-align: right;\">        0.0006</td><td style=\"text-align: right;\">     1</td><td style=\"text-align: right;\">         14.9799</td><td style=\"text-align: right;\">  0.869818</td></tr>\n",
       "<tr><td>main_780bd_00006</td><td>TERMINATED</td><td>                </td><td style=\"text-align: right;\">     700</td><td style=\"text-align: right;\"> 128</td><td style=\"text-align: right;\">  64</td><td style=\"text-align: right;\">  16</td><td style=\"text-align: right;\">0.0016</td><td style=\"text-align: right;\">        0.0006</td><td style=\"text-align: right;\">     1</td><td style=\"text-align: right;\">         13.208 </td><td style=\"text-align: right;\">  0.872727</td></tr>\n",
       "<tr><td>main_780bd_00007</td><td>TERMINATED</td><td>                </td><td style=\"text-align: right;\">     800</td><td style=\"text-align: right;\"> 128</td><td style=\"text-align: right;\">  64</td><td style=\"text-align: right;\">  16</td><td style=\"text-align: right;\">0.0012</td><td style=\"text-align: right;\">        0.0006</td><td style=\"text-align: right;\">     1</td><td style=\"text-align: right;\">         15.0515</td><td style=\"text-align: right;\">  0.864727</td></tr>\n",
       "<tr><td>main_780bd_00008</td><td>TERMINATED</td><td>                </td><td style=\"text-align: right;\">     800</td><td style=\"text-align: right;\"> 128</td><td style=\"text-align: right;\">  64</td><td style=\"text-align: right;\">  16</td><td style=\"text-align: right;\">0.0014</td><td style=\"text-align: right;\">        0.0009</td><td style=\"text-align: right;\">     1</td><td style=\"text-align: right;\">         14.9417</td><td style=\"text-align: right;\">  0.874909</td></tr>\n",
       "</tbody>\n",
       "</table><br>... 30 more trials not shown (26 PENDING, 4 TERMINATED)<br><br>"
      ],
      "text/plain": [
       "<IPython.core.display.HTML object>"
      ]
     },
     "metadata": {},
     "output_type": "display_data"
    },
    {
     "name": "stdout",
     "output_type": "stream",
     "text": [
      "Result for main_780bd_00013:\n",
      "  accuracy: 0.8843636363636364\n",
      "  date: 2021-05-07_17-36-40\n",
      "  done: true\n",
      "  experiment_id: be45214ea1554ccb869018cc50295826\n",
      "  experiment_tag: 13_epochs=800,l1=128,l2=64,l3=16,lr=0.0016,weight_decay=0.0003\n",
      "  hostname: 4ce982eb56f7\n",
      "  iterations_since_restore: 1\n",
      "  node_ip: 172.17.0.11\n",
      "  pid: 9852\n",
      "  time_since_restore: 15.017278671264648\n",
      "  time_this_iter_s: 15.017278671264648\n",
      "  time_total_s: 15.017278671264648\n",
      "  timestamp: 1620409000\n",
      "  timesteps_since_restore: 0\n",
      "  training_iteration: 1\n",
      "  trial_id: 780bd_00013\n",
      "  \n"
     ]
    },
    {
     "name": "stderr",
     "output_type": "stream",
     "text": [
      "\u001b[2m\u001b[36m(pid=9913)\u001b[0m Using backend: pytorch\n"
     ]
    },
    {
     "name": "stdout",
     "output_type": "stream",
     "text": [
      "\u001b[2m\u001b[36m(pid=9913)\u001b[0m l1 128 l2 64 l3 16\n",
      "Result for main_780bd_00014:\n",
      "  accuracy: 0.872\n",
      "  date: 2021-05-07_17-36-50\n",
      "  done: false\n",
      "  experiment_id: 1d6a64ead52e49a8b7797c04543a1069\n",
      "  hostname: 4ce982eb56f7\n",
      "  iterations_since_restore: 1\n",
      "  node_ip: 172.17.0.11\n",
      "  pid: 9883\n",
      "  time_since_restore: 13.192676067352295\n",
      "  time_this_iter_s: 13.192676067352295\n",
      "  time_total_s: 13.192676067352295\n",
      "  timestamp: 1620409010\n",
      "  timesteps_since_restore: 0\n",
      "  training_iteration: 1\n",
      "  trial_id: 780bd_00014\n",
      "  \n"
     ]
    },
    {
     "data": {
      "text/html": [
       "== Status ==<br>Memory usage on this node: 31.5/62.8 GiB<br>Using FIFO scheduling algorithm.<br>Resources requested: 2.0/8 CPUs, 2.0/2 GPUs, 0.0/41.76 GiB heap, 0.0/9.31 GiB objects (0.0/1.0 accelerator_type:GTX)<br>Result logdir: /root/ray_results/main_2021-05-07_17-34-25<br>Number of trials: 50/50 (34 PENDING, 2 RUNNING, 14 TERMINATED)<br><table>\n",
       "<thead>\n",
       "<tr><th>Trial name      </th><th>status    </th><th>loc             </th><th style=\"text-align: right;\">  epochs</th><th style=\"text-align: right;\">  l1</th><th style=\"text-align: right;\">  l2</th><th style=\"text-align: right;\">  l3</th><th style=\"text-align: right;\">    lr</th><th style=\"text-align: right;\">  weight_decay</th><th style=\"text-align: right;\">  iter</th><th style=\"text-align: right;\">  total time (s)</th><th style=\"text-align: right;\">  accuracy</th></tr>\n",
       "</thead>\n",
       "<tbody>\n",
       "<tr><td>main_780bd_00014</td><td>RUNNING   </td><td>172.17.0.11:9883</td><td style=\"text-align: right;\">     700</td><td style=\"text-align: right;\"> 128</td><td style=\"text-align: right;\">  64</td><td style=\"text-align: right;\">  16</td><td style=\"text-align: right;\">0.001 </td><td style=\"text-align: right;\">        0.0003</td><td style=\"text-align: right;\">     1</td><td style=\"text-align: right;\">         13.1927</td><td style=\"text-align: right;\">  0.872   </td></tr>\n",
       "<tr><td>main_780bd_00015</td><td>RUNNING   </td><td>                </td><td style=\"text-align: right;\">     800</td><td style=\"text-align: right;\"> 128</td><td style=\"text-align: right;\">  64</td><td style=\"text-align: right;\">  16</td><td style=\"text-align: right;\">0.0008</td><td style=\"text-align: right;\">        0.0003</td><td style=\"text-align: right;\">      </td><td style=\"text-align: right;\">                </td><td style=\"text-align: right;\">          </td></tr>\n",
       "<tr><td>main_780bd_00016</td><td>PENDING   </td><td>                </td><td style=\"text-align: right;\">     700</td><td style=\"text-align: right;\"> 128</td><td style=\"text-align: right;\">  64</td><td style=\"text-align: right;\">  16</td><td style=\"text-align: right;\">0.001 </td><td style=\"text-align: right;\">        0.0003</td><td style=\"text-align: right;\">      </td><td style=\"text-align: right;\">                </td><td style=\"text-align: right;\">          </td></tr>\n",
       "<tr><td>main_780bd_00017</td><td>PENDING   </td><td>                </td><td style=\"text-align: right;\">     800</td><td style=\"text-align: right;\"> 128</td><td style=\"text-align: right;\">  64</td><td style=\"text-align: right;\">  16</td><td style=\"text-align: right;\">0.0018</td><td style=\"text-align: right;\">        0.0009</td><td style=\"text-align: right;\">      </td><td style=\"text-align: right;\">                </td><td style=\"text-align: right;\">          </td></tr>\n",
       "<tr><td>main_780bd_00018</td><td>PENDING   </td><td>                </td><td style=\"text-align: right;\">     800</td><td style=\"text-align: right;\"> 128</td><td style=\"text-align: right;\">  64</td><td style=\"text-align: right;\">  16</td><td style=\"text-align: right;\">0.0018</td><td style=\"text-align: right;\">        0.0003</td><td style=\"text-align: right;\">      </td><td style=\"text-align: right;\">                </td><td style=\"text-align: right;\">          </td></tr>\n",
       "<tr><td>main_780bd_00019</td><td>PENDING   </td><td>                </td><td style=\"text-align: right;\">     700</td><td style=\"text-align: right;\"> 128</td><td style=\"text-align: right;\">  64</td><td style=\"text-align: right;\">  16</td><td style=\"text-align: right;\">0.0014</td><td style=\"text-align: right;\">        0.0006</td><td style=\"text-align: right;\">      </td><td style=\"text-align: right;\">                </td><td style=\"text-align: right;\">          </td></tr>\n",
       "<tr><td>main_780bd_00020</td><td>PENDING   </td><td>                </td><td style=\"text-align: right;\">     700</td><td style=\"text-align: right;\"> 128</td><td style=\"text-align: right;\">  64</td><td style=\"text-align: right;\">  16</td><td style=\"text-align: right;\">0.0012</td><td style=\"text-align: right;\">        0.0009</td><td style=\"text-align: right;\">      </td><td style=\"text-align: right;\">                </td><td style=\"text-align: right;\">          </td></tr>\n",
       "<tr><td>main_780bd_00021</td><td>PENDING   </td><td>                </td><td style=\"text-align: right;\">     800</td><td style=\"text-align: right;\"> 128</td><td style=\"text-align: right;\">  64</td><td style=\"text-align: right;\">  16</td><td style=\"text-align: right;\">0.001 </td><td style=\"text-align: right;\">        0.0003</td><td style=\"text-align: right;\">      </td><td style=\"text-align: right;\">                </td><td style=\"text-align: right;\">          </td></tr>\n",
       "<tr><td>main_780bd_00022</td><td>PENDING   </td><td>                </td><td style=\"text-align: right;\">     800</td><td style=\"text-align: right;\"> 128</td><td style=\"text-align: right;\">  64</td><td style=\"text-align: right;\">  16</td><td style=\"text-align: right;\">0.001 </td><td style=\"text-align: right;\">        0.0003</td><td style=\"text-align: right;\">      </td><td style=\"text-align: right;\">                </td><td style=\"text-align: right;\">          </td></tr>\n",
       "<tr><td>main_780bd_00023</td><td>PENDING   </td><td>                </td><td style=\"text-align: right;\">     800</td><td style=\"text-align: right;\"> 128</td><td style=\"text-align: right;\">  64</td><td style=\"text-align: right;\">  16</td><td style=\"text-align: right;\">0.0014</td><td style=\"text-align: right;\">        0.0009</td><td style=\"text-align: right;\">      </td><td style=\"text-align: right;\">                </td><td style=\"text-align: right;\">          </td></tr>\n",
       "<tr><td>main_780bd_00024</td><td>PENDING   </td><td>                </td><td style=\"text-align: right;\">     800</td><td style=\"text-align: right;\"> 128</td><td style=\"text-align: right;\">  64</td><td style=\"text-align: right;\">  16</td><td style=\"text-align: right;\">0.0012</td><td style=\"text-align: right;\">        0.0009</td><td style=\"text-align: right;\">      </td><td style=\"text-align: right;\">                </td><td style=\"text-align: right;\">          </td></tr>\n",
       "<tr><td>main_780bd_00000</td><td>TERMINATED</td><td>                </td><td style=\"text-align: right;\">     700</td><td style=\"text-align: right;\"> 128</td><td style=\"text-align: right;\">  64</td><td style=\"text-align: right;\">  16</td><td style=\"text-align: right;\">0.0008</td><td style=\"text-align: right;\">        0.0009</td><td style=\"text-align: right;\">     1</td><td style=\"text-align: right;\">         13.6591</td><td style=\"text-align: right;\">  0.877091</td></tr>\n",
       "<tr><td>main_780bd_00001</td><td>TERMINATED</td><td>                </td><td style=\"text-align: right;\">     700</td><td style=\"text-align: right;\"> 128</td><td style=\"text-align: right;\">  64</td><td style=\"text-align: right;\">  16</td><td style=\"text-align: right;\">0.001 </td><td style=\"text-align: right;\">        0.0006</td><td style=\"text-align: right;\">     1</td><td style=\"text-align: right;\">         13.6453</td><td style=\"text-align: right;\">  0.883636</td></tr>\n",
       "<tr><td>main_780bd_00002</td><td>TERMINATED</td><td>                </td><td style=\"text-align: right;\">     700</td><td style=\"text-align: right;\"> 128</td><td style=\"text-align: right;\">  64</td><td style=\"text-align: right;\">  16</td><td style=\"text-align: right;\">0.0016</td><td style=\"text-align: right;\">        0.0009</td><td style=\"text-align: right;\">     1</td><td style=\"text-align: right;\">         12.996 </td><td style=\"text-align: right;\">  0.879273</td></tr>\n",
       "<tr><td>main_780bd_00003</td><td>TERMINATED</td><td>                </td><td style=\"text-align: right;\">     800</td><td style=\"text-align: right;\"> 128</td><td style=\"text-align: right;\">  64</td><td style=\"text-align: right;\">  16</td><td style=\"text-align: right;\">0.0012</td><td style=\"text-align: right;\">        0.0006</td><td style=\"text-align: right;\">     1</td><td style=\"text-align: right;\">         14.9518</td><td style=\"text-align: right;\">  0.883636</td></tr>\n",
       "<tr><td>main_780bd_00004</td><td>TERMINATED</td><td>                </td><td style=\"text-align: right;\">     700</td><td style=\"text-align: right;\"> 128</td><td style=\"text-align: right;\">  64</td><td style=\"text-align: right;\">  16</td><td style=\"text-align: right;\">0.0006</td><td style=\"text-align: right;\">        0.0003</td><td style=\"text-align: right;\">     1</td><td style=\"text-align: right;\">         13.1162</td><td style=\"text-align: right;\">  0.876364</td></tr>\n",
       "<tr><td>main_780bd_00005</td><td>TERMINATED</td><td>                </td><td style=\"text-align: right;\">     800</td><td style=\"text-align: right;\"> 128</td><td style=\"text-align: right;\">  64</td><td style=\"text-align: right;\">  16</td><td style=\"text-align: right;\">0.0018</td><td style=\"text-align: right;\">        0.0006</td><td style=\"text-align: right;\">     1</td><td style=\"text-align: right;\">         14.9799</td><td style=\"text-align: right;\">  0.869818</td></tr>\n",
       "<tr><td>main_780bd_00006</td><td>TERMINATED</td><td>                </td><td style=\"text-align: right;\">     700</td><td style=\"text-align: right;\"> 128</td><td style=\"text-align: right;\">  64</td><td style=\"text-align: right;\">  16</td><td style=\"text-align: right;\">0.0016</td><td style=\"text-align: right;\">        0.0006</td><td style=\"text-align: right;\">     1</td><td style=\"text-align: right;\">         13.208 </td><td style=\"text-align: right;\">  0.872727</td></tr>\n",
       "<tr><td>main_780bd_00007</td><td>TERMINATED</td><td>                </td><td style=\"text-align: right;\">     800</td><td style=\"text-align: right;\"> 128</td><td style=\"text-align: right;\">  64</td><td style=\"text-align: right;\">  16</td><td style=\"text-align: right;\">0.0012</td><td style=\"text-align: right;\">        0.0006</td><td style=\"text-align: right;\">     1</td><td style=\"text-align: right;\">         15.0515</td><td style=\"text-align: right;\">  0.864727</td></tr>\n",
       "<tr><td>main_780bd_00008</td><td>TERMINATED</td><td>                </td><td style=\"text-align: right;\">     800</td><td style=\"text-align: right;\"> 128</td><td style=\"text-align: right;\">  64</td><td style=\"text-align: right;\">  16</td><td style=\"text-align: right;\">0.0014</td><td style=\"text-align: right;\">        0.0009</td><td style=\"text-align: right;\">     1</td><td style=\"text-align: right;\">         14.9417</td><td style=\"text-align: right;\">  0.874909</td></tr>\n",
       "</tbody>\n",
       "</table><br>... 30 more trials not shown (25 PENDING, 5 TERMINATED)<br><br>"
      ],
      "text/plain": [
       "<IPython.core.display.HTML object>"
      ]
     },
     "metadata": {},
     "output_type": "display_data"
    },
    {
     "name": "stdout",
     "output_type": "stream",
     "text": [
      "Result for main_780bd_00014:\n",
      "  accuracy: 0.872\n",
      "  date: 2021-05-07_17-36-50\n",
      "  done: true\n",
      "  experiment_id: 1d6a64ead52e49a8b7797c04543a1069\n",
      "  experiment_tag: 14_epochs=700,l1=128,l2=64,l3=16,lr=0.001,weight_decay=0.0003\n",
      "  hostname: 4ce982eb56f7\n",
      "  iterations_since_restore: 1\n",
      "  node_ip: 172.17.0.11\n",
      "  pid: 9883\n",
      "  time_since_restore: 13.192676067352295\n",
      "  time_this_iter_s: 13.192676067352295\n",
      "  time_total_s: 13.192676067352295\n",
      "  timestamp: 1620409010\n",
      "  timesteps_since_restore: 0\n",
      "  training_iteration: 1\n",
      "  trial_id: 780bd_00014\n",
      "  \n"
     ]
    },
    {
     "name": "stderr",
     "output_type": "stream",
     "text": [
      "\u001b[2m\u001b[36m(pid=9945)\u001b[0m Using backend: pytorch\n"
     ]
    },
    {
     "name": "stdout",
     "output_type": "stream",
     "text": [
      "\u001b[2m\u001b[36m(pid=9945)\u001b[0m l1 128 l2 64 l3 16\n",
      "Result for main_780bd_00015:\n",
      "  accuracy: 0.88\n",
      "  date: 2021-05-07_17-36-59\n",
      "  done: false\n",
      "  experiment_id: 15cb1b34424649bd9bd78291278ca8c1\n",
      "  hostname: 4ce982eb56f7\n",
      "  iterations_since_restore: 1\n",
      "  node_ip: 172.17.0.11\n",
      "  pid: 9913\n",
      "  time_since_restore: 14.991903305053711\n",
      "  time_this_iter_s: 14.991903305053711\n",
      "  time_total_s: 14.991903305053711\n",
      "  timestamp: 1620409019\n",
      "  timesteps_since_restore: 0\n",
      "  training_iteration: 1\n",
      "  trial_id: 780bd_00015\n",
      "  \n"
     ]
    },
    {
     "data": {
      "text/html": [
       "== Status ==<br>Memory usage on this node: 31.5/62.8 GiB<br>Using FIFO scheduling algorithm.<br>Resources requested: 2.0/8 CPUs, 2.0/2 GPUs, 0.0/41.76 GiB heap, 0.0/9.31 GiB objects (0.0/1.0 accelerator_type:GTX)<br>Result logdir: /root/ray_results/main_2021-05-07_17-34-25<br>Number of trials: 50/50 (33 PENDING, 2 RUNNING, 15 TERMINATED)<br><table>\n",
       "<thead>\n",
       "<tr><th>Trial name      </th><th>status    </th><th>loc             </th><th style=\"text-align: right;\">  epochs</th><th style=\"text-align: right;\">  l1</th><th style=\"text-align: right;\">  l2</th><th style=\"text-align: right;\">  l3</th><th style=\"text-align: right;\">    lr</th><th style=\"text-align: right;\">  weight_decay</th><th style=\"text-align: right;\">  iter</th><th style=\"text-align: right;\">  total time (s)</th><th style=\"text-align: right;\">  accuracy</th></tr>\n",
       "</thead>\n",
       "<tbody>\n",
       "<tr><td>main_780bd_00015</td><td>RUNNING   </td><td>172.17.0.11:9913</td><td style=\"text-align: right;\">     800</td><td style=\"text-align: right;\"> 128</td><td style=\"text-align: right;\">  64</td><td style=\"text-align: right;\">  16</td><td style=\"text-align: right;\">0.0008</td><td style=\"text-align: right;\">        0.0003</td><td style=\"text-align: right;\">     1</td><td style=\"text-align: right;\">         14.9919</td><td style=\"text-align: right;\">  0.88    </td></tr>\n",
       "<tr><td>main_780bd_00016</td><td>RUNNING   </td><td>                </td><td style=\"text-align: right;\">     700</td><td style=\"text-align: right;\"> 128</td><td style=\"text-align: right;\">  64</td><td style=\"text-align: right;\">  16</td><td style=\"text-align: right;\">0.001 </td><td style=\"text-align: right;\">        0.0003</td><td style=\"text-align: right;\">      </td><td style=\"text-align: right;\">                </td><td style=\"text-align: right;\">          </td></tr>\n",
       "<tr><td>main_780bd_00017</td><td>PENDING   </td><td>                </td><td style=\"text-align: right;\">     800</td><td style=\"text-align: right;\"> 128</td><td style=\"text-align: right;\">  64</td><td style=\"text-align: right;\">  16</td><td style=\"text-align: right;\">0.0018</td><td style=\"text-align: right;\">        0.0009</td><td style=\"text-align: right;\">      </td><td style=\"text-align: right;\">                </td><td style=\"text-align: right;\">          </td></tr>\n",
       "<tr><td>main_780bd_00018</td><td>PENDING   </td><td>                </td><td style=\"text-align: right;\">     800</td><td style=\"text-align: right;\"> 128</td><td style=\"text-align: right;\">  64</td><td style=\"text-align: right;\">  16</td><td style=\"text-align: right;\">0.0018</td><td style=\"text-align: right;\">        0.0003</td><td style=\"text-align: right;\">      </td><td style=\"text-align: right;\">                </td><td style=\"text-align: right;\">          </td></tr>\n",
       "<tr><td>main_780bd_00019</td><td>PENDING   </td><td>                </td><td style=\"text-align: right;\">     700</td><td style=\"text-align: right;\"> 128</td><td style=\"text-align: right;\">  64</td><td style=\"text-align: right;\">  16</td><td style=\"text-align: right;\">0.0014</td><td style=\"text-align: right;\">        0.0006</td><td style=\"text-align: right;\">      </td><td style=\"text-align: right;\">                </td><td style=\"text-align: right;\">          </td></tr>\n",
       "<tr><td>main_780bd_00020</td><td>PENDING   </td><td>                </td><td style=\"text-align: right;\">     700</td><td style=\"text-align: right;\"> 128</td><td style=\"text-align: right;\">  64</td><td style=\"text-align: right;\">  16</td><td style=\"text-align: right;\">0.0012</td><td style=\"text-align: right;\">        0.0009</td><td style=\"text-align: right;\">      </td><td style=\"text-align: right;\">                </td><td style=\"text-align: right;\">          </td></tr>\n",
       "<tr><td>main_780bd_00021</td><td>PENDING   </td><td>                </td><td style=\"text-align: right;\">     800</td><td style=\"text-align: right;\"> 128</td><td style=\"text-align: right;\">  64</td><td style=\"text-align: right;\">  16</td><td style=\"text-align: right;\">0.001 </td><td style=\"text-align: right;\">        0.0003</td><td style=\"text-align: right;\">      </td><td style=\"text-align: right;\">                </td><td style=\"text-align: right;\">          </td></tr>\n",
       "<tr><td>main_780bd_00022</td><td>PENDING   </td><td>                </td><td style=\"text-align: right;\">     800</td><td style=\"text-align: right;\"> 128</td><td style=\"text-align: right;\">  64</td><td style=\"text-align: right;\">  16</td><td style=\"text-align: right;\">0.001 </td><td style=\"text-align: right;\">        0.0003</td><td style=\"text-align: right;\">      </td><td style=\"text-align: right;\">                </td><td style=\"text-align: right;\">          </td></tr>\n",
       "<tr><td>main_780bd_00023</td><td>PENDING   </td><td>                </td><td style=\"text-align: right;\">     800</td><td style=\"text-align: right;\"> 128</td><td style=\"text-align: right;\">  64</td><td style=\"text-align: right;\">  16</td><td style=\"text-align: right;\">0.0014</td><td style=\"text-align: right;\">        0.0009</td><td style=\"text-align: right;\">      </td><td style=\"text-align: right;\">                </td><td style=\"text-align: right;\">          </td></tr>\n",
       "<tr><td>main_780bd_00024</td><td>PENDING   </td><td>                </td><td style=\"text-align: right;\">     800</td><td style=\"text-align: right;\"> 128</td><td style=\"text-align: right;\">  64</td><td style=\"text-align: right;\">  16</td><td style=\"text-align: right;\">0.0012</td><td style=\"text-align: right;\">        0.0009</td><td style=\"text-align: right;\">      </td><td style=\"text-align: right;\">                </td><td style=\"text-align: right;\">          </td></tr>\n",
       "<tr><td>main_780bd_00025</td><td>PENDING   </td><td>                </td><td style=\"text-align: right;\">     800</td><td style=\"text-align: right;\"> 128</td><td style=\"text-align: right;\">  64</td><td style=\"text-align: right;\">  16</td><td style=\"text-align: right;\">0.0016</td><td style=\"text-align: right;\">        0.0006</td><td style=\"text-align: right;\">      </td><td style=\"text-align: right;\">                </td><td style=\"text-align: right;\">          </td></tr>\n",
       "<tr><td>main_780bd_00000</td><td>TERMINATED</td><td>                </td><td style=\"text-align: right;\">     700</td><td style=\"text-align: right;\"> 128</td><td style=\"text-align: right;\">  64</td><td style=\"text-align: right;\">  16</td><td style=\"text-align: right;\">0.0008</td><td style=\"text-align: right;\">        0.0009</td><td style=\"text-align: right;\">     1</td><td style=\"text-align: right;\">         13.6591</td><td style=\"text-align: right;\">  0.877091</td></tr>\n",
       "<tr><td>main_780bd_00001</td><td>TERMINATED</td><td>                </td><td style=\"text-align: right;\">     700</td><td style=\"text-align: right;\"> 128</td><td style=\"text-align: right;\">  64</td><td style=\"text-align: right;\">  16</td><td style=\"text-align: right;\">0.001 </td><td style=\"text-align: right;\">        0.0006</td><td style=\"text-align: right;\">     1</td><td style=\"text-align: right;\">         13.6453</td><td style=\"text-align: right;\">  0.883636</td></tr>\n",
       "<tr><td>main_780bd_00002</td><td>TERMINATED</td><td>                </td><td style=\"text-align: right;\">     700</td><td style=\"text-align: right;\"> 128</td><td style=\"text-align: right;\">  64</td><td style=\"text-align: right;\">  16</td><td style=\"text-align: right;\">0.0016</td><td style=\"text-align: right;\">        0.0009</td><td style=\"text-align: right;\">     1</td><td style=\"text-align: right;\">         12.996 </td><td style=\"text-align: right;\">  0.879273</td></tr>\n",
       "<tr><td>main_780bd_00003</td><td>TERMINATED</td><td>                </td><td style=\"text-align: right;\">     800</td><td style=\"text-align: right;\"> 128</td><td style=\"text-align: right;\">  64</td><td style=\"text-align: right;\">  16</td><td style=\"text-align: right;\">0.0012</td><td style=\"text-align: right;\">        0.0006</td><td style=\"text-align: right;\">     1</td><td style=\"text-align: right;\">         14.9518</td><td style=\"text-align: right;\">  0.883636</td></tr>\n",
       "<tr><td>main_780bd_00004</td><td>TERMINATED</td><td>                </td><td style=\"text-align: right;\">     700</td><td style=\"text-align: right;\"> 128</td><td style=\"text-align: right;\">  64</td><td style=\"text-align: right;\">  16</td><td style=\"text-align: right;\">0.0006</td><td style=\"text-align: right;\">        0.0003</td><td style=\"text-align: right;\">     1</td><td style=\"text-align: right;\">         13.1162</td><td style=\"text-align: right;\">  0.876364</td></tr>\n",
       "<tr><td>main_780bd_00005</td><td>TERMINATED</td><td>                </td><td style=\"text-align: right;\">     800</td><td style=\"text-align: right;\"> 128</td><td style=\"text-align: right;\">  64</td><td style=\"text-align: right;\">  16</td><td style=\"text-align: right;\">0.0018</td><td style=\"text-align: right;\">        0.0006</td><td style=\"text-align: right;\">     1</td><td style=\"text-align: right;\">         14.9799</td><td style=\"text-align: right;\">  0.869818</td></tr>\n",
       "<tr><td>main_780bd_00006</td><td>TERMINATED</td><td>                </td><td style=\"text-align: right;\">     700</td><td style=\"text-align: right;\"> 128</td><td style=\"text-align: right;\">  64</td><td style=\"text-align: right;\">  16</td><td style=\"text-align: right;\">0.0016</td><td style=\"text-align: right;\">        0.0006</td><td style=\"text-align: right;\">     1</td><td style=\"text-align: right;\">         13.208 </td><td style=\"text-align: right;\">  0.872727</td></tr>\n",
       "<tr><td>main_780bd_00007</td><td>TERMINATED</td><td>                </td><td style=\"text-align: right;\">     800</td><td style=\"text-align: right;\"> 128</td><td style=\"text-align: right;\">  64</td><td style=\"text-align: right;\">  16</td><td style=\"text-align: right;\">0.0012</td><td style=\"text-align: right;\">        0.0006</td><td style=\"text-align: right;\">     1</td><td style=\"text-align: right;\">         15.0515</td><td style=\"text-align: right;\">  0.864727</td></tr>\n",
       "<tr><td>main_780bd_00008</td><td>TERMINATED</td><td>                </td><td style=\"text-align: right;\">     800</td><td style=\"text-align: right;\"> 128</td><td style=\"text-align: right;\">  64</td><td style=\"text-align: right;\">  16</td><td style=\"text-align: right;\">0.0014</td><td style=\"text-align: right;\">        0.0009</td><td style=\"text-align: right;\">     1</td><td style=\"text-align: right;\">         14.9417</td><td style=\"text-align: right;\">  0.874909</td></tr>\n",
       "</tbody>\n",
       "</table><br>... 30 more trials not shown (24 PENDING, 6 TERMINATED)<br><br>"
      ],
      "text/plain": [
       "<IPython.core.display.HTML object>"
      ]
     },
     "metadata": {},
     "output_type": "display_data"
    },
    {
     "name": "stdout",
     "output_type": "stream",
     "text": [
      "Result for main_780bd_00015:\n",
      "  accuracy: 0.88\n",
      "  date: 2021-05-07_17-36-59\n",
      "  done: true\n",
      "  experiment_id: 15cb1b34424649bd9bd78291278ca8c1\n",
      "  experiment_tag: 15_epochs=800,l1=128,l2=64,l3=16,lr=0.0008,weight_decay=0.0003\n",
      "  hostname: 4ce982eb56f7\n",
      "  iterations_since_restore: 1\n",
      "  node_ip: 172.17.0.11\n",
      "  pid: 9913\n",
      "  time_since_restore: 14.991903305053711\n",
      "  time_this_iter_s: 14.991903305053711\n",
      "  time_total_s: 14.991903305053711\n",
      "  timestamp: 1620409019\n",
      "  timesteps_since_restore: 0\n",
      "  training_iteration: 1\n",
      "  trial_id: 780bd_00015\n",
      "  \n"
     ]
    },
    {
     "name": "stderr",
     "output_type": "stream",
     "text": [
      "\u001b[2m\u001b[36m(pid=9976)\u001b[0m Using backend: pytorch\n"
     ]
    },
    {
     "name": "stdout",
     "output_type": "stream",
     "text": [
      "\u001b[2m\u001b[36m(pid=9976)\u001b[0m l1 128 l2 64 l3 16\n",
      "Result for main_780bd_00016:\n",
      "  accuracy: 0.8734545454545455\n",
      "  date: 2021-05-07_17-37-10\n",
      "  done: false\n",
      "  experiment_id: 00eacfc968a64746be3b87fb78e1b861\n",
      "  hostname: 4ce982eb56f7\n",
      "  iterations_since_restore: 1\n",
      "  node_ip: 172.17.0.11\n",
      "  pid: 9945\n",
      "  time_since_restore: 16.671695947647095\n",
      "  time_this_iter_s: 16.671695947647095\n",
      "  time_total_s: 16.671695947647095\n",
      "  timestamp: 1620409030\n",
      "  timesteps_since_restore: 0\n",
      "  training_iteration: 1\n",
      "  trial_id: 780bd_00016\n",
      "  \n"
     ]
    },
    {
     "data": {
      "text/html": [
       "== Status ==<br>Memory usage on this node: 31.5/62.8 GiB<br>Using FIFO scheduling algorithm.<br>Resources requested: 2.0/8 CPUs, 2.0/2 GPUs, 0.0/41.76 GiB heap, 0.0/9.31 GiB objects (0.0/1.0 accelerator_type:GTX)<br>Result logdir: /root/ray_results/main_2021-05-07_17-34-25<br>Number of trials: 50/50 (32 PENDING, 2 RUNNING, 16 TERMINATED)<br><table>\n",
       "<thead>\n",
       "<tr><th>Trial name      </th><th>status    </th><th>loc             </th><th style=\"text-align: right;\">  epochs</th><th style=\"text-align: right;\">  l1</th><th style=\"text-align: right;\">  l2</th><th style=\"text-align: right;\">  l3</th><th style=\"text-align: right;\">    lr</th><th style=\"text-align: right;\">  weight_decay</th><th style=\"text-align: right;\">  iter</th><th style=\"text-align: right;\">  total time (s)</th><th style=\"text-align: right;\">  accuracy</th></tr>\n",
       "</thead>\n",
       "<tbody>\n",
       "<tr><td>main_780bd_00016</td><td>RUNNING   </td><td>172.17.0.11:9945</td><td style=\"text-align: right;\">     700</td><td style=\"text-align: right;\"> 128</td><td style=\"text-align: right;\">  64</td><td style=\"text-align: right;\">  16</td><td style=\"text-align: right;\">0.001 </td><td style=\"text-align: right;\">        0.0003</td><td style=\"text-align: right;\">     1</td><td style=\"text-align: right;\">         16.6717</td><td style=\"text-align: right;\">  0.873455</td></tr>\n",
       "<tr><td>main_780bd_00017</td><td>RUNNING   </td><td>                </td><td style=\"text-align: right;\">     800</td><td style=\"text-align: right;\"> 128</td><td style=\"text-align: right;\">  64</td><td style=\"text-align: right;\">  16</td><td style=\"text-align: right;\">0.0018</td><td style=\"text-align: right;\">        0.0009</td><td style=\"text-align: right;\">      </td><td style=\"text-align: right;\">                </td><td style=\"text-align: right;\">          </td></tr>\n",
       "<tr><td>main_780bd_00018</td><td>PENDING   </td><td>                </td><td style=\"text-align: right;\">     800</td><td style=\"text-align: right;\"> 128</td><td style=\"text-align: right;\">  64</td><td style=\"text-align: right;\">  16</td><td style=\"text-align: right;\">0.0018</td><td style=\"text-align: right;\">        0.0003</td><td style=\"text-align: right;\">      </td><td style=\"text-align: right;\">                </td><td style=\"text-align: right;\">          </td></tr>\n",
       "<tr><td>main_780bd_00019</td><td>PENDING   </td><td>                </td><td style=\"text-align: right;\">     700</td><td style=\"text-align: right;\"> 128</td><td style=\"text-align: right;\">  64</td><td style=\"text-align: right;\">  16</td><td style=\"text-align: right;\">0.0014</td><td style=\"text-align: right;\">        0.0006</td><td style=\"text-align: right;\">      </td><td style=\"text-align: right;\">                </td><td style=\"text-align: right;\">          </td></tr>\n",
       "<tr><td>main_780bd_00020</td><td>PENDING   </td><td>                </td><td style=\"text-align: right;\">     700</td><td style=\"text-align: right;\"> 128</td><td style=\"text-align: right;\">  64</td><td style=\"text-align: right;\">  16</td><td style=\"text-align: right;\">0.0012</td><td style=\"text-align: right;\">        0.0009</td><td style=\"text-align: right;\">      </td><td style=\"text-align: right;\">                </td><td style=\"text-align: right;\">          </td></tr>\n",
       "<tr><td>main_780bd_00021</td><td>PENDING   </td><td>                </td><td style=\"text-align: right;\">     800</td><td style=\"text-align: right;\"> 128</td><td style=\"text-align: right;\">  64</td><td style=\"text-align: right;\">  16</td><td style=\"text-align: right;\">0.001 </td><td style=\"text-align: right;\">        0.0003</td><td style=\"text-align: right;\">      </td><td style=\"text-align: right;\">                </td><td style=\"text-align: right;\">          </td></tr>\n",
       "<tr><td>main_780bd_00022</td><td>PENDING   </td><td>                </td><td style=\"text-align: right;\">     800</td><td style=\"text-align: right;\"> 128</td><td style=\"text-align: right;\">  64</td><td style=\"text-align: right;\">  16</td><td style=\"text-align: right;\">0.001 </td><td style=\"text-align: right;\">        0.0003</td><td style=\"text-align: right;\">      </td><td style=\"text-align: right;\">                </td><td style=\"text-align: right;\">          </td></tr>\n",
       "<tr><td>main_780bd_00023</td><td>PENDING   </td><td>                </td><td style=\"text-align: right;\">     800</td><td style=\"text-align: right;\"> 128</td><td style=\"text-align: right;\">  64</td><td style=\"text-align: right;\">  16</td><td style=\"text-align: right;\">0.0014</td><td style=\"text-align: right;\">        0.0009</td><td style=\"text-align: right;\">      </td><td style=\"text-align: right;\">                </td><td style=\"text-align: right;\">          </td></tr>\n",
       "<tr><td>main_780bd_00024</td><td>PENDING   </td><td>                </td><td style=\"text-align: right;\">     800</td><td style=\"text-align: right;\"> 128</td><td style=\"text-align: right;\">  64</td><td style=\"text-align: right;\">  16</td><td style=\"text-align: right;\">0.0012</td><td style=\"text-align: right;\">        0.0009</td><td style=\"text-align: right;\">      </td><td style=\"text-align: right;\">                </td><td style=\"text-align: right;\">          </td></tr>\n",
       "<tr><td>main_780bd_00025</td><td>PENDING   </td><td>                </td><td style=\"text-align: right;\">     800</td><td style=\"text-align: right;\"> 128</td><td style=\"text-align: right;\">  64</td><td style=\"text-align: right;\">  16</td><td style=\"text-align: right;\">0.0016</td><td style=\"text-align: right;\">        0.0006</td><td style=\"text-align: right;\">      </td><td style=\"text-align: right;\">                </td><td style=\"text-align: right;\">          </td></tr>\n",
       "<tr><td>main_780bd_00026</td><td>PENDING   </td><td>                </td><td style=\"text-align: right;\">     700</td><td style=\"text-align: right;\"> 128</td><td style=\"text-align: right;\">  64</td><td style=\"text-align: right;\">  16</td><td style=\"text-align: right;\">0.0016</td><td style=\"text-align: right;\">        0.0009</td><td style=\"text-align: right;\">      </td><td style=\"text-align: right;\">                </td><td style=\"text-align: right;\">          </td></tr>\n",
       "<tr><td>main_780bd_00000</td><td>TERMINATED</td><td>                </td><td style=\"text-align: right;\">     700</td><td style=\"text-align: right;\"> 128</td><td style=\"text-align: right;\">  64</td><td style=\"text-align: right;\">  16</td><td style=\"text-align: right;\">0.0008</td><td style=\"text-align: right;\">        0.0009</td><td style=\"text-align: right;\">     1</td><td style=\"text-align: right;\">         13.6591</td><td style=\"text-align: right;\">  0.877091</td></tr>\n",
       "<tr><td>main_780bd_00001</td><td>TERMINATED</td><td>                </td><td style=\"text-align: right;\">     700</td><td style=\"text-align: right;\"> 128</td><td style=\"text-align: right;\">  64</td><td style=\"text-align: right;\">  16</td><td style=\"text-align: right;\">0.001 </td><td style=\"text-align: right;\">        0.0006</td><td style=\"text-align: right;\">     1</td><td style=\"text-align: right;\">         13.6453</td><td style=\"text-align: right;\">  0.883636</td></tr>\n",
       "<tr><td>main_780bd_00002</td><td>TERMINATED</td><td>                </td><td style=\"text-align: right;\">     700</td><td style=\"text-align: right;\"> 128</td><td style=\"text-align: right;\">  64</td><td style=\"text-align: right;\">  16</td><td style=\"text-align: right;\">0.0016</td><td style=\"text-align: right;\">        0.0009</td><td style=\"text-align: right;\">     1</td><td style=\"text-align: right;\">         12.996 </td><td style=\"text-align: right;\">  0.879273</td></tr>\n",
       "<tr><td>main_780bd_00003</td><td>TERMINATED</td><td>                </td><td style=\"text-align: right;\">     800</td><td style=\"text-align: right;\"> 128</td><td style=\"text-align: right;\">  64</td><td style=\"text-align: right;\">  16</td><td style=\"text-align: right;\">0.0012</td><td style=\"text-align: right;\">        0.0006</td><td style=\"text-align: right;\">     1</td><td style=\"text-align: right;\">         14.9518</td><td style=\"text-align: right;\">  0.883636</td></tr>\n",
       "<tr><td>main_780bd_00004</td><td>TERMINATED</td><td>                </td><td style=\"text-align: right;\">     700</td><td style=\"text-align: right;\"> 128</td><td style=\"text-align: right;\">  64</td><td style=\"text-align: right;\">  16</td><td style=\"text-align: right;\">0.0006</td><td style=\"text-align: right;\">        0.0003</td><td style=\"text-align: right;\">     1</td><td style=\"text-align: right;\">         13.1162</td><td style=\"text-align: right;\">  0.876364</td></tr>\n",
       "<tr><td>main_780bd_00005</td><td>TERMINATED</td><td>                </td><td style=\"text-align: right;\">     800</td><td style=\"text-align: right;\"> 128</td><td style=\"text-align: right;\">  64</td><td style=\"text-align: right;\">  16</td><td style=\"text-align: right;\">0.0018</td><td style=\"text-align: right;\">        0.0006</td><td style=\"text-align: right;\">     1</td><td style=\"text-align: right;\">         14.9799</td><td style=\"text-align: right;\">  0.869818</td></tr>\n",
       "<tr><td>main_780bd_00006</td><td>TERMINATED</td><td>                </td><td style=\"text-align: right;\">     700</td><td style=\"text-align: right;\"> 128</td><td style=\"text-align: right;\">  64</td><td style=\"text-align: right;\">  16</td><td style=\"text-align: right;\">0.0016</td><td style=\"text-align: right;\">        0.0006</td><td style=\"text-align: right;\">     1</td><td style=\"text-align: right;\">         13.208 </td><td style=\"text-align: right;\">  0.872727</td></tr>\n",
       "<tr><td>main_780bd_00007</td><td>TERMINATED</td><td>                </td><td style=\"text-align: right;\">     800</td><td style=\"text-align: right;\"> 128</td><td style=\"text-align: right;\">  64</td><td style=\"text-align: right;\">  16</td><td style=\"text-align: right;\">0.0012</td><td style=\"text-align: right;\">        0.0006</td><td style=\"text-align: right;\">     1</td><td style=\"text-align: right;\">         15.0515</td><td style=\"text-align: right;\">  0.864727</td></tr>\n",
       "<tr><td>main_780bd_00008</td><td>TERMINATED</td><td>                </td><td style=\"text-align: right;\">     800</td><td style=\"text-align: right;\"> 128</td><td style=\"text-align: right;\">  64</td><td style=\"text-align: right;\">  16</td><td style=\"text-align: right;\">0.0014</td><td style=\"text-align: right;\">        0.0009</td><td style=\"text-align: right;\">     1</td><td style=\"text-align: right;\">         14.9417</td><td style=\"text-align: right;\">  0.874909</td></tr>\n",
       "</tbody>\n",
       "</table><br>... 30 more trials not shown (23 PENDING, 7 TERMINATED)<br><br>"
      ],
      "text/plain": [
       "<IPython.core.display.HTML object>"
      ]
     },
     "metadata": {},
     "output_type": "display_data"
    },
    {
     "name": "stdout",
     "output_type": "stream",
     "text": [
      "Result for main_780bd_00016:\n",
      "  accuracy: 0.8734545454545455\n",
      "  date: 2021-05-07_17-37-10\n",
      "  done: true\n",
      "  experiment_id: 00eacfc968a64746be3b87fb78e1b861\n",
      "  experiment_tag: 16_epochs=700,l1=128,l2=64,l3=16,lr=0.001,weight_decay=0.0003\n",
      "  hostname: 4ce982eb56f7\n",
      "  iterations_since_restore: 1\n",
      "  node_ip: 172.17.0.11\n",
      "  pid: 9945\n",
      "  time_since_restore: 16.671695947647095\n",
      "  time_this_iter_s: 16.671695947647095\n",
      "  time_total_s: 16.671695947647095\n",
      "  timestamp: 1620409030\n",
      "  timesteps_since_restore: 0\n",
      "  training_iteration: 1\n",
      "  trial_id: 780bd_00016\n",
      "  \n"
     ]
    },
    {
     "name": "stderr",
     "output_type": "stream",
     "text": [
      "\u001b[2m\u001b[36m(pid=10007)\u001b[0m Using backend: pytorch\n"
     ]
    },
    {
     "name": "stdout",
     "output_type": "stream",
     "text": [
      "\u001b[2m\u001b[36m(pid=10007)\u001b[0m l1 128 l2 64 l3 16\n",
      "Result for main_780bd_00017:\n",
      "  accuracy: 0.864\n",
      "  date: 2021-05-07_17-37-19\n",
      "  done: false\n",
      "  experiment_id: e8865bf232914cfa80a66683d083e065\n",
      "  hostname: 4ce982eb56f7\n",
      "  iterations_since_restore: 1\n",
      "  node_ip: 172.17.0.11\n",
      "  pid: 9976\n",
      "  time_since_restore: 15.79581332206726\n",
      "  time_this_iter_s: 15.79581332206726\n",
      "  time_total_s: 15.79581332206726\n",
      "  timestamp: 1620409039\n",
      "  timesteps_since_restore: 0\n",
      "  training_iteration: 1\n",
      "  trial_id: 780bd_00017\n",
      "  \n"
     ]
    },
    {
     "data": {
      "text/html": [
       "== Status ==<br>Memory usage on this node: 31.5/62.8 GiB<br>Using FIFO scheduling algorithm.<br>Resources requested: 2.0/8 CPUs, 2.0/2 GPUs, 0.0/41.76 GiB heap, 0.0/9.31 GiB objects (0.0/1.0 accelerator_type:GTX)<br>Result logdir: /root/ray_results/main_2021-05-07_17-34-25<br>Number of trials: 50/50 (31 PENDING, 2 RUNNING, 17 TERMINATED)<br><table>\n",
       "<thead>\n",
       "<tr><th>Trial name      </th><th>status    </th><th>loc             </th><th style=\"text-align: right;\">  epochs</th><th style=\"text-align: right;\">  l1</th><th style=\"text-align: right;\">  l2</th><th style=\"text-align: right;\">  l3</th><th style=\"text-align: right;\">    lr</th><th style=\"text-align: right;\">  weight_decay</th><th style=\"text-align: right;\">  iter</th><th style=\"text-align: right;\">  total time (s)</th><th style=\"text-align: right;\">  accuracy</th></tr>\n",
       "</thead>\n",
       "<tbody>\n",
       "<tr><td>main_780bd_00017</td><td>RUNNING   </td><td>172.17.0.11:9976</td><td style=\"text-align: right;\">     800</td><td style=\"text-align: right;\"> 128</td><td style=\"text-align: right;\">  64</td><td style=\"text-align: right;\">  16</td><td style=\"text-align: right;\">0.0018</td><td style=\"text-align: right;\">        0.0009</td><td style=\"text-align: right;\">     1</td><td style=\"text-align: right;\">         15.7958</td><td style=\"text-align: right;\">  0.864   </td></tr>\n",
       "<tr><td>main_780bd_00018</td><td>RUNNING   </td><td>                </td><td style=\"text-align: right;\">     800</td><td style=\"text-align: right;\"> 128</td><td style=\"text-align: right;\">  64</td><td style=\"text-align: right;\">  16</td><td style=\"text-align: right;\">0.0018</td><td style=\"text-align: right;\">        0.0003</td><td style=\"text-align: right;\">      </td><td style=\"text-align: right;\">                </td><td style=\"text-align: right;\">          </td></tr>\n",
       "<tr><td>main_780bd_00019</td><td>PENDING   </td><td>                </td><td style=\"text-align: right;\">     700</td><td style=\"text-align: right;\"> 128</td><td style=\"text-align: right;\">  64</td><td style=\"text-align: right;\">  16</td><td style=\"text-align: right;\">0.0014</td><td style=\"text-align: right;\">        0.0006</td><td style=\"text-align: right;\">      </td><td style=\"text-align: right;\">                </td><td style=\"text-align: right;\">          </td></tr>\n",
       "<tr><td>main_780bd_00020</td><td>PENDING   </td><td>                </td><td style=\"text-align: right;\">     700</td><td style=\"text-align: right;\"> 128</td><td style=\"text-align: right;\">  64</td><td style=\"text-align: right;\">  16</td><td style=\"text-align: right;\">0.0012</td><td style=\"text-align: right;\">        0.0009</td><td style=\"text-align: right;\">      </td><td style=\"text-align: right;\">                </td><td style=\"text-align: right;\">          </td></tr>\n",
       "<tr><td>main_780bd_00021</td><td>PENDING   </td><td>                </td><td style=\"text-align: right;\">     800</td><td style=\"text-align: right;\"> 128</td><td style=\"text-align: right;\">  64</td><td style=\"text-align: right;\">  16</td><td style=\"text-align: right;\">0.001 </td><td style=\"text-align: right;\">        0.0003</td><td style=\"text-align: right;\">      </td><td style=\"text-align: right;\">                </td><td style=\"text-align: right;\">          </td></tr>\n",
       "<tr><td>main_780bd_00022</td><td>PENDING   </td><td>                </td><td style=\"text-align: right;\">     800</td><td style=\"text-align: right;\"> 128</td><td style=\"text-align: right;\">  64</td><td style=\"text-align: right;\">  16</td><td style=\"text-align: right;\">0.001 </td><td style=\"text-align: right;\">        0.0003</td><td style=\"text-align: right;\">      </td><td style=\"text-align: right;\">                </td><td style=\"text-align: right;\">          </td></tr>\n",
       "<tr><td>main_780bd_00023</td><td>PENDING   </td><td>                </td><td style=\"text-align: right;\">     800</td><td style=\"text-align: right;\"> 128</td><td style=\"text-align: right;\">  64</td><td style=\"text-align: right;\">  16</td><td style=\"text-align: right;\">0.0014</td><td style=\"text-align: right;\">        0.0009</td><td style=\"text-align: right;\">      </td><td style=\"text-align: right;\">                </td><td style=\"text-align: right;\">          </td></tr>\n",
       "<tr><td>main_780bd_00024</td><td>PENDING   </td><td>                </td><td style=\"text-align: right;\">     800</td><td style=\"text-align: right;\"> 128</td><td style=\"text-align: right;\">  64</td><td style=\"text-align: right;\">  16</td><td style=\"text-align: right;\">0.0012</td><td style=\"text-align: right;\">        0.0009</td><td style=\"text-align: right;\">      </td><td style=\"text-align: right;\">                </td><td style=\"text-align: right;\">          </td></tr>\n",
       "<tr><td>main_780bd_00025</td><td>PENDING   </td><td>                </td><td style=\"text-align: right;\">     800</td><td style=\"text-align: right;\"> 128</td><td style=\"text-align: right;\">  64</td><td style=\"text-align: right;\">  16</td><td style=\"text-align: right;\">0.0016</td><td style=\"text-align: right;\">        0.0006</td><td style=\"text-align: right;\">      </td><td style=\"text-align: right;\">                </td><td style=\"text-align: right;\">          </td></tr>\n",
       "<tr><td>main_780bd_00026</td><td>PENDING   </td><td>                </td><td style=\"text-align: right;\">     700</td><td style=\"text-align: right;\"> 128</td><td style=\"text-align: right;\">  64</td><td style=\"text-align: right;\">  16</td><td style=\"text-align: right;\">0.0016</td><td style=\"text-align: right;\">        0.0009</td><td style=\"text-align: right;\">      </td><td style=\"text-align: right;\">                </td><td style=\"text-align: right;\">          </td></tr>\n",
       "<tr><td>main_780bd_00027</td><td>PENDING   </td><td>                </td><td style=\"text-align: right;\">     800</td><td style=\"text-align: right;\"> 128</td><td style=\"text-align: right;\">  64</td><td style=\"text-align: right;\">  16</td><td style=\"text-align: right;\">0.0006</td><td style=\"text-align: right;\">        0.0003</td><td style=\"text-align: right;\">      </td><td style=\"text-align: right;\">                </td><td style=\"text-align: right;\">          </td></tr>\n",
       "<tr><td>main_780bd_00000</td><td>TERMINATED</td><td>                </td><td style=\"text-align: right;\">     700</td><td style=\"text-align: right;\"> 128</td><td style=\"text-align: right;\">  64</td><td style=\"text-align: right;\">  16</td><td style=\"text-align: right;\">0.0008</td><td style=\"text-align: right;\">        0.0009</td><td style=\"text-align: right;\">     1</td><td style=\"text-align: right;\">         13.6591</td><td style=\"text-align: right;\">  0.877091</td></tr>\n",
       "<tr><td>main_780bd_00001</td><td>TERMINATED</td><td>                </td><td style=\"text-align: right;\">     700</td><td style=\"text-align: right;\"> 128</td><td style=\"text-align: right;\">  64</td><td style=\"text-align: right;\">  16</td><td style=\"text-align: right;\">0.001 </td><td style=\"text-align: right;\">        0.0006</td><td style=\"text-align: right;\">     1</td><td style=\"text-align: right;\">         13.6453</td><td style=\"text-align: right;\">  0.883636</td></tr>\n",
       "<tr><td>main_780bd_00002</td><td>TERMINATED</td><td>                </td><td style=\"text-align: right;\">     700</td><td style=\"text-align: right;\"> 128</td><td style=\"text-align: right;\">  64</td><td style=\"text-align: right;\">  16</td><td style=\"text-align: right;\">0.0016</td><td style=\"text-align: right;\">        0.0009</td><td style=\"text-align: right;\">     1</td><td style=\"text-align: right;\">         12.996 </td><td style=\"text-align: right;\">  0.879273</td></tr>\n",
       "<tr><td>main_780bd_00003</td><td>TERMINATED</td><td>                </td><td style=\"text-align: right;\">     800</td><td style=\"text-align: right;\"> 128</td><td style=\"text-align: right;\">  64</td><td style=\"text-align: right;\">  16</td><td style=\"text-align: right;\">0.0012</td><td style=\"text-align: right;\">        0.0006</td><td style=\"text-align: right;\">     1</td><td style=\"text-align: right;\">         14.9518</td><td style=\"text-align: right;\">  0.883636</td></tr>\n",
       "<tr><td>main_780bd_00004</td><td>TERMINATED</td><td>                </td><td style=\"text-align: right;\">     700</td><td style=\"text-align: right;\"> 128</td><td style=\"text-align: right;\">  64</td><td style=\"text-align: right;\">  16</td><td style=\"text-align: right;\">0.0006</td><td style=\"text-align: right;\">        0.0003</td><td style=\"text-align: right;\">     1</td><td style=\"text-align: right;\">         13.1162</td><td style=\"text-align: right;\">  0.876364</td></tr>\n",
       "<tr><td>main_780bd_00005</td><td>TERMINATED</td><td>                </td><td style=\"text-align: right;\">     800</td><td style=\"text-align: right;\"> 128</td><td style=\"text-align: right;\">  64</td><td style=\"text-align: right;\">  16</td><td style=\"text-align: right;\">0.0018</td><td style=\"text-align: right;\">        0.0006</td><td style=\"text-align: right;\">     1</td><td style=\"text-align: right;\">         14.9799</td><td style=\"text-align: right;\">  0.869818</td></tr>\n",
       "<tr><td>main_780bd_00006</td><td>TERMINATED</td><td>                </td><td style=\"text-align: right;\">     700</td><td style=\"text-align: right;\"> 128</td><td style=\"text-align: right;\">  64</td><td style=\"text-align: right;\">  16</td><td style=\"text-align: right;\">0.0016</td><td style=\"text-align: right;\">        0.0006</td><td style=\"text-align: right;\">     1</td><td style=\"text-align: right;\">         13.208 </td><td style=\"text-align: right;\">  0.872727</td></tr>\n",
       "<tr><td>main_780bd_00007</td><td>TERMINATED</td><td>                </td><td style=\"text-align: right;\">     800</td><td style=\"text-align: right;\"> 128</td><td style=\"text-align: right;\">  64</td><td style=\"text-align: right;\">  16</td><td style=\"text-align: right;\">0.0012</td><td style=\"text-align: right;\">        0.0006</td><td style=\"text-align: right;\">     1</td><td style=\"text-align: right;\">         15.0515</td><td style=\"text-align: right;\">  0.864727</td></tr>\n",
       "<tr><td>main_780bd_00008</td><td>TERMINATED</td><td>                </td><td style=\"text-align: right;\">     800</td><td style=\"text-align: right;\"> 128</td><td style=\"text-align: right;\">  64</td><td style=\"text-align: right;\">  16</td><td style=\"text-align: right;\">0.0014</td><td style=\"text-align: right;\">        0.0009</td><td style=\"text-align: right;\">     1</td><td style=\"text-align: right;\">         14.9417</td><td style=\"text-align: right;\">  0.874909</td></tr>\n",
       "</tbody>\n",
       "</table><br>... 30 more trials not shown (22 PENDING, 8 TERMINATED)<br><br>"
      ],
      "text/plain": [
       "<IPython.core.display.HTML object>"
      ]
     },
     "metadata": {},
     "output_type": "display_data"
    },
    {
     "name": "stdout",
     "output_type": "stream",
     "text": [
      "Result for main_780bd_00017:\n",
      "  accuracy: 0.864\n",
      "  date: 2021-05-07_17-37-19\n",
      "  done: true\n",
      "  experiment_id: e8865bf232914cfa80a66683d083e065\n",
      "  experiment_tag: 17_epochs=800,l1=128,l2=64,l3=16,lr=0.0018,weight_decay=0.0009\n",
      "  hostname: 4ce982eb56f7\n",
      "  iterations_since_restore: 1\n",
      "  node_ip: 172.17.0.11\n",
      "  pid: 9976\n",
      "  time_since_restore: 15.79581332206726\n",
      "  time_this_iter_s: 15.79581332206726\n",
      "  time_total_s: 15.79581332206726\n",
      "  timestamp: 1620409039\n",
      "  timesteps_since_restore: 0\n",
      "  training_iteration: 1\n",
      "  trial_id: 780bd_00017\n",
      "  \n"
     ]
    },
    {
     "name": "stderr",
     "output_type": "stream",
     "text": [
      "\u001b[2m\u001b[36m(pid=10037)\u001b[0m Using backend: pytorch\n"
     ]
    },
    {
     "name": "stdout",
     "output_type": "stream",
     "text": [
      "\u001b[2m\u001b[36m(pid=10037)\u001b[0m l1 128 l2 64 l3 16\n",
      "Result for main_780bd_00018:\n",
      "  accuracy: 0.8734545454545455\n",
      "  date: 2021-05-07_17-37-36\n",
      "  done: false\n",
      "  experiment_id: e91efba2b714451a8f4603515ce8e76d\n",
      "  hostname: 4ce982eb56f7\n",
      "  iterations_since_restore: 1\n",
      "  node_ip: 172.17.0.11\n",
      "  pid: 10007\n",
      "  time_since_restore: 21.572409868240356\n",
      "  time_this_iter_s: 21.572409868240356\n",
      "  time_total_s: 21.572409868240356\n",
      "  timestamp: 1620409056\n",
      "  timesteps_since_restore: 0\n",
      "  training_iteration: 1\n",
      "  trial_id: 780bd_00018\n",
      "  \n"
     ]
    },
    {
     "data": {
      "text/html": [
       "== Status ==<br>Memory usage on this node: 31.5/62.8 GiB<br>Using FIFO scheduling algorithm.<br>Resources requested: 2.0/8 CPUs, 2.0/2 GPUs, 0.0/41.76 GiB heap, 0.0/9.31 GiB objects (0.0/1.0 accelerator_type:GTX)<br>Result logdir: /root/ray_results/main_2021-05-07_17-34-25<br>Number of trials: 50/50 (30 PENDING, 2 RUNNING, 18 TERMINATED)<br><table>\n",
       "<thead>\n",
       "<tr><th>Trial name      </th><th>status    </th><th>loc              </th><th style=\"text-align: right;\">  epochs</th><th style=\"text-align: right;\">  l1</th><th style=\"text-align: right;\">  l2</th><th style=\"text-align: right;\">  l3</th><th style=\"text-align: right;\">    lr</th><th style=\"text-align: right;\">  weight_decay</th><th style=\"text-align: right;\">  iter</th><th style=\"text-align: right;\">  total time (s)</th><th style=\"text-align: right;\">  accuracy</th></tr>\n",
       "</thead>\n",
       "<tbody>\n",
       "<tr><td>main_780bd_00018</td><td>RUNNING   </td><td>172.17.0.11:10007</td><td style=\"text-align: right;\">     800</td><td style=\"text-align: right;\"> 128</td><td style=\"text-align: right;\">  64</td><td style=\"text-align: right;\">  16</td><td style=\"text-align: right;\">0.0018</td><td style=\"text-align: right;\">        0.0003</td><td style=\"text-align: right;\">     1</td><td style=\"text-align: right;\">         21.5724</td><td style=\"text-align: right;\">  0.873455</td></tr>\n",
       "<tr><td>main_780bd_00019</td><td>RUNNING   </td><td>                 </td><td style=\"text-align: right;\">     700</td><td style=\"text-align: right;\"> 128</td><td style=\"text-align: right;\">  64</td><td style=\"text-align: right;\">  16</td><td style=\"text-align: right;\">0.0014</td><td style=\"text-align: right;\">        0.0006</td><td style=\"text-align: right;\">      </td><td style=\"text-align: right;\">                </td><td style=\"text-align: right;\">          </td></tr>\n",
       "<tr><td>main_780bd_00020</td><td>PENDING   </td><td>                 </td><td style=\"text-align: right;\">     700</td><td style=\"text-align: right;\"> 128</td><td style=\"text-align: right;\">  64</td><td style=\"text-align: right;\">  16</td><td style=\"text-align: right;\">0.0012</td><td style=\"text-align: right;\">        0.0009</td><td style=\"text-align: right;\">      </td><td style=\"text-align: right;\">                </td><td style=\"text-align: right;\">          </td></tr>\n",
       "<tr><td>main_780bd_00021</td><td>PENDING   </td><td>                 </td><td style=\"text-align: right;\">     800</td><td style=\"text-align: right;\"> 128</td><td style=\"text-align: right;\">  64</td><td style=\"text-align: right;\">  16</td><td style=\"text-align: right;\">0.001 </td><td style=\"text-align: right;\">        0.0003</td><td style=\"text-align: right;\">      </td><td style=\"text-align: right;\">                </td><td style=\"text-align: right;\">          </td></tr>\n",
       "<tr><td>main_780bd_00022</td><td>PENDING   </td><td>                 </td><td style=\"text-align: right;\">     800</td><td style=\"text-align: right;\"> 128</td><td style=\"text-align: right;\">  64</td><td style=\"text-align: right;\">  16</td><td style=\"text-align: right;\">0.001 </td><td style=\"text-align: right;\">        0.0003</td><td style=\"text-align: right;\">      </td><td style=\"text-align: right;\">                </td><td style=\"text-align: right;\">          </td></tr>\n",
       "<tr><td>main_780bd_00023</td><td>PENDING   </td><td>                 </td><td style=\"text-align: right;\">     800</td><td style=\"text-align: right;\"> 128</td><td style=\"text-align: right;\">  64</td><td style=\"text-align: right;\">  16</td><td style=\"text-align: right;\">0.0014</td><td style=\"text-align: right;\">        0.0009</td><td style=\"text-align: right;\">      </td><td style=\"text-align: right;\">                </td><td style=\"text-align: right;\">          </td></tr>\n",
       "<tr><td>main_780bd_00024</td><td>PENDING   </td><td>                 </td><td style=\"text-align: right;\">     800</td><td style=\"text-align: right;\"> 128</td><td style=\"text-align: right;\">  64</td><td style=\"text-align: right;\">  16</td><td style=\"text-align: right;\">0.0012</td><td style=\"text-align: right;\">        0.0009</td><td style=\"text-align: right;\">      </td><td style=\"text-align: right;\">                </td><td style=\"text-align: right;\">          </td></tr>\n",
       "<tr><td>main_780bd_00025</td><td>PENDING   </td><td>                 </td><td style=\"text-align: right;\">     800</td><td style=\"text-align: right;\"> 128</td><td style=\"text-align: right;\">  64</td><td style=\"text-align: right;\">  16</td><td style=\"text-align: right;\">0.0016</td><td style=\"text-align: right;\">        0.0006</td><td style=\"text-align: right;\">      </td><td style=\"text-align: right;\">                </td><td style=\"text-align: right;\">          </td></tr>\n",
       "<tr><td>main_780bd_00026</td><td>PENDING   </td><td>                 </td><td style=\"text-align: right;\">     700</td><td style=\"text-align: right;\"> 128</td><td style=\"text-align: right;\">  64</td><td style=\"text-align: right;\">  16</td><td style=\"text-align: right;\">0.0016</td><td style=\"text-align: right;\">        0.0009</td><td style=\"text-align: right;\">      </td><td style=\"text-align: right;\">                </td><td style=\"text-align: right;\">          </td></tr>\n",
       "<tr><td>main_780bd_00027</td><td>PENDING   </td><td>                 </td><td style=\"text-align: right;\">     800</td><td style=\"text-align: right;\"> 128</td><td style=\"text-align: right;\">  64</td><td style=\"text-align: right;\">  16</td><td style=\"text-align: right;\">0.0006</td><td style=\"text-align: right;\">        0.0003</td><td style=\"text-align: right;\">      </td><td style=\"text-align: right;\">                </td><td style=\"text-align: right;\">          </td></tr>\n",
       "<tr><td>main_780bd_00028</td><td>PENDING   </td><td>                 </td><td style=\"text-align: right;\">     700</td><td style=\"text-align: right;\"> 128</td><td style=\"text-align: right;\">  64</td><td style=\"text-align: right;\">  16</td><td style=\"text-align: right;\">0.0016</td><td style=\"text-align: right;\">        0.0003</td><td style=\"text-align: right;\">      </td><td style=\"text-align: right;\">                </td><td style=\"text-align: right;\">          </td></tr>\n",
       "<tr><td>main_780bd_00000</td><td>TERMINATED</td><td>                 </td><td style=\"text-align: right;\">     700</td><td style=\"text-align: right;\"> 128</td><td style=\"text-align: right;\">  64</td><td style=\"text-align: right;\">  16</td><td style=\"text-align: right;\">0.0008</td><td style=\"text-align: right;\">        0.0009</td><td style=\"text-align: right;\">     1</td><td style=\"text-align: right;\">         13.6591</td><td style=\"text-align: right;\">  0.877091</td></tr>\n",
       "<tr><td>main_780bd_00001</td><td>TERMINATED</td><td>                 </td><td style=\"text-align: right;\">     700</td><td style=\"text-align: right;\"> 128</td><td style=\"text-align: right;\">  64</td><td style=\"text-align: right;\">  16</td><td style=\"text-align: right;\">0.001 </td><td style=\"text-align: right;\">        0.0006</td><td style=\"text-align: right;\">     1</td><td style=\"text-align: right;\">         13.6453</td><td style=\"text-align: right;\">  0.883636</td></tr>\n",
       "<tr><td>main_780bd_00002</td><td>TERMINATED</td><td>                 </td><td style=\"text-align: right;\">     700</td><td style=\"text-align: right;\"> 128</td><td style=\"text-align: right;\">  64</td><td style=\"text-align: right;\">  16</td><td style=\"text-align: right;\">0.0016</td><td style=\"text-align: right;\">        0.0009</td><td style=\"text-align: right;\">     1</td><td style=\"text-align: right;\">         12.996 </td><td style=\"text-align: right;\">  0.879273</td></tr>\n",
       "<tr><td>main_780bd_00003</td><td>TERMINATED</td><td>                 </td><td style=\"text-align: right;\">     800</td><td style=\"text-align: right;\"> 128</td><td style=\"text-align: right;\">  64</td><td style=\"text-align: right;\">  16</td><td style=\"text-align: right;\">0.0012</td><td style=\"text-align: right;\">        0.0006</td><td style=\"text-align: right;\">     1</td><td style=\"text-align: right;\">         14.9518</td><td style=\"text-align: right;\">  0.883636</td></tr>\n",
       "<tr><td>main_780bd_00004</td><td>TERMINATED</td><td>                 </td><td style=\"text-align: right;\">     700</td><td style=\"text-align: right;\"> 128</td><td style=\"text-align: right;\">  64</td><td style=\"text-align: right;\">  16</td><td style=\"text-align: right;\">0.0006</td><td style=\"text-align: right;\">        0.0003</td><td style=\"text-align: right;\">     1</td><td style=\"text-align: right;\">         13.1162</td><td style=\"text-align: right;\">  0.876364</td></tr>\n",
       "<tr><td>main_780bd_00005</td><td>TERMINATED</td><td>                 </td><td style=\"text-align: right;\">     800</td><td style=\"text-align: right;\"> 128</td><td style=\"text-align: right;\">  64</td><td style=\"text-align: right;\">  16</td><td style=\"text-align: right;\">0.0018</td><td style=\"text-align: right;\">        0.0006</td><td style=\"text-align: right;\">     1</td><td style=\"text-align: right;\">         14.9799</td><td style=\"text-align: right;\">  0.869818</td></tr>\n",
       "<tr><td>main_780bd_00006</td><td>TERMINATED</td><td>                 </td><td style=\"text-align: right;\">     700</td><td style=\"text-align: right;\"> 128</td><td style=\"text-align: right;\">  64</td><td style=\"text-align: right;\">  16</td><td style=\"text-align: right;\">0.0016</td><td style=\"text-align: right;\">        0.0006</td><td style=\"text-align: right;\">     1</td><td style=\"text-align: right;\">         13.208 </td><td style=\"text-align: right;\">  0.872727</td></tr>\n",
       "<tr><td>main_780bd_00007</td><td>TERMINATED</td><td>                 </td><td style=\"text-align: right;\">     800</td><td style=\"text-align: right;\"> 128</td><td style=\"text-align: right;\">  64</td><td style=\"text-align: right;\">  16</td><td style=\"text-align: right;\">0.0012</td><td style=\"text-align: right;\">        0.0006</td><td style=\"text-align: right;\">     1</td><td style=\"text-align: right;\">         15.0515</td><td style=\"text-align: right;\">  0.864727</td></tr>\n",
       "<tr><td>main_780bd_00008</td><td>TERMINATED</td><td>                 </td><td style=\"text-align: right;\">     800</td><td style=\"text-align: right;\"> 128</td><td style=\"text-align: right;\">  64</td><td style=\"text-align: right;\">  16</td><td style=\"text-align: right;\">0.0014</td><td style=\"text-align: right;\">        0.0009</td><td style=\"text-align: right;\">     1</td><td style=\"text-align: right;\">         14.9417</td><td style=\"text-align: right;\">  0.874909</td></tr>\n",
       "</tbody>\n",
       "</table><br>... 30 more trials not shown (21 PENDING, 9 TERMINATED)<br><br>"
      ],
      "text/plain": [
       "<IPython.core.display.HTML object>"
      ]
     },
     "metadata": {},
     "output_type": "display_data"
    },
    {
     "name": "stdout",
     "output_type": "stream",
     "text": [
      "Result for main_780bd_00018:\n",
      "  accuracy: 0.8734545454545455\n",
      "  date: 2021-05-07_17-37-36\n",
      "  done: true\n",
      "  experiment_id: e91efba2b714451a8f4603515ce8e76d\n",
      "  experiment_tag: 18_epochs=800,l1=128,l2=64,l3=16,lr=0.0018,weight_decay=0.0003\n",
      "  hostname: 4ce982eb56f7\n",
      "  iterations_since_restore: 1\n",
      "  node_ip: 172.17.0.11\n",
      "  pid: 10007\n",
      "  time_since_restore: 21.572409868240356\n",
      "  time_this_iter_s: 21.572409868240356\n",
      "  time_total_s: 21.572409868240356\n",
      "  timestamp: 1620409056\n",
      "  timesteps_since_restore: 0\n",
      "  training_iteration: 1\n",
      "  trial_id: 780bd_00018\n",
      "  \n",
      "Result for main_780bd_00019:\n",
      "  accuracy: 0.8814545454545455\n",
      "  date: 2021-05-07_17-37-36\n",
      "  done: false\n",
      "  experiment_id: fe879bf4e4164195a1f1eeb6c2f847cb\n",
      "  hostname: 4ce982eb56f7\n",
      "  iterations_since_restore: 1\n",
      "  node_ip: 172.17.0.11\n",
      "  pid: 10037\n",
      "  time_since_restore: 13.853266716003418\n",
      "  time_this_iter_s: 13.853266716003418\n",
      "  time_total_s: 13.853266716003418\n",
      "  timestamp: 1620409056\n",
      "  timesteps_since_restore: 0\n",
      "  training_iteration: 1\n",
      "  trial_id: 780bd_00019\n",
      "  \n",
      "Result for main_780bd_00019:\n",
      "  accuracy: 0.8814545454545455\n",
      "  date: 2021-05-07_17-37-36\n",
      "  done: true\n",
      "  experiment_id: fe879bf4e4164195a1f1eeb6c2f847cb\n",
      "  experiment_tag: 19_epochs=700,l1=128,l2=64,l3=16,lr=0.0014,weight_decay=0.0006\n",
      "  hostname: 4ce982eb56f7\n",
      "  iterations_since_restore: 1\n",
      "  node_ip: 172.17.0.11\n",
      "  pid: 10037\n",
      "  time_since_restore: 13.853266716003418\n",
      "  time_this_iter_s: 13.853266716003418\n",
      "  time_total_s: 13.853266716003418\n",
      "  timestamp: 1620409056\n",
      "  timesteps_since_restore: 0\n",
      "  training_iteration: 1\n",
      "  trial_id: 780bd_00019\n",
      "  \n"
     ]
    },
    {
     "name": "stderr",
     "output_type": "stream",
     "text": [
      "\u001b[2m\u001b[36m(pid=10066)\u001b[0m Using backend: pytorch\n",
      "\u001b[2m\u001b[36m(pid=10072)\u001b[0m Using backend: pytorch\n"
     ]
    },
    {
     "name": "stdout",
     "output_type": "stream",
     "text": [
      "\u001b[2m\u001b[36m(pid=10066)\u001b[0m l1 128 l2 64 l3 16\n",
      "\u001b[2m\u001b[36m(pid=10072)\u001b[0m l1 128 l2 64 l3 16\n",
      "Result for main_780bd_00021:\n",
      "  accuracy: 0.8683636363636363\n",
      "  date: 2021-05-07_17-37-56\n",
      "  done: false\n",
      "  experiment_id: f900cbd9bb324019b83872bc6796bb27\n",
      "  hostname: 4ce982eb56f7\n",
      "  iterations_since_restore: 1\n",
      "  node_ip: 172.17.0.11\n",
      "  pid: 10072\n",
      "  time_since_restore: 15.709243774414062\n",
      "  time_this_iter_s: 15.709243774414062\n",
      "  time_total_s: 15.709243774414062\n",
      "  timestamp: 1620409076\n",
      "  timesteps_since_restore: 0\n",
      "  training_iteration: 1\n",
      "  trial_id: 780bd_00021\n",
      "  \n"
     ]
    },
    {
     "data": {
      "text/html": [
       "== Status ==<br>Memory usage on this node: 31.6/62.8 GiB<br>Using FIFO scheduling algorithm.<br>Resources requested: 2.0/8 CPUs, 2.0/2 GPUs, 0.0/41.76 GiB heap, 0.0/9.31 GiB objects (0.0/1.0 accelerator_type:GTX)<br>Result logdir: /root/ray_results/main_2021-05-07_17-34-25<br>Number of trials: 50/50 (28 PENDING, 2 RUNNING, 20 TERMINATED)<br><table>\n",
       "<thead>\n",
       "<tr><th>Trial name      </th><th>status    </th><th>loc              </th><th style=\"text-align: right;\">  epochs</th><th style=\"text-align: right;\">  l1</th><th style=\"text-align: right;\">  l2</th><th style=\"text-align: right;\">  l3</th><th style=\"text-align: right;\">    lr</th><th style=\"text-align: right;\">  weight_decay</th><th style=\"text-align: right;\">  iter</th><th style=\"text-align: right;\">  total time (s)</th><th style=\"text-align: right;\">  accuracy</th></tr>\n",
       "</thead>\n",
       "<tbody>\n",
       "<tr><td>main_780bd_00020</td><td>RUNNING   </td><td>                 </td><td style=\"text-align: right;\">     700</td><td style=\"text-align: right;\"> 128</td><td style=\"text-align: right;\">  64</td><td style=\"text-align: right;\">  16</td><td style=\"text-align: right;\">0.0012</td><td style=\"text-align: right;\">        0.0009</td><td style=\"text-align: right;\">      </td><td style=\"text-align: right;\">                </td><td style=\"text-align: right;\">          </td></tr>\n",
       "<tr><td>main_780bd_00021</td><td>RUNNING   </td><td>172.17.0.11:10072</td><td style=\"text-align: right;\">     800</td><td style=\"text-align: right;\"> 128</td><td style=\"text-align: right;\">  64</td><td style=\"text-align: right;\">  16</td><td style=\"text-align: right;\">0.001 </td><td style=\"text-align: right;\">        0.0003</td><td style=\"text-align: right;\">     1</td><td style=\"text-align: right;\">         15.7092</td><td style=\"text-align: right;\">  0.868364</td></tr>\n",
       "<tr><td>main_780bd_00022</td><td>PENDING   </td><td>                 </td><td style=\"text-align: right;\">     800</td><td style=\"text-align: right;\"> 128</td><td style=\"text-align: right;\">  64</td><td style=\"text-align: right;\">  16</td><td style=\"text-align: right;\">0.001 </td><td style=\"text-align: right;\">        0.0003</td><td style=\"text-align: right;\">      </td><td style=\"text-align: right;\">                </td><td style=\"text-align: right;\">          </td></tr>\n",
       "<tr><td>main_780bd_00023</td><td>PENDING   </td><td>                 </td><td style=\"text-align: right;\">     800</td><td style=\"text-align: right;\"> 128</td><td style=\"text-align: right;\">  64</td><td style=\"text-align: right;\">  16</td><td style=\"text-align: right;\">0.0014</td><td style=\"text-align: right;\">        0.0009</td><td style=\"text-align: right;\">      </td><td style=\"text-align: right;\">                </td><td style=\"text-align: right;\">          </td></tr>\n",
       "<tr><td>main_780bd_00024</td><td>PENDING   </td><td>                 </td><td style=\"text-align: right;\">     800</td><td style=\"text-align: right;\"> 128</td><td style=\"text-align: right;\">  64</td><td style=\"text-align: right;\">  16</td><td style=\"text-align: right;\">0.0012</td><td style=\"text-align: right;\">        0.0009</td><td style=\"text-align: right;\">      </td><td style=\"text-align: right;\">                </td><td style=\"text-align: right;\">          </td></tr>\n",
       "<tr><td>main_780bd_00025</td><td>PENDING   </td><td>                 </td><td style=\"text-align: right;\">     800</td><td style=\"text-align: right;\"> 128</td><td style=\"text-align: right;\">  64</td><td style=\"text-align: right;\">  16</td><td style=\"text-align: right;\">0.0016</td><td style=\"text-align: right;\">        0.0006</td><td style=\"text-align: right;\">      </td><td style=\"text-align: right;\">                </td><td style=\"text-align: right;\">          </td></tr>\n",
       "<tr><td>main_780bd_00026</td><td>PENDING   </td><td>                 </td><td style=\"text-align: right;\">     700</td><td style=\"text-align: right;\"> 128</td><td style=\"text-align: right;\">  64</td><td style=\"text-align: right;\">  16</td><td style=\"text-align: right;\">0.0016</td><td style=\"text-align: right;\">        0.0009</td><td style=\"text-align: right;\">      </td><td style=\"text-align: right;\">                </td><td style=\"text-align: right;\">          </td></tr>\n",
       "<tr><td>main_780bd_00027</td><td>PENDING   </td><td>                 </td><td style=\"text-align: right;\">     800</td><td style=\"text-align: right;\"> 128</td><td style=\"text-align: right;\">  64</td><td style=\"text-align: right;\">  16</td><td style=\"text-align: right;\">0.0006</td><td style=\"text-align: right;\">        0.0003</td><td style=\"text-align: right;\">      </td><td style=\"text-align: right;\">                </td><td style=\"text-align: right;\">          </td></tr>\n",
       "<tr><td>main_780bd_00028</td><td>PENDING   </td><td>                 </td><td style=\"text-align: right;\">     700</td><td style=\"text-align: right;\"> 128</td><td style=\"text-align: right;\">  64</td><td style=\"text-align: right;\">  16</td><td style=\"text-align: right;\">0.0016</td><td style=\"text-align: right;\">        0.0003</td><td style=\"text-align: right;\">      </td><td style=\"text-align: right;\">                </td><td style=\"text-align: right;\">          </td></tr>\n",
       "<tr><td>main_780bd_00029</td><td>PENDING   </td><td>                 </td><td style=\"text-align: right;\">     700</td><td style=\"text-align: right;\"> 128</td><td style=\"text-align: right;\">  64</td><td style=\"text-align: right;\">  16</td><td style=\"text-align: right;\">0.0018</td><td style=\"text-align: right;\">        0.0003</td><td style=\"text-align: right;\">      </td><td style=\"text-align: right;\">                </td><td style=\"text-align: right;\">          </td></tr>\n",
       "<tr><td>main_780bd_00030</td><td>PENDING   </td><td>                 </td><td style=\"text-align: right;\">     700</td><td style=\"text-align: right;\"> 128</td><td style=\"text-align: right;\">  64</td><td style=\"text-align: right;\">  16</td><td style=\"text-align: right;\">0.0006</td><td style=\"text-align: right;\">        0.0006</td><td style=\"text-align: right;\">      </td><td style=\"text-align: right;\">                </td><td style=\"text-align: right;\">          </td></tr>\n",
       "<tr><td>main_780bd_00000</td><td>TERMINATED</td><td>                 </td><td style=\"text-align: right;\">     700</td><td style=\"text-align: right;\"> 128</td><td style=\"text-align: right;\">  64</td><td style=\"text-align: right;\">  16</td><td style=\"text-align: right;\">0.0008</td><td style=\"text-align: right;\">        0.0009</td><td style=\"text-align: right;\">     1</td><td style=\"text-align: right;\">         13.6591</td><td style=\"text-align: right;\">  0.877091</td></tr>\n",
       "<tr><td>main_780bd_00001</td><td>TERMINATED</td><td>                 </td><td style=\"text-align: right;\">     700</td><td style=\"text-align: right;\"> 128</td><td style=\"text-align: right;\">  64</td><td style=\"text-align: right;\">  16</td><td style=\"text-align: right;\">0.001 </td><td style=\"text-align: right;\">        0.0006</td><td style=\"text-align: right;\">     1</td><td style=\"text-align: right;\">         13.6453</td><td style=\"text-align: right;\">  0.883636</td></tr>\n",
       "<tr><td>main_780bd_00002</td><td>TERMINATED</td><td>                 </td><td style=\"text-align: right;\">     700</td><td style=\"text-align: right;\"> 128</td><td style=\"text-align: right;\">  64</td><td style=\"text-align: right;\">  16</td><td style=\"text-align: right;\">0.0016</td><td style=\"text-align: right;\">        0.0009</td><td style=\"text-align: right;\">     1</td><td style=\"text-align: right;\">         12.996 </td><td style=\"text-align: right;\">  0.879273</td></tr>\n",
       "<tr><td>main_780bd_00003</td><td>TERMINATED</td><td>                 </td><td style=\"text-align: right;\">     800</td><td style=\"text-align: right;\"> 128</td><td style=\"text-align: right;\">  64</td><td style=\"text-align: right;\">  16</td><td style=\"text-align: right;\">0.0012</td><td style=\"text-align: right;\">        0.0006</td><td style=\"text-align: right;\">     1</td><td style=\"text-align: right;\">         14.9518</td><td style=\"text-align: right;\">  0.883636</td></tr>\n",
       "<tr><td>main_780bd_00004</td><td>TERMINATED</td><td>                 </td><td style=\"text-align: right;\">     700</td><td style=\"text-align: right;\"> 128</td><td style=\"text-align: right;\">  64</td><td style=\"text-align: right;\">  16</td><td style=\"text-align: right;\">0.0006</td><td style=\"text-align: right;\">        0.0003</td><td style=\"text-align: right;\">     1</td><td style=\"text-align: right;\">         13.1162</td><td style=\"text-align: right;\">  0.876364</td></tr>\n",
       "<tr><td>main_780bd_00005</td><td>TERMINATED</td><td>                 </td><td style=\"text-align: right;\">     800</td><td style=\"text-align: right;\"> 128</td><td style=\"text-align: right;\">  64</td><td style=\"text-align: right;\">  16</td><td style=\"text-align: right;\">0.0018</td><td style=\"text-align: right;\">        0.0006</td><td style=\"text-align: right;\">     1</td><td style=\"text-align: right;\">         14.9799</td><td style=\"text-align: right;\">  0.869818</td></tr>\n",
       "<tr><td>main_780bd_00006</td><td>TERMINATED</td><td>                 </td><td style=\"text-align: right;\">     700</td><td style=\"text-align: right;\"> 128</td><td style=\"text-align: right;\">  64</td><td style=\"text-align: right;\">  16</td><td style=\"text-align: right;\">0.0016</td><td style=\"text-align: right;\">        0.0006</td><td style=\"text-align: right;\">     1</td><td style=\"text-align: right;\">         13.208 </td><td style=\"text-align: right;\">  0.872727</td></tr>\n",
       "<tr><td>main_780bd_00007</td><td>TERMINATED</td><td>                 </td><td style=\"text-align: right;\">     800</td><td style=\"text-align: right;\"> 128</td><td style=\"text-align: right;\">  64</td><td style=\"text-align: right;\">  16</td><td style=\"text-align: right;\">0.0012</td><td style=\"text-align: right;\">        0.0006</td><td style=\"text-align: right;\">     1</td><td style=\"text-align: right;\">         15.0515</td><td style=\"text-align: right;\">  0.864727</td></tr>\n",
       "<tr><td>main_780bd_00008</td><td>TERMINATED</td><td>                 </td><td style=\"text-align: right;\">     800</td><td style=\"text-align: right;\"> 128</td><td style=\"text-align: right;\">  64</td><td style=\"text-align: right;\">  16</td><td style=\"text-align: right;\">0.0014</td><td style=\"text-align: right;\">        0.0009</td><td style=\"text-align: right;\">     1</td><td style=\"text-align: right;\">         14.9417</td><td style=\"text-align: right;\">  0.874909</td></tr>\n",
       "</tbody>\n",
       "</table><br>... 30 more trials not shown (19 PENDING, 11 TERMINATED)<br><br>"
      ],
      "text/plain": [
       "<IPython.core.display.HTML object>"
      ]
     },
     "metadata": {},
     "output_type": "display_data"
    },
    {
     "name": "stdout",
     "output_type": "stream",
     "text": [
      "Result for main_780bd_00021:\n",
      "  accuracy: 0.8683636363636363\n",
      "  date: 2021-05-07_17-37-56\n",
      "  done: true\n",
      "  experiment_id: f900cbd9bb324019b83872bc6796bb27\n",
      "  experiment_tag: 21_epochs=800,l1=128,l2=64,l3=16,lr=0.001,weight_decay=0.0003\n",
      "  hostname: 4ce982eb56f7\n",
      "  iterations_since_restore: 1\n",
      "  node_ip: 172.17.0.11\n",
      "  pid: 10072\n",
      "  time_since_restore: 15.709243774414062\n",
      "  time_this_iter_s: 15.709243774414062\n",
      "  time_total_s: 15.709243774414062\n",
      "  timestamp: 1620409076\n",
      "  timesteps_since_restore: 0\n",
      "  training_iteration: 1\n",
      "  trial_id: 780bd_00021\n",
      "  \n",
      "Result for main_780bd_00020:\n",
      "  accuracy: 0.8712727272727273\n",
      "  date: 2021-05-07_17-37-59\n",
      "  done: false\n",
      "  experiment_id: 02fc7206c2e7426f9d55fd3099059c75\n",
      "  hostname: 4ce982eb56f7\n",
      "  iterations_since_restore: 1\n",
      "  node_ip: 172.17.0.11\n",
      "  pid: 10066\n",
      "  time_since_restore: 19.048872470855713\n",
      "  time_this_iter_s: 19.048872470855713\n",
      "  time_total_s: 19.048872470855713\n",
      "  timestamp: 1620409079\n",
      "  timesteps_since_restore: 0\n",
      "  training_iteration: 1\n",
      "  trial_id: 780bd_00020\n",
      "  \n",
      "Result for main_780bd_00020:\n",
      "  accuracy: 0.8712727272727273\n",
      "  date: 2021-05-07_17-37-59\n",
      "  done: true\n",
      "  experiment_id: 02fc7206c2e7426f9d55fd3099059c75\n",
      "  experiment_tag: 20_epochs=700,l1=128,l2=64,l3=16,lr=0.0012,weight_decay=0.0009\n",
      "  hostname: 4ce982eb56f7\n",
      "  iterations_since_restore: 1\n",
      "  node_ip: 172.17.0.11\n",
      "  pid: 10066\n",
      "  time_since_restore: 19.048872470855713\n",
      "  time_this_iter_s: 19.048872470855713\n",
      "  time_total_s: 19.048872470855713\n",
      "  timestamp: 1620409079\n",
      "  timesteps_since_restore: 0\n",
      "  training_iteration: 1\n",
      "  trial_id: 780bd_00020\n",
      "  \n"
     ]
    },
    {
     "name": "stderr",
     "output_type": "stream",
     "text": [
      "\u001b[2m\u001b[36m(pid=10096)\u001b[0m Using backend: pytorch\n"
     ]
    },
    {
     "name": "stdout",
     "output_type": "stream",
     "text": [
      "\u001b[2m\u001b[36m(pid=10096)\u001b[0m l1 128 l2 64 l3 16\n"
     ]
    },
    {
     "name": "stderr",
     "output_type": "stream",
     "text": [
      "\u001b[2m\u001b[36m(pid=10071)\u001b[0m Using backend: pytorch\n"
     ]
    },
    {
     "name": "stdout",
     "output_type": "stream",
     "text": [
      "\u001b[2m\u001b[36m(pid=10071)\u001b[0m l1 128 l2 64 l3 16\n",
      "Result for main_780bd_00022:\n",
      "  accuracy: 0.8749090909090909\n",
      "  date: 2021-05-07_17-38-15\n",
      "  done: false\n",
      "  experiment_id: 77436b6f12ac4a30af16e7848e91d74f\n",
      "  hostname: 4ce982eb56f7\n",
      "  iterations_since_restore: 1\n",
      "  node_ip: 172.17.0.11\n",
      "  pid: 10096\n",
      "  time_since_restore: 15.80129361152649\n",
      "  time_this_iter_s: 15.80129361152649\n",
      "  time_total_s: 15.80129361152649\n",
      "  timestamp: 1620409095\n",
      "  timesteps_since_restore: 0\n",
      "  training_iteration: 1\n",
      "  trial_id: 780bd_00022\n",
      "  \n"
     ]
    },
    {
     "data": {
      "text/html": [
       "== Status ==<br>Memory usage on this node: 31.5/62.8 GiB<br>Using FIFO scheduling algorithm.<br>Resources requested: 2.0/8 CPUs, 2.0/2 GPUs, 0.0/41.76 GiB heap, 0.0/9.31 GiB objects (0.0/1.0 accelerator_type:GTX)<br>Result logdir: /root/ray_results/main_2021-05-07_17-34-25<br>Number of trials: 50/50 (26 PENDING, 2 RUNNING, 22 TERMINATED)<br><table>\n",
       "<thead>\n",
       "<tr><th>Trial name      </th><th>status    </th><th>loc              </th><th style=\"text-align: right;\">  epochs</th><th style=\"text-align: right;\">  l1</th><th style=\"text-align: right;\">  l2</th><th style=\"text-align: right;\">  l3</th><th style=\"text-align: right;\">    lr</th><th style=\"text-align: right;\">  weight_decay</th><th style=\"text-align: right;\">  iter</th><th style=\"text-align: right;\">  total time (s)</th><th style=\"text-align: right;\">  accuracy</th></tr>\n",
       "</thead>\n",
       "<tbody>\n",
       "<tr><td>main_780bd_00022</td><td>RUNNING   </td><td>172.17.0.11:10096</td><td style=\"text-align: right;\">     800</td><td style=\"text-align: right;\"> 128</td><td style=\"text-align: right;\">  64</td><td style=\"text-align: right;\">  16</td><td style=\"text-align: right;\">0.001 </td><td style=\"text-align: right;\">        0.0003</td><td style=\"text-align: right;\">     1</td><td style=\"text-align: right;\">         15.8013</td><td style=\"text-align: right;\">  0.874909</td></tr>\n",
       "<tr><td>main_780bd_00023</td><td>RUNNING   </td><td>                 </td><td style=\"text-align: right;\">     800</td><td style=\"text-align: right;\"> 128</td><td style=\"text-align: right;\">  64</td><td style=\"text-align: right;\">  16</td><td style=\"text-align: right;\">0.0014</td><td style=\"text-align: right;\">        0.0009</td><td style=\"text-align: right;\">      </td><td style=\"text-align: right;\">                </td><td style=\"text-align: right;\">          </td></tr>\n",
       "<tr><td>main_780bd_00024</td><td>PENDING   </td><td>                 </td><td style=\"text-align: right;\">     800</td><td style=\"text-align: right;\"> 128</td><td style=\"text-align: right;\">  64</td><td style=\"text-align: right;\">  16</td><td style=\"text-align: right;\">0.0012</td><td style=\"text-align: right;\">        0.0009</td><td style=\"text-align: right;\">      </td><td style=\"text-align: right;\">                </td><td style=\"text-align: right;\">          </td></tr>\n",
       "<tr><td>main_780bd_00025</td><td>PENDING   </td><td>                 </td><td style=\"text-align: right;\">     800</td><td style=\"text-align: right;\"> 128</td><td style=\"text-align: right;\">  64</td><td style=\"text-align: right;\">  16</td><td style=\"text-align: right;\">0.0016</td><td style=\"text-align: right;\">        0.0006</td><td style=\"text-align: right;\">      </td><td style=\"text-align: right;\">                </td><td style=\"text-align: right;\">          </td></tr>\n",
       "<tr><td>main_780bd_00026</td><td>PENDING   </td><td>                 </td><td style=\"text-align: right;\">     700</td><td style=\"text-align: right;\"> 128</td><td style=\"text-align: right;\">  64</td><td style=\"text-align: right;\">  16</td><td style=\"text-align: right;\">0.0016</td><td style=\"text-align: right;\">        0.0009</td><td style=\"text-align: right;\">      </td><td style=\"text-align: right;\">                </td><td style=\"text-align: right;\">          </td></tr>\n",
       "<tr><td>main_780bd_00027</td><td>PENDING   </td><td>                 </td><td style=\"text-align: right;\">     800</td><td style=\"text-align: right;\"> 128</td><td style=\"text-align: right;\">  64</td><td style=\"text-align: right;\">  16</td><td style=\"text-align: right;\">0.0006</td><td style=\"text-align: right;\">        0.0003</td><td style=\"text-align: right;\">      </td><td style=\"text-align: right;\">                </td><td style=\"text-align: right;\">          </td></tr>\n",
       "<tr><td>main_780bd_00028</td><td>PENDING   </td><td>                 </td><td style=\"text-align: right;\">     700</td><td style=\"text-align: right;\"> 128</td><td style=\"text-align: right;\">  64</td><td style=\"text-align: right;\">  16</td><td style=\"text-align: right;\">0.0016</td><td style=\"text-align: right;\">        0.0003</td><td style=\"text-align: right;\">      </td><td style=\"text-align: right;\">                </td><td style=\"text-align: right;\">          </td></tr>\n",
       "<tr><td>main_780bd_00029</td><td>PENDING   </td><td>                 </td><td style=\"text-align: right;\">     700</td><td style=\"text-align: right;\"> 128</td><td style=\"text-align: right;\">  64</td><td style=\"text-align: right;\">  16</td><td style=\"text-align: right;\">0.0018</td><td style=\"text-align: right;\">        0.0003</td><td style=\"text-align: right;\">      </td><td style=\"text-align: right;\">                </td><td style=\"text-align: right;\">          </td></tr>\n",
       "<tr><td>main_780bd_00030</td><td>PENDING   </td><td>                 </td><td style=\"text-align: right;\">     700</td><td style=\"text-align: right;\"> 128</td><td style=\"text-align: right;\">  64</td><td style=\"text-align: right;\">  16</td><td style=\"text-align: right;\">0.0006</td><td style=\"text-align: right;\">        0.0006</td><td style=\"text-align: right;\">      </td><td style=\"text-align: right;\">                </td><td style=\"text-align: right;\">          </td></tr>\n",
       "<tr><td>main_780bd_00031</td><td>PENDING   </td><td>                 </td><td style=\"text-align: right;\">     800</td><td style=\"text-align: right;\"> 128</td><td style=\"text-align: right;\">  64</td><td style=\"text-align: right;\">  16</td><td style=\"text-align: right;\">0.0006</td><td style=\"text-align: right;\">        0.0009</td><td style=\"text-align: right;\">      </td><td style=\"text-align: right;\">                </td><td style=\"text-align: right;\">          </td></tr>\n",
       "<tr><td>main_780bd_00032</td><td>PENDING   </td><td>                 </td><td style=\"text-align: right;\">     800</td><td style=\"text-align: right;\"> 128</td><td style=\"text-align: right;\">  64</td><td style=\"text-align: right;\">  16</td><td style=\"text-align: right;\">0.0016</td><td style=\"text-align: right;\">        0.0006</td><td style=\"text-align: right;\">      </td><td style=\"text-align: right;\">                </td><td style=\"text-align: right;\">          </td></tr>\n",
       "<tr><td>main_780bd_00000</td><td>TERMINATED</td><td>                 </td><td style=\"text-align: right;\">     700</td><td style=\"text-align: right;\"> 128</td><td style=\"text-align: right;\">  64</td><td style=\"text-align: right;\">  16</td><td style=\"text-align: right;\">0.0008</td><td style=\"text-align: right;\">        0.0009</td><td style=\"text-align: right;\">     1</td><td style=\"text-align: right;\">         13.6591</td><td style=\"text-align: right;\">  0.877091</td></tr>\n",
       "<tr><td>main_780bd_00001</td><td>TERMINATED</td><td>                 </td><td style=\"text-align: right;\">     700</td><td style=\"text-align: right;\"> 128</td><td style=\"text-align: right;\">  64</td><td style=\"text-align: right;\">  16</td><td style=\"text-align: right;\">0.001 </td><td style=\"text-align: right;\">        0.0006</td><td style=\"text-align: right;\">     1</td><td style=\"text-align: right;\">         13.6453</td><td style=\"text-align: right;\">  0.883636</td></tr>\n",
       "<tr><td>main_780bd_00002</td><td>TERMINATED</td><td>                 </td><td style=\"text-align: right;\">     700</td><td style=\"text-align: right;\"> 128</td><td style=\"text-align: right;\">  64</td><td style=\"text-align: right;\">  16</td><td style=\"text-align: right;\">0.0016</td><td style=\"text-align: right;\">        0.0009</td><td style=\"text-align: right;\">     1</td><td style=\"text-align: right;\">         12.996 </td><td style=\"text-align: right;\">  0.879273</td></tr>\n",
       "<tr><td>main_780bd_00003</td><td>TERMINATED</td><td>                 </td><td style=\"text-align: right;\">     800</td><td style=\"text-align: right;\"> 128</td><td style=\"text-align: right;\">  64</td><td style=\"text-align: right;\">  16</td><td style=\"text-align: right;\">0.0012</td><td style=\"text-align: right;\">        0.0006</td><td style=\"text-align: right;\">     1</td><td style=\"text-align: right;\">         14.9518</td><td style=\"text-align: right;\">  0.883636</td></tr>\n",
       "<tr><td>main_780bd_00004</td><td>TERMINATED</td><td>                 </td><td style=\"text-align: right;\">     700</td><td style=\"text-align: right;\"> 128</td><td style=\"text-align: right;\">  64</td><td style=\"text-align: right;\">  16</td><td style=\"text-align: right;\">0.0006</td><td style=\"text-align: right;\">        0.0003</td><td style=\"text-align: right;\">     1</td><td style=\"text-align: right;\">         13.1162</td><td style=\"text-align: right;\">  0.876364</td></tr>\n",
       "<tr><td>main_780bd_00005</td><td>TERMINATED</td><td>                 </td><td style=\"text-align: right;\">     800</td><td style=\"text-align: right;\"> 128</td><td style=\"text-align: right;\">  64</td><td style=\"text-align: right;\">  16</td><td style=\"text-align: right;\">0.0018</td><td style=\"text-align: right;\">        0.0006</td><td style=\"text-align: right;\">     1</td><td style=\"text-align: right;\">         14.9799</td><td style=\"text-align: right;\">  0.869818</td></tr>\n",
       "<tr><td>main_780bd_00006</td><td>TERMINATED</td><td>                 </td><td style=\"text-align: right;\">     700</td><td style=\"text-align: right;\"> 128</td><td style=\"text-align: right;\">  64</td><td style=\"text-align: right;\">  16</td><td style=\"text-align: right;\">0.0016</td><td style=\"text-align: right;\">        0.0006</td><td style=\"text-align: right;\">     1</td><td style=\"text-align: right;\">         13.208 </td><td style=\"text-align: right;\">  0.872727</td></tr>\n",
       "<tr><td>main_780bd_00007</td><td>TERMINATED</td><td>                 </td><td style=\"text-align: right;\">     800</td><td style=\"text-align: right;\"> 128</td><td style=\"text-align: right;\">  64</td><td style=\"text-align: right;\">  16</td><td style=\"text-align: right;\">0.0012</td><td style=\"text-align: right;\">        0.0006</td><td style=\"text-align: right;\">     1</td><td style=\"text-align: right;\">         15.0515</td><td style=\"text-align: right;\">  0.864727</td></tr>\n",
       "<tr><td>main_780bd_00008</td><td>TERMINATED</td><td>                 </td><td style=\"text-align: right;\">     800</td><td style=\"text-align: right;\"> 128</td><td style=\"text-align: right;\">  64</td><td style=\"text-align: right;\">  16</td><td style=\"text-align: right;\">0.0014</td><td style=\"text-align: right;\">        0.0009</td><td style=\"text-align: right;\">     1</td><td style=\"text-align: right;\">         14.9417</td><td style=\"text-align: right;\">  0.874909</td></tr>\n",
       "</tbody>\n",
       "</table><br>... 30 more trials not shown (17 PENDING, 13 TERMINATED)<br><br>"
      ],
      "text/plain": [
       "<IPython.core.display.HTML object>"
      ]
     },
     "metadata": {},
     "output_type": "display_data"
    },
    {
     "name": "stdout",
     "output_type": "stream",
     "text": [
      "Result for main_780bd_00022:\n",
      "  accuracy: 0.8749090909090909\n",
      "  date: 2021-05-07_17-38-15\n",
      "  done: true\n",
      "  experiment_id: 77436b6f12ac4a30af16e7848e91d74f\n",
      "  experiment_tag: 22_epochs=800,l1=128,l2=64,l3=16,lr=0.001,weight_decay=0.0003\n",
      "  hostname: 4ce982eb56f7\n",
      "  iterations_since_restore: 1\n",
      "  node_ip: 172.17.0.11\n",
      "  pid: 10096\n",
      "  time_since_restore: 15.80129361152649\n",
      "  time_this_iter_s: 15.80129361152649\n",
      "  time_total_s: 15.80129361152649\n",
      "  timestamp: 1620409095\n",
      "  timesteps_since_restore: 0\n",
      "  training_iteration: 1\n",
      "  trial_id: 780bd_00022\n",
      "  \n"
     ]
    },
    {
     "name": "stderr",
     "output_type": "stream",
     "text": [
      "\u001b[2m\u001b[36m(pid=10186)\u001b[0m Using backend: pytorch\n"
     ]
    },
    {
     "name": "stdout",
     "output_type": "stream",
     "text": [
      "\u001b[2m\u001b[36m(pid=10186)\u001b[0m l1 128 l2 64 l3 16\n",
      "Result for main_780bd_00023:\n",
      "  accuracy: 0.8734545454545455\n",
      "  date: 2021-05-07_17-38-24\n",
      "  done: false\n",
      "  experiment_id: 69c5d311dd5243e2bc03fe3f441bc7cd\n",
      "  hostname: 4ce982eb56f7\n",
      "  iterations_since_restore: 1\n",
      "  node_ip: 172.17.0.11\n",
      "  pid: 10071\n",
      "  time_since_restore: 21.814878940582275\n",
      "  time_this_iter_s: 21.814878940582275\n",
      "  time_total_s: 21.814878940582275\n",
      "  timestamp: 1620409104\n",
      "  timesteps_since_restore: 0\n",
      "  training_iteration: 1\n",
      "  trial_id: 780bd_00023\n",
      "  \n"
     ]
    },
    {
     "data": {
      "text/html": [
       "== Status ==<br>Memory usage on this node: 31.5/62.8 GiB<br>Using FIFO scheduling algorithm.<br>Resources requested: 2.0/8 CPUs, 2.0/2 GPUs, 0.0/41.76 GiB heap, 0.0/9.31 GiB objects (0.0/1.0 accelerator_type:GTX)<br>Result logdir: /root/ray_results/main_2021-05-07_17-34-25<br>Number of trials: 50/50 (25 PENDING, 2 RUNNING, 23 TERMINATED)<br><table>\n",
       "<thead>\n",
       "<tr><th>Trial name      </th><th>status    </th><th>loc              </th><th style=\"text-align: right;\">  epochs</th><th style=\"text-align: right;\">  l1</th><th style=\"text-align: right;\">  l2</th><th style=\"text-align: right;\">  l3</th><th style=\"text-align: right;\">    lr</th><th style=\"text-align: right;\">  weight_decay</th><th style=\"text-align: right;\">  iter</th><th style=\"text-align: right;\">  total time (s)</th><th style=\"text-align: right;\">  accuracy</th></tr>\n",
       "</thead>\n",
       "<tbody>\n",
       "<tr><td>main_780bd_00023</td><td>RUNNING   </td><td>172.17.0.11:10071</td><td style=\"text-align: right;\">     800</td><td style=\"text-align: right;\"> 128</td><td style=\"text-align: right;\">  64</td><td style=\"text-align: right;\">  16</td><td style=\"text-align: right;\">0.0014</td><td style=\"text-align: right;\">        0.0009</td><td style=\"text-align: right;\">     1</td><td style=\"text-align: right;\">         21.8149</td><td style=\"text-align: right;\">  0.873455</td></tr>\n",
       "<tr><td>main_780bd_00024</td><td>RUNNING   </td><td>                 </td><td style=\"text-align: right;\">     800</td><td style=\"text-align: right;\"> 128</td><td style=\"text-align: right;\">  64</td><td style=\"text-align: right;\">  16</td><td style=\"text-align: right;\">0.0012</td><td style=\"text-align: right;\">        0.0009</td><td style=\"text-align: right;\">      </td><td style=\"text-align: right;\">                </td><td style=\"text-align: right;\">          </td></tr>\n",
       "<tr><td>main_780bd_00025</td><td>PENDING   </td><td>                 </td><td style=\"text-align: right;\">     800</td><td style=\"text-align: right;\"> 128</td><td style=\"text-align: right;\">  64</td><td style=\"text-align: right;\">  16</td><td style=\"text-align: right;\">0.0016</td><td style=\"text-align: right;\">        0.0006</td><td style=\"text-align: right;\">      </td><td style=\"text-align: right;\">                </td><td style=\"text-align: right;\">          </td></tr>\n",
       "<tr><td>main_780bd_00026</td><td>PENDING   </td><td>                 </td><td style=\"text-align: right;\">     700</td><td style=\"text-align: right;\"> 128</td><td style=\"text-align: right;\">  64</td><td style=\"text-align: right;\">  16</td><td style=\"text-align: right;\">0.0016</td><td style=\"text-align: right;\">        0.0009</td><td style=\"text-align: right;\">      </td><td style=\"text-align: right;\">                </td><td style=\"text-align: right;\">          </td></tr>\n",
       "<tr><td>main_780bd_00027</td><td>PENDING   </td><td>                 </td><td style=\"text-align: right;\">     800</td><td style=\"text-align: right;\"> 128</td><td style=\"text-align: right;\">  64</td><td style=\"text-align: right;\">  16</td><td style=\"text-align: right;\">0.0006</td><td style=\"text-align: right;\">        0.0003</td><td style=\"text-align: right;\">      </td><td style=\"text-align: right;\">                </td><td style=\"text-align: right;\">          </td></tr>\n",
       "<tr><td>main_780bd_00028</td><td>PENDING   </td><td>                 </td><td style=\"text-align: right;\">     700</td><td style=\"text-align: right;\"> 128</td><td style=\"text-align: right;\">  64</td><td style=\"text-align: right;\">  16</td><td style=\"text-align: right;\">0.0016</td><td style=\"text-align: right;\">        0.0003</td><td style=\"text-align: right;\">      </td><td style=\"text-align: right;\">                </td><td style=\"text-align: right;\">          </td></tr>\n",
       "<tr><td>main_780bd_00029</td><td>PENDING   </td><td>                 </td><td style=\"text-align: right;\">     700</td><td style=\"text-align: right;\"> 128</td><td style=\"text-align: right;\">  64</td><td style=\"text-align: right;\">  16</td><td style=\"text-align: right;\">0.0018</td><td style=\"text-align: right;\">        0.0003</td><td style=\"text-align: right;\">      </td><td style=\"text-align: right;\">                </td><td style=\"text-align: right;\">          </td></tr>\n",
       "<tr><td>main_780bd_00030</td><td>PENDING   </td><td>                 </td><td style=\"text-align: right;\">     700</td><td style=\"text-align: right;\"> 128</td><td style=\"text-align: right;\">  64</td><td style=\"text-align: right;\">  16</td><td style=\"text-align: right;\">0.0006</td><td style=\"text-align: right;\">        0.0006</td><td style=\"text-align: right;\">      </td><td style=\"text-align: right;\">                </td><td style=\"text-align: right;\">          </td></tr>\n",
       "<tr><td>main_780bd_00031</td><td>PENDING   </td><td>                 </td><td style=\"text-align: right;\">     800</td><td style=\"text-align: right;\"> 128</td><td style=\"text-align: right;\">  64</td><td style=\"text-align: right;\">  16</td><td style=\"text-align: right;\">0.0006</td><td style=\"text-align: right;\">        0.0009</td><td style=\"text-align: right;\">      </td><td style=\"text-align: right;\">                </td><td style=\"text-align: right;\">          </td></tr>\n",
       "<tr><td>main_780bd_00032</td><td>PENDING   </td><td>                 </td><td style=\"text-align: right;\">     800</td><td style=\"text-align: right;\"> 128</td><td style=\"text-align: right;\">  64</td><td style=\"text-align: right;\">  16</td><td style=\"text-align: right;\">0.0016</td><td style=\"text-align: right;\">        0.0006</td><td style=\"text-align: right;\">      </td><td style=\"text-align: right;\">                </td><td style=\"text-align: right;\">          </td></tr>\n",
       "<tr><td>main_780bd_00033</td><td>PENDING   </td><td>                 </td><td style=\"text-align: right;\">     800</td><td style=\"text-align: right;\"> 128</td><td style=\"text-align: right;\">  64</td><td style=\"text-align: right;\">  16</td><td style=\"text-align: right;\">0.0006</td><td style=\"text-align: right;\">        0.0009</td><td style=\"text-align: right;\">      </td><td style=\"text-align: right;\">                </td><td style=\"text-align: right;\">          </td></tr>\n",
       "<tr><td>main_780bd_00000</td><td>TERMINATED</td><td>                 </td><td style=\"text-align: right;\">     700</td><td style=\"text-align: right;\"> 128</td><td style=\"text-align: right;\">  64</td><td style=\"text-align: right;\">  16</td><td style=\"text-align: right;\">0.0008</td><td style=\"text-align: right;\">        0.0009</td><td style=\"text-align: right;\">     1</td><td style=\"text-align: right;\">         13.6591</td><td style=\"text-align: right;\">  0.877091</td></tr>\n",
       "<tr><td>main_780bd_00001</td><td>TERMINATED</td><td>                 </td><td style=\"text-align: right;\">     700</td><td style=\"text-align: right;\"> 128</td><td style=\"text-align: right;\">  64</td><td style=\"text-align: right;\">  16</td><td style=\"text-align: right;\">0.001 </td><td style=\"text-align: right;\">        0.0006</td><td style=\"text-align: right;\">     1</td><td style=\"text-align: right;\">         13.6453</td><td style=\"text-align: right;\">  0.883636</td></tr>\n",
       "<tr><td>main_780bd_00002</td><td>TERMINATED</td><td>                 </td><td style=\"text-align: right;\">     700</td><td style=\"text-align: right;\"> 128</td><td style=\"text-align: right;\">  64</td><td style=\"text-align: right;\">  16</td><td style=\"text-align: right;\">0.0016</td><td style=\"text-align: right;\">        0.0009</td><td style=\"text-align: right;\">     1</td><td style=\"text-align: right;\">         12.996 </td><td style=\"text-align: right;\">  0.879273</td></tr>\n",
       "<tr><td>main_780bd_00003</td><td>TERMINATED</td><td>                 </td><td style=\"text-align: right;\">     800</td><td style=\"text-align: right;\"> 128</td><td style=\"text-align: right;\">  64</td><td style=\"text-align: right;\">  16</td><td style=\"text-align: right;\">0.0012</td><td style=\"text-align: right;\">        0.0006</td><td style=\"text-align: right;\">     1</td><td style=\"text-align: right;\">         14.9518</td><td style=\"text-align: right;\">  0.883636</td></tr>\n",
       "<tr><td>main_780bd_00004</td><td>TERMINATED</td><td>                 </td><td style=\"text-align: right;\">     700</td><td style=\"text-align: right;\"> 128</td><td style=\"text-align: right;\">  64</td><td style=\"text-align: right;\">  16</td><td style=\"text-align: right;\">0.0006</td><td style=\"text-align: right;\">        0.0003</td><td style=\"text-align: right;\">     1</td><td style=\"text-align: right;\">         13.1162</td><td style=\"text-align: right;\">  0.876364</td></tr>\n",
       "<tr><td>main_780bd_00005</td><td>TERMINATED</td><td>                 </td><td style=\"text-align: right;\">     800</td><td style=\"text-align: right;\"> 128</td><td style=\"text-align: right;\">  64</td><td style=\"text-align: right;\">  16</td><td style=\"text-align: right;\">0.0018</td><td style=\"text-align: right;\">        0.0006</td><td style=\"text-align: right;\">     1</td><td style=\"text-align: right;\">         14.9799</td><td style=\"text-align: right;\">  0.869818</td></tr>\n",
       "<tr><td>main_780bd_00006</td><td>TERMINATED</td><td>                 </td><td style=\"text-align: right;\">     700</td><td style=\"text-align: right;\"> 128</td><td style=\"text-align: right;\">  64</td><td style=\"text-align: right;\">  16</td><td style=\"text-align: right;\">0.0016</td><td style=\"text-align: right;\">        0.0006</td><td style=\"text-align: right;\">     1</td><td style=\"text-align: right;\">         13.208 </td><td style=\"text-align: right;\">  0.872727</td></tr>\n",
       "<tr><td>main_780bd_00007</td><td>TERMINATED</td><td>                 </td><td style=\"text-align: right;\">     800</td><td style=\"text-align: right;\"> 128</td><td style=\"text-align: right;\">  64</td><td style=\"text-align: right;\">  16</td><td style=\"text-align: right;\">0.0012</td><td style=\"text-align: right;\">        0.0006</td><td style=\"text-align: right;\">     1</td><td style=\"text-align: right;\">         15.0515</td><td style=\"text-align: right;\">  0.864727</td></tr>\n",
       "<tr><td>main_780bd_00008</td><td>TERMINATED</td><td>                 </td><td style=\"text-align: right;\">     800</td><td style=\"text-align: right;\"> 128</td><td style=\"text-align: right;\">  64</td><td style=\"text-align: right;\">  16</td><td style=\"text-align: right;\">0.0014</td><td style=\"text-align: right;\">        0.0009</td><td style=\"text-align: right;\">     1</td><td style=\"text-align: right;\">         14.9417</td><td style=\"text-align: right;\">  0.874909</td></tr>\n",
       "</tbody>\n",
       "</table><br>... 30 more trials not shown (16 PENDING, 14 TERMINATED)<br><br>"
      ],
      "text/plain": [
       "<IPython.core.display.HTML object>"
      ]
     },
     "metadata": {},
     "output_type": "display_data"
    },
    {
     "name": "stdout",
     "output_type": "stream",
     "text": [
      "Result for main_780bd_00023:\n",
      "  accuracy: 0.8734545454545455\n",
      "  date: 2021-05-07_17-38-24\n",
      "  done: true\n",
      "  experiment_id: 69c5d311dd5243e2bc03fe3f441bc7cd\n",
      "  experiment_tag: 23_epochs=800,l1=128,l2=64,l3=16,lr=0.0014,weight_decay=0.0009\n",
      "  hostname: 4ce982eb56f7\n",
      "  iterations_since_restore: 1\n",
      "  node_ip: 172.17.0.11\n",
      "  pid: 10071\n",
      "  time_since_restore: 21.814878940582275\n",
      "  time_this_iter_s: 21.814878940582275\n",
      "  time_total_s: 21.814878940582275\n",
      "  timestamp: 1620409104\n",
      "  timesteps_since_restore: 0\n",
      "  training_iteration: 1\n",
      "  trial_id: 780bd_00023\n",
      "  \n"
     ]
    },
    {
     "name": "stderr",
     "output_type": "stream",
     "text": [
      "\u001b[2m\u001b[36m(pid=10217)\u001b[0m Using backend: pytorch\n"
     ]
    },
    {
     "name": "stdout",
     "output_type": "stream",
     "text": [
      "\u001b[2m\u001b[36m(pid=10217)\u001b[0m l1 128 l2 64 l3 16\n",
      "Result for main_780bd_00024:\n",
      "  accuracy: 0.872\n",
      "  date: 2021-05-07_17-38-34\n",
      "  done: false\n",
      "  experiment_id: 2b93ec93b8fd4b55bdcfbca75e2a7110\n",
      "  hostname: 4ce982eb56f7\n",
      "  iterations_since_restore: 1\n",
      "  node_ip: 172.17.0.11\n",
      "  pid: 10186\n",
      "  time_since_restore: 15.370218276977539\n",
      "  time_this_iter_s: 15.370218276977539\n",
      "  time_total_s: 15.370218276977539\n",
      "  timestamp: 1620409114\n",
      "  timesteps_since_restore: 0\n",
      "  training_iteration: 1\n",
      "  trial_id: 780bd_00024\n",
      "  \n"
     ]
    },
    {
     "data": {
      "text/html": [
       "== Status ==<br>Memory usage on this node: 31.5/62.8 GiB<br>Using FIFO scheduling algorithm.<br>Resources requested: 2.0/8 CPUs, 2.0/2 GPUs, 0.0/41.76 GiB heap, 0.0/9.31 GiB objects (0.0/1.0 accelerator_type:GTX)<br>Result logdir: /root/ray_results/main_2021-05-07_17-34-25<br>Number of trials: 50/50 (24 PENDING, 2 RUNNING, 24 TERMINATED)<br><table>\n",
       "<thead>\n",
       "<tr><th>Trial name      </th><th>status    </th><th>loc              </th><th style=\"text-align: right;\">  epochs</th><th style=\"text-align: right;\">  l1</th><th style=\"text-align: right;\">  l2</th><th style=\"text-align: right;\">  l3</th><th style=\"text-align: right;\">    lr</th><th style=\"text-align: right;\">  weight_decay</th><th style=\"text-align: right;\">  iter</th><th style=\"text-align: right;\">  total time (s)</th><th style=\"text-align: right;\">  accuracy</th></tr>\n",
       "</thead>\n",
       "<tbody>\n",
       "<tr><td>main_780bd_00024</td><td>RUNNING   </td><td>172.17.0.11:10186</td><td style=\"text-align: right;\">     800</td><td style=\"text-align: right;\"> 128</td><td style=\"text-align: right;\">  64</td><td style=\"text-align: right;\">  16</td><td style=\"text-align: right;\">0.0012</td><td style=\"text-align: right;\">        0.0009</td><td style=\"text-align: right;\">     1</td><td style=\"text-align: right;\">         15.3702</td><td style=\"text-align: right;\">  0.872   </td></tr>\n",
       "<tr><td>main_780bd_00025</td><td>RUNNING   </td><td>                 </td><td style=\"text-align: right;\">     800</td><td style=\"text-align: right;\"> 128</td><td style=\"text-align: right;\">  64</td><td style=\"text-align: right;\">  16</td><td style=\"text-align: right;\">0.0016</td><td style=\"text-align: right;\">        0.0006</td><td style=\"text-align: right;\">      </td><td style=\"text-align: right;\">                </td><td style=\"text-align: right;\">          </td></tr>\n",
       "<tr><td>main_780bd_00026</td><td>PENDING   </td><td>                 </td><td style=\"text-align: right;\">     700</td><td style=\"text-align: right;\"> 128</td><td style=\"text-align: right;\">  64</td><td style=\"text-align: right;\">  16</td><td style=\"text-align: right;\">0.0016</td><td style=\"text-align: right;\">        0.0009</td><td style=\"text-align: right;\">      </td><td style=\"text-align: right;\">                </td><td style=\"text-align: right;\">          </td></tr>\n",
       "<tr><td>main_780bd_00027</td><td>PENDING   </td><td>                 </td><td style=\"text-align: right;\">     800</td><td style=\"text-align: right;\"> 128</td><td style=\"text-align: right;\">  64</td><td style=\"text-align: right;\">  16</td><td style=\"text-align: right;\">0.0006</td><td style=\"text-align: right;\">        0.0003</td><td style=\"text-align: right;\">      </td><td style=\"text-align: right;\">                </td><td style=\"text-align: right;\">          </td></tr>\n",
       "<tr><td>main_780bd_00028</td><td>PENDING   </td><td>                 </td><td style=\"text-align: right;\">     700</td><td style=\"text-align: right;\"> 128</td><td style=\"text-align: right;\">  64</td><td style=\"text-align: right;\">  16</td><td style=\"text-align: right;\">0.0016</td><td style=\"text-align: right;\">        0.0003</td><td style=\"text-align: right;\">      </td><td style=\"text-align: right;\">                </td><td style=\"text-align: right;\">          </td></tr>\n",
       "<tr><td>main_780bd_00029</td><td>PENDING   </td><td>                 </td><td style=\"text-align: right;\">     700</td><td style=\"text-align: right;\"> 128</td><td style=\"text-align: right;\">  64</td><td style=\"text-align: right;\">  16</td><td style=\"text-align: right;\">0.0018</td><td style=\"text-align: right;\">        0.0003</td><td style=\"text-align: right;\">      </td><td style=\"text-align: right;\">                </td><td style=\"text-align: right;\">          </td></tr>\n",
       "<tr><td>main_780bd_00030</td><td>PENDING   </td><td>                 </td><td style=\"text-align: right;\">     700</td><td style=\"text-align: right;\"> 128</td><td style=\"text-align: right;\">  64</td><td style=\"text-align: right;\">  16</td><td style=\"text-align: right;\">0.0006</td><td style=\"text-align: right;\">        0.0006</td><td style=\"text-align: right;\">      </td><td style=\"text-align: right;\">                </td><td style=\"text-align: right;\">          </td></tr>\n",
       "<tr><td>main_780bd_00031</td><td>PENDING   </td><td>                 </td><td style=\"text-align: right;\">     800</td><td style=\"text-align: right;\"> 128</td><td style=\"text-align: right;\">  64</td><td style=\"text-align: right;\">  16</td><td style=\"text-align: right;\">0.0006</td><td style=\"text-align: right;\">        0.0009</td><td style=\"text-align: right;\">      </td><td style=\"text-align: right;\">                </td><td style=\"text-align: right;\">          </td></tr>\n",
       "<tr><td>main_780bd_00032</td><td>PENDING   </td><td>                 </td><td style=\"text-align: right;\">     800</td><td style=\"text-align: right;\"> 128</td><td style=\"text-align: right;\">  64</td><td style=\"text-align: right;\">  16</td><td style=\"text-align: right;\">0.0016</td><td style=\"text-align: right;\">        0.0006</td><td style=\"text-align: right;\">      </td><td style=\"text-align: right;\">                </td><td style=\"text-align: right;\">          </td></tr>\n",
       "<tr><td>main_780bd_00033</td><td>PENDING   </td><td>                 </td><td style=\"text-align: right;\">     800</td><td style=\"text-align: right;\"> 128</td><td style=\"text-align: right;\">  64</td><td style=\"text-align: right;\">  16</td><td style=\"text-align: right;\">0.0006</td><td style=\"text-align: right;\">        0.0009</td><td style=\"text-align: right;\">      </td><td style=\"text-align: right;\">                </td><td style=\"text-align: right;\">          </td></tr>\n",
       "<tr><td>main_780bd_00034</td><td>PENDING   </td><td>                 </td><td style=\"text-align: right;\">     700</td><td style=\"text-align: right;\"> 128</td><td style=\"text-align: right;\">  64</td><td style=\"text-align: right;\">  16</td><td style=\"text-align: right;\">0.0016</td><td style=\"text-align: right;\">        0.0006</td><td style=\"text-align: right;\">      </td><td style=\"text-align: right;\">                </td><td style=\"text-align: right;\">          </td></tr>\n",
       "<tr><td>main_780bd_00000</td><td>TERMINATED</td><td>                 </td><td style=\"text-align: right;\">     700</td><td style=\"text-align: right;\"> 128</td><td style=\"text-align: right;\">  64</td><td style=\"text-align: right;\">  16</td><td style=\"text-align: right;\">0.0008</td><td style=\"text-align: right;\">        0.0009</td><td style=\"text-align: right;\">     1</td><td style=\"text-align: right;\">         13.6591</td><td style=\"text-align: right;\">  0.877091</td></tr>\n",
       "<tr><td>main_780bd_00001</td><td>TERMINATED</td><td>                 </td><td style=\"text-align: right;\">     700</td><td style=\"text-align: right;\"> 128</td><td style=\"text-align: right;\">  64</td><td style=\"text-align: right;\">  16</td><td style=\"text-align: right;\">0.001 </td><td style=\"text-align: right;\">        0.0006</td><td style=\"text-align: right;\">     1</td><td style=\"text-align: right;\">         13.6453</td><td style=\"text-align: right;\">  0.883636</td></tr>\n",
       "<tr><td>main_780bd_00002</td><td>TERMINATED</td><td>                 </td><td style=\"text-align: right;\">     700</td><td style=\"text-align: right;\"> 128</td><td style=\"text-align: right;\">  64</td><td style=\"text-align: right;\">  16</td><td style=\"text-align: right;\">0.0016</td><td style=\"text-align: right;\">        0.0009</td><td style=\"text-align: right;\">     1</td><td style=\"text-align: right;\">         12.996 </td><td style=\"text-align: right;\">  0.879273</td></tr>\n",
       "<tr><td>main_780bd_00003</td><td>TERMINATED</td><td>                 </td><td style=\"text-align: right;\">     800</td><td style=\"text-align: right;\"> 128</td><td style=\"text-align: right;\">  64</td><td style=\"text-align: right;\">  16</td><td style=\"text-align: right;\">0.0012</td><td style=\"text-align: right;\">        0.0006</td><td style=\"text-align: right;\">     1</td><td style=\"text-align: right;\">         14.9518</td><td style=\"text-align: right;\">  0.883636</td></tr>\n",
       "<tr><td>main_780bd_00004</td><td>TERMINATED</td><td>                 </td><td style=\"text-align: right;\">     700</td><td style=\"text-align: right;\"> 128</td><td style=\"text-align: right;\">  64</td><td style=\"text-align: right;\">  16</td><td style=\"text-align: right;\">0.0006</td><td style=\"text-align: right;\">        0.0003</td><td style=\"text-align: right;\">     1</td><td style=\"text-align: right;\">         13.1162</td><td style=\"text-align: right;\">  0.876364</td></tr>\n",
       "<tr><td>main_780bd_00005</td><td>TERMINATED</td><td>                 </td><td style=\"text-align: right;\">     800</td><td style=\"text-align: right;\"> 128</td><td style=\"text-align: right;\">  64</td><td style=\"text-align: right;\">  16</td><td style=\"text-align: right;\">0.0018</td><td style=\"text-align: right;\">        0.0006</td><td style=\"text-align: right;\">     1</td><td style=\"text-align: right;\">         14.9799</td><td style=\"text-align: right;\">  0.869818</td></tr>\n",
       "<tr><td>main_780bd_00006</td><td>TERMINATED</td><td>                 </td><td style=\"text-align: right;\">     700</td><td style=\"text-align: right;\"> 128</td><td style=\"text-align: right;\">  64</td><td style=\"text-align: right;\">  16</td><td style=\"text-align: right;\">0.0016</td><td style=\"text-align: right;\">        0.0006</td><td style=\"text-align: right;\">     1</td><td style=\"text-align: right;\">         13.208 </td><td style=\"text-align: right;\">  0.872727</td></tr>\n",
       "<tr><td>main_780bd_00007</td><td>TERMINATED</td><td>                 </td><td style=\"text-align: right;\">     800</td><td style=\"text-align: right;\"> 128</td><td style=\"text-align: right;\">  64</td><td style=\"text-align: right;\">  16</td><td style=\"text-align: right;\">0.0012</td><td style=\"text-align: right;\">        0.0006</td><td style=\"text-align: right;\">     1</td><td style=\"text-align: right;\">         15.0515</td><td style=\"text-align: right;\">  0.864727</td></tr>\n",
       "<tr><td>main_780bd_00008</td><td>TERMINATED</td><td>                 </td><td style=\"text-align: right;\">     800</td><td style=\"text-align: right;\"> 128</td><td style=\"text-align: right;\">  64</td><td style=\"text-align: right;\">  16</td><td style=\"text-align: right;\">0.0014</td><td style=\"text-align: right;\">        0.0009</td><td style=\"text-align: right;\">     1</td><td style=\"text-align: right;\">         14.9417</td><td style=\"text-align: right;\">  0.874909</td></tr>\n",
       "</tbody>\n",
       "</table><br>... 30 more trials not shown (15 PENDING, 15 TERMINATED)<br><br>"
      ],
      "text/plain": [
       "<IPython.core.display.HTML object>"
      ]
     },
     "metadata": {},
     "output_type": "display_data"
    },
    {
     "name": "stdout",
     "output_type": "stream",
     "text": [
      "Result for main_780bd_00024:\n",
      "  accuracy: 0.872\n",
      "  date: 2021-05-07_17-38-34\n",
      "  done: true\n",
      "  experiment_id: 2b93ec93b8fd4b55bdcfbca75e2a7110\n",
      "  experiment_tag: 24_epochs=800,l1=128,l2=64,l3=16,lr=0.0012,weight_decay=0.0009\n",
      "  hostname: 4ce982eb56f7\n",
      "  iterations_since_restore: 1\n",
      "  node_ip: 172.17.0.11\n",
      "  pid: 10186\n",
      "  time_since_restore: 15.370218276977539\n",
      "  time_this_iter_s: 15.370218276977539\n",
      "  time_total_s: 15.370218276977539\n",
      "  timestamp: 1620409114\n",
      "  timesteps_since_restore: 0\n",
      "  training_iteration: 1\n",
      "  trial_id: 780bd_00024\n",
      "  \n"
     ]
    },
    {
     "name": "stderr",
     "output_type": "stream",
     "text": [
      "\u001b[2m\u001b[36m(pid=10249)\u001b[0m Using backend: pytorch\n"
     ]
    },
    {
     "name": "stdout",
     "output_type": "stream",
     "text": [
      "\u001b[2m\u001b[36m(pid=10249)\u001b[0m l1 128 l2 64 l3 16\n",
      "Result for main_780bd_00025:\n",
      "  accuracy: 0.8661818181818182\n",
      "  date: 2021-05-07_17-38-45\n",
      "  done: false\n",
      "  experiment_id: 0bcbd3b5f305422fa3f8d5e3ed578c90\n",
      "  hostname: 4ce982eb56f7\n",
      "  iterations_since_restore: 1\n",
      "  node_ip: 172.17.0.11\n",
      "  pid: 10217\n",
      "  time_since_restore: 17.34782314300537\n",
      "  time_this_iter_s: 17.34782314300537\n",
      "  time_total_s: 17.34782314300537\n",
      "  timestamp: 1620409125\n",
      "  timesteps_since_restore: 0\n",
      "  training_iteration: 1\n",
      "  trial_id: 780bd_00025\n",
      "  \n"
     ]
    },
    {
     "data": {
      "text/html": [
       "== Status ==<br>Memory usage on this node: 31.5/62.8 GiB<br>Using FIFO scheduling algorithm.<br>Resources requested: 2.0/8 CPUs, 2.0/2 GPUs, 0.0/41.76 GiB heap, 0.0/9.31 GiB objects (0.0/1.0 accelerator_type:GTX)<br>Result logdir: /root/ray_results/main_2021-05-07_17-34-25<br>Number of trials: 50/50 (23 PENDING, 2 RUNNING, 25 TERMINATED)<br><table>\n",
       "<thead>\n",
       "<tr><th>Trial name      </th><th>status    </th><th>loc              </th><th style=\"text-align: right;\">  epochs</th><th style=\"text-align: right;\">  l1</th><th style=\"text-align: right;\">  l2</th><th style=\"text-align: right;\">  l3</th><th style=\"text-align: right;\">    lr</th><th style=\"text-align: right;\">  weight_decay</th><th style=\"text-align: right;\">  iter</th><th style=\"text-align: right;\">  total time (s)</th><th style=\"text-align: right;\">  accuracy</th></tr>\n",
       "</thead>\n",
       "<tbody>\n",
       "<tr><td>main_780bd_00025</td><td>RUNNING   </td><td>172.17.0.11:10217</td><td style=\"text-align: right;\">     800</td><td style=\"text-align: right;\"> 128</td><td style=\"text-align: right;\">  64</td><td style=\"text-align: right;\">  16</td><td style=\"text-align: right;\">0.0016</td><td style=\"text-align: right;\">        0.0006</td><td style=\"text-align: right;\">     1</td><td style=\"text-align: right;\">         17.3478</td><td style=\"text-align: right;\">  0.866182</td></tr>\n",
       "<tr><td>main_780bd_00026</td><td>RUNNING   </td><td>                 </td><td style=\"text-align: right;\">     700</td><td style=\"text-align: right;\"> 128</td><td style=\"text-align: right;\">  64</td><td style=\"text-align: right;\">  16</td><td style=\"text-align: right;\">0.0016</td><td style=\"text-align: right;\">        0.0009</td><td style=\"text-align: right;\">      </td><td style=\"text-align: right;\">                </td><td style=\"text-align: right;\">          </td></tr>\n",
       "<tr><td>main_780bd_00027</td><td>PENDING   </td><td>                 </td><td style=\"text-align: right;\">     800</td><td style=\"text-align: right;\"> 128</td><td style=\"text-align: right;\">  64</td><td style=\"text-align: right;\">  16</td><td style=\"text-align: right;\">0.0006</td><td style=\"text-align: right;\">        0.0003</td><td style=\"text-align: right;\">      </td><td style=\"text-align: right;\">                </td><td style=\"text-align: right;\">          </td></tr>\n",
       "<tr><td>main_780bd_00028</td><td>PENDING   </td><td>                 </td><td style=\"text-align: right;\">     700</td><td style=\"text-align: right;\"> 128</td><td style=\"text-align: right;\">  64</td><td style=\"text-align: right;\">  16</td><td style=\"text-align: right;\">0.0016</td><td style=\"text-align: right;\">        0.0003</td><td style=\"text-align: right;\">      </td><td style=\"text-align: right;\">                </td><td style=\"text-align: right;\">          </td></tr>\n",
       "<tr><td>main_780bd_00029</td><td>PENDING   </td><td>                 </td><td style=\"text-align: right;\">     700</td><td style=\"text-align: right;\"> 128</td><td style=\"text-align: right;\">  64</td><td style=\"text-align: right;\">  16</td><td style=\"text-align: right;\">0.0018</td><td style=\"text-align: right;\">        0.0003</td><td style=\"text-align: right;\">      </td><td style=\"text-align: right;\">                </td><td style=\"text-align: right;\">          </td></tr>\n",
       "<tr><td>main_780bd_00030</td><td>PENDING   </td><td>                 </td><td style=\"text-align: right;\">     700</td><td style=\"text-align: right;\"> 128</td><td style=\"text-align: right;\">  64</td><td style=\"text-align: right;\">  16</td><td style=\"text-align: right;\">0.0006</td><td style=\"text-align: right;\">        0.0006</td><td style=\"text-align: right;\">      </td><td style=\"text-align: right;\">                </td><td style=\"text-align: right;\">          </td></tr>\n",
       "<tr><td>main_780bd_00031</td><td>PENDING   </td><td>                 </td><td style=\"text-align: right;\">     800</td><td style=\"text-align: right;\"> 128</td><td style=\"text-align: right;\">  64</td><td style=\"text-align: right;\">  16</td><td style=\"text-align: right;\">0.0006</td><td style=\"text-align: right;\">        0.0009</td><td style=\"text-align: right;\">      </td><td style=\"text-align: right;\">                </td><td style=\"text-align: right;\">          </td></tr>\n",
       "<tr><td>main_780bd_00032</td><td>PENDING   </td><td>                 </td><td style=\"text-align: right;\">     800</td><td style=\"text-align: right;\"> 128</td><td style=\"text-align: right;\">  64</td><td style=\"text-align: right;\">  16</td><td style=\"text-align: right;\">0.0016</td><td style=\"text-align: right;\">        0.0006</td><td style=\"text-align: right;\">      </td><td style=\"text-align: right;\">                </td><td style=\"text-align: right;\">          </td></tr>\n",
       "<tr><td>main_780bd_00033</td><td>PENDING   </td><td>                 </td><td style=\"text-align: right;\">     800</td><td style=\"text-align: right;\"> 128</td><td style=\"text-align: right;\">  64</td><td style=\"text-align: right;\">  16</td><td style=\"text-align: right;\">0.0006</td><td style=\"text-align: right;\">        0.0009</td><td style=\"text-align: right;\">      </td><td style=\"text-align: right;\">                </td><td style=\"text-align: right;\">          </td></tr>\n",
       "<tr><td>main_780bd_00034</td><td>PENDING   </td><td>                 </td><td style=\"text-align: right;\">     700</td><td style=\"text-align: right;\"> 128</td><td style=\"text-align: right;\">  64</td><td style=\"text-align: right;\">  16</td><td style=\"text-align: right;\">0.0016</td><td style=\"text-align: right;\">        0.0006</td><td style=\"text-align: right;\">      </td><td style=\"text-align: right;\">                </td><td style=\"text-align: right;\">          </td></tr>\n",
       "<tr><td>main_780bd_00035</td><td>PENDING   </td><td>                 </td><td style=\"text-align: right;\">     800</td><td style=\"text-align: right;\"> 128</td><td style=\"text-align: right;\">  64</td><td style=\"text-align: right;\">  16</td><td style=\"text-align: right;\">0.001 </td><td style=\"text-align: right;\">        0.0006</td><td style=\"text-align: right;\">      </td><td style=\"text-align: right;\">                </td><td style=\"text-align: right;\">          </td></tr>\n",
       "<tr><td>main_780bd_00000</td><td>TERMINATED</td><td>                 </td><td style=\"text-align: right;\">     700</td><td style=\"text-align: right;\"> 128</td><td style=\"text-align: right;\">  64</td><td style=\"text-align: right;\">  16</td><td style=\"text-align: right;\">0.0008</td><td style=\"text-align: right;\">        0.0009</td><td style=\"text-align: right;\">     1</td><td style=\"text-align: right;\">         13.6591</td><td style=\"text-align: right;\">  0.877091</td></tr>\n",
       "<tr><td>main_780bd_00001</td><td>TERMINATED</td><td>                 </td><td style=\"text-align: right;\">     700</td><td style=\"text-align: right;\"> 128</td><td style=\"text-align: right;\">  64</td><td style=\"text-align: right;\">  16</td><td style=\"text-align: right;\">0.001 </td><td style=\"text-align: right;\">        0.0006</td><td style=\"text-align: right;\">     1</td><td style=\"text-align: right;\">         13.6453</td><td style=\"text-align: right;\">  0.883636</td></tr>\n",
       "<tr><td>main_780bd_00002</td><td>TERMINATED</td><td>                 </td><td style=\"text-align: right;\">     700</td><td style=\"text-align: right;\"> 128</td><td style=\"text-align: right;\">  64</td><td style=\"text-align: right;\">  16</td><td style=\"text-align: right;\">0.0016</td><td style=\"text-align: right;\">        0.0009</td><td style=\"text-align: right;\">     1</td><td style=\"text-align: right;\">         12.996 </td><td style=\"text-align: right;\">  0.879273</td></tr>\n",
       "<tr><td>main_780bd_00003</td><td>TERMINATED</td><td>                 </td><td style=\"text-align: right;\">     800</td><td style=\"text-align: right;\"> 128</td><td style=\"text-align: right;\">  64</td><td style=\"text-align: right;\">  16</td><td style=\"text-align: right;\">0.0012</td><td style=\"text-align: right;\">        0.0006</td><td style=\"text-align: right;\">     1</td><td style=\"text-align: right;\">         14.9518</td><td style=\"text-align: right;\">  0.883636</td></tr>\n",
       "<tr><td>main_780bd_00004</td><td>TERMINATED</td><td>                 </td><td style=\"text-align: right;\">     700</td><td style=\"text-align: right;\"> 128</td><td style=\"text-align: right;\">  64</td><td style=\"text-align: right;\">  16</td><td style=\"text-align: right;\">0.0006</td><td style=\"text-align: right;\">        0.0003</td><td style=\"text-align: right;\">     1</td><td style=\"text-align: right;\">         13.1162</td><td style=\"text-align: right;\">  0.876364</td></tr>\n",
       "<tr><td>main_780bd_00005</td><td>TERMINATED</td><td>                 </td><td style=\"text-align: right;\">     800</td><td style=\"text-align: right;\"> 128</td><td style=\"text-align: right;\">  64</td><td style=\"text-align: right;\">  16</td><td style=\"text-align: right;\">0.0018</td><td style=\"text-align: right;\">        0.0006</td><td style=\"text-align: right;\">     1</td><td style=\"text-align: right;\">         14.9799</td><td style=\"text-align: right;\">  0.869818</td></tr>\n",
       "<tr><td>main_780bd_00006</td><td>TERMINATED</td><td>                 </td><td style=\"text-align: right;\">     700</td><td style=\"text-align: right;\"> 128</td><td style=\"text-align: right;\">  64</td><td style=\"text-align: right;\">  16</td><td style=\"text-align: right;\">0.0016</td><td style=\"text-align: right;\">        0.0006</td><td style=\"text-align: right;\">     1</td><td style=\"text-align: right;\">         13.208 </td><td style=\"text-align: right;\">  0.872727</td></tr>\n",
       "<tr><td>main_780bd_00007</td><td>TERMINATED</td><td>                 </td><td style=\"text-align: right;\">     800</td><td style=\"text-align: right;\"> 128</td><td style=\"text-align: right;\">  64</td><td style=\"text-align: right;\">  16</td><td style=\"text-align: right;\">0.0012</td><td style=\"text-align: right;\">        0.0006</td><td style=\"text-align: right;\">     1</td><td style=\"text-align: right;\">         15.0515</td><td style=\"text-align: right;\">  0.864727</td></tr>\n",
       "<tr><td>main_780bd_00008</td><td>TERMINATED</td><td>                 </td><td style=\"text-align: right;\">     800</td><td style=\"text-align: right;\"> 128</td><td style=\"text-align: right;\">  64</td><td style=\"text-align: right;\">  16</td><td style=\"text-align: right;\">0.0014</td><td style=\"text-align: right;\">        0.0009</td><td style=\"text-align: right;\">     1</td><td style=\"text-align: right;\">         14.9417</td><td style=\"text-align: right;\">  0.874909</td></tr>\n",
       "</tbody>\n",
       "</table><br>... 30 more trials not shown (14 PENDING, 16 TERMINATED)<br><br>"
      ],
      "text/plain": [
       "<IPython.core.display.HTML object>"
      ]
     },
     "metadata": {},
     "output_type": "display_data"
    },
    {
     "name": "stdout",
     "output_type": "stream",
     "text": [
      "Result for main_780bd_00025:\n",
      "  accuracy: 0.8661818181818182\n",
      "  date: 2021-05-07_17-38-45\n",
      "  done: true\n",
      "  experiment_id: 0bcbd3b5f305422fa3f8d5e3ed578c90\n",
      "  experiment_tag: 25_epochs=800,l1=128,l2=64,l3=16,lr=0.0016,weight_decay=0.0006\n",
      "  hostname: 4ce982eb56f7\n",
      "  iterations_since_restore: 1\n",
      "  node_ip: 172.17.0.11\n",
      "  pid: 10217\n",
      "  time_since_restore: 17.34782314300537\n",
      "  time_this_iter_s: 17.34782314300537\n",
      "  time_total_s: 17.34782314300537\n",
      "  timestamp: 1620409125\n",
      "  timesteps_since_restore: 0\n",
      "  training_iteration: 1\n",
      "  trial_id: 780bd_00025\n",
      "  \n"
     ]
    },
    {
     "name": "stderr",
     "output_type": "stream",
     "text": [
      "\u001b[2m\u001b[36m(pid=10277)\u001b[0m Using backend: pytorch\n"
     ]
    },
    {
     "name": "stdout",
     "output_type": "stream",
     "text": [
      "\u001b[2m\u001b[36m(pid=10277)\u001b[0m l1 128 l2 64 l3 16\n",
      "Result for main_780bd_00026:\n",
      "  accuracy: 0.8690909090909091\n",
      "  date: 2021-05-07_17-38-52\n",
      "  done: false\n",
      "  experiment_id: 1b095d1fe3e346b3bbab7fd1732167ae\n",
      "  hostname: 4ce982eb56f7\n",
      "  iterations_since_restore: 1\n",
      "  node_ip: 172.17.0.11\n",
      "  pid: 10249\n",
      "  time_since_restore: 13.89190149307251\n",
      "  time_this_iter_s: 13.89190149307251\n",
      "  time_total_s: 13.89190149307251\n",
      "  timestamp: 1620409132\n",
      "  timesteps_since_restore: 0\n",
      "  training_iteration: 1\n",
      "  trial_id: 780bd_00026\n",
      "  \n"
     ]
    },
    {
     "data": {
      "text/html": [
       "== Status ==<br>Memory usage on this node: 31.5/62.8 GiB<br>Using FIFO scheduling algorithm.<br>Resources requested: 2.0/8 CPUs, 2.0/2 GPUs, 0.0/41.76 GiB heap, 0.0/9.31 GiB objects (0.0/1.0 accelerator_type:GTX)<br>Result logdir: /root/ray_results/main_2021-05-07_17-34-25<br>Number of trials: 50/50 (22 PENDING, 2 RUNNING, 26 TERMINATED)<br><table>\n",
       "<thead>\n",
       "<tr><th>Trial name      </th><th>status    </th><th>loc              </th><th style=\"text-align: right;\">  epochs</th><th style=\"text-align: right;\">  l1</th><th style=\"text-align: right;\">  l2</th><th style=\"text-align: right;\">  l3</th><th style=\"text-align: right;\">    lr</th><th style=\"text-align: right;\">  weight_decay</th><th style=\"text-align: right;\">  iter</th><th style=\"text-align: right;\">  total time (s)</th><th style=\"text-align: right;\">  accuracy</th></tr>\n",
       "</thead>\n",
       "<tbody>\n",
       "<tr><td>main_780bd_00026</td><td>RUNNING   </td><td>172.17.0.11:10249</td><td style=\"text-align: right;\">     700</td><td style=\"text-align: right;\"> 128</td><td style=\"text-align: right;\">  64</td><td style=\"text-align: right;\">  16</td><td style=\"text-align: right;\">0.0016</td><td style=\"text-align: right;\">        0.0009</td><td style=\"text-align: right;\">     1</td><td style=\"text-align: right;\">         13.8919</td><td style=\"text-align: right;\">  0.869091</td></tr>\n",
       "<tr><td>main_780bd_00027</td><td>RUNNING   </td><td>                 </td><td style=\"text-align: right;\">     800</td><td style=\"text-align: right;\"> 128</td><td style=\"text-align: right;\">  64</td><td style=\"text-align: right;\">  16</td><td style=\"text-align: right;\">0.0006</td><td style=\"text-align: right;\">        0.0003</td><td style=\"text-align: right;\">      </td><td style=\"text-align: right;\">                </td><td style=\"text-align: right;\">          </td></tr>\n",
       "<tr><td>main_780bd_00028</td><td>PENDING   </td><td>                 </td><td style=\"text-align: right;\">     700</td><td style=\"text-align: right;\"> 128</td><td style=\"text-align: right;\">  64</td><td style=\"text-align: right;\">  16</td><td style=\"text-align: right;\">0.0016</td><td style=\"text-align: right;\">        0.0003</td><td style=\"text-align: right;\">      </td><td style=\"text-align: right;\">                </td><td style=\"text-align: right;\">          </td></tr>\n",
       "<tr><td>main_780bd_00029</td><td>PENDING   </td><td>                 </td><td style=\"text-align: right;\">     700</td><td style=\"text-align: right;\"> 128</td><td style=\"text-align: right;\">  64</td><td style=\"text-align: right;\">  16</td><td style=\"text-align: right;\">0.0018</td><td style=\"text-align: right;\">        0.0003</td><td style=\"text-align: right;\">      </td><td style=\"text-align: right;\">                </td><td style=\"text-align: right;\">          </td></tr>\n",
       "<tr><td>main_780bd_00030</td><td>PENDING   </td><td>                 </td><td style=\"text-align: right;\">     700</td><td style=\"text-align: right;\"> 128</td><td style=\"text-align: right;\">  64</td><td style=\"text-align: right;\">  16</td><td style=\"text-align: right;\">0.0006</td><td style=\"text-align: right;\">        0.0006</td><td style=\"text-align: right;\">      </td><td style=\"text-align: right;\">                </td><td style=\"text-align: right;\">          </td></tr>\n",
       "<tr><td>main_780bd_00031</td><td>PENDING   </td><td>                 </td><td style=\"text-align: right;\">     800</td><td style=\"text-align: right;\"> 128</td><td style=\"text-align: right;\">  64</td><td style=\"text-align: right;\">  16</td><td style=\"text-align: right;\">0.0006</td><td style=\"text-align: right;\">        0.0009</td><td style=\"text-align: right;\">      </td><td style=\"text-align: right;\">                </td><td style=\"text-align: right;\">          </td></tr>\n",
       "<tr><td>main_780bd_00032</td><td>PENDING   </td><td>                 </td><td style=\"text-align: right;\">     800</td><td style=\"text-align: right;\"> 128</td><td style=\"text-align: right;\">  64</td><td style=\"text-align: right;\">  16</td><td style=\"text-align: right;\">0.0016</td><td style=\"text-align: right;\">        0.0006</td><td style=\"text-align: right;\">      </td><td style=\"text-align: right;\">                </td><td style=\"text-align: right;\">          </td></tr>\n",
       "<tr><td>main_780bd_00033</td><td>PENDING   </td><td>                 </td><td style=\"text-align: right;\">     800</td><td style=\"text-align: right;\"> 128</td><td style=\"text-align: right;\">  64</td><td style=\"text-align: right;\">  16</td><td style=\"text-align: right;\">0.0006</td><td style=\"text-align: right;\">        0.0009</td><td style=\"text-align: right;\">      </td><td style=\"text-align: right;\">                </td><td style=\"text-align: right;\">          </td></tr>\n",
       "<tr><td>main_780bd_00034</td><td>PENDING   </td><td>                 </td><td style=\"text-align: right;\">     700</td><td style=\"text-align: right;\"> 128</td><td style=\"text-align: right;\">  64</td><td style=\"text-align: right;\">  16</td><td style=\"text-align: right;\">0.0016</td><td style=\"text-align: right;\">        0.0006</td><td style=\"text-align: right;\">      </td><td style=\"text-align: right;\">                </td><td style=\"text-align: right;\">          </td></tr>\n",
       "<tr><td>main_780bd_00035</td><td>PENDING   </td><td>                 </td><td style=\"text-align: right;\">     800</td><td style=\"text-align: right;\"> 128</td><td style=\"text-align: right;\">  64</td><td style=\"text-align: right;\">  16</td><td style=\"text-align: right;\">0.001 </td><td style=\"text-align: right;\">        0.0006</td><td style=\"text-align: right;\">      </td><td style=\"text-align: right;\">                </td><td style=\"text-align: right;\">          </td></tr>\n",
       "<tr><td>main_780bd_00036</td><td>PENDING   </td><td>                 </td><td style=\"text-align: right;\">     700</td><td style=\"text-align: right;\"> 128</td><td style=\"text-align: right;\">  64</td><td style=\"text-align: right;\">  16</td><td style=\"text-align: right;\">0.0006</td><td style=\"text-align: right;\">        0.0006</td><td style=\"text-align: right;\">      </td><td style=\"text-align: right;\">                </td><td style=\"text-align: right;\">          </td></tr>\n",
       "<tr><td>main_780bd_00000</td><td>TERMINATED</td><td>                 </td><td style=\"text-align: right;\">     700</td><td style=\"text-align: right;\"> 128</td><td style=\"text-align: right;\">  64</td><td style=\"text-align: right;\">  16</td><td style=\"text-align: right;\">0.0008</td><td style=\"text-align: right;\">        0.0009</td><td style=\"text-align: right;\">     1</td><td style=\"text-align: right;\">         13.6591</td><td style=\"text-align: right;\">  0.877091</td></tr>\n",
       "<tr><td>main_780bd_00001</td><td>TERMINATED</td><td>                 </td><td style=\"text-align: right;\">     700</td><td style=\"text-align: right;\"> 128</td><td style=\"text-align: right;\">  64</td><td style=\"text-align: right;\">  16</td><td style=\"text-align: right;\">0.001 </td><td style=\"text-align: right;\">        0.0006</td><td style=\"text-align: right;\">     1</td><td style=\"text-align: right;\">         13.6453</td><td style=\"text-align: right;\">  0.883636</td></tr>\n",
       "<tr><td>main_780bd_00002</td><td>TERMINATED</td><td>                 </td><td style=\"text-align: right;\">     700</td><td style=\"text-align: right;\"> 128</td><td style=\"text-align: right;\">  64</td><td style=\"text-align: right;\">  16</td><td style=\"text-align: right;\">0.0016</td><td style=\"text-align: right;\">        0.0009</td><td style=\"text-align: right;\">     1</td><td style=\"text-align: right;\">         12.996 </td><td style=\"text-align: right;\">  0.879273</td></tr>\n",
       "<tr><td>main_780bd_00003</td><td>TERMINATED</td><td>                 </td><td style=\"text-align: right;\">     800</td><td style=\"text-align: right;\"> 128</td><td style=\"text-align: right;\">  64</td><td style=\"text-align: right;\">  16</td><td style=\"text-align: right;\">0.0012</td><td style=\"text-align: right;\">        0.0006</td><td style=\"text-align: right;\">     1</td><td style=\"text-align: right;\">         14.9518</td><td style=\"text-align: right;\">  0.883636</td></tr>\n",
       "<tr><td>main_780bd_00004</td><td>TERMINATED</td><td>                 </td><td style=\"text-align: right;\">     700</td><td style=\"text-align: right;\"> 128</td><td style=\"text-align: right;\">  64</td><td style=\"text-align: right;\">  16</td><td style=\"text-align: right;\">0.0006</td><td style=\"text-align: right;\">        0.0003</td><td style=\"text-align: right;\">     1</td><td style=\"text-align: right;\">         13.1162</td><td style=\"text-align: right;\">  0.876364</td></tr>\n",
       "<tr><td>main_780bd_00005</td><td>TERMINATED</td><td>                 </td><td style=\"text-align: right;\">     800</td><td style=\"text-align: right;\"> 128</td><td style=\"text-align: right;\">  64</td><td style=\"text-align: right;\">  16</td><td style=\"text-align: right;\">0.0018</td><td style=\"text-align: right;\">        0.0006</td><td style=\"text-align: right;\">     1</td><td style=\"text-align: right;\">         14.9799</td><td style=\"text-align: right;\">  0.869818</td></tr>\n",
       "<tr><td>main_780bd_00006</td><td>TERMINATED</td><td>                 </td><td style=\"text-align: right;\">     700</td><td style=\"text-align: right;\"> 128</td><td style=\"text-align: right;\">  64</td><td style=\"text-align: right;\">  16</td><td style=\"text-align: right;\">0.0016</td><td style=\"text-align: right;\">        0.0006</td><td style=\"text-align: right;\">     1</td><td style=\"text-align: right;\">         13.208 </td><td style=\"text-align: right;\">  0.872727</td></tr>\n",
       "<tr><td>main_780bd_00007</td><td>TERMINATED</td><td>                 </td><td style=\"text-align: right;\">     800</td><td style=\"text-align: right;\"> 128</td><td style=\"text-align: right;\">  64</td><td style=\"text-align: right;\">  16</td><td style=\"text-align: right;\">0.0012</td><td style=\"text-align: right;\">        0.0006</td><td style=\"text-align: right;\">     1</td><td style=\"text-align: right;\">         15.0515</td><td style=\"text-align: right;\">  0.864727</td></tr>\n",
       "<tr><td>main_780bd_00008</td><td>TERMINATED</td><td>                 </td><td style=\"text-align: right;\">     800</td><td style=\"text-align: right;\"> 128</td><td style=\"text-align: right;\">  64</td><td style=\"text-align: right;\">  16</td><td style=\"text-align: right;\">0.0014</td><td style=\"text-align: right;\">        0.0009</td><td style=\"text-align: right;\">     1</td><td style=\"text-align: right;\">         14.9417</td><td style=\"text-align: right;\">  0.874909</td></tr>\n",
       "</tbody>\n",
       "</table><br>... 30 more trials not shown (13 PENDING, 17 TERMINATED)<br><br>"
      ],
      "text/plain": [
       "<IPython.core.display.HTML object>"
      ]
     },
     "metadata": {},
     "output_type": "display_data"
    },
    {
     "name": "stdout",
     "output_type": "stream",
     "text": [
      "Result for main_780bd_00026:\n",
      "  accuracy: 0.8690909090909091\n",
      "  date: 2021-05-07_17-38-52\n",
      "  done: true\n",
      "  experiment_id: 1b095d1fe3e346b3bbab7fd1732167ae\n",
      "  experiment_tag: 26_epochs=700,l1=128,l2=64,l3=16,lr=0.0016,weight_decay=0.0009\n",
      "  hostname: 4ce982eb56f7\n",
      "  iterations_since_restore: 1\n",
      "  node_ip: 172.17.0.11\n",
      "  pid: 10249\n",
      "  time_since_restore: 13.89190149307251\n",
      "  time_this_iter_s: 13.89190149307251\n",
      "  time_total_s: 13.89190149307251\n",
      "  timestamp: 1620409132\n",
      "  timesteps_since_restore: 0\n",
      "  training_iteration: 1\n",
      "  trial_id: 780bd_00026\n",
      "  \n"
     ]
    },
    {
     "name": "stderr",
     "output_type": "stream",
     "text": [
      "\u001b[2m\u001b[36m(pid=10307)\u001b[0m Using backend: pytorch\n"
     ]
    },
    {
     "name": "stdout",
     "output_type": "stream",
     "text": [
      "\u001b[2m\u001b[36m(pid=10307)\u001b[0m l1 128 l2 64 l3 16\n",
      "Result for main_780bd_00028:\n",
      "  accuracy: 0.8530909090909091\n",
      "  date: 2021-05-07_17-39-09\n",
      "  done: false\n",
      "  experiment_id: 47edf1d0c2584666a89b150ba08ee665\n",
      "  hostname: 4ce982eb56f7\n",
      "  iterations_since_restore: 1\n",
      "  node_ip: 172.17.0.11\n",
      "  pid: 10307\n",
      "  time_since_restore: 13.6358482837677\n",
      "  time_this_iter_s: 13.6358482837677\n",
      "  time_total_s: 13.6358482837677\n",
      "  timestamp: 1620409149\n",
      "  timesteps_since_restore: 0\n",
      "  training_iteration: 1\n",
      "  trial_id: 780bd_00028\n",
      "  \n"
     ]
    },
    {
     "data": {
      "text/html": [
       "== Status ==<br>Memory usage on this node: 31.5/62.8 GiB<br>Using FIFO scheduling algorithm.<br>Resources requested: 2.0/8 CPUs, 2.0/2 GPUs, 0.0/41.76 GiB heap, 0.0/9.31 GiB objects (0.0/1.0 accelerator_type:GTX)<br>Result logdir: /root/ray_results/main_2021-05-07_17-34-25<br>Number of trials: 50/50 (21 PENDING, 2 RUNNING, 27 TERMINATED)<br><table>\n",
       "<thead>\n",
       "<tr><th>Trial name      </th><th>status    </th><th>loc              </th><th style=\"text-align: right;\">  epochs</th><th style=\"text-align: right;\">  l1</th><th style=\"text-align: right;\">  l2</th><th style=\"text-align: right;\">  l3</th><th style=\"text-align: right;\">    lr</th><th style=\"text-align: right;\">  weight_decay</th><th style=\"text-align: right;\">  iter</th><th style=\"text-align: right;\">  total time (s)</th><th style=\"text-align: right;\">  accuracy</th></tr>\n",
       "</thead>\n",
       "<tbody>\n",
       "<tr><td>main_780bd_00027</td><td>RUNNING   </td><td>                 </td><td style=\"text-align: right;\">     800</td><td style=\"text-align: right;\"> 128</td><td style=\"text-align: right;\">  64</td><td style=\"text-align: right;\">  16</td><td style=\"text-align: right;\">0.0006</td><td style=\"text-align: right;\">        0.0003</td><td style=\"text-align: right;\">      </td><td style=\"text-align: right;\">                </td><td style=\"text-align: right;\">          </td></tr>\n",
       "<tr><td>main_780bd_00028</td><td>RUNNING   </td><td>172.17.0.11:10307</td><td style=\"text-align: right;\">     700</td><td style=\"text-align: right;\"> 128</td><td style=\"text-align: right;\">  64</td><td style=\"text-align: right;\">  16</td><td style=\"text-align: right;\">0.0016</td><td style=\"text-align: right;\">        0.0003</td><td style=\"text-align: right;\">     1</td><td style=\"text-align: right;\">         13.6358</td><td style=\"text-align: right;\">  0.853091</td></tr>\n",
       "<tr><td>main_780bd_00029</td><td>PENDING   </td><td>                 </td><td style=\"text-align: right;\">     700</td><td style=\"text-align: right;\"> 128</td><td style=\"text-align: right;\">  64</td><td style=\"text-align: right;\">  16</td><td style=\"text-align: right;\">0.0018</td><td style=\"text-align: right;\">        0.0003</td><td style=\"text-align: right;\">      </td><td style=\"text-align: right;\">                </td><td style=\"text-align: right;\">          </td></tr>\n",
       "<tr><td>main_780bd_00030</td><td>PENDING   </td><td>                 </td><td style=\"text-align: right;\">     700</td><td style=\"text-align: right;\"> 128</td><td style=\"text-align: right;\">  64</td><td style=\"text-align: right;\">  16</td><td style=\"text-align: right;\">0.0006</td><td style=\"text-align: right;\">        0.0006</td><td style=\"text-align: right;\">      </td><td style=\"text-align: right;\">                </td><td style=\"text-align: right;\">          </td></tr>\n",
       "<tr><td>main_780bd_00031</td><td>PENDING   </td><td>                 </td><td style=\"text-align: right;\">     800</td><td style=\"text-align: right;\"> 128</td><td style=\"text-align: right;\">  64</td><td style=\"text-align: right;\">  16</td><td style=\"text-align: right;\">0.0006</td><td style=\"text-align: right;\">        0.0009</td><td style=\"text-align: right;\">      </td><td style=\"text-align: right;\">                </td><td style=\"text-align: right;\">          </td></tr>\n",
       "<tr><td>main_780bd_00032</td><td>PENDING   </td><td>                 </td><td style=\"text-align: right;\">     800</td><td style=\"text-align: right;\"> 128</td><td style=\"text-align: right;\">  64</td><td style=\"text-align: right;\">  16</td><td style=\"text-align: right;\">0.0016</td><td style=\"text-align: right;\">        0.0006</td><td style=\"text-align: right;\">      </td><td style=\"text-align: right;\">                </td><td style=\"text-align: right;\">          </td></tr>\n",
       "<tr><td>main_780bd_00033</td><td>PENDING   </td><td>                 </td><td style=\"text-align: right;\">     800</td><td style=\"text-align: right;\"> 128</td><td style=\"text-align: right;\">  64</td><td style=\"text-align: right;\">  16</td><td style=\"text-align: right;\">0.0006</td><td style=\"text-align: right;\">        0.0009</td><td style=\"text-align: right;\">      </td><td style=\"text-align: right;\">                </td><td style=\"text-align: right;\">          </td></tr>\n",
       "<tr><td>main_780bd_00034</td><td>PENDING   </td><td>                 </td><td style=\"text-align: right;\">     700</td><td style=\"text-align: right;\"> 128</td><td style=\"text-align: right;\">  64</td><td style=\"text-align: right;\">  16</td><td style=\"text-align: right;\">0.0016</td><td style=\"text-align: right;\">        0.0006</td><td style=\"text-align: right;\">      </td><td style=\"text-align: right;\">                </td><td style=\"text-align: right;\">          </td></tr>\n",
       "<tr><td>main_780bd_00035</td><td>PENDING   </td><td>                 </td><td style=\"text-align: right;\">     800</td><td style=\"text-align: right;\"> 128</td><td style=\"text-align: right;\">  64</td><td style=\"text-align: right;\">  16</td><td style=\"text-align: right;\">0.001 </td><td style=\"text-align: right;\">        0.0006</td><td style=\"text-align: right;\">      </td><td style=\"text-align: right;\">                </td><td style=\"text-align: right;\">          </td></tr>\n",
       "<tr><td>main_780bd_00036</td><td>PENDING   </td><td>                 </td><td style=\"text-align: right;\">     700</td><td style=\"text-align: right;\"> 128</td><td style=\"text-align: right;\">  64</td><td style=\"text-align: right;\">  16</td><td style=\"text-align: right;\">0.0006</td><td style=\"text-align: right;\">        0.0006</td><td style=\"text-align: right;\">      </td><td style=\"text-align: right;\">                </td><td style=\"text-align: right;\">          </td></tr>\n",
       "<tr><td>main_780bd_00037</td><td>PENDING   </td><td>                 </td><td style=\"text-align: right;\">     800</td><td style=\"text-align: right;\"> 128</td><td style=\"text-align: right;\">  64</td><td style=\"text-align: right;\">  16</td><td style=\"text-align: right;\">0.0012</td><td style=\"text-align: right;\">        0.0009</td><td style=\"text-align: right;\">      </td><td style=\"text-align: right;\">                </td><td style=\"text-align: right;\">          </td></tr>\n",
       "<tr><td>main_780bd_00000</td><td>TERMINATED</td><td>                 </td><td style=\"text-align: right;\">     700</td><td style=\"text-align: right;\"> 128</td><td style=\"text-align: right;\">  64</td><td style=\"text-align: right;\">  16</td><td style=\"text-align: right;\">0.0008</td><td style=\"text-align: right;\">        0.0009</td><td style=\"text-align: right;\">     1</td><td style=\"text-align: right;\">         13.6591</td><td style=\"text-align: right;\">  0.877091</td></tr>\n",
       "<tr><td>main_780bd_00001</td><td>TERMINATED</td><td>                 </td><td style=\"text-align: right;\">     700</td><td style=\"text-align: right;\"> 128</td><td style=\"text-align: right;\">  64</td><td style=\"text-align: right;\">  16</td><td style=\"text-align: right;\">0.001 </td><td style=\"text-align: right;\">        0.0006</td><td style=\"text-align: right;\">     1</td><td style=\"text-align: right;\">         13.6453</td><td style=\"text-align: right;\">  0.883636</td></tr>\n",
       "<tr><td>main_780bd_00002</td><td>TERMINATED</td><td>                 </td><td style=\"text-align: right;\">     700</td><td style=\"text-align: right;\"> 128</td><td style=\"text-align: right;\">  64</td><td style=\"text-align: right;\">  16</td><td style=\"text-align: right;\">0.0016</td><td style=\"text-align: right;\">        0.0009</td><td style=\"text-align: right;\">     1</td><td style=\"text-align: right;\">         12.996 </td><td style=\"text-align: right;\">  0.879273</td></tr>\n",
       "<tr><td>main_780bd_00003</td><td>TERMINATED</td><td>                 </td><td style=\"text-align: right;\">     800</td><td style=\"text-align: right;\"> 128</td><td style=\"text-align: right;\">  64</td><td style=\"text-align: right;\">  16</td><td style=\"text-align: right;\">0.0012</td><td style=\"text-align: right;\">        0.0006</td><td style=\"text-align: right;\">     1</td><td style=\"text-align: right;\">         14.9518</td><td style=\"text-align: right;\">  0.883636</td></tr>\n",
       "<tr><td>main_780bd_00004</td><td>TERMINATED</td><td>                 </td><td style=\"text-align: right;\">     700</td><td style=\"text-align: right;\"> 128</td><td style=\"text-align: right;\">  64</td><td style=\"text-align: right;\">  16</td><td style=\"text-align: right;\">0.0006</td><td style=\"text-align: right;\">        0.0003</td><td style=\"text-align: right;\">     1</td><td style=\"text-align: right;\">         13.1162</td><td style=\"text-align: right;\">  0.876364</td></tr>\n",
       "<tr><td>main_780bd_00005</td><td>TERMINATED</td><td>                 </td><td style=\"text-align: right;\">     800</td><td style=\"text-align: right;\"> 128</td><td style=\"text-align: right;\">  64</td><td style=\"text-align: right;\">  16</td><td style=\"text-align: right;\">0.0018</td><td style=\"text-align: right;\">        0.0006</td><td style=\"text-align: right;\">     1</td><td style=\"text-align: right;\">         14.9799</td><td style=\"text-align: right;\">  0.869818</td></tr>\n",
       "<tr><td>main_780bd_00006</td><td>TERMINATED</td><td>                 </td><td style=\"text-align: right;\">     700</td><td style=\"text-align: right;\"> 128</td><td style=\"text-align: right;\">  64</td><td style=\"text-align: right;\">  16</td><td style=\"text-align: right;\">0.0016</td><td style=\"text-align: right;\">        0.0006</td><td style=\"text-align: right;\">     1</td><td style=\"text-align: right;\">         13.208 </td><td style=\"text-align: right;\">  0.872727</td></tr>\n",
       "<tr><td>main_780bd_00007</td><td>TERMINATED</td><td>                 </td><td style=\"text-align: right;\">     800</td><td style=\"text-align: right;\"> 128</td><td style=\"text-align: right;\">  64</td><td style=\"text-align: right;\">  16</td><td style=\"text-align: right;\">0.0012</td><td style=\"text-align: right;\">        0.0006</td><td style=\"text-align: right;\">     1</td><td style=\"text-align: right;\">         15.0515</td><td style=\"text-align: right;\">  0.864727</td></tr>\n",
       "<tr><td>main_780bd_00008</td><td>TERMINATED</td><td>                 </td><td style=\"text-align: right;\">     800</td><td style=\"text-align: right;\"> 128</td><td style=\"text-align: right;\">  64</td><td style=\"text-align: right;\">  16</td><td style=\"text-align: right;\">0.0014</td><td style=\"text-align: right;\">        0.0009</td><td style=\"text-align: right;\">     1</td><td style=\"text-align: right;\">         14.9417</td><td style=\"text-align: right;\">  0.874909</td></tr>\n",
       "</tbody>\n",
       "</table><br>... 30 more trials not shown (12 PENDING, 18 TERMINATED)<br><br>"
      ],
      "text/plain": [
       "<IPython.core.display.HTML object>"
      ]
     },
     "metadata": {},
     "output_type": "display_data"
    },
    {
     "name": "stdout",
     "output_type": "stream",
     "text": [
      "Result for main_780bd_00028:\n",
      "  accuracy: 0.8530909090909091\n",
      "  date: 2021-05-07_17-39-09\n",
      "  done: true\n",
      "  experiment_id: 47edf1d0c2584666a89b150ba08ee665\n",
      "  experiment_tag: 28_epochs=700,l1=128,l2=64,l3=16,lr=0.0016,weight_decay=0.0003\n",
      "  hostname: 4ce982eb56f7\n",
      "  iterations_since_restore: 1\n",
      "  node_ip: 172.17.0.11\n",
      "  pid: 10307\n",
      "  time_since_restore: 13.6358482837677\n",
      "  time_this_iter_s: 13.6358482837677\n",
      "  time_total_s: 13.6358482837677\n",
      "  timestamp: 1620409149\n",
      "  timesteps_since_restore: 0\n",
      "  training_iteration: 1\n",
      "  trial_id: 780bd_00028\n",
      "  \n",
      "Result for main_780bd_00027:\n",
      "  accuracy: 0.8705454545454545\n",
      "  date: 2021-05-07_17-39-11\n",
      "  done: false\n",
      "  experiment_id: 441c207b115b4f928c9b7765de1c982f\n",
      "  hostname: 4ce982eb56f7\n",
      "  iterations_since_restore: 1\n",
      "  node_ip: 172.17.0.11\n",
      "  pid: 10277\n",
      "  time_since_restore: 21.83797812461853\n",
      "  time_this_iter_s: 21.83797812461853\n",
      "  time_total_s: 21.83797812461853\n",
      "  timestamp: 1620409151\n",
      "  timesteps_since_restore: 0\n",
      "  training_iteration: 1\n",
      "  trial_id: 780bd_00027\n",
      "  \n",
      "Result for main_780bd_00027:\n",
      "  accuracy: 0.8705454545454545\n",
      "  date: 2021-05-07_17-39-11\n",
      "  done: true\n",
      "  experiment_id: 441c207b115b4f928c9b7765de1c982f\n",
      "  experiment_tag: 27_epochs=800,l1=128,l2=64,l3=16,lr=0.0006,weight_decay=0.0003\n",
      "  hostname: 4ce982eb56f7\n",
      "  iterations_since_restore: 1\n",
      "  node_ip: 172.17.0.11\n",
      "  pid: 10277\n",
      "  time_since_restore: 21.83797812461853\n",
      "  time_this_iter_s: 21.83797812461853\n",
      "  time_total_s: 21.83797812461853\n",
      "  timestamp: 1620409151\n",
      "  timesteps_since_restore: 0\n",
      "  training_iteration: 1\n",
      "  trial_id: 780bd_00027\n",
      "  \n"
     ]
    },
    {
     "name": "stderr",
     "output_type": "stream",
     "text": [
      "\u001b[2m\u001b[36m(pid=10339)\u001b[0m Using backend: pytorch\n"
     ]
    },
    {
     "name": "stdout",
     "output_type": "stream",
     "text": [
      "\u001b[2m\u001b[36m(pid=10339)\u001b[0m l1 128 l2 64 l3 16\n"
     ]
    },
    {
     "name": "stderr",
     "output_type": "stream",
     "text": [
      "\u001b[2m\u001b[36m(pid=10368)\u001b[0m Using backend: pytorch\n"
     ]
    },
    {
     "name": "stdout",
     "output_type": "stream",
     "text": [
      "\u001b[2m\u001b[36m(pid=10368)\u001b[0m l1 128 l2 64 l3 16\n",
      "Result for main_780bd_00029:\n",
      "  accuracy: 0.8872727272727273\n",
      "  date: 2021-05-07_17-39-27\n",
      "  done: false\n",
      "  experiment_id: 2d2e41f442f945878335a4e84272b4d1\n",
      "  hostname: 4ce982eb56f7\n",
      "  iterations_since_restore: 1\n",
      "  node_ip: 172.17.0.11\n",
      "  pid: 10339\n",
      "  time_since_restore: 13.879772424697876\n",
      "  time_this_iter_s: 13.879772424697876\n",
      "  time_total_s: 13.879772424697876\n",
      "  timestamp: 1620409167\n",
      "  timesteps_since_restore: 0\n",
      "  training_iteration: 1\n",
      "  trial_id: 780bd_00029\n",
      "  \n"
     ]
    },
    {
     "data": {
      "text/html": [
       "== Status ==<br>Memory usage on this node: 31.5/62.8 GiB<br>Using FIFO scheduling algorithm.<br>Resources requested: 2.0/8 CPUs, 2.0/2 GPUs, 0.0/41.76 GiB heap, 0.0/9.31 GiB objects (0.0/1.0 accelerator_type:GTX)<br>Result logdir: /root/ray_results/main_2021-05-07_17-34-25<br>Number of trials: 50/50 (19 PENDING, 2 RUNNING, 29 TERMINATED)<br><table>\n",
       "<thead>\n",
       "<tr><th>Trial name      </th><th>status    </th><th>loc              </th><th style=\"text-align: right;\">  epochs</th><th style=\"text-align: right;\">  l1</th><th style=\"text-align: right;\">  l2</th><th style=\"text-align: right;\">  l3</th><th style=\"text-align: right;\">    lr</th><th style=\"text-align: right;\">  weight_decay</th><th style=\"text-align: right;\">  iter</th><th style=\"text-align: right;\">  total time (s)</th><th style=\"text-align: right;\">  accuracy</th></tr>\n",
       "</thead>\n",
       "<tbody>\n",
       "<tr><td>main_780bd_00029</td><td>RUNNING   </td><td>172.17.0.11:10339</td><td style=\"text-align: right;\">     700</td><td style=\"text-align: right;\"> 128</td><td style=\"text-align: right;\">  64</td><td style=\"text-align: right;\">  16</td><td style=\"text-align: right;\">0.0018</td><td style=\"text-align: right;\">        0.0003</td><td style=\"text-align: right;\">     1</td><td style=\"text-align: right;\">         13.8798</td><td style=\"text-align: right;\">  0.887273</td></tr>\n",
       "<tr><td>main_780bd_00030</td><td>RUNNING   </td><td>                 </td><td style=\"text-align: right;\">     700</td><td style=\"text-align: right;\"> 128</td><td style=\"text-align: right;\">  64</td><td style=\"text-align: right;\">  16</td><td style=\"text-align: right;\">0.0006</td><td style=\"text-align: right;\">        0.0006</td><td style=\"text-align: right;\">      </td><td style=\"text-align: right;\">                </td><td style=\"text-align: right;\">          </td></tr>\n",
       "<tr><td>main_780bd_00031</td><td>PENDING   </td><td>                 </td><td style=\"text-align: right;\">     800</td><td style=\"text-align: right;\"> 128</td><td style=\"text-align: right;\">  64</td><td style=\"text-align: right;\">  16</td><td style=\"text-align: right;\">0.0006</td><td style=\"text-align: right;\">        0.0009</td><td style=\"text-align: right;\">      </td><td style=\"text-align: right;\">                </td><td style=\"text-align: right;\">          </td></tr>\n",
       "<tr><td>main_780bd_00032</td><td>PENDING   </td><td>                 </td><td style=\"text-align: right;\">     800</td><td style=\"text-align: right;\"> 128</td><td style=\"text-align: right;\">  64</td><td style=\"text-align: right;\">  16</td><td style=\"text-align: right;\">0.0016</td><td style=\"text-align: right;\">        0.0006</td><td style=\"text-align: right;\">      </td><td style=\"text-align: right;\">                </td><td style=\"text-align: right;\">          </td></tr>\n",
       "<tr><td>main_780bd_00033</td><td>PENDING   </td><td>                 </td><td style=\"text-align: right;\">     800</td><td style=\"text-align: right;\"> 128</td><td style=\"text-align: right;\">  64</td><td style=\"text-align: right;\">  16</td><td style=\"text-align: right;\">0.0006</td><td style=\"text-align: right;\">        0.0009</td><td style=\"text-align: right;\">      </td><td style=\"text-align: right;\">                </td><td style=\"text-align: right;\">          </td></tr>\n",
       "<tr><td>main_780bd_00034</td><td>PENDING   </td><td>                 </td><td style=\"text-align: right;\">     700</td><td style=\"text-align: right;\"> 128</td><td style=\"text-align: right;\">  64</td><td style=\"text-align: right;\">  16</td><td style=\"text-align: right;\">0.0016</td><td style=\"text-align: right;\">        0.0006</td><td style=\"text-align: right;\">      </td><td style=\"text-align: right;\">                </td><td style=\"text-align: right;\">          </td></tr>\n",
       "<tr><td>main_780bd_00035</td><td>PENDING   </td><td>                 </td><td style=\"text-align: right;\">     800</td><td style=\"text-align: right;\"> 128</td><td style=\"text-align: right;\">  64</td><td style=\"text-align: right;\">  16</td><td style=\"text-align: right;\">0.001 </td><td style=\"text-align: right;\">        0.0006</td><td style=\"text-align: right;\">      </td><td style=\"text-align: right;\">                </td><td style=\"text-align: right;\">          </td></tr>\n",
       "<tr><td>main_780bd_00036</td><td>PENDING   </td><td>                 </td><td style=\"text-align: right;\">     700</td><td style=\"text-align: right;\"> 128</td><td style=\"text-align: right;\">  64</td><td style=\"text-align: right;\">  16</td><td style=\"text-align: right;\">0.0006</td><td style=\"text-align: right;\">        0.0006</td><td style=\"text-align: right;\">      </td><td style=\"text-align: right;\">                </td><td style=\"text-align: right;\">          </td></tr>\n",
       "<tr><td>main_780bd_00037</td><td>PENDING   </td><td>                 </td><td style=\"text-align: right;\">     800</td><td style=\"text-align: right;\"> 128</td><td style=\"text-align: right;\">  64</td><td style=\"text-align: right;\">  16</td><td style=\"text-align: right;\">0.0012</td><td style=\"text-align: right;\">        0.0009</td><td style=\"text-align: right;\">      </td><td style=\"text-align: right;\">                </td><td style=\"text-align: right;\">          </td></tr>\n",
       "<tr><td>main_780bd_00038</td><td>PENDING   </td><td>                 </td><td style=\"text-align: right;\">     700</td><td style=\"text-align: right;\"> 128</td><td style=\"text-align: right;\">  64</td><td style=\"text-align: right;\">  16</td><td style=\"text-align: right;\">0.0016</td><td style=\"text-align: right;\">        0.0009</td><td style=\"text-align: right;\">      </td><td style=\"text-align: right;\">                </td><td style=\"text-align: right;\">          </td></tr>\n",
       "<tr><td>main_780bd_00039</td><td>PENDING   </td><td>                 </td><td style=\"text-align: right;\">     800</td><td style=\"text-align: right;\"> 128</td><td style=\"text-align: right;\">  64</td><td style=\"text-align: right;\">  16</td><td style=\"text-align: right;\">0.001 </td><td style=\"text-align: right;\">        0.0009</td><td style=\"text-align: right;\">      </td><td style=\"text-align: right;\">                </td><td style=\"text-align: right;\">          </td></tr>\n",
       "<tr><td>main_780bd_00000</td><td>TERMINATED</td><td>                 </td><td style=\"text-align: right;\">     700</td><td style=\"text-align: right;\"> 128</td><td style=\"text-align: right;\">  64</td><td style=\"text-align: right;\">  16</td><td style=\"text-align: right;\">0.0008</td><td style=\"text-align: right;\">        0.0009</td><td style=\"text-align: right;\">     1</td><td style=\"text-align: right;\">         13.6591</td><td style=\"text-align: right;\">  0.877091</td></tr>\n",
       "<tr><td>main_780bd_00001</td><td>TERMINATED</td><td>                 </td><td style=\"text-align: right;\">     700</td><td style=\"text-align: right;\"> 128</td><td style=\"text-align: right;\">  64</td><td style=\"text-align: right;\">  16</td><td style=\"text-align: right;\">0.001 </td><td style=\"text-align: right;\">        0.0006</td><td style=\"text-align: right;\">     1</td><td style=\"text-align: right;\">         13.6453</td><td style=\"text-align: right;\">  0.883636</td></tr>\n",
       "<tr><td>main_780bd_00002</td><td>TERMINATED</td><td>                 </td><td style=\"text-align: right;\">     700</td><td style=\"text-align: right;\"> 128</td><td style=\"text-align: right;\">  64</td><td style=\"text-align: right;\">  16</td><td style=\"text-align: right;\">0.0016</td><td style=\"text-align: right;\">        0.0009</td><td style=\"text-align: right;\">     1</td><td style=\"text-align: right;\">         12.996 </td><td style=\"text-align: right;\">  0.879273</td></tr>\n",
       "<tr><td>main_780bd_00003</td><td>TERMINATED</td><td>                 </td><td style=\"text-align: right;\">     800</td><td style=\"text-align: right;\"> 128</td><td style=\"text-align: right;\">  64</td><td style=\"text-align: right;\">  16</td><td style=\"text-align: right;\">0.0012</td><td style=\"text-align: right;\">        0.0006</td><td style=\"text-align: right;\">     1</td><td style=\"text-align: right;\">         14.9518</td><td style=\"text-align: right;\">  0.883636</td></tr>\n",
       "<tr><td>main_780bd_00004</td><td>TERMINATED</td><td>                 </td><td style=\"text-align: right;\">     700</td><td style=\"text-align: right;\"> 128</td><td style=\"text-align: right;\">  64</td><td style=\"text-align: right;\">  16</td><td style=\"text-align: right;\">0.0006</td><td style=\"text-align: right;\">        0.0003</td><td style=\"text-align: right;\">     1</td><td style=\"text-align: right;\">         13.1162</td><td style=\"text-align: right;\">  0.876364</td></tr>\n",
       "<tr><td>main_780bd_00005</td><td>TERMINATED</td><td>                 </td><td style=\"text-align: right;\">     800</td><td style=\"text-align: right;\"> 128</td><td style=\"text-align: right;\">  64</td><td style=\"text-align: right;\">  16</td><td style=\"text-align: right;\">0.0018</td><td style=\"text-align: right;\">        0.0006</td><td style=\"text-align: right;\">     1</td><td style=\"text-align: right;\">         14.9799</td><td style=\"text-align: right;\">  0.869818</td></tr>\n",
       "<tr><td>main_780bd_00006</td><td>TERMINATED</td><td>                 </td><td style=\"text-align: right;\">     700</td><td style=\"text-align: right;\"> 128</td><td style=\"text-align: right;\">  64</td><td style=\"text-align: right;\">  16</td><td style=\"text-align: right;\">0.0016</td><td style=\"text-align: right;\">        0.0006</td><td style=\"text-align: right;\">     1</td><td style=\"text-align: right;\">         13.208 </td><td style=\"text-align: right;\">  0.872727</td></tr>\n",
       "<tr><td>main_780bd_00007</td><td>TERMINATED</td><td>                 </td><td style=\"text-align: right;\">     800</td><td style=\"text-align: right;\"> 128</td><td style=\"text-align: right;\">  64</td><td style=\"text-align: right;\">  16</td><td style=\"text-align: right;\">0.0012</td><td style=\"text-align: right;\">        0.0006</td><td style=\"text-align: right;\">     1</td><td style=\"text-align: right;\">         15.0515</td><td style=\"text-align: right;\">  0.864727</td></tr>\n",
       "<tr><td>main_780bd_00008</td><td>TERMINATED</td><td>                 </td><td style=\"text-align: right;\">     800</td><td style=\"text-align: right;\"> 128</td><td style=\"text-align: right;\">  64</td><td style=\"text-align: right;\">  16</td><td style=\"text-align: right;\">0.0014</td><td style=\"text-align: right;\">        0.0009</td><td style=\"text-align: right;\">     1</td><td style=\"text-align: right;\">         14.9417</td><td style=\"text-align: right;\">  0.874909</td></tr>\n",
       "</tbody>\n",
       "</table><br>... 30 more trials not shown (10 PENDING, 20 TERMINATED)<br><br>"
      ],
      "text/plain": [
       "<IPython.core.display.HTML object>"
      ]
     },
     "metadata": {},
     "output_type": "display_data"
    },
    {
     "name": "stdout",
     "output_type": "stream",
     "text": [
      "Result for main_780bd_00029:\n",
      "  accuracy: 0.8872727272727273\n",
      "  date: 2021-05-07_17-39-27\n",
      "  done: true\n",
      "  experiment_id: 2d2e41f442f945878335a4e84272b4d1\n",
      "  experiment_tag: 29_epochs=700,l1=128,l2=64,l3=16,lr=0.0018,weight_decay=0.0003\n",
      "  hostname: 4ce982eb56f7\n",
      "  iterations_since_restore: 1\n",
      "  node_ip: 172.17.0.11\n",
      "  pid: 10339\n",
      "  time_since_restore: 13.879772424697876\n",
      "  time_this_iter_s: 13.879772424697876\n",
      "  time_total_s: 13.879772424697876\n",
      "  timestamp: 1620409167\n",
      "  timesteps_since_restore: 0\n",
      "  training_iteration: 1\n",
      "  trial_id: 780bd_00029\n",
      "  \n"
     ]
    },
    {
     "name": "stderr",
     "output_type": "stream",
     "text": [
      "\u001b[2m\u001b[36m(pid=10401)\u001b[0m Using backend: pytorch\n"
     ]
    },
    {
     "name": "stdout",
     "output_type": "stream",
     "text": [
      "\u001b[2m\u001b[36m(pid=10401)\u001b[0m l1 128 l2 64 l3 16\n",
      "Result for main_780bd_00030:\n",
      "  accuracy: 0.8603636363636363\n",
      "  date: 2021-05-07_17-39-34\n",
      "  done: false\n",
      "  experiment_id: 53b256fbf0ce4aecaaf3a399b67b2999\n",
      "  hostname: 4ce982eb56f7\n",
      "  iterations_since_restore: 1\n",
      "  node_ip: 172.17.0.11\n",
      "  pid: 10368\n",
      "  time_since_restore: 19.445141553878784\n",
      "  time_this_iter_s: 19.445141553878784\n",
      "  time_total_s: 19.445141553878784\n",
      "  timestamp: 1620409174\n",
      "  timesteps_since_restore: 0\n",
      "  training_iteration: 1\n",
      "  trial_id: 780bd_00030\n",
      "  \n"
     ]
    },
    {
     "data": {
      "text/html": [
       "== Status ==<br>Memory usage on this node: 31.6/62.8 GiB<br>Using FIFO scheduling algorithm.<br>Resources requested: 2.0/8 CPUs, 2.0/2 GPUs, 0.0/41.76 GiB heap, 0.0/9.31 GiB objects (0.0/1.0 accelerator_type:GTX)<br>Result logdir: /root/ray_results/main_2021-05-07_17-34-25<br>Number of trials: 50/50 (18 PENDING, 2 RUNNING, 30 TERMINATED)<br><table>\n",
       "<thead>\n",
       "<tr><th>Trial name      </th><th>status    </th><th>loc              </th><th style=\"text-align: right;\">  epochs</th><th style=\"text-align: right;\">  l1</th><th style=\"text-align: right;\">  l2</th><th style=\"text-align: right;\">  l3</th><th style=\"text-align: right;\">    lr</th><th style=\"text-align: right;\">  weight_decay</th><th style=\"text-align: right;\">  iter</th><th style=\"text-align: right;\">  total time (s)</th><th style=\"text-align: right;\">  accuracy</th></tr>\n",
       "</thead>\n",
       "<tbody>\n",
       "<tr><td>main_780bd_00030</td><td>RUNNING   </td><td>172.17.0.11:10368</td><td style=\"text-align: right;\">     700</td><td style=\"text-align: right;\"> 128</td><td style=\"text-align: right;\">  64</td><td style=\"text-align: right;\">  16</td><td style=\"text-align: right;\">0.0006</td><td style=\"text-align: right;\">        0.0006</td><td style=\"text-align: right;\">     1</td><td style=\"text-align: right;\">         19.4451</td><td style=\"text-align: right;\">  0.860364</td></tr>\n",
       "<tr><td>main_780bd_00031</td><td>RUNNING   </td><td>                 </td><td style=\"text-align: right;\">     800</td><td style=\"text-align: right;\"> 128</td><td style=\"text-align: right;\">  64</td><td style=\"text-align: right;\">  16</td><td style=\"text-align: right;\">0.0006</td><td style=\"text-align: right;\">        0.0009</td><td style=\"text-align: right;\">      </td><td style=\"text-align: right;\">                </td><td style=\"text-align: right;\">          </td></tr>\n",
       "<tr><td>main_780bd_00032</td><td>PENDING   </td><td>                 </td><td style=\"text-align: right;\">     800</td><td style=\"text-align: right;\"> 128</td><td style=\"text-align: right;\">  64</td><td style=\"text-align: right;\">  16</td><td style=\"text-align: right;\">0.0016</td><td style=\"text-align: right;\">        0.0006</td><td style=\"text-align: right;\">      </td><td style=\"text-align: right;\">                </td><td style=\"text-align: right;\">          </td></tr>\n",
       "<tr><td>main_780bd_00033</td><td>PENDING   </td><td>                 </td><td style=\"text-align: right;\">     800</td><td style=\"text-align: right;\"> 128</td><td style=\"text-align: right;\">  64</td><td style=\"text-align: right;\">  16</td><td style=\"text-align: right;\">0.0006</td><td style=\"text-align: right;\">        0.0009</td><td style=\"text-align: right;\">      </td><td style=\"text-align: right;\">                </td><td style=\"text-align: right;\">          </td></tr>\n",
       "<tr><td>main_780bd_00034</td><td>PENDING   </td><td>                 </td><td style=\"text-align: right;\">     700</td><td style=\"text-align: right;\"> 128</td><td style=\"text-align: right;\">  64</td><td style=\"text-align: right;\">  16</td><td style=\"text-align: right;\">0.0016</td><td style=\"text-align: right;\">        0.0006</td><td style=\"text-align: right;\">      </td><td style=\"text-align: right;\">                </td><td style=\"text-align: right;\">          </td></tr>\n",
       "<tr><td>main_780bd_00035</td><td>PENDING   </td><td>                 </td><td style=\"text-align: right;\">     800</td><td style=\"text-align: right;\"> 128</td><td style=\"text-align: right;\">  64</td><td style=\"text-align: right;\">  16</td><td style=\"text-align: right;\">0.001 </td><td style=\"text-align: right;\">        0.0006</td><td style=\"text-align: right;\">      </td><td style=\"text-align: right;\">                </td><td style=\"text-align: right;\">          </td></tr>\n",
       "<tr><td>main_780bd_00036</td><td>PENDING   </td><td>                 </td><td style=\"text-align: right;\">     700</td><td style=\"text-align: right;\"> 128</td><td style=\"text-align: right;\">  64</td><td style=\"text-align: right;\">  16</td><td style=\"text-align: right;\">0.0006</td><td style=\"text-align: right;\">        0.0006</td><td style=\"text-align: right;\">      </td><td style=\"text-align: right;\">                </td><td style=\"text-align: right;\">          </td></tr>\n",
       "<tr><td>main_780bd_00037</td><td>PENDING   </td><td>                 </td><td style=\"text-align: right;\">     800</td><td style=\"text-align: right;\"> 128</td><td style=\"text-align: right;\">  64</td><td style=\"text-align: right;\">  16</td><td style=\"text-align: right;\">0.0012</td><td style=\"text-align: right;\">        0.0009</td><td style=\"text-align: right;\">      </td><td style=\"text-align: right;\">                </td><td style=\"text-align: right;\">          </td></tr>\n",
       "<tr><td>main_780bd_00038</td><td>PENDING   </td><td>                 </td><td style=\"text-align: right;\">     700</td><td style=\"text-align: right;\"> 128</td><td style=\"text-align: right;\">  64</td><td style=\"text-align: right;\">  16</td><td style=\"text-align: right;\">0.0016</td><td style=\"text-align: right;\">        0.0009</td><td style=\"text-align: right;\">      </td><td style=\"text-align: right;\">                </td><td style=\"text-align: right;\">          </td></tr>\n",
       "<tr><td>main_780bd_00039</td><td>PENDING   </td><td>                 </td><td style=\"text-align: right;\">     800</td><td style=\"text-align: right;\"> 128</td><td style=\"text-align: right;\">  64</td><td style=\"text-align: right;\">  16</td><td style=\"text-align: right;\">0.001 </td><td style=\"text-align: right;\">        0.0009</td><td style=\"text-align: right;\">      </td><td style=\"text-align: right;\">                </td><td style=\"text-align: right;\">          </td></tr>\n",
       "<tr><td>main_780bd_00040</td><td>PENDING   </td><td>                 </td><td style=\"text-align: right;\">     800</td><td style=\"text-align: right;\"> 128</td><td style=\"text-align: right;\">  64</td><td style=\"text-align: right;\">  16</td><td style=\"text-align: right;\">0.0016</td><td style=\"text-align: right;\">        0.0009</td><td style=\"text-align: right;\">      </td><td style=\"text-align: right;\">                </td><td style=\"text-align: right;\">          </td></tr>\n",
       "<tr><td>main_780bd_00000</td><td>TERMINATED</td><td>                 </td><td style=\"text-align: right;\">     700</td><td style=\"text-align: right;\"> 128</td><td style=\"text-align: right;\">  64</td><td style=\"text-align: right;\">  16</td><td style=\"text-align: right;\">0.0008</td><td style=\"text-align: right;\">        0.0009</td><td style=\"text-align: right;\">     1</td><td style=\"text-align: right;\">         13.6591</td><td style=\"text-align: right;\">  0.877091</td></tr>\n",
       "<tr><td>main_780bd_00001</td><td>TERMINATED</td><td>                 </td><td style=\"text-align: right;\">     700</td><td style=\"text-align: right;\"> 128</td><td style=\"text-align: right;\">  64</td><td style=\"text-align: right;\">  16</td><td style=\"text-align: right;\">0.001 </td><td style=\"text-align: right;\">        0.0006</td><td style=\"text-align: right;\">     1</td><td style=\"text-align: right;\">         13.6453</td><td style=\"text-align: right;\">  0.883636</td></tr>\n",
       "<tr><td>main_780bd_00002</td><td>TERMINATED</td><td>                 </td><td style=\"text-align: right;\">     700</td><td style=\"text-align: right;\"> 128</td><td style=\"text-align: right;\">  64</td><td style=\"text-align: right;\">  16</td><td style=\"text-align: right;\">0.0016</td><td style=\"text-align: right;\">        0.0009</td><td style=\"text-align: right;\">     1</td><td style=\"text-align: right;\">         12.996 </td><td style=\"text-align: right;\">  0.879273</td></tr>\n",
       "<tr><td>main_780bd_00003</td><td>TERMINATED</td><td>                 </td><td style=\"text-align: right;\">     800</td><td style=\"text-align: right;\"> 128</td><td style=\"text-align: right;\">  64</td><td style=\"text-align: right;\">  16</td><td style=\"text-align: right;\">0.0012</td><td style=\"text-align: right;\">        0.0006</td><td style=\"text-align: right;\">     1</td><td style=\"text-align: right;\">         14.9518</td><td style=\"text-align: right;\">  0.883636</td></tr>\n",
       "<tr><td>main_780bd_00004</td><td>TERMINATED</td><td>                 </td><td style=\"text-align: right;\">     700</td><td style=\"text-align: right;\"> 128</td><td style=\"text-align: right;\">  64</td><td style=\"text-align: right;\">  16</td><td style=\"text-align: right;\">0.0006</td><td style=\"text-align: right;\">        0.0003</td><td style=\"text-align: right;\">     1</td><td style=\"text-align: right;\">         13.1162</td><td style=\"text-align: right;\">  0.876364</td></tr>\n",
       "<tr><td>main_780bd_00005</td><td>TERMINATED</td><td>                 </td><td style=\"text-align: right;\">     800</td><td style=\"text-align: right;\"> 128</td><td style=\"text-align: right;\">  64</td><td style=\"text-align: right;\">  16</td><td style=\"text-align: right;\">0.0018</td><td style=\"text-align: right;\">        0.0006</td><td style=\"text-align: right;\">     1</td><td style=\"text-align: right;\">         14.9799</td><td style=\"text-align: right;\">  0.869818</td></tr>\n",
       "<tr><td>main_780bd_00006</td><td>TERMINATED</td><td>                 </td><td style=\"text-align: right;\">     700</td><td style=\"text-align: right;\"> 128</td><td style=\"text-align: right;\">  64</td><td style=\"text-align: right;\">  16</td><td style=\"text-align: right;\">0.0016</td><td style=\"text-align: right;\">        0.0006</td><td style=\"text-align: right;\">     1</td><td style=\"text-align: right;\">         13.208 </td><td style=\"text-align: right;\">  0.872727</td></tr>\n",
       "<tr><td>main_780bd_00007</td><td>TERMINATED</td><td>                 </td><td style=\"text-align: right;\">     800</td><td style=\"text-align: right;\"> 128</td><td style=\"text-align: right;\">  64</td><td style=\"text-align: right;\">  16</td><td style=\"text-align: right;\">0.0012</td><td style=\"text-align: right;\">        0.0006</td><td style=\"text-align: right;\">     1</td><td style=\"text-align: right;\">         15.0515</td><td style=\"text-align: right;\">  0.864727</td></tr>\n",
       "<tr><td>main_780bd_00008</td><td>TERMINATED</td><td>                 </td><td style=\"text-align: right;\">     800</td><td style=\"text-align: right;\"> 128</td><td style=\"text-align: right;\">  64</td><td style=\"text-align: right;\">  16</td><td style=\"text-align: right;\">0.0014</td><td style=\"text-align: right;\">        0.0009</td><td style=\"text-align: right;\">     1</td><td style=\"text-align: right;\">         14.9417</td><td style=\"text-align: right;\">  0.874909</td></tr>\n",
       "</tbody>\n",
       "</table><br>... 30 more trials not shown (9 PENDING, 21 TERMINATED)<br><br>"
      ],
      "text/plain": [
       "<IPython.core.display.HTML object>"
      ]
     },
     "metadata": {},
     "output_type": "display_data"
    },
    {
     "name": "stdout",
     "output_type": "stream",
     "text": [
      "Result for main_780bd_00030:\n",
      "  accuracy: 0.8603636363636363\n",
      "  date: 2021-05-07_17-39-34\n",
      "  done: true\n",
      "  experiment_id: 53b256fbf0ce4aecaaf3a399b67b2999\n",
      "  experiment_tag: 30_epochs=700,l1=128,l2=64,l3=16,lr=0.0006,weight_decay=0.0006\n",
      "  hostname: 4ce982eb56f7\n",
      "  iterations_since_restore: 1\n",
      "  node_ip: 172.17.0.11\n",
      "  pid: 10368\n",
      "  time_since_restore: 19.445141553878784\n",
      "  time_this_iter_s: 19.445141553878784\n",
      "  time_total_s: 19.445141553878784\n",
      "  timestamp: 1620409174\n",
      "  timesteps_since_restore: 0\n",
      "  training_iteration: 1\n",
      "  trial_id: 780bd_00030\n",
      "  \n"
     ]
    },
    {
     "name": "stderr",
     "output_type": "stream",
     "text": [
      "\u001b[2m\u001b[36m(pid=10431)\u001b[0m Using backend: pytorch\n"
     ]
    },
    {
     "name": "stdout",
     "output_type": "stream",
     "text": [
      "\u001b[2m\u001b[36m(pid=10431)\u001b[0m l1 128 l2 64 l3 16\n",
      "Result for main_780bd_00031:\n",
      "  accuracy: 0.8763636363636363\n",
      "  date: 2021-05-07_17-39-47\n",
      "  done: false\n",
      "  experiment_id: 7f65639ed75e4ea6af7afba76e4764fc\n",
      "  hostname: 4ce982eb56f7\n",
      "  iterations_since_restore: 1\n",
      "  node_ip: 172.17.0.11\n",
      "  pid: 10401\n",
      "  time_since_restore: 15.824769496917725\n",
      "  time_this_iter_s: 15.824769496917725\n",
      "  time_total_s: 15.824769496917725\n",
      "  timestamp: 1620409187\n",
      "  timesteps_since_restore: 0\n",
      "  training_iteration: 1\n",
      "  trial_id: 780bd_00031\n",
      "  \n"
     ]
    },
    {
     "data": {
      "text/html": [
       "== Status ==<br>Memory usage on this node: 31.5/62.8 GiB<br>Using FIFO scheduling algorithm.<br>Resources requested: 2.0/8 CPUs, 2.0/2 GPUs, 0.0/41.76 GiB heap, 0.0/9.31 GiB objects (0.0/1.0 accelerator_type:GTX)<br>Result logdir: /root/ray_results/main_2021-05-07_17-34-25<br>Number of trials: 50/50 (17 PENDING, 2 RUNNING, 31 TERMINATED)<br><table>\n",
       "<thead>\n",
       "<tr><th>Trial name      </th><th>status    </th><th>loc              </th><th style=\"text-align: right;\">  epochs</th><th style=\"text-align: right;\">  l1</th><th style=\"text-align: right;\">  l2</th><th style=\"text-align: right;\">  l3</th><th style=\"text-align: right;\">    lr</th><th style=\"text-align: right;\">  weight_decay</th><th style=\"text-align: right;\">  iter</th><th style=\"text-align: right;\">  total time (s)</th><th style=\"text-align: right;\">  accuracy</th></tr>\n",
       "</thead>\n",
       "<tbody>\n",
       "<tr><td>main_780bd_00031</td><td>RUNNING   </td><td>172.17.0.11:10401</td><td style=\"text-align: right;\">     800</td><td style=\"text-align: right;\"> 128</td><td style=\"text-align: right;\">  64</td><td style=\"text-align: right;\">  16</td><td style=\"text-align: right;\">0.0006</td><td style=\"text-align: right;\">        0.0009</td><td style=\"text-align: right;\">     1</td><td style=\"text-align: right;\">         15.8248</td><td style=\"text-align: right;\">  0.876364</td></tr>\n",
       "<tr><td>main_780bd_00032</td><td>RUNNING   </td><td>                 </td><td style=\"text-align: right;\">     800</td><td style=\"text-align: right;\"> 128</td><td style=\"text-align: right;\">  64</td><td style=\"text-align: right;\">  16</td><td style=\"text-align: right;\">0.0016</td><td style=\"text-align: right;\">        0.0006</td><td style=\"text-align: right;\">      </td><td style=\"text-align: right;\">                </td><td style=\"text-align: right;\">          </td></tr>\n",
       "<tr><td>main_780bd_00033</td><td>PENDING   </td><td>                 </td><td style=\"text-align: right;\">     800</td><td style=\"text-align: right;\"> 128</td><td style=\"text-align: right;\">  64</td><td style=\"text-align: right;\">  16</td><td style=\"text-align: right;\">0.0006</td><td style=\"text-align: right;\">        0.0009</td><td style=\"text-align: right;\">      </td><td style=\"text-align: right;\">                </td><td style=\"text-align: right;\">          </td></tr>\n",
       "<tr><td>main_780bd_00034</td><td>PENDING   </td><td>                 </td><td style=\"text-align: right;\">     700</td><td style=\"text-align: right;\"> 128</td><td style=\"text-align: right;\">  64</td><td style=\"text-align: right;\">  16</td><td style=\"text-align: right;\">0.0016</td><td style=\"text-align: right;\">        0.0006</td><td style=\"text-align: right;\">      </td><td style=\"text-align: right;\">                </td><td style=\"text-align: right;\">          </td></tr>\n",
       "<tr><td>main_780bd_00035</td><td>PENDING   </td><td>                 </td><td style=\"text-align: right;\">     800</td><td style=\"text-align: right;\"> 128</td><td style=\"text-align: right;\">  64</td><td style=\"text-align: right;\">  16</td><td style=\"text-align: right;\">0.001 </td><td style=\"text-align: right;\">        0.0006</td><td style=\"text-align: right;\">      </td><td style=\"text-align: right;\">                </td><td style=\"text-align: right;\">          </td></tr>\n",
       "<tr><td>main_780bd_00036</td><td>PENDING   </td><td>                 </td><td style=\"text-align: right;\">     700</td><td style=\"text-align: right;\"> 128</td><td style=\"text-align: right;\">  64</td><td style=\"text-align: right;\">  16</td><td style=\"text-align: right;\">0.0006</td><td style=\"text-align: right;\">        0.0006</td><td style=\"text-align: right;\">      </td><td style=\"text-align: right;\">                </td><td style=\"text-align: right;\">          </td></tr>\n",
       "<tr><td>main_780bd_00037</td><td>PENDING   </td><td>                 </td><td style=\"text-align: right;\">     800</td><td style=\"text-align: right;\"> 128</td><td style=\"text-align: right;\">  64</td><td style=\"text-align: right;\">  16</td><td style=\"text-align: right;\">0.0012</td><td style=\"text-align: right;\">        0.0009</td><td style=\"text-align: right;\">      </td><td style=\"text-align: right;\">                </td><td style=\"text-align: right;\">          </td></tr>\n",
       "<tr><td>main_780bd_00038</td><td>PENDING   </td><td>                 </td><td style=\"text-align: right;\">     700</td><td style=\"text-align: right;\"> 128</td><td style=\"text-align: right;\">  64</td><td style=\"text-align: right;\">  16</td><td style=\"text-align: right;\">0.0016</td><td style=\"text-align: right;\">        0.0009</td><td style=\"text-align: right;\">      </td><td style=\"text-align: right;\">                </td><td style=\"text-align: right;\">          </td></tr>\n",
       "<tr><td>main_780bd_00039</td><td>PENDING   </td><td>                 </td><td style=\"text-align: right;\">     800</td><td style=\"text-align: right;\"> 128</td><td style=\"text-align: right;\">  64</td><td style=\"text-align: right;\">  16</td><td style=\"text-align: right;\">0.001 </td><td style=\"text-align: right;\">        0.0009</td><td style=\"text-align: right;\">      </td><td style=\"text-align: right;\">                </td><td style=\"text-align: right;\">          </td></tr>\n",
       "<tr><td>main_780bd_00040</td><td>PENDING   </td><td>                 </td><td style=\"text-align: right;\">     800</td><td style=\"text-align: right;\"> 128</td><td style=\"text-align: right;\">  64</td><td style=\"text-align: right;\">  16</td><td style=\"text-align: right;\">0.0016</td><td style=\"text-align: right;\">        0.0009</td><td style=\"text-align: right;\">      </td><td style=\"text-align: right;\">                </td><td style=\"text-align: right;\">          </td></tr>\n",
       "<tr><td>main_780bd_00041</td><td>PENDING   </td><td>                 </td><td style=\"text-align: right;\">     800</td><td style=\"text-align: right;\"> 128</td><td style=\"text-align: right;\">  64</td><td style=\"text-align: right;\">  16</td><td style=\"text-align: right;\">0.0018</td><td style=\"text-align: right;\">        0.0009</td><td style=\"text-align: right;\">      </td><td style=\"text-align: right;\">                </td><td style=\"text-align: right;\">          </td></tr>\n",
       "<tr><td>main_780bd_00000</td><td>TERMINATED</td><td>                 </td><td style=\"text-align: right;\">     700</td><td style=\"text-align: right;\"> 128</td><td style=\"text-align: right;\">  64</td><td style=\"text-align: right;\">  16</td><td style=\"text-align: right;\">0.0008</td><td style=\"text-align: right;\">        0.0009</td><td style=\"text-align: right;\">     1</td><td style=\"text-align: right;\">         13.6591</td><td style=\"text-align: right;\">  0.877091</td></tr>\n",
       "<tr><td>main_780bd_00001</td><td>TERMINATED</td><td>                 </td><td style=\"text-align: right;\">     700</td><td style=\"text-align: right;\"> 128</td><td style=\"text-align: right;\">  64</td><td style=\"text-align: right;\">  16</td><td style=\"text-align: right;\">0.001 </td><td style=\"text-align: right;\">        0.0006</td><td style=\"text-align: right;\">     1</td><td style=\"text-align: right;\">         13.6453</td><td style=\"text-align: right;\">  0.883636</td></tr>\n",
       "<tr><td>main_780bd_00002</td><td>TERMINATED</td><td>                 </td><td style=\"text-align: right;\">     700</td><td style=\"text-align: right;\"> 128</td><td style=\"text-align: right;\">  64</td><td style=\"text-align: right;\">  16</td><td style=\"text-align: right;\">0.0016</td><td style=\"text-align: right;\">        0.0009</td><td style=\"text-align: right;\">     1</td><td style=\"text-align: right;\">         12.996 </td><td style=\"text-align: right;\">  0.879273</td></tr>\n",
       "<tr><td>main_780bd_00003</td><td>TERMINATED</td><td>                 </td><td style=\"text-align: right;\">     800</td><td style=\"text-align: right;\"> 128</td><td style=\"text-align: right;\">  64</td><td style=\"text-align: right;\">  16</td><td style=\"text-align: right;\">0.0012</td><td style=\"text-align: right;\">        0.0006</td><td style=\"text-align: right;\">     1</td><td style=\"text-align: right;\">         14.9518</td><td style=\"text-align: right;\">  0.883636</td></tr>\n",
       "<tr><td>main_780bd_00004</td><td>TERMINATED</td><td>                 </td><td style=\"text-align: right;\">     700</td><td style=\"text-align: right;\"> 128</td><td style=\"text-align: right;\">  64</td><td style=\"text-align: right;\">  16</td><td style=\"text-align: right;\">0.0006</td><td style=\"text-align: right;\">        0.0003</td><td style=\"text-align: right;\">     1</td><td style=\"text-align: right;\">         13.1162</td><td style=\"text-align: right;\">  0.876364</td></tr>\n",
       "<tr><td>main_780bd_00005</td><td>TERMINATED</td><td>                 </td><td style=\"text-align: right;\">     800</td><td style=\"text-align: right;\"> 128</td><td style=\"text-align: right;\">  64</td><td style=\"text-align: right;\">  16</td><td style=\"text-align: right;\">0.0018</td><td style=\"text-align: right;\">        0.0006</td><td style=\"text-align: right;\">     1</td><td style=\"text-align: right;\">         14.9799</td><td style=\"text-align: right;\">  0.869818</td></tr>\n",
       "<tr><td>main_780bd_00006</td><td>TERMINATED</td><td>                 </td><td style=\"text-align: right;\">     700</td><td style=\"text-align: right;\"> 128</td><td style=\"text-align: right;\">  64</td><td style=\"text-align: right;\">  16</td><td style=\"text-align: right;\">0.0016</td><td style=\"text-align: right;\">        0.0006</td><td style=\"text-align: right;\">     1</td><td style=\"text-align: right;\">         13.208 </td><td style=\"text-align: right;\">  0.872727</td></tr>\n",
       "<tr><td>main_780bd_00007</td><td>TERMINATED</td><td>                 </td><td style=\"text-align: right;\">     800</td><td style=\"text-align: right;\"> 128</td><td style=\"text-align: right;\">  64</td><td style=\"text-align: right;\">  16</td><td style=\"text-align: right;\">0.0012</td><td style=\"text-align: right;\">        0.0006</td><td style=\"text-align: right;\">     1</td><td style=\"text-align: right;\">         15.0515</td><td style=\"text-align: right;\">  0.864727</td></tr>\n",
       "<tr><td>main_780bd_00008</td><td>TERMINATED</td><td>                 </td><td style=\"text-align: right;\">     800</td><td style=\"text-align: right;\"> 128</td><td style=\"text-align: right;\">  64</td><td style=\"text-align: right;\">  16</td><td style=\"text-align: right;\">0.0014</td><td style=\"text-align: right;\">        0.0009</td><td style=\"text-align: right;\">     1</td><td style=\"text-align: right;\">         14.9417</td><td style=\"text-align: right;\">  0.874909</td></tr>\n",
       "</tbody>\n",
       "</table><br>... 30 more trials not shown (8 PENDING, 22 TERMINATED)<br><br>"
      ],
      "text/plain": [
       "<IPython.core.display.HTML object>"
      ]
     },
     "metadata": {},
     "output_type": "display_data"
    },
    {
     "name": "stdout",
     "output_type": "stream",
     "text": [
      "Result for main_780bd_00031:\n",
      "  accuracy: 0.8763636363636363\n",
      "  date: 2021-05-07_17-39-47\n",
      "  done: true\n",
      "  experiment_id: 7f65639ed75e4ea6af7afba76e4764fc\n",
      "  experiment_tag: 31_epochs=800,l1=128,l2=64,l3=16,lr=0.0006,weight_decay=0.0009\n",
      "  hostname: 4ce982eb56f7\n",
      "  iterations_since_restore: 1\n",
      "  node_ip: 172.17.0.11\n",
      "  pid: 10401\n",
      "  time_since_restore: 15.824769496917725\n",
      "  time_this_iter_s: 15.824769496917725\n",
      "  time_total_s: 15.824769496917725\n",
      "  timestamp: 1620409187\n",
      "  timesteps_since_restore: 0\n",
      "  training_iteration: 1\n",
      "  trial_id: 780bd_00031\n",
      "  \n"
     ]
    },
    {
     "name": "stderr",
     "output_type": "stream",
     "text": [
      "\u001b[2m\u001b[36m(pid=10463)\u001b[0m Using backend: pytorch\n"
     ]
    },
    {
     "name": "stdout",
     "output_type": "stream",
     "text": [
      "\u001b[2m\u001b[36m(pid=10463)\u001b[0m l1 128 l2 64 l3 16\n",
      "Result for main_780bd_00032:\n",
      "  accuracy: 0.8683636363636363\n",
      "  date: 2021-05-07_17-40-00\n",
      "  done: false\n",
      "  experiment_id: 852f034fbd2b4fc6a446c5b9b4fd3481\n",
      "  hostname: 4ce982eb56f7\n",
      "  iterations_since_restore: 1\n",
      "  node_ip: 172.17.0.11\n",
      "  pid: 10431\n",
      "  time_since_restore: 21.898093700408936\n",
      "  time_this_iter_s: 21.898093700408936\n",
      "  time_total_s: 21.898093700408936\n",
      "  timestamp: 1620409200\n",
      "  timesteps_since_restore: 0\n",
      "  training_iteration: 1\n",
      "  trial_id: 780bd_00032\n",
      "  \n"
     ]
    },
    {
     "data": {
      "text/html": [
       "== Status ==<br>Memory usage on this node: 31.5/62.8 GiB<br>Using FIFO scheduling algorithm.<br>Resources requested: 2.0/8 CPUs, 2.0/2 GPUs, 0.0/41.76 GiB heap, 0.0/9.31 GiB objects (0.0/1.0 accelerator_type:GTX)<br>Result logdir: /root/ray_results/main_2021-05-07_17-34-25<br>Number of trials: 50/50 (16 PENDING, 2 RUNNING, 32 TERMINATED)<br><table>\n",
       "<thead>\n",
       "<tr><th>Trial name      </th><th>status    </th><th>loc              </th><th style=\"text-align: right;\">  epochs</th><th style=\"text-align: right;\">  l1</th><th style=\"text-align: right;\">  l2</th><th style=\"text-align: right;\">  l3</th><th style=\"text-align: right;\">    lr</th><th style=\"text-align: right;\">  weight_decay</th><th style=\"text-align: right;\">  iter</th><th style=\"text-align: right;\">  total time (s)</th><th style=\"text-align: right;\">  accuracy</th></tr>\n",
       "</thead>\n",
       "<tbody>\n",
       "<tr><td>main_780bd_00032</td><td>RUNNING   </td><td>172.17.0.11:10431</td><td style=\"text-align: right;\">     800</td><td style=\"text-align: right;\"> 128</td><td style=\"text-align: right;\">  64</td><td style=\"text-align: right;\">  16</td><td style=\"text-align: right;\">0.0016</td><td style=\"text-align: right;\">        0.0006</td><td style=\"text-align: right;\">     1</td><td style=\"text-align: right;\">         21.8981</td><td style=\"text-align: right;\">  0.868364</td></tr>\n",
       "<tr><td>main_780bd_00033</td><td>RUNNING   </td><td>                 </td><td style=\"text-align: right;\">     800</td><td style=\"text-align: right;\"> 128</td><td style=\"text-align: right;\">  64</td><td style=\"text-align: right;\">  16</td><td style=\"text-align: right;\">0.0006</td><td style=\"text-align: right;\">        0.0009</td><td style=\"text-align: right;\">      </td><td style=\"text-align: right;\">                </td><td style=\"text-align: right;\">          </td></tr>\n",
       "<tr><td>main_780bd_00034</td><td>PENDING   </td><td>                 </td><td style=\"text-align: right;\">     700</td><td style=\"text-align: right;\"> 128</td><td style=\"text-align: right;\">  64</td><td style=\"text-align: right;\">  16</td><td style=\"text-align: right;\">0.0016</td><td style=\"text-align: right;\">        0.0006</td><td style=\"text-align: right;\">      </td><td style=\"text-align: right;\">                </td><td style=\"text-align: right;\">          </td></tr>\n",
       "<tr><td>main_780bd_00035</td><td>PENDING   </td><td>                 </td><td style=\"text-align: right;\">     800</td><td style=\"text-align: right;\"> 128</td><td style=\"text-align: right;\">  64</td><td style=\"text-align: right;\">  16</td><td style=\"text-align: right;\">0.001 </td><td style=\"text-align: right;\">        0.0006</td><td style=\"text-align: right;\">      </td><td style=\"text-align: right;\">                </td><td style=\"text-align: right;\">          </td></tr>\n",
       "<tr><td>main_780bd_00036</td><td>PENDING   </td><td>                 </td><td style=\"text-align: right;\">     700</td><td style=\"text-align: right;\"> 128</td><td style=\"text-align: right;\">  64</td><td style=\"text-align: right;\">  16</td><td style=\"text-align: right;\">0.0006</td><td style=\"text-align: right;\">        0.0006</td><td style=\"text-align: right;\">      </td><td style=\"text-align: right;\">                </td><td style=\"text-align: right;\">          </td></tr>\n",
       "<tr><td>main_780bd_00037</td><td>PENDING   </td><td>                 </td><td style=\"text-align: right;\">     800</td><td style=\"text-align: right;\"> 128</td><td style=\"text-align: right;\">  64</td><td style=\"text-align: right;\">  16</td><td style=\"text-align: right;\">0.0012</td><td style=\"text-align: right;\">        0.0009</td><td style=\"text-align: right;\">      </td><td style=\"text-align: right;\">                </td><td style=\"text-align: right;\">          </td></tr>\n",
       "<tr><td>main_780bd_00038</td><td>PENDING   </td><td>                 </td><td style=\"text-align: right;\">     700</td><td style=\"text-align: right;\"> 128</td><td style=\"text-align: right;\">  64</td><td style=\"text-align: right;\">  16</td><td style=\"text-align: right;\">0.0016</td><td style=\"text-align: right;\">        0.0009</td><td style=\"text-align: right;\">      </td><td style=\"text-align: right;\">                </td><td style=\"text-align: right;\">          </td></tr>\n",
       "<tr><td>main_780bd_00039</td><td>PENDING   </td><td>                 </td><td style=\"text-align: right;\">     800</td><td style=\"text-align: right;\"> 128</td><td style=\"text-align: right;\">  64</td><td style=\"text-align: right;\">  16</td><td style=\"text-align: right;\">0.001 </td><td style=\"text-align: right;\">        0.0009</td><td style=\"text-align: right;\">      </td><td style=\"text-align: right;\">                </td><td style=\"text-align: right;\">          </td></tr>\n",
       "<tr><td>main_780bd_00040</td><td>PENDING   </td><td>                 </td><td style=\"text-align: right;\">     800</td><td style=\"text-align: right;\"> 128</td><td style=\"text-align: right;\">  64</td><td style=\"text-align: right;\">  16</td><td style=\"text-align: right;\">0.0016</td><td style=\"text-align: right;\">        0.0009</td><td style=\"text-align: right;\">      </td><td style=\"text-align: right;\">                </td><td style=\"text-align: right;\">          </td></tr>\n",
       "<tr><td>main_780bd_00041</td><td>PENDING   </td><td>                 </td><td style=\"text-align: right;\">     800</td><td style=\"text-align: right;\"> 128</td><td style=\"text-align: right;\">  64</td><td style=\"text-align: right;\">  16</td><td style=\"text-align: right;\">0.0018</td><td style=\"text-align: right;\">        0.0009</td><td style=\"text-align: right;\">      </td><td style=\"text-align: right;\">                </td><td style=\"text-align: right;\">          </td></tr>\n",
       "<tr><td>main_780bd_00042</td><td>PENDING   </td><td>                 </td><td style=\"text-align: right;\">     700</td><td style=\"text-align: right;\"> 128</td><td style=\"text-align: right;\">  64</td><td style=\"text-align: right;\">  16</td><td style=\"text-align: right;\">0.0016</td><td style=\"text-align: right;\">        0.0006</td><td style=\"text-align: right;\">      </td><td style=\"text-align: right;\">                </td><td style=\"text-align: right;\">          </td></tr>\n",
       "<tr><td>main_780bd_00000</td><td>TERMINATED</td><td>                 </td><td style=\"text-align: right;\">     700</td><td style=\"text-align: right;\"> 128</td><td style=\"text-align: right;\">  64</td><td style=\"text-align: right;\">  16</td><td style=\"text-align: right;\">0.0008</td><td style=\"text-align: right;\">        0.0009</td><td style=\"text-align: right;\">     1</td><td style=\"text-align: right;\">         13.6591</td><td style=\"text-align: right;\">  0.877091</td></tr>\n",
       "<tr><td>main_780bd_00001</td><td>TERMINATED</td><td>                 </td><td style=\"text-align: right;\">     700</td><td style=\"text-align: right;\"> 128</td><td style=\"text-align: right;\">  64</td><td style=\"text-align: right;\">  16</td><td style=\"text-align: right;\">0.001 </td><td style=\"text-align: right;\">        0.0006</td><td style=\"text-align: right;\">     1</td><td style=\"text-align: right;\">         13.6453</td><td style=\"text-align: right;\">  0.883636</td></tr>\n",
       "<tr><td>main_780bd_00002</td><td>TERMINATED</td><td>                 </td><td style=\"text-align: right;\">     700</td><td style=\"text-align: right;\"> 128</td><td style=\"text-align: right;\">  64</td><td style=\"text-align: right;\">  16</td><td style=\"text-align: right;\">0.0016</td><td style=\"text-align: right;\">        0.0009</td><td style=\"text-align: right;\">     1</td><td style=\"text-align: right;\">         12.996 </td><td style=\"text-align: right;\">  0.879273</td></tr>\n",
       "<tr><td>main_780bd_00003</td><td>TERMINATED</td><td>                 </td><td style=\"text-align: right;\">     800</td><td style=\"text-align: right;\"> 128</td><td style=\"text-align: right;\">  64</td><td style=\"text-align: right;\">  16</td><td style=\"text-align: right;\">0.0012</td><td style=\"text-align: right;\">        0.0006</td><td style=\"text-align: right;\">     1</td><td style=\"text-align: right;\">         14.9518</td><td style=\"text-align: right;\">  0.883636</td></tr>\n",
       "<tr><td>main_780bd_00004</td><td>TERMINATED</td><td>                 </td><td style=\"text-align: right;\">     700</td><td style=\"text-align: right;\"> 128</td><td style=\"text-align: right;\">  64</td><td style=\"text-align: right;\">  16</td><td style=\"text-align: right;\">0.0006</td><td style=\"text-align: right;\">        0.0003</td><td style=\"text-align: right;\">     1</td><td style=\"text-align: right;\">         13.1162</td><td style=\"text-align: right;\">  0.876364</td></tr>\n",
       "<tr><td>main_780bd_00005</td><td>TERMINATED</td><td>                 </td><td style=\"text-align: right;\">     800</td><td style=\"text-align: right;\"> 128</td><td style=\"text-align: right;\">  64</td><td style=\"text-align: right;\">  16</td><td style=\"text-align: right;\">0.0018</td><td style=\"text-align: right;\">        0.0006</td><td style=\"text-align: right;\">     1</td><td style=\"text-align: right;\">         14.9799</td><td style=\"text-align: right;\">  0.869818</td></tr>\n",
       "<tr><td>main_780bd_00006</td><td>TERMINATED</td><td>                 </td><td style=\"text-align: right;\">     700</td><td style=\"text-align: right;\"> 128</td><td style=\"text-align: right;\">  64</td><td style=\"text-align: right;\">  16</td><td style=\"text-align: right;\">0.0016</td><td style=\"text-align: right;\">        0.0006</td><td style=\"text-align: right;\">     1</td><td style=\"text-align: right;\">         13.208 </td><td style=\"text-align: right;\">  0.872727</td></tr>\n",
       "<tr><td>main_780bd_00007</td><td>TERMINATED</td><td>                 </td><td style=\"text-align: right;\">     800</td><td style=\"text-align: right;\"> 128</td><td style=\"text-align: right;\">  64</td><td style=\"text-align: right;\">  16</td><td style=\"text-align: right;\">0.0012</td><td style=\"text-align: right;\">        0.0006</td><td style=\"text-align: right;\">     1</td><td style=\"text-align: right;\">         15.0515</td><td style=\"text-align: right;\">  0.864727</td></tr>\n",
       "<tr><td>main_780bd_00008</td><td>TERMINATED</td><td>                 </td><td style=\"text-align: right;\">     800</td><td style=\"text-align: right;\"> 128</td><td style=\"text-align: right;\">  64</td><td style=\"text-align: right;\">  16</td><td style=\"text-align: right;\">0.0014</td><td style=\"text-align: right;\">        0.0009</td><td style=\"text-align: right;\">     1</td><td style=\"text-align: right;\">         14.9417</td><td style=\"text-align: right;\">  0.874909</td></tr>\n",
       "</tbody>\n",
       "</table><br>... 30 more trials not shown (7 PENDING, 23 TERMINATED)<br><br>"
      ],
      "text/plain": [
       "<IPython.core.display.HTML object>"
      ]
     },
     "metadata": {},
     "output_type": "display_data"
    },
    {
     "name": "stdout",
     "output_type": "stream",
     "text": [
      "Result for main_780bd_00032:\n",
      "  accuracy: 0.8683636363636363\n",
      "  date: 2021-05-07_17-40-00\n",
      "  done: true\n",
      "  experiment_id: 852f034fbd2b4fc6a446c5b9b4fd3481\n",
      "  experiment_tag: 32_epochs=800,l1=128,l2=64,l3=16,lr=0.0016,weight_decay=0.0006\n",
      "  hostname: 4ce982eb56f7\n",
      "  iterations_since_restore: 1\n",
      "  node_ip: 172.17.0.11\n",
      "  pid: 10431\n",
      "  time_since_restore: 21.898093700408936\n",
      "  time_this_iter_s: 21.898093700408936\n",
      "  time_total_s: 21.898093700408936\n",
      "  timestamp: 1620409200\n",
      "  timesteps_since_restore: 0\n",
      "  training_iteration: 1\n",
      "  trial_id: 780bd_00032\n",
      "  \n"
     ]
    },
    {
     "name": "stderr",
     "output_type": "stream",
     "text": [
      "\u001b[2m\u001b[36m(pid=10493)\u001b[0m Using backend: pytorch\n"
     ]
    },
    {
     "name": "stdout",
     "output_type": "stream",
     "text": [
      "\u001b[2m\u001b[36m(pid=10493)\u001b[0m l1 128 l2 64 l3 16\n",
      "Result for main_780bd_00033:\n",
      "  accuracy: 0.8785454545454545\n",
      "  date: 2021-05-07_17-40-06\n",
      "  done: false\n",
      "  experiment_id: 6b385622d3164493ad30a8a3f2de3bfc\n",
      "  hostname: 4ce982eb56f7\n",
      "  iterations_since_restore: 1\n",
      "  node_ip: 172.17.0.11\n",
      "  pid: 10463\n",
      "  time_since_restore: 15.679312705993652\n",
      "  time_this_iter_s: 15.679312705993652\n",
      "  time_total_s: 15.679312705993652\n",
      "  timestamp: 1620409206\n",
      "  timesteps_since_restore: 0\n",
      "  training_iteration: 1\n",
      "  trial_id: 780bd_00033\n",
      "  \n"
     ]
    },
    {
     "data": {
      "text/html": [
       "== Status ==<br>Memory usage on this node: 31.5/62.8 GiB<br>Using FIFO scheduling algorithm.<br>Resources requested: 2.0/8 CPUs, 2.0/2 GPUs, 0.0/41.76 GiB heap, 0.0/9.31 GiB objects (0.0/1.0 accelerator_type:GTX)<br>Result logdir: /root/ray_results/main_2021-05-07_17-34-25<br>Number of trials: 50/50 (15 PENDING, 2 RUNNING, 33 TERMINATED)<br><table>\n",
       "<thead>\n",
       "<tr><th>Trial name      </th><th>status    </th><th>loc              </th><th style=\"text-align: right;\">  epochs</th><th style=\"text-align: right;\">  l1</th><th style=\"text-align: right;\">  l2</th><th style=\"text-align: right;\">  l3</th><th style=\"text-align: right;\">    lr</th><th style=\"text-align: right;\">  weight_decay</th><th style=\"text-align: right;\">  iter</th><th style=\"text-align: right;\">  total time (s)</th><th style=\"text-align: right;\">  accuracy</th></tr>\n",
       "</thead>\n",
       "<tbody>\n",
       "<tr><td>main_780bd_00033</td><td>RUNNING   </td><td>172.17.0.11:10463</td><td style=\"text-align: right;\">     800</td><td style=\"text-align: right;\"> 128</td><td style=\"text-align: right;\">  64</td><td style=\"text-align: right;\">  16</td><td style=\"text-align: right;\">0.0006</td><td style=\"text-align: right;\">        0.0009</td><td style=\"text-align: right;\">     1</td><td style=\"text-align: right;\">         15.6793</td><td style=\"text-align: right;\">  0.878545</td></tr>\n",
       "<tr><td>main_780bd_00034</td><td>RUNNING   </td><td>                 </td><td style=\"text-align: right;\">     700</td><td style=\"text-align: right;\"> 128</td><td style=\"text-align: right;\">  64</td><td style=\"text-align: right;\">  16</td><td style=\"text-align: right;\">0.0016</td><td style=\"text-align: right;\">        0.0006</td><td style=\"text-align: right;\">      </td><td style=\"text-align: right;\">                </td><td style=\"text-align: right;\">          </td></tr>\n",
       "<tr><td>main_780bd_00035</td><td>PENDING   </td><td>                 </td><td style=\"text-align: right;\">     800</td><td style=\"text-align: right;\"> 128</td><td style=\"text-align: right;\">  64</td><td style=\"text-align: right;\">  16</td><td style=\"text-align: right;\">0.001 </td><td style=\"text-align: right;\">        0.0006</td><td style=\"text-align: right;\">      </td><td style=\"text-align: right;\">                </td><td style=\"text-align: right;\">          </td></tr>\n",
       "<tr><td>main_780bd_00036</td><td>PENDING   </td><td>                 </td><td style=\"text-align: right;\">     700</td><td style=\"text-align: right;\"> 128</td><td style=\"text-align: right;\">  64</td><td style=\"text-align: right;\">  16</td><td style=\"text-align: right;\">0.0006</td><td style=\"text-align: right;\">        0.0006</td><td style=\"text-align: right;\">      </td><td style=\"text-align: right;\">                </td><td style=\"text-align: right;\">          </td></tr>\n",
       "<tr><td>main_780bd_00037</td><td>PENDING   </td><td>                 </td><td style=\"text-align: right;\">     800</td><td style=\"text-align: right;\"> 128</td><td style=\"text-align: right;\">  64</td><td style=\"text-align: right;\">  16</td><td style=\"text-align: right;\">0.0012</td><td style=\"text-align: right;\">        0.0009</td><td style=\"text-align: right;\">      </td><td style=\"text-align: right;\">                </td><td style=\"text-align: right;\">          </td></tr>\n",
       "<tr><td>main_780bd_00038</td><td>PENDING   </td><td>                 </td><td style=\"text-align: right;\">     700</td><td style=\"text-align: right;\"> 128</td><td style=\"text-align: right;\">  64</td><td style=\"text-align: right;\">  16</td><td style=\"text-align: right;\">0.0016</td><td style=\"text-align: right;\">        0.0009</td><td style=\"text-align: right;\">      </td><td style=\"text-align: right;\">                </td><td style=\"text-align: right;\">          </td></tr>\n",
       "<tr><td>main_780bd_00039</td><td>PENDING   </td><td>                 </td><td style=\"text-align: right;\">     800</td><td style=\"text-align: right;\"> 128</td><td style=\"text-align: right;\">  64</td><td style=\"text-align: right;\">  16</td><td style=\"text-align: right;\">0.001 </td><td style=\"text-align: right;\">        0.0009</td><td style=\"text-align: right;\">      </td><td style=\"text-align: right;\">                </td><td style=\"text-align: right;\">          </td></tr>\n",
       "<tr><td>main_780bd_00040</td><td>PENDING   </td><td>                 </td><td style=\"text-align: right;\">     800</td><td style=\"text-align: right;\"> 128</td><td style=\"text-align: right;\">  64</td><td style=\"text-align: right;\">  16</td><td style=\"text-align: right;\">0.0016</td><td style=\"text-align: right;\">        0.0009</td><td style=\"text-align: right;\">      </td><td style=\"text-align: right;\">                </td><td style=\"text-align: right;\">          </td></tr>\n",
       "<tr><td>main_780bd_00041</td><td>PENDING   </td><td>                 </td><td style=\"text-align: right;\">     800</td><td style=\"text-align: right;\"> 128</td><td style=\"text-align: right;\">  64</td><td style=\"text-align: right;\">  16</td><td style=\"text-align: right;\">0.0018</td><td style=\"text-align: right;\">        0.0009</td><td style=\"text-align: right;\">      </td><td style=\"text-align: right;\">                </td><td style=\"text-align: right;\">          </td></tr>\n",
       "<tr><td>main_780bd_00042</td><td>PENDING   </td><td>                 </td><td style=\"text-align: right;\">     700</td><td style=\"text-align: right;\"> 128</td><td style=\"text-align: right;\">  64</td><td style=\"text-align: right;\">  16</td><td style=\"text-align: right;\">0.0016</td><td style=\"text-align: right;\">        0.0006</td><td style=\"text-align: right;\">      </td><td style=\"text-align: right;\">                </td><td style=\"text-align: right;\">          </td></tr>\n",
       "<tr><td>main_780bd_00043</td><td>PENDING   </td><td>                 </td><td style=\"text-align: right;\">     800</td><td style=\"text-align: right;\"> 128</td><td style=\"text-align: right;\">  64</td><td style=\"text-align: right;\">  16</td><td style=\"text-align: right;\">0.0012</td><td style=\"text-align: right;\">        0.0003</td><td style=\"text-align: right;\">      </td><td style=\"text-align: right;\">                </td><td style=\"text-align: right;\">          </td></tr>\n",
       "<tr><td>main_780bd_00000</td><td>TERMINATED</td><td>                 </td><td style=\"text-align: right;\">     700</td><td style=\"text-align: right;\"> 128</td><td style=\"text-align: right;\">  64</td><td style=\"text-align: right;\">  16</td><td style=\"text-align: right;\">0.0008</td><td style=\"text-align: right;\">        0.0009</td><td style=\"text-align: right;\">     1</td><td style=\"text-align: right;\">         13.6591</td><td style=\"text-align: right;\">  0.877091</td></tr>\n",
       "<tr><td>main_780bd_00001</td><td>TERMINATED</td><td>                 </td><td style=\"text-align: right;\">     700</td><td style=\"text-align: right;\"> 128</td><td style=\"text-align: right;\">  64</td><td style=\"text-align: right;\">  16</td><td style=\"text-align: right;\">0.001 </td><td style=\"text-align: right;\">        0.0006</td><td style=\"text-align: right;\">     1</td><td style=\"text-align: right;\">         13.6453</td><td style=\"text-align: right;\">  0.883636</td></tr>\n",
       "<tr><td>main_780bd_00002</td><td>TERMINATED</td><td>                 </td><td style=\"text-align: right;\">     700</td><td style=\"text-align: right;\"> 128</td><td style=\"text-align: right;\">  64</td><td style=\"text-align: right;\">  16</td><td style=\"text-align: right;\">0.0016</td><td style=\"text-align: right;\">        0.0009</td><td style=\"text-align: right;\">     1</td><td style=\"text-align: right;\">         12.996 </td><td style=\"text-align: right;\">  0.879273</td></tr>\n",
       "<tr><td>main_780bd_00003</td><td>TERMINATED</td><td>                 </td><td style=\"text-align: right;\">     800</td><td style=\"text-align: right;\"> 128</td><td style=\"text-align: right;\">  64</td><td style=\"text-align: right;\">  16</td><td style=\"text-align: right;\">0.0012</td><td style=\"text-align: right;\">        0.0006</td><td style=\"text-align: right;\">     1</td><td style=\"text-align: right;\">         14.9518</td><td style=\"text-align: right;\">  0.883636</td></tr>\n",
       "<tr><td>main_780bd_00004</td><td>TERMINATED</td><td>                 </td><td style=\"text-align: right;\">     700</td><td style=\"text-align: right;\"> 128</td><td style=\"text-align: right;\">  64</td><td style=\"text-align: right;\">  16</td><td style=\"text-align: right;\">0.0006</td><td style=\"text-align: right;\">        0.0003</td><td style=\"text-align: right;\">     1</td><td style=\"text-align: right;\">         13.1162</td><td style=\"text-align: right;\">  0.876364</td></tr>\n",
       "<tr><td>main_780bd_00005</td><td>TERMINATED</td><td>                 </td><td style=\"text-align: right;\">     800</td><td style=\"text-align: right;\"> 128</td><td style=\"text-align: right;\">  64</td><td style=\"text-align: right;\">  16</td><td style=\"text-align: right;\">0.0018</td><td style=\"text-align: right;\">        0.0006</td><td style=\"text-align: right;\">     1</td><td style=\"text-align: right;\">         14.9799</td><td style=\"text-align: right;\">  0.869818</td></tr>\n",
       "<tr><td>main_780bd_00006</td><td>TERMINATED</td><td>                 </td><td style=\"text-align: right;\">     700</td><td style=\"text-align: right;\"> 128</td><td style=\"text-align: right;\">  64</td><td style=\"text-align: right;\">  16</td><td style=\"text-align: right;\">0.0016</td><td style=\"text-align: right;\">        0.0006</td><td style=\"text-align: right;\">     1</td><td style=\"text-align: right;\">         13.208 </td><td style=\"text-align: right;\">  0.872727</td></tr>\n",
       "<tr><td>main_780bd_00007</td><td>TERMINATED</td><td>                 </td><td style=\"text-align: right;\">     800</td><td style=\"text-align: right;\"> 128</td><td style=\"text-align: right;\">  64</td><td style=\"text-align: right;\">  16</td><td style=\"text-align: right;\">0.0012</td><td style=\"text-align: right;\">        0.0006</td><td style=\"text-align: right;\">     1</td><td style=\"text-align: right;\">         15.0515</td><td style=\"text-align: right;\">  0.864727</td></tr>\n",
       "<tr><td>main_780bd_00008</td><td>TERMINATED</td><td>                 </td><td style=\"text-align: right;\">     800</td><td style=\"text-align: right;\"> 128</td><td style=\"text-align: right;\">  64</td><td style=\"text-align: right;\">  16</td><td style=\"text-align: right;\">0.0014</td><td style=\"text-align: right;\">        0.0009</td><td style=\"text-align: right;\">     1</td><td style=\"text-align: right;\">         14.9417</td><td style=\"text-align: right;\">  0.874909</td></tr>\n",
       "</tbody>\n",
       "</table><br>... 30 more trials not shown (6 PENDING, 24 TERMINATED)<br><br>"
      ],
      "text/plain": [
       "<IPython.core.display.HTML object>"
      ]
     },
     "metadata": {},
     "output_type": "display_data"
    },
    {
     "name": "stdout",
     "output_type": "stream",
     "text": [
      "Result for main_780bd_00033:\n",
      "  accuracy: 0.8785454545454545\n",
      "  date: 2021-05-07_17-40-06\n",
      "  done: true\n",
      "  experiment_id: 6b385622d3164493ad30a8a3f2de3bfc\n",
      "  experiment_tag: 33_epochs=800,l1=128,l2=64,l3=16,lr=0.0006,weight_decay=0.0009\n",
      "  hostname: 4ce982eb56f7\n",
      "  iterations_since_restore: 1\n",
      "  node_ip: 172.17.0.11\n",
      "  pid: 10463\n",
      "  time_since_restore: 15.679312705993652\n",
      "  time_this_iter_s: 15.679312705993652\n",
      "  time_total_s: 15.679312705993652\n",
      "  timestamp: 1620409206\n",
      "  timesteps_since_restore: 0\n",
      "  training_iteration: 1\n",
      "  trial_id: 780bd_00033\n",
      "  \n"
     ]
    },
    {
     "name": "stderr",
     "output_type": "stream",
     "text": [
      "\u001b[2m\u001b[36m(pid=10524)\u001b[0m Using backend: pytorch\n"
     ]
    },
    {
     "name": "stdout",
     "output_type": "stream",
     "text": [
      "\u001b[2m\u001b[36m(pid=10524)\u001b[0m l1 128 l2 64 l3 16\n",
      "Result for main_780bd_00034:\n",
      "  accuracy: 0.8821818181818182\n",
      "  date: 2021-05-07_17-40-18\n",
      "  done: false\n",
      "  experiment_id: 4da126eee05741ce88c9be2a75ecbc22\n",
      "  hostname: 4ce982eb56f7\n",
      "  iterations_since_restore: 1\n",
      "  node_ip: 172.17.0.11\n",
      "  pid: 10493\n",
      "  time_since_restore: 13.726305484771729\n",
      "  time_this_iter_s: 13.726305484771729\n",
      "  time_total_s: 13.726305484771729\n",
      "  timestamp: 1620409218\n",
      "  timesteps_since_restore: 0\n",
      "  training_iteration: 1\n",
      "  trial_id: 780bd_00034\n",
      "  \n"
     ]
    },
    {
     "data": {
      "text/html": [
       "== Status ==<br>Memory usage on this node: 31.5/62.8 GiB<br>Using FIFO scheduling algorithm.<br>Resources requested: 2.0/8 CPUs, 2.0/2 GPUs, 0.0/41.76 GiB heap, 0.0/9.31 GiB objects (0.0/1.0 accelerator_type:GTX)<br>Result logdir: /root/ray_results/main_2021-05-07_17-34-25<br>Number of trials: 50/50 (14 PENDING, 2 RUNNING, 34 TERMINATED)<br><table>\n",
       "<thead>\n",
       "<tr><th>Trial name      </th><th>status    </th><th>loc              </th><th style=\"text-align: right;\">  epochs</th><th style=\"text-align: right;\">  l1</th><th style=\"text-align: right;\">  l2</th><th style=\"text-align: right;\">  l3</th><th style=\"text-align: right;\">    lr</th><th style=\"text-align: right;\">  weight_decay</th><th style=\"text-align: right;\">  iter</th><th style=\"text-align: right;\">  total time (s)</th><th style=\"text-align: right;\">  accuracy</th></tr>\n",
       "</thead>\n",
       "<tbody>\n",
       "<tr><td>main_780bd_00034</td><td>RUNNING   </td><td>172.17.0.11:10493</td><td style=\"text-align: right;\">     700</td><td style=\"text-align: right;\"> 128</td><td style=\"text-align: right;\">  64</td><td style=\"text-align: right;\">  16</td><td style=\"text-align: right;\">0.0016</td><td style=\"text-align: right;\">        0.0006</td><td style=\"text-align: right;\">     1</td><td style=\"text-align: right;\">         13.7263</td><td style=\"text-align: right;\">  0.882182</td></tr>\n",
       "<tr><td>main_780bd_00035</td><td>RUNNING   </td><td>                 </td><td style=\"text-align: right;\">     800</td><td style=\"text-align: right;\"> 128</td><td style=\"text-align: right;\">  64</td><td style=\"text-align: right;\">  16</td><td style=\"text-align: right;\">0.001 </td><td style=\"text-align: right;\">        0.0006</td><td style=\"text-align: right;\">      </td><td style=\"text-align: right;\">                </td><td style=\"text-align: right;\">          </td></tr>\n",
       "<tr><td>main_780bd_00036</td><td>PENDING   </td><td>                 </td><td style=\"text-align: right;\">     700</td><td style=\"text-align: right;\"> 128</td><td style=\"text-align: right;\">  64</td><td style=\"text-align: right;\">  16</td><td style=\"text-align: right;\">0.0006</td><td style=\"text-align: right;\">        0.0006</td><td style=\"text-align: right;\">      </td><td style=\"text-align: right;\">                </td><td style=\"text-align: right;\">          </td></tr>\n",
       "<tr><td>main_780bd_00037</td><td>PENDING   </td><td>                 </td><td style=\"text-align: right;\">     800</td><td style=\"text-align: right;\"> 128</td><td style=\"text-align: right;\">  64</td><td style=\"text-align: right;\">  16</td><td style=\"text-align: right;\">0.0012</td><td style=\"text-align: right;\">        0.0009</td><td style=\"text-align: right;\">      </td><td style=\"text-align: right;\">                </td><td style=\"text-align: right;\">          </td></tr>\n",
       "<tr><td>main_780bd_00038</td><td>PENDING   </td><td>                 </td><td style=\"text-align: right;\">     700</td><td style=\"text-align: right;\"> 128</td><td style=\"text-align: right;\">  64</td><td style=\"text-align: right;\">  16</td><td style=\"text-align: right;\">0.0016</td><td style=\"text-align: right;\">        0.0009</td><td style=\"text-align: right;\">      </td><td style=\"text-align: right;\">                </td><td style=\"text-align: right;\">          </td></tr>\n",
       "<tr><td>main_780bd_00039</td><td>PENDING   </td><td>                 </td><td style=\"text-align: right;\">     800</td><td style=\"text-align: right;\"> 128</td><td style=\"text-align: right;\">  64</td><td style=\"text-align: right;\">  16</td><td style=\"text-align: right;\">0.001 </td><td style=\"text-align: right;\">        0.0009</td><td style=\"text-align: right;\">      </td><td style=\"text-align: right;\">                </td><td style=\"text-align: right;\">          </td></tr>\n",
       "<tr><td>main_780bd_00040</td><td>PENDING   </td><td>                 </td><td style=\"text-align: right;\">     800</td><td style=\"text-align: right;\"> 128</td><td style=\"text-align: right;\">  64</td><td style=\"text-align: right;\">  16</td><td style=\"text-align: right;\">0.0016</td><td style=\"text-align: right;\">        0.0009</td><td style=\"text-align: right;\">      </td><td style=\"text-align: right;\">                </td><td style=\"text-align: right;\">          </td></tr>\n",
       "<tr><td>main_780bd_00041</td><td>PENDING   </td><td>                 </td><td style=\"text-align: right;\">     800</td><td style=\"text-align: right;\"> 128</td><td style=\"text-align: right;\">  64</td><td style=\"text-align: right;\">  16</td><td style=\"text-align: right;\">0.0018</td><td style=\"text-align: right;\">        0.0009</td><td style=\"text-align: right;\">      </td><td style=\"text-align: right;\">                </td><td style=\"text-align: right;\">          </td></tr>\n",
       "<tr><td>main_780bd_00042</td><td>PENDING   </td><td>                 </td><td style=\"text-align: right;\">     700</td><td style=\"text-align: right;\"> 128</td><td style=\"text-align: right;\">  64</td><td style=\"text-align: right;\">  16</td><td style=\"text-align: right;\">0.0016</td><td style=\"text-align: right;\">        0.0006</td><td style=\"text-align: right;\">      </td><td style=\"text-align: right;\">                </td><td style=\"text-align: right;\">          </td></tr>\n",
       "<tr><td>main_780bd_00043</td><td>PENDING   </td><td>                 </td><td style=\"text-align: right;\">     800</td><td style=\"text-align: right;\"> 128</td><td style=\"text-align: right;\">  64</td><td style=\"text-align: right;\">  16</td><td style=\"text-align: right;\">0.0012</td><td style=\"text-align: right;\">        0.0003</td><td style=\"text-align: right;\">      </td><td style=\"text-align: right;\">                </td><td style=\"text-align: right;\">          </td></tr>\n",
       "<tr><td>main_780bd_00044</td><td>PENDING   </td><td>                 </td><td style=\"text-align: right;\">     700</td><td style=\"text-align: right;\"> 128</td><td style=\"text-align: right;\">  64</td><td style=\"text-align: right;\">  16</td><td style=\"text-align: right;\">0.0008</td><td style=\"text-align: right;\">        0.0006</td><td style=\"text-align: right;\">      </td><td style=\"text-align: right;\">                </td><td style=\"text-align: right;\">          </td></tr>\n",
       "<tr><td>main_780bd_00000</td><td>TERMINATED</td><td>                 </td><td style=\"text-align: right;\">     700</td><td style=\"text-align: right;\"> 128</td><td style=\"text-align: right;\">  64</td><td style=\"text-align: right;\">  16</td><td style=\"text-align: right;\">0.0008</td><td style=\"text-align: right;\">        0.0009</td><td style=\"text-align: right;\">     1</td><td style=\"text-align: right;\">         13.6591</td><td style=\"text-align: right;\">  0.877091</td></tr>\n",
       "<tr><td>main_780bd_00001</td><td>TERMINATED</td><td>                 </td><td style=\"text-align: right;\">     700</td><td style=\"text-align: right;\"> 128</td><td style=\"text-align: right;\">  64</td><td style=\"text-align: right;\">  16</td><td style=\"text-align: right;\">0.001 </td><td style=\"text-align: right;\">        0.0006</td><td style=\"text-align: right;\">     1</td><td style=\"text-align: right;\">         13.6453</td><td style=\"text-align: right;\">  0.883636</td></tr>\n",
       "<tr><td>main_780bd_00002</td><td>TERMINATED</td><td>                 </td><td style=\"text-align: right;\">     700</td><td style=\"text-align: right;\"> 128</td><td style=\"text-align: right;\">  64</td><td style=\"text-align: right;\">  16</td><td style=\"text-align: right;\">0.0016</td><td style=\"text-align: right;\">        0.0009</td><td style=\"text-align: right;\">     1</td><td style=\"text-align: right;\">         12.996 </td><td style=\"text-align: right;\">  0.879273</td></tr>\n",
       "<tr><td>main_780bd_00003</td><td>TERMINATED</td><td>                 </td><td style=\"text-align: right;\">     800</td><td style=\"text-align: right;\"> 128</td><td style=\"text-align: right;\">  64</td><td style=\"text-align: right;\">  16</td><td style=\"text-align: right;\">0.0012</td><td style=\"text-align: right;\">        0.0006</td><td style=\"text-align: right;\">     1</td><td style=\"text-align: right;\">         14.9518</td><td style=\"text-align: right;\">  0.883636</td></tr>\n",
       "<tr><td>main_780bd_00004</td><td>TERMINATED</td><td>                 </td><td style=\"text-align: right;\">     700</td><td style=\"text-align: right;\"> 128</td><td style=\"text-align: right;\">  64</td><td style=\"text-align: right;\">  16</td><td style=\"text-align: right;\">0.0006</td><td style=\"text-align: right;\">        0.0003</td><td style=\"text-align: right;\">     1</td><td style=\"text-align: right;\">         13.1162</td><td style=\"text-align: right;\">  0.876364</td></tr>\n",
       "<tr><td>main_780bd_00005</td><td>TERMINATED</td><td>                 </td><td style=\"text-align: right;\">     800</td><td style=\"text-align: right;\"> 128</td><td style=\"text-align: right;\">  64</td><td style=\"text-align: right;\">  16</td><td style=\"text-align: right;\">0.0018</td><td style=\"text-align: right;\">        0.0006</td><td style=\"text-align: right;\">     1</td><td style=\"text-align: right;\">         14.9799</td><td style=\"text-align: right;\">  0.869818</td></tr>\n",
       "<tr><td>main_780bd_00006</td><td>TERMINATED</td><td>                 </td><td style=\"text-align: right;\">     700</td><td style=\"text-align: right;\"> 128</td><td style=\"text-align: right;\">  64</td><td style=\"text-align: right;\">  16</td><td style=\"text-align: right;\">0.0016</td><td style=\"text-align: right;\">        0.0006</td><td style=\"text-align: right;\">     1</td><td style=\"text-align: right;\">         13.208 </td><td style=\"text-align: right;\">  0.872727</td></tr>\n",
       "<tr><td>main_780bd_00007</td><td>TERMINATED</td><td>                 </td><td style=\"text-align: right;\">     800</td><td style=\"text-align: right;\"> 128</td><td style=\"text-align: right;\">  64</td><td style=\"text-align: right;\">  16</td><td style=\"text-align: right;\">0.0012</td><td style=\"text-align: right;\">        0.0006</td><td style=\"text-align: right;\">     1</td><td style=\"text-align: right;\">         15.0515</td><td style=\"text-align: right;\">  0.864727</td></tr>\n",
       "<tr><td>main_780bd_00008</td><td>TERMINATED</td><td>                 </td><td style=\"text-align: right;\">     800</td><td style=\"text-align: right;\"> 128</td><td style=\"text-align: right;\">  64</td><td style=\"text-align: right;\">  16</td><td style=\"text-align: right;\">0.0014</td><td style=\"text-align: right;\">        0.0009</td><td style=\"text-align: right;\">     1</td><td style=\"text-align: right;\">         14.9417</td><td style=\"text-align: right;\">  0.874909</td></tr>\n",
       "</tbody>\n",
       "</table><br>... 30 more trials not shown (5 PENDING, 25 TERMINATED)<br><br>"
      ],
      "text/plain": [
       "<IPython.core.display.HTML object>"
      ]
     },
     "metadata": {},
     "output_type": "display_data"
    },
    {
     "name": "stdout",
     "output_type": "stream",
     "text": [
      "Result for main_780bd_00034:\n",
      "  accuracy: 0.8821818181818182\n",
      "  date: 2021-05-07_17-40-18\n",
      "  done: true\n",
      "  experiment_id: 4da126eee05741ce88c9be2a75ecbc22\n",
      "  experiment_tag: 34_epochs=700,l1=128,l2=64,l3=16,lr=0.0016,weight_decay=0.0006\n",
      "  hostname: 4ce982eb56f7\n",
      "  iterations_since_restore: 1\n",
      "  node_ip: 172.17.0.11\n",
      "  pid: 10493\n",
      "  time_since_restore: 13.726305484771729\n",
      "  time_this_iter_s: 13.726305484771729\n",
      "  time_total_s: 13.726305484771729\n",
      "  timestamp: 1620409218\n",
      "  timesteps_since_restore: 0\n",
      "  training_iteration: 1\n",
      "  trial_id: 780bd_00034\n",
      "  \n"
     ]
    },
    {
     "name": "stderr",
     "output_type": "stream",
     "text": [
      "\u001b[2m\u001b[36m(pid=10556)\u001b[0m Using backend: pytorch\n"
     ]
    },
    {
     "name": "stdout",
     "output_type": "stream",
     "text": [
      "\u001b[2m\u001b[36m(pid=10556)\u001b[0m l1 128 l2 64 l3 16\n",
      "Result for main_780bd_00035:\n",
      "  accuracy: 0.8749090909090909\n",
      "  date: 2021-05-07_17-40-25\n",
      "  done: false\n",
      "  experiment_id: 39f36e30045a4683975e873155527356\n",
      "  hostname: 4ce982eb56f7\n",
      "  iterations_since_restore: 1\n",
      "  node_ip: 172.17.0.11\n",
      "  pid: 10524\n",
      "  time_since_restore: 15.01893663406372\n",
      "  time_this_iter_s: 15.01893663406372\n",
      "  time_total_s: 15.01893663406372\n",
      "  timestamp: 1620409225\n",
      "  timesteps_since_restore: 0\n",
      "  training_iteration: 1\n",
      "  trial_id: 780bd_00035\n",
      "  \n"
     ]
    },
    {
     "data": {
      "text/html": [
       "== Status ==<br>Memory usage on this node: 31.6/62.8 GiB<br>Using FIFO scheduling algorithm.<br>Resources requested: 2.0/8 CPUs, 2.0/2 GPUs, 0.0/41.76 GiB heap, 0.0/9.31 GiB objects (0.0/1.0 accelerator_type:GTX)<br>Result logdir: /root/ray_results/main_2021-05-07_17-34-25<br>Number of trials: 50/50 (13 PENDING, 2 RUNNING, 35 TERMINATED)<br><table>\n",
       "<thead>\n",
       "<tr><th>Trial name      </th><th>status    </th><th>loc              </th><th style=\"text-align: right;\">  epochs</th><th style=\"text-align: right;\">  l1</th><th style=\"text-align: right;\">  l2</th><th style=\"text-align: right;\">  l3</th><th style=\"text-align: right;\">    lr</th><th style=\"text-align: right;\">  weight_decay</th><th style=\"text-align: right;\">  iter</th><th style=\"text-align: right;\">  total time (s)</th><th style=\"text-align: right;\">  accuracy</th></tr>\n",
       "</thead>\n",
       "<tbody>\n",
       "<tr><td>main_780bd_00035</td><td>RUNNING   </td><td>172.17.0.11:10524</td><td style=\"text-align: right;\">     800</td><td style=\"text-align: right;\"> 128</td><td style=\"text-align: right;\">  64</td><td style=\"text-align: right;\">  16</td><td style=\"text-align: right;\">0.001 </td><td style=\"text-align: right;\">        0.0006</td><td style=\"text-align: right;\">     1</td><td style=\"text-align: right;\">         15.0189</td><td style=\"text-align: right;\">  0.874909</td></tr>\n",
       "<tr><td>main_780bd_00036</td><td>RUNNING   </td><td>                 </td><td style=\"text-align: right;\">     700</td><td style=\"text-align: right;\"> 128</td><td style=\"text-align: right;\">  64</td><td style=\"text-align: right;\">  16</td><td style=\"text-align: right;\">0.0006</td><td style=\"text-align: right;\">        0.0006</td><td style=\"text-align: right;\">      </td><td style=\"text-align: right;\">                </td><td style=\"text-align: right;\">          </td></tr>\n",
       "<tr><td>main_780bd_00037</td><td>PENDING   </td><td>                 </td><td style=\"text-align: right;\">     800</td><td style=\"text-align: right;\"> 128</td><td style=\"text-align: right;\">  64</td><td style=\"text-align: right;\">  16</td><td style=\"text-align: right;\">0.0012</td><td style=\"text-align: right;\">        0.0009</td><td style=\"text-align: right;\">      </td><td style=\"text-align: right;\">                </td><td style=\"text-align: right;\">          </td></tr>\n",
       "<tr><td>main_780bd_00038</td><td>PENDING   </td><td>                 </td><td style=\"text-align: right;\">     700</td><td style=\"text-align: right;\"> 128</td><td style=\"text-align: right;\">  64</td><td style=\"text-align: right;\">  16</td><td style=\"text-align: right;\">0.0016</td><td style=\"text-align: right;\">        0.0009</td><td style=\"text-align: right;\">      </td><td style=\"text-align: right;\">                </td><td style=\"text-align: right;\">          </td></tr>\n",
       "<tr><td>main_780bd_00039</td><td>PENDING   </td><td>                 </td><td style=\"text-align: right;\">     800</td><td style=\"text-align: right;\"> 128</td><td style=\"text-align: right;\">  64</td><td style=\"text-align: right;\">  16</td><td style=\"text-align: right;\">0.001 </td><td style=\"text-align: right;\">        0.0009</td><td style=\"text-align: right;\">      </td><td style=\"text-align: right;\">                </td><td style=\"text-align: right;\">          </td></tr>\n",
       "<tr><td>main_780bd_00040</td><td>PENDING   </td><td>                 </td><td style=\"text-align: right;\">     800</td><td style=\"text-align: right;\"> 128</td><td style=\"text-align: right;\">  64</td><td style=\"text-align: right;\">  16</td><td style=\"text-align: right;\">0.0016</td><td style=\"text-align: right;\">        0.0009</td><td style=\"text-align: right;\">      </td><td style=\"text-align: right;\">                </td><td style=\"text-align: right;\">          </td></tr>\n",
       "<tr><td>main_780bd_00041</td><td>PENDING   </td><td>                 </td><td style=\"text-align: right;\">     800</td><td style=\"text-align: right;\"> 128</td><td style=\"text-align: right;\">  64</td><td style=\"text-align: right;\">  16</td><td style=\"text-align: right;\">0.0018</td><td style=\"text-align: right;\">        0.0009</td><td style=\"text-align: right;\">      </td><td style=\"text-align: right;\">                </td><td style=\"text-align: right;\">          </td></tr>\n",
       "<tr><td>main_780bd_00042</td><td>PENDING   </td><td>                 </td><td style=\"text-align: right;\">     700</td><td style=\"text-align: right;\"> 128</td><td style=\"text-align: right;\">  64</td><td style=\"text-align: right;\">  16</td><td style=\"text-align: right;\">0.0016</td><td style=\"text-align: right;\">        0.0006</td><td style=\"text-align: right;\">      </td><td style=\"text-align: right;\">                </td><td style=\"text-align: right;\">          </td></tr>\n",
       "<tr><td>main_780bd_00043</td><td>PENDING   </td><td>                 </td><td style=\"text-align: right;\">     800</td><td style=\"text-align: right;\"> 128</td><td style=\"text-align: right;\">  64</td><td style=\"text-align: right;\">  16</td><td style=\"text-align: right;\">0.0012</td><td style=\"text-align: right;\">        0.0003</td><td style=\"text-align: right;\">      </td><td style=\"text-align: right;\">                </td><td style=\"text-align: right;\">          </td></tr>\n",
       "<tr><td>main_780bd_00044</td><td>PENDING   </td><td>                 </td><td style=\"text-align: right;\">     700</td><td style=\"text-align: right;\"> 128</td><td style=\"text-align: right;\">  64</td><td style=\"text-align: right;\">  16</td><td style=\"text-align: right;\">0.0008</td><td style=\"text-align: right;\">        0.0006</td><td style=\"text-align: right;\">      </td><td style=\"text-align: right;\">                </td><td style=\"text-align: right;\">          </td></tr>\n",
       "<tr><td>main_780bd_00045</td><td>PENDING   </td><td>                 </td><td style=\"text-align: right;\">     800</td><td style=\"text-align: right;\"> 128</td><td style=\"text-align: right;\">  64</td><td style=\"text-align: right;\">  16</td><td style=\"text-align: right;\">0.0018</td><td style=\"text-align: right;\">        0.0009</td><td style=\"text-align: right;\">      </td><td style=\"text-align: right;\">                </td><td style=\"text-align: right;\">          </td></tr>\n",
       "<tr><td>main_780bd_00000</td><td>TERMINATED</td><td>                 </td><td style=\"text-align: right;\">     700</td><td style=\"text-align: right;\"> 128</td><td style=\"text-align: right;\">  64</td><td style=\"text-align: right;\">  16</td><td style=\"text-align: right;\">0.0008</td><td style=\"text-align: right;\">        0.0009</td><td style=\"text-align: right;\">     1</td><td style=\"text-align: right;\">         13.6591</td><td style=\"text-align: right;\">  0.877091</td></tr>\n",
       "<tr><td>main_780bd_00001</td><td>TERMINATED</td><td>                 </td><td style=\"text-align: right;\">     700</td><td style=\"text-align: right;\"> 128</td><td style=\"text-align: right;\">  64</td><td style=\"text-align: right;\">  16</td><td style=\"text-align: right;\">0.001 </td><td style=\"text-align: right;\">        0.0006</td><td style=\"text-align: right;\">     1</td><td style=\"text-align: right;\">         13.6453</td><td style=\"text-align: right;\">  0.883636</td></tr>\n",
       "<tr><td>main_780bd_00002</td><td>TERMINATED</td><td>                 </td><td style=\"text-align: right;\">     700</td><td style=\"text-align: right;\"> 128</td><td style=\"text-align: right;\">  64</td><td style=\"text-align: right;\">  16</td><td style=\"text-align: right;\">0.0016</td><td style=\"text-align: right;\">        0.0009</td><td style=\"text-align: right;\">     1</td><td style=\"text-align: right;\">         12.996 </td><td style=\"text-align: right;\">  0.879273</td></tr>\n",
       "<tr><td>main_780bd_00003</td><td>TERMINATED</td><td>                 </td><td style=\"text-align: right;\">     800</td><td style=\"text-align: right;\"> 128</td><td style=\"text-align: right;\">  64</td><td style=\"text-align: right;\">  16</td><td style=\"text-align: right;\">0.0012</td><td style=\"text-align: right;\">        0.0006</td><td style=\"text-align: right;\">     1</td><td style=\"text-align: right;\">         14.9518</td><td style=\"text-align: right;\">  0.883636</td></tr>\n",
       "<tr><td>main_780bd_00004</td><td>TERMINATED</td><td>                 </td><td style=\"text-align: right;\">     700</td><td style=\"text-align: right;\"> 128</td><td style=\"text-align: right;\">  64</td><td style=\"text-align: right;\">  16</td><td style=\"text-align: right;\">0.0006</td><td style=\"text-align: right;\">        0.0003</td><td style=\"text-align: right;\">     1</td><td style=\"text-align: right;\">         13.1162</td><td style=\"text-align: right;\">  0.876364</td></tr>\n",
       "<tr><td>main_780bd_00005</td><td>TERMINATED</td><td>                 </td><td style=\"text-align: right;\">     800</td><td style=\"text-align: right;\"> 128</td><td style=\"text-align: right;\">  64</td><td style=\"text-align: right;\">  16</td><td style=\"text-align: right;\">0.0018</td><td style=\"text-align: right;\">        0.0006</td><td style=\"text-align: right;\">     1</td><td style=\"text-align: right;\">         14.9799</td><td style=\"text-align: right;\">  0.869818</td></tr>\n",
       "<tr><td>main_780bd_00006</td><td>TERMINATED</td><td>                 </td><td style=\"text-align: right;\">     700</td><td style=\"text-align: right;\"> 128</td><td style=\"text-align: right;\">  64</td><td style=\"text-align: right;\">  16</td><td style=\"text-align: right;\">0.0016</td><td style=\"text-align: right;\">        0.0006</td><td style=\"text-align: right;\">     1</td><td style=\"text-align: right;\">         13.208 </td><td style=\"text-align: right;\">  0.872727</td></tr>\n",
       "<tr><td>main_780bd_00007</td><td>TERMINATED</td><td>                 </td><td style=\"text-align: right;\">     800</td><td style=\"text-align: right;\"> 128</td><td style=\"text-align: right;\">  64</td><td style=\"text-align: right;\">  16</td><td style=\"text-align: right;\">0.0012</td><td style=\"text-align: right;\">        0.0006</td><td style=\"text-align: right;\">     1</td><td style=\"text-align: right;\">         15.0515</td><td style=\"text-align: right;\">  0.864727</td></tr>\n",
       "<tr><td>main_780bd_00008</td><td>TERMINATED</td><td>                 </td><td style=\"text-align: right;\">     800</td><td style=\"text-align: right;\"> 128</td><td style=\"text-align: right;\">  64</td><td style=\"text-align: right;\">  16</td><td style=\"text-align: right;\">0.0014</td><td style=\"text-align: right;\">        0.0009</td><td style=\"text-align: right;\">     1</td><td style=\"text-align: right;\">         14.9417</td><td style=\"text-align: right;\">  0.874909</td></tr>\n",
       "</tbody>\n",
       "</table><br>... 30 more trials not shown (4 PENDING, 26 TERMINATED)<br><br>"
      ],
      "text/plain": [
       "<IPython.core.display.HTML object>"
      ]
     },
     "metadata": {},
     "output_type": "display_data"
    },
    {
     "name": "stdout",
     "output_type": "stream",
     "text": [
      "Result for main_780bd_00035:\n",
      "  accuracy: 0.8749090909090909\n",
      "  date: 2021-05-07_17-40-25\n",
      "  done: true\n",
      "  experiment_id: 39f36e30045a4683975e873155527356\n",
      "  experiment_tag: 35_epochs=800,l1=128,l2=64,l3=16,lr=0.001,weight_decay=0.0006\n",
      "  hostname: 4ce982eb56f7\n",
      "  iterations_since_restore: 1\n",
      "  node_ip: 172.17.0.11\n",
      "  pid: 10524\n",
      "  time_since_restore: 15.01893663406372\n",
      "  time_this_iter_s: 15.01893663406372\n",
      "  time_total_s: 15.01893663406372\n",
      "  timestamp: 1620409225\n",
      "  timesteps_since_restore: 0\n",
      "  training_iteration: 1\n",
      "  trial_id: 780bd_00035\n",
      "  \n"
     ]
    },
    {
     "name": "stderr",
     "output_type": "stream",
     "text": [
      "\u001b[2m\u001b[36m(pid=10587)\u001b[0m Using backend: pytorch\n"
     ]
    },
    {
     "name": "stdout",
     "output_type": "stream",
     "text": [
      "\u001b[2m\u001b[36m(pid=10587)\u001b[0m l1 128 l2 64 l3 16\n",
      "Result for main_780bd_00036:\n",
      "  accuracy: 0.866909090909091\n",
      "  date: 2021-05-07_17-40-35\n",
      "  done: false\n",
      "  experiment_id: 2376a3dfd5394f0a890b1d95c405eab4\n",
      "  hostname: 4ce982eb56f7\n",
      "  iterations_since_restore: 1\n",
      "  node_ip: 172.17.0.11\n",
      "  pid: 10556\n",
      "  time_since_restore: 13.296335458755493\n",
      "  time_this_iter_s: 13.296335458755493\n",
      "  time_total_s: 13.296335458755493\n",
      "  timestamp: 1620409235\n",
      "  timesteps_since_restore: 0\n",
      "  training_iteration: 1\n",
      "  trial_id: 780bd_00036\n",
      "  \n"
     ]
    },
    {
     "data": {
      "text/html": [
       "== Status ==<br>Memory usage on this node: 31.5/62.8 GiB<br>Using FIFO scheduling algorithm.<br>Resources requested: 2.0/8 CPUs, 2.0/2 GPUs, 0.0/41.76 GiB heap, 0.0/9.31 GiB objects (0.0/1.0 accelerator_type:GTX)<br>Result logdir: /root/ray_results/main_2021-05-07_17-34-25<br>Number of trials: 50/50 (12 PENDING, 2 RUNNING, 36 TERMINATED)<br><table>\n",
       "<thead>\n",
       "<tr><th>Trial name      </th><th>status    </th><th>loc              </th><th style=\"text-align: right;\">  epochs</th><th style=\"text-align: right;\">  l1</th><th style=\"text-align: right;\">  l2</th><th style=\"text-align: right;\">  l3</th><th style=\"text-align: right;\">    lr</th><th style=\"text-align: right;\">  weight_decay</th><th style=\"text-align: right;\">  iter</th><th style=\"text-align: right;\">  total time (s)</th><th style=\"text-align: right;\">  accuracy</th></tr>\n",
       "</thead>\n",
       "<tbody>\n",
       "<tr><td>main_780bd_00036</td><td>RUNNING   </td><td>172.17.0.11:10556</td><td style=\"text-align: right;\">     700</td><td style=\"text-align: right;\"> 128</td><td style=\"text-align: right;\">  64</td><td style=\"text-align: right;\">  16</td><td style=\"text-align: right;\">0.0006</td><td style=\"text-align: right;\">        0.0006</td><td style=\"text-align: right;\">     1</td><td style=\"text-align: right;\">         13.2963</td><td style=\"text-align: right;\">  0.866909</td></tr>\n",
       "<tr><td>main_780bd_00037</td><td>RUNNING   </td><td>                 </td><td style=\"text-align: right;\">     800</td><td style=\"text-align: right;\"> 128</td><td style=\"text-align: right;\">  64</td><td style=\"text-align: right;\">  16</td><td style=\"text-align: right;\">0.0012</td><td style=\"text-align: right;\">        0.0009</td><td style=\"text-align: right;\">      </td><td style=\"text-align: right;\">                </td><td style=\"text-align: right;\">          </td></tr>\n",
       "<tr><td>main_780bd_00038</td><td>PENDING   </td><td>                 </td><td style=\"text-align: right;\">     700</td><td style=\"text-align: right;\"> 128</td><td style=\"text-align: right;\">  64</td><td style=\"text-align: right;\">  16</td><td style=\"text-align: right;\">0.0016</td><td style=\"text-align: right;\">        0.0009</td><td style=\"text-align: right;\">      </td><td style=\"text-align: right;\">                </td><td style=\"text-align: right;\">          </td></tr>\n",
       "<tr><td>main_780bd_00039</td><td>PENDING   </td><td>                 </td><td style=\"text-align: right;\">     800</td><td style=\"text-align: right;\"> 128</td><td style=\"text-align: right;\">  64</td><td style=\"text-align: right;\">  16</td><td style=\"text-align: right;\">0.001 </td><td style=\"text-align: right;\">        0.0009</td><td style=\"text-align: right;\">      </td><td style=\"text-align: right;\">                </td><td style=\"text-align: right;\">          </td></tr>\n",
       "<tr><td>main_780bd_00040</td><td>PENDING   </td><td>                 </td><td style=\"text-align: right;\">     800</td><td style=\"text-align: right;\"> 128</td><td style=\"text-align: right;\">  64</td><td style=\"text-align: right;\">  16</td><td style=\"text-align: right;\">0.0016</td><td style=\"text-align: right;\">        0.0009</td><td style=\"text-align: right;\">      </td><td style=\"text-align: right;\">                </td><td style=\"text-align: right;\">          </td></tr>\n",
       "<tr><td>main_780bd_00041</td><td>PENDING   </td><td>                 </td><td style=\"text-align: right;\">     800</td><td style=\"text-align: right;\"> 128</td><td style=\"text-align: right;\">  64</td><td style=\"text-align: right;\">  16</td><td style=\"text-align: right;\">0.0018</td><td style=\"text-align: right;\">        0.0009</td><td style=\"text-align: right;\">      </td><td style=\"text-align: right;\">                </td><td style=\"text-align: right;\">          </td></tr>\n",
       "<tr><td>main_780bd_00042</td><td>PENDING   </td><td>                 </td><td style=\"text-align: right;\">     700</td><td style=\"text-align: right;\"> 128</td><td style=\"text-align: right;\">  64</td><td style=\"text-align: right;\">  16</td><td style=\"text-align: right;\">0.0016</td><td style=\"text-align: right;\">        0.0006</td><td style=\"text-align: right;\">      </td><td style=\"text-align: right;\">                </td><td style=\"text-align: right;\">          </td></tr>\n",
       "<tr><td>main_780bd_00043</td><td>PENDING   </td><td>                 </td><td style=\"text-align: right;\">     800</td><td style=\"text-align: right;\"> 128</td><td style=\"text-align: right;\">  64</td><td style=\"text-align: right;\">  16</td><td style=\"text-align: right;\">0.0012</td><td style=\"text-align: right;\">        0.0003</td><td style=\"text-align: right;\">      </td><td style=\"text-align: right;\">                </td><td style=\"text-align: right;\">          </td></tr>\n",
       "<tr><td>main_780bd_00044</td><td>PENDING   </td><td>                 </td><td style=\"text-align: right;\">     700</td><td style=\"text-align: right;\"> 128</td><td style=\"text-align: right;\">  64</td><td style=\"text-align: right;\">  16</td><td style=\"text-align: right;\">0.0008</td><td style=\"text-align: right;\">        0.0006</td><td style=\"text-align: right;\">      </td><td style=\"text-align: right;\">                </td><td style=\"text-align: right;\">          </td></tr>\n",
       "<tr><td>main_780bd_00045</td><td>PENDING   </td><td>                 </td><td style=\"text-align: right;\">     800</td><td style=\"text-align: right;\"> 128</td><td style=\"text-align: right;\">  64</td><td style=\"text-align: right;\">  16</td><td style=\"text-align: right;\">0.0018</td><td style=\"text-align: right;\">        0.0009</td><td style=\"text-align: right;\">      </td><td style=\"text-align: right;\">                </td><td style=\"text-align: right;\">          </td></tr>\n",
       "<tr><td>main_780bd_00046</td><td>PENDING   </td><td>                 </td><td style=\"text-align: right;\">     700</td><td style=\"text-align: right;\"> 128</td><td style=\"text-align: right;\">  64</td><td style=\"text-align: right;\">  16</td><td style=\"text-align: right;\">0.0016</td><td style=\"text-align: right;\">        0.0003</td><td style=\"text-align: right;\">      </td><td style=\"text-align: right;\">                </td><td style=\"text-align: right;\">          </td></tr>\n",
       "<tr><td>main_780bd_00000</td><td>TERMINATED</td><td>                 </td><td style=\"text-align: right;\">     700</td><td style=\"text-align: right;\"> 128</td><td style=\"text-align: right;\">  64</td><td style=\"text-align: right;\">  16</td><td style=\"text-align: right;\">0.0008</td><td style=\"text-align: right;\">        0.0009</td><td style=\"text-align: right;\">     1</td><td style=\"text-align: right;\">         13.6591</td><td style=\"text-align: right;\">  0.877091</td></tr>\n",
       "<tr><td>main_780bd_00001</td><td>TERMINATED</td><td>                 </td><td style=\"text-align: right;\">     700</td><td style=\"text-align: right;\"> 128</td><td style=\"text-align: right;\">  64</td><td style=\"text-align: right;\">  16</td><td style=\"text-align: right;\">0.001 </td><td style=\"text-align: right;\">        0.0006</td><td style=\"text-align: right;\">     1</td><td style=\"text-align: right;\">         13.6453</td><td style=\"text-align: right;\">  0.883636</td></tr>\n",
       "<tr><td>main_780bd_00002</td><td>TERMINATED</td><td>                 </td><td style=\"text-align: right;\">     700</td><td style=\"text-align: right;\"> 128</td><td style=\"text-align: right;\">  64</td><td style=\"text-align: right;\">  16</td><td style=\"text-align: right;\">0.0016</td><td style=\"text-align: right;\">        0.0009</td><td style=\"text-align: right;\">     1</td><td style=\"text-align: right;\">         12.996 </td><td style=\"text-align: right;\">  0.879273</td></tr>\n",
       "<tr><td>main_780bd_00003</td><td>TERMINATED</td><td>                 </td><td style=\"text-align: right;\">     800</td><td style=\"text-align: right;\"> 128</td><td style=\"text-align: right;\">  64</td><td style=\"text-align: right;\">  16</td><td style=\"text-align: right;\">0.0012</td><td style=\"text-align: right;\">        0.0006</td><td style=\"text-align: right;\">     1</td><td style=\"text-align: right;\">         14.9518</td><td style=\"text-align: right;\">  0.883636</td></tr>\n",
       "<tr><td>main_780bd_00004</td><td>TERMINATED</td><td>                 </td><td style=\"text-align: right;\">     700</td><td style=\"text-align: right;\"> 128</td><td style=\"text-align: right;\">  64</td><td style=\"text-align: right;\">  16</td><td style=\"text-align: right;\">0.0006</td><td style=\"text-align: right;\">        0.0003</td><td style=\"text-align: right;\">     1</td><td style=\"text-align: right;\">         13.1162</td><td style=\"text-align: right;\">  0.876364</td></tr>\n",
       "<tr><td>main_780bd_00005</td><td>TERMINATED</td><td>                 </td><td style=\"text-align: right;\">     800</td><td style=\"text-align: right;\"> 128</td><td style=\"text-align: right;\">  64</td><td style=\"text-align: right;\">  16</td><td style=\"text-align: right;\">0.0018</td><td style=\"text-align: right;\">        0.0006</td><td style=\"text-align: right;\">     1</td><td style=\"text-align: right;\">         14.9799</td><td style=\"text-align: right;\">  0.869818</td></tr>\n",
       "<tr><td>main_780bd_00006</td><td>TERMINATED</td><td>                 </td><td style=\"text-align: right;\">     700</td><td style=\"text-align: right;\"> 128</td><td style=\"text-align: right;\">  64</td><td style=\"text-align: right;\">  16</td><td style=\"text-align: right;\">0.0016</td><td style=\"text-align: right;\">        0.0006</td><td style=\"text-align: right;\">     1</td><td style=\"text-align: right;\">         13.208 </td><td style=\"text-align: right;\">  0.872727</td></tr>\n",
       "<tr><td>main_780bd_00007</td><td>TERMINATED</td><td>                 </td><td style=\"text-align: right;\">     800</td><td style=\"text-align: right;\"> 128</td><td style=\"text-align: right;\">  64</td><td style=\"text-align: right;\">  16</td><td style=\"text-align: right;\">0.0012</td><td style=\"text-align: right;\">        0.0006</td><td style=\"text-align: right;\">     1</td><td style=\"text-align: right;\">         15.0515</td><td style=\"text-align: right;\">  0.864727</td></tr>\n",
       "<tr><td>main_780bd_00008</td><td>TERMINATED</td><td>                 </td><td style=\"text-align: right;\">     800</td><td style=\"text-align: right;\"> 128</td><td style=\"text-align: right;\">  64</td><td style=\"text-align: right;\">  16</td><td style=\"text-align: right;\">0.0014</td><td style=\"text-align: right;\">        0.0009</td><td style=\"text-align: right;\">     1</td><td style=\"text-align: right;\">         14.9417</td><td style=\"text-align: right;\">  0.874909</td></tr>\n",
       "</tbody>\n",
       "</table><br>... 30 more trials not shown (3 PENDING, 27 TERMINATED)<br><br>"
      ],
      "text/plain": [
       "<IPython.core.display.HTML object>"
      ]
     },
     "metadata": {},
     "output_type": "display_data"
    },
    {
     "name": "stdout",
     "output_type": "stream",
     "text": [
      "Result for main_780bd_00036:\n",
      "  accuracy: 0.866909090909091\n",
      "  date: 2021-05-07_17-40-35\n",
      "  done: true\n",
      "  experiment_id: 2376a3dfd5394f0a890b1d95c405eab4\n",
      "  experiment_tag: 36_epochs=700,l1=128,l2=64,l3=16,lr=0.0006,weight_decay=0.0006\n",
      "  hostname: 4ce982eb56f7\n",
      "  iterations_since_restore: 1\n",
      "  node_ip: 172.17.0.11\n",
      "  pid: 10556\n",
      "  time_since_restore: 13.296335458755493\n",
      "  time_this_iter_s: 13.296335458755493\n",
      "  time_total_s: 13.296335458755493\n",
      "  timestamp: 1620409235\n",
      "  timesteps_since_restore: 0\n",
      "  training_iteration: 1\n",
      "  trial_id: 780bd_00036\n",
      "  \n"
     ]
    },
    {
     "name": "stderr",
     "output_type": "stream",
     "text": [
      "\u001b[2m\u001b[36m(pid=10618)\u001b[0m Using backend: pytorch\n"
     ]
    },
    {
     "name": "stdout",
     "output_type": "stream",
     "text": [
      "\u001b[2m\u001b[36m(pid=10618)\u001b[0m l1 128 l2 64 l3 16\n",
      "Result for main_780bd_00037:\n",
      "  accuracy: 0.8625454545454545\n",
      "  date: 2021-05-07_17-40-43\n",
      "  done: false\n",
      "  experiment_id: 782e64b4978948f88023b12756bca2fe\n",
      "  hostname: 4ce982eb56f7\n",
      "  iterations_since_restore: 1\n",
      "  node_ip: 172.17.0.11\n",
      "  pid: 10587\n",
      "  time_since_restore: 14.972690343856812\n",
      "  time_this_iter_s: 14.972690343856812\n",
      "  time_total_s: 14.972690343856812\n",
      "  timestamp: 1620409243\n",
      "  timesteps_since_restore: 0\n",
      "  training_iteration: 1\n",
      "  trial_id: 780bd_00037\n",
      "  \n"
     ]
    },
    {
     "data": {
      "text/html": [
       "== Status ==<br>Memory usage on this node: 31.5/62.8 GiB<br>Using FIFO scheduling algorithm.<br>Resources requested: 2.0/8 CPUs, 2.0/2 GPUs, 0.0/41.76 GiB heap, 0.0/9.31 GiB objects (0.0/1.0 accelerator_type:GTX)<br>Result logdir: /root/ray_results/main_2021-05-07_17-34-25<br>Number of trials: 50/50 (11 PENDING, 2 RUNNING, 37 TERMINATED)<br><table>\n",
       "<thead>\n",
       "<tr><th>Trial name      </th><th>status    </th><th>loc              </th><th style=\"text-align: right;\">  epochs</th><th style=\"text-align: right;\">  l1</th><th style=\"text-align: right;\">  l2</th><th style=\"text-align: right;\">  l3</th><th style=\"text-align: right;\">    lr</th><th style=\"text-align: right;\">  weight_decay</th><th style=\"text-align: right;\">  iter</th><th style=\"text-align: right;\">  total time (s)</th><th style=\"text-align: right;\">  accuracy</th></tr>\n",
       "</thead>\n",
       "<tbody>\n",
       "<tr><td>main_780bd_00037</td><td>RUNNING   </td><td>172.17.0.11:10587</td><td style=\"text-align: right;\">     800</td><td style=\"text-align: right;\"> 128</td><td style=\"text-align: right;\">  64</td><td style=\"text-align: right;\">  16</td><td style=\"text-align: right;\">0.0012</td><td style=\"text-align: right;\">        0.0009</td><td style=\"text-align: right;\">     1</td><td style=\"text-align: right;\">         14.9727</td><td style=\"text-align: right;\">  0.862545</td></tr>\n",
       "<tr><td>main_780bd_00038</td><td>RUNNING   </td><td>                 </td><td style=\"text-align: right;\">     700</td><td style=\"text-align: right;\"> 128</td><td style=\"text-align: right;\">  64</td><td style=\"text-align: right;\">  16</td><td style=\"text-align: right;\">0.0016</td><td style=\"text-align: right;\">        0.0009</td><td style=\"text-align: right;\">      </td><td style=\"text-align: right;\">                </td><td style=\"text-align: right;\">          </td></tr>\n",
       "<tr><td>main_780bd_00039</td><td>PENDING   </td><td>                 </td><td style=\"text-align: right;\">     800</td><td style=\"text-align: right;\"> 128</td><td style=\"text-align: right;\">  64</td><td style=\"text-align: right;\">  16</td><td style=\"text-align: right;\">0.001 </td><td style=\"text-align: right;\">        0.0009</td><td style=\"text-align: right;\">      </td><td style=\"text-align: right;\">                </td><td style=\"text-align: right;\">          </td></tr>\n",
       "<tr><td>main_780bd_00040</td><td>PENDING   </td><td>                 </td><td style=\"text-align: right;\">     800</td><td style=\"text-align: right;\"> 128</td><td style=\"text-align: right;\">  64</td><td style=\"text-align: right;\">  16</td><td style=\"text-align: right;\">0.0016</td><td style=\"text-align: right;\">        0.0009</td><td style=\"text-align: right;\">      </td><td style=\"text-align: right;\">                </td><td style=\"text-align: right;\">          </td></tr>\n",
       "<tr><td>main_780bd_00041</td><td>PENDING   </td><td>                 </td><td style=\"text-align: right;\">     800</td><td style=\"text-align: right;\"> 128</td><td style=\"text-align: right;\">  64</td><td style=\"text-align: right;\">  16</td><td style=\"text-align: right;\">0.0018</td><td style=\"text-align: right;\">        0.0009</td><td style=\"text-align: right;\">      </td><td style=\"text-align: right;\">                </td><td style=\"text-align: right;\">          </td></tr>\n",
       "<tr><td>main_780bd_00042</td><td>PENDING   </td><td>                 </td><td style=\"text-align: right;\">     700</td><td style=\"text-align: right;\"> 128</td><td style=\"text-align: right;\">  64</td><td style=\"text-align: right;\">  16</td><td style=\"text-align: right;\">0.0016</td><td style=\"text-align: right;\">        0.0006</td><td style=\"text-align: right;\">      </td><td style=\"text-align: right;\">                </td><td style=\"text-align: right;\">          </td></tr>\n",
       "<tr><td>main_780bd_00043</td><td>PENDING   </td><td>                 </td><td style=\"text-align: right;\">     800</td><td style=\"text-align: right;\"> 128</td><td style=\"text-align: right;\">  64</td><td style=\"text-align: right;\">  16</td><td style=\"text-align: right;\">0.0012</td><td style=\"text-align: right;\">        0.0003</td><td style=\"text-align: right;\">      </td><td style=\"text-align: right;\">                </td><td style=\"text-align: right;\">          </td></tr>\n",
       "<tr><td>main_780bd_00044</td><td>PENDING   </td><td>                 </td><td style=\"text-align: right;\">     700</td><td style=\"text-align: right;\"> 128</td><td style=\"text-align: right;\">  64</td><td style=\"text-align: right;\">  16</td><td style=\"text-align: right;\">0.0008</td><td style=\"text-align: right;\">        0.0006</td><td style=\"text-align: right;\">      </td><td style=\"text-align: right;\">                </td><td style=\"text-align: right;\">          </td></tr>\n",
       "<tr><td>main_780bd_00045</td><td>PENDING   </td><td>                 </td><td style=\"text-align: right;\">     800</td><td style=\"text-align: right;\"> 128</td><td style=\"text-align: right;\">  64</td><td style=\"text-align: right;\">  16</td><td style=\"text-align: right;\">0.0018</td><td style=\"text-align: right;\">        0.0009</td><td style=\"text-align: right;\">      </td><td style=\"text-align: right;\">                </td><td style=\"text-align: right;\">          </td></tr>\n",
       "<tr><td>main_780bd_00046</td><td>PENDING   </td><td>                 </td><td style=\"text-align: right;\">     700</td><td style=\"text-align: right;\"> 128</td><td style=\"text-align: right;\">  64</td><td style=\"text-align: right;\">  16</td><td style=\"text-align: right;\">0.0016</td><td style=\"text-align: right;\">        0.0003</td><td style=\"text-align: right;\">      </td><td style=\"text-align: right;\">                </td><td style=\"text-align: right;\">          </td></tr>\n",
       "<tr><td>main_780bd_00047</td><td>PENDING   </td><td>                 </td><td style=\"text-align: right;\">     700</td><td style=\"text-align: right;\"> 128</td><td style=\"text-align: right;\">  64</td><td style=\"text-align: right;\">  16</td><td style=\"text-align: right;\">0.0006</td><td style=\"text-align: right;\">        0.0009</td><td style=\"text-align: right;\">      </td><td style=\"text-align: right;\">                </td><td style=\"text-align: right;\">          </td></tr>\n",
       "<tr><td>main_780bd_00000</td><td>TERMINATED</td><td>                 </td><td style=\"text-align: right;\">     700</td><td style=\"text-align: right;\"> 128</td><td style=\"text-align: right;\">  64</td><td style=\"text-align: right;\">  16</td><td style=\"text-align: right;\">0.0008</td><td style=\"text-align: right;\">        0.0009</td><td style=\"text-align: right;\">     1</td><td style=\"text-align: right;\">         13.6591</td><td style=\"text-align: right;\">  0.877091</td></tr>\n",
       "<tr><td>main_780bd_00001</td><td>TERMINATED</td><td>                 </td><td style=\"text-align: right;\">     700</td><td style=\"text-align: right;\"> 128</td><td style=\"text-align: right;\">  64</td><td style=\"text-align: right;\">  16</td><td style=\"text-align: right;\">0.001 </td><td style=\"text-align: right;\">        0.0006</td><td style=\"text-align: right;\">     1</td><td style=\"text-align: right;\">         13.6453</td><td style=\"text-align: right;\">  0.883636</td></tr>\n",
       "<tr><td>main_780bd_00002</td><td>TERMINATED</td><td>                 </td><td style=\"text-align: right;\">     700</td><td style=\"text-align: right;\"> 128</td><td style=\"text-align: right;\">  64</td><td style=\"text-align: right;\">  16</td><td style=\"text-align: right;\">0.0016</td><td style=\"text-align: right;\">        0.0009</td><td style=\"text-align: right;\">     1</td><td style=\"text-align: right;\">         12.996 </td><td style=\"text-align: right;\">  0.879273</td></tr>\n",
       "<tr><td>main_780bd_00003</td><td>TERMINATED</td><td>                 </td><td style=\"text-align: right;\">     800</td><td style=\"text-align: right;\"> 128</td><td style=\"text-align: right;\">  64</td><td style=\"text-align: right;\">  16</td><td style=\"text-align: right;\">0.0012</td><td style=\"text-align: right;\">        0.0006</td><td style=\"text-align: right;\">     1</td><td style=\"text-align: right;\">         14.9518</td><td style=\"text-align: right;\">  0.883636</td></tr>\n",
       "<tr><td>main_780bd_00004</td><td>TERMINATED</td><td>                 </td><td style=\"text-align: right;\">     700</td><td style=\"text-align: right;\"> 128</td><td style=\"text-align: right;\">  64</td><td style=\"text-align: right;\">  16</td><td style=\"text-align: right;\">0.0006</td><td style=\"text-align: right;\">        0.0003</td><td style=\"text-align: right;\">     1</td><td style=\"text-align: right;\">         13.1162</td><td style=\"text-align: right;\">  0.876364</td></tr>\n",
       "<tr><td>main_780bd_00005</td><td>TERMINATED</td><td>                 </td><td style=\"text-align: right;\">     800</td><td style=\"text-align: right;\"> 128</td><td style=\"text-align: right;\">  64</td><td style=\"text-align: right;\">  16</td><td style=\"text-align: right;\">0.0018</td><td style=\"text-align: right;\">        0.0006</td><td style=\"text-align: right;\">     1</td><td style=\"text-align: right;\">         14.9799</td><td style=\"text-align: right;\">  0.869818</td></tr>\n",
       "<tr><td>main_780bd_00006</td><td>TERMINATED</td><td>                 </td><td style=\"text-align: right;\">     700</td><td style=\"text-align: right;\"> 128</td><td style=\"text-align: right;\">  64</td><td style=\"text-align: right;\">  16</td><td style=\"text-align: right;\">0.0016</td><td style=\"text-align: right;\">        0.0006</td><td style=\"text-align: right;\">     1</td><td style=\"text-align: right;\">         13.208 </td><td style=\"text-align: right;\">  0.872727</td></tr>\n",
       "<tr><td>main_780bd_00007</td><td>TERMINATED</td><td>                 </td><td style=\"text-align: right;\">     800</td><td style=\"text-align: right;\"> 128</td><td style=\"text-align: right;\">  64</td><td style=\"text-align: right;\">  16</td><td style=\"text-align: right;\">0.0012</td><td style=\"text-align: right;\">        0.0006</td><td style=\"text-align: right;\">     1</td><td style=\"text-align: right;\">         15.0515</td><td style=\"text-align: right;\">  0.864727</td></tr>\n",
       "<tr><td>main_780bd_00008</td><td>TERMINATED</td><td>                 </td><td style=\"text-align: right;\">     800</td><td style=\"text-align: right;\"> 128</td><td style=\"text-align: right;\">  64</td><td style=\"text-align: right;\">  16</td><td style=\"text-align: right;\">0.0014</td><td style=\"text-align: right;\">        0.0009</td><td style=\"text-align: right;\">     1</td><td style=\"text-align: right;\">         14.9417</td><td style=\"text-align: right;\">  0.874909</td></tr>\n",
       "</tbody>\n",
       "</table><br>... 30 more trials not shown (2 PENDING, 28 TERMINATED)<br><br>"
      ],
      "text/plain": [
       "<IPython.core.display.HTML object>"
      ]
     },
     "metadata": {},
     "output_type": "display_data"
    },
    {
     "name": "stdout",
     "output_type": "stream",
     "text": [
      "Result for main_780bd_00037:\n",
      "  accuracy: 0.8625454545454545\n",
      "  date: 2021-05-07_17-40-43\n",
      "  done: true\n",
      "  experiment_id: 782e64b4978948f88023b12756bca2fe\n",
      "  experiment_tag: 37_epochs=800,l1=128,l2=64,l3=16,lr=0.0012,weight_decay=0.0009\n",
      "  hostname: 4ce982eb56f7\n",
      "  iterations_since_restore: 1\n",
      "  node_ip: 172.17.0.11\n",
      "  pid: 10587\n",
      "  time_since_restore: 14.972690343856812\n",
      "  time_this_iter_s: 14.972690343856812\n",
      "  time_total_s: 14.972690343856812\n",
      "  timestamp: 1620409243\n",
      "  timesteps_since_restore: 0\n",
      "  training_iteration: 1\n",
      "  trial_id: 780bd_00037\n",
      "  \n"
     ]
    },
    {
     "name": "stderr",
     "output_type": "stream",
     "text": [
      "\u001b[2m\u001b[36m(pid=10648)\u001b[0m Using backend: pytorch\n"
     ]
    },
    {
     "name": "stdout",
     "output_type": "stream",
     "text": [
      "\u001b[2m\u001b[36m(pid=10648)\u001b[0m l1 128 l2 64 l3 16\n",
      "Result for main_780bd_00038:\n",
      "  accuracy: 0.8756363636363637\n",
      "  date: 2021-05-07_17-40-51\n",
      "  done: false\n",
      "  experiment_id: 0acdeb4fa23b432cb86947f10ec3c144\n",
      "  hostname: 4ce982eb56f7\n",
      "  iterations_since_restore: 1\n",
      "  node_ip: 172.17.0.11\n",
      "  pid: 10618\n",
      "  time_since_restore: 13.098252773284912\n",
      "  time_this_iter_s: 13.098252773284912\n",
      "  time_total_s: 13.098252773284912\n",
      "  timestamp: 1620409251\n",
      "  timesteps_since_restore: 0\n",
      "  training_iteration: 1\n",
      "  trial_id: 780bd_00038\n",
      "  \n"
     ]
    },
    {
     "data": {
      "text/html": [
       "== Status ==<br>Memory usage on this node: 31.5/62.8 GiB<br>Using FIFO scheduling algorithm.<br>Resources requested: 2.0/8 CPUs, 2.0/2 GPUs, 0.0/41.76 GiB heap, 0.0/9.31 GiB objects (0.0/1.0 accelerator_type:GTX)<br>Result logdir: /root/ray_results/main_2021-05-07_17-34-25<br>Number of trials: 50/50 (10 PENDING, 2 RUNNING, 38 TERMINATED)<br><table>\n",
       "<thead>\n",
       "<tr><th>Trial name      </th><th>status    </th><th>loc              </th><th style=\"text-align: right;\">  epochs</th><th style=\"text-align: right;\">  l1</th><th style=\"text-align: right;\">  l2</th><th style=\"text-align: right;\">  l3</th><th style=\"text-align: right;\">    lr</th><th style=\"text-align: right;\">  weight_decay</th><th style=\"text-align: right;\">  iter</th><th style=\"text-align: right;\">  total time (s)</th><th style=\"text-align: right;\">  accuracy</th></tr>\n",
       "</thead>\n",
       "<tbody>\n",
       "<tr><td>main_780bd_00038</td><td>RUNNING   </td><td>172.17.0.11:10618</td><td style=\"text-align: right;\">     700</td><td style=\"text-align: right;\"> 128</td><td style=\"text-align: right;\">  64</td><td style=\"text-align: right;\">  16</td><td style=\"text-align: right;\">0.0016</td><td style=\"text-align: right;\">        0.0009</td><td style=\"text-align: right;\">     1</td><td style=\"text-align: right;\">         13.0983</td><td style=\"text-align: right;\">  0.875636</td></tr>\n",
       "<tr><td>main_780bd_00039</td><td>RUNNING   </td><td>                 </td><td style=\"text-align: right;\">     800</td><td style=\"text-align: right;\"> 128</td><td style=\"text-align: right;\">  64</td><td style=\"text-align: right;\">  16</td><td style=\"text-align: right;\">0.001 </td><td style=\"text-align: right;\">        0.0009</td><td style=\"text-align: right;\">      </td><td style=\"text-align: right;\">                </td><td style=\"text-align: right;\">          </td></tr>\n",
       "<tr><td>main_780bd_00040</td><td>PENDING   </td><td>                 </td><td style=\"text-align: right;\">     800</td><td style=\"text-align: right;\"> 128</td><td style=\"text-align: right;\">  64</td><td style=\"text-align: right;\">  16</td><td style=\"text-align: right;\">0.0016</td><td style=\"text-align: right;\">        0.0009</td><td style=\"text-align: right;\">      </td><td style=\"text-align: right;\">                </td><td style=\"text-align: right;\">          </td></tr>\n",
       "<tr><td>main_780bd_00041</td><td>PENDING   </td><td>                 </td><td style=\"text-align: right;\">     800</td><td style=\"text-align: right;\"> 128</td><td style=\"text-align: right;\">  64</td><td style=\"text-align: right;\">  16</td><td style=\"text-align: right;\">0.0018</td><td style=\"text-align: right;\">        0.0009</td><td style=\"text-align: right;\">      </td><td style=\"text-align: right;\">                </td><td style=\"text-align: right;\">          </td></tr>\n",
       "<tr><td>main_780bd_00042</td><td>PENDING   </td><td>                 </td><td style=\"text-align: right;\">     700</td><td style=\"text-align: right;\"> 128</td><td style=\"text-align: right;\">  64</td><td style=\"text-align: right;\">  16</td><td style=\"text-align: right;\">0.0016</td><td style=\"text-align: right;\">        0.0006</td><td style=\"text-align: right;\">      </td><td style=\"text-align: right;\">                </td><td style=\"text-align: right;\">          </td></tr>\n",
       "<tr><td>main_780bd_00043</td><td>PENDING   </td><td>                 </td><td style=\"text-align: right;\">     800</td><td style=\"text-align: right;\"> 128</td><td style=\"text-align: right;\">  64</td><td style=\"text-align: right;\">  16</td><td style=\"text-align: right;\">0.0012</td><td style=\"text-align: right;\">        0.0003</td><td style=\"text-align: right;\">      </td><td style=\"text-align: right;\">                </td><td style=\"text-align: right;\">          </td></tr>\n",
       "<tr><td>main_780bd_00044</td><td>PENDING   </td><td>                 </td><td style=\"text-align: right;\">     700</td><td style=\"text-align: right;\"> 128</td><td style=\"text-align: right;\">  64</td><td style=\"text-align: right;\">  16</td><td style=\"text-align: right;\">0.0008</td><td style=\"text-align: right;\">        0.0006</td><td style=\"text-align: right;\">      </td><td style=\"text-align: right;\">                </td><td style=\"text-align: right;\">          </td></tr>\n",
       "<tr><td>main_780bd_00045</td><td>PENDING   </td><td>                 </td><td style=\"text-align: right;\">     800</td><td style=\"text-align: right;\"> 128</td><td style=\"text-align: right;\">  64</td><td style=\"text-align: right;\">  16</td><td style=\"text-align: right;\">0.0018</td><td style=\"text-align: right;\">        0.0009</td><td style=\"text-align: right;\">      </td><td style=\"text-align: right;\">                </td><td style=\"text-align: right;\">          </td></tr>\n",
       "<tr><td>main_780bd_00046</td><td>PENDING   </td><td>                 </td><td style=\"text-align: right;\">     700</td><td style=\"text-align: right;\"> 128</td><td style=\"text-align: right;\">  64</td><td style=\"text-align: right;\">  16</td><td style=\"text-align: right;\">0.0016</td><td style=\"text-align: right;\">        0.0003</td><td style=\"text-align: right;\">      </td><td style=\"text-align: right;\">                </td><td style=\"text-align: right;\">          </td></tr>\n",
       "<tr><td>main_780bd_00047</td><td>PENDING   </td><td>                 </td><td style=\"text-align: right;\">     700</td><td style=\"text-align: right;\"> 128</td><td style=\"text-align: right;\">  64</td><td style=\"text-align: right;\">  16</td><td style=\"text-align: right;\">0.0006</td><td style=\"text-align: right;\">        0.0009</td><td style=\"text-align: right;\">      </td><td style=\"text-align: right;\">                </td><td style=\"text-align: right;\">          </td></tr>\n",
       "<tr><td>main_780bd_00048</td><td>PENDING   </td><td>                 </td><td style=\"text-align: right;\">     800</td><td style=\"text-align: right;\"> 128</td><td style=\"text-align: right;\">  64</td><td style=\"text-align: right;\">  16</td><td style=\"text-align: right;\">0.0008</td><td style=\"text-align: right;\">        0.0009</td><td style=\"text-align: right;\">      </td><td style=\"text-align: right;\">                </td><td style=\"text-align: right;\">          </td></tr>\n",
       "<tr><td>main_780bd_00000</td><td>TERMINATED</td><td>                 </td><td style=\"text-align: right;\">     700</td><td style=\"text-align: right;\"> 128</td><td style=\"text-align: right;\">  64</td><td style=\"text-align: right;\">  16</td><td style=\"text-align: right;\">0.0008</td><td style=\"text-align: right;\">        0.0009</td><td style=\"text-align: right;\">     1</td><td style=\"text-align: right;\">         13.6591</td><td style=\"text-align: right;\">  0.877091</td></tr>\n",
       "<tr><td>main_780bd_00001</td><td>TERMINATED</td><td>                 </td><td style=\"text-align: right;\">     700</td><td style=\"text-align: right;\"> 128</td><td style=\"text-align: right;\">  64</td><td style=\"text-align: right;\">  16</td><td style=\"text-align: right;\">0.001 </td><td style=\"text-align: right;\">        0.0006</td><td style=\"text-align: right;\">     1</td><td style=\"text-align: right;\">         13.6453</td><td style=\"text-align: right;\">  0.883636</td></tr>\n",
       "<tr><td>main_780bd_00002</td><td>TERMINATED</td><td>                 </td><td style=\"text-align: right;\">     700</td><td style=\"text-align: right;\"> 128</td><td style=\"text-align: right;\">  64</td><td style=\"text-align: right;\">  16</td><td style=\"text-align: right;\">0.0016</td><td style=\"text-align: right;\">        0.0009</td><td style=\"text-align: right;\">     1</td><td style=\"text-align: right;\">         12.996 </td><td style=\"text-align: right;\">  0.879273</td></tr>\n",
       "<tr><td>main_780bd_00003</td><td>TERMINATED</td><td>                 </td><td style=\"text-align: right;\">     800</td><td style=\"text-align: right;\"> 128</td><td style=\"text-align: right;\">  64</td><td style=\"text-align: right;\">  16</td><td style=\"text-align: right;\">0.0012</td><td style=\"text-align: right;\">        0.0006</td><td style=\"text-align: right;\">     1</td><td style=\"text-align: right;\">         14.9518</td><td style=\"text-align: right;\">  0.883636</td></tr>\n",
       "<tr><td>main_780bd_00004</td><td>TERMINATED</td><td>                 </td><td style=\"text-align: right;\">     700</td><td style=\"text-align: right;\"> 128</td><td style=\"text-align: right;\">  64</td><td style=\"text-align: right;\">  16</td><td style=\"text-align: right;\">0.0006</td><td style=\"text-align: right;\">        0.0003</td><td style=\"text-align: right;\">     1</td><td style=\"text-align: right;\">         13.1162</td><td style=\"text-align: right;\">  0.876364</td></tr>\n",
       "<tr><td>main_780bd_00005</td><td>TERMINATED</td><td>                 </td><td style=\"text-align: right;\">     800</td><td style=\"text-align: right;\"> 128</td><td style=\"text-align: right;\">  64</td><td style=\"text-align: right;\">  16</td><td style=\"text-align: right;\">0.0018</td><td style=\"text-align: right;\">        0.0006</td><td style=\"text-align: right;\">     1</td><td style=\"text-align: right;\">         14.9799</td><td style=\"text-align: right;\">  0.869818</td></tr>\n",
       "<tr><td>main_780bd_00006</td><td>TERMINATED</td><td>                 </td><td style=\"text-align: right;\">     700</td><td style=\"text-align: right;\"> 128</td><td style=\"text-align: right;\">  64</td><td style=\"text-align: right;\">  16</td><td style=\"text-align: right;\">0.0016</td><td style=\"text-align: right;\">        0.0006</td><td style=\"text-align: right;\">     1</td><td style=\"text-align: right;\">         13.208 </td><td style=\"text-align: right;\">  0.872727</td></tr>\n",
       "<tr><td>main_780bd_00007</td><td>TERMINATED</td><td>                 </td><td style=\"text-align: right;\">     800</td><td style=\"text-align: right;\"> 128</td><td style=\"text-align: right;\">  64</td><td style=\"text-align: right;\">  16</td><td style=\"text-align: right;\">0.0012</td><td style=\"text-align: right;\">        0.0006</td><td style=\"text-align: right;\">     1</td><td style=\"text-align: right;\">         15.0515</td><td style=\"text-align: right;\">  0.864727</td></tr>\n",
       "<tr><td>main_780bd_00008</td><td>TERMINATED</td><td>                 </td><td style=\"text-align: right;\">     800</td><td style=\"text-align: right;\"> 128</td><td style=\"text-align: right;\">  64</td><td style=\"text-align: right;\">  16</td><td style=\"text-align: right;\">0.0014</td><td style=\"text-align: right;\">        0.0009</td><td style=\"text-align: right;\">     1</td><td style=\"text-align: right;\">         14.9417</td><td style=\"text-align: right;\">  0.874909</td></tr>\n",
       "</tbody>\n",
       "</table><br>... 30 more trials not shown (1 PENDING, 29 TERMINATED)<br><br>"
      ],
      "text/plain": [
       "<IPython.core.display.HTML object>"
      ]
     },
     "metadata": {},
     "output_type": "display_data"
    },
    {
     "name": "stdout",
     "output_type": "stream",
     "text": [
      "Result for main_780bd_00038:\n",
      "  accuracy: 0.8756363636363637\n",
      "  date: 2021-05-07_17-40-51\n",
      "  done: true\n",
      "  experiment_id: 0acdeb4fa23b432cb86947f10ec3c144\n",
      "  experiment_tag: 38_epochs=700,l1=128,l2=64,l3=16,lr=0.0016,weight_decay=0.0009\n",
      "  hostname: 4ce982eb56f7\n",
      "  iterations_since_restore: 1\n",
      "  node_ip: 172.17.0.11\n",
      "  pid: 10618\n",
      "  time_since_restore: 13.098252773284912\n",
      "  time_this_iter_s: 13.098252773284912\n",
      "  time_total_s: 13.098252773284912\n",
      "  timestamp: 1620409251\n",
      "  timesteps_since_restore: 0\n",
      "  training_iteration: 1\n",
      "  trial_id: 780bd_00038\n",
      "  \n"
     ]
    },
    {
     "name": "stderr",
     "output_type": "stream",
     "text": [
      "\u001b[2m\u001b[36m(pid=10679)\u001b[0m Using backend: pytorch\n"
     ]
    },
    {
     "name": "stdout",
     "output_type": "stream",
     "text": [
      "\u001b[2m\u001b[36m(pid=10679)\u001b[0m l1 128 l2 64 l3 16\n",
      "Result for main_780bd_00039:\n",
      "  accuracy: 0.8727272727272727\n",
      "  date: 2021-05-07_17-41-02\n",
      "  done: false\n",
      "  experiment_id: 8f8954c083da45dc89873ef91bc63e4f\n",
      "  hostname: 4ce982eb56f7\n",
      "  iterations_since_restore: 1\n",
      "  node_ip: 172.17.0.11\n",
      "  pid: 10648\n",
      "  time_since_restore: 15.032485485076904\n",
      "  time_this_iter_s: 15.032485485076904\n",
      "  time_total_s: 15.032485485076904\n",
      "  timestamp: 1620409262\n",
      "  timesteps_since_restore: 0\n",
      "  training_iteration: 1\n",
      "  trial_id: 780bd_00039\n",
      "  \n"
     ]
    },
    {
     "data": {
      "text/html": [
       "== Status ==<br>Memory usage on this node: 31.5/62.8 GiB<br>Using FIFO scheduling algorithm.<br>Resources requested: 2.0/8 CPUs, 2.0/2 GPUs, 0.0/41.76 GiB heap, 0.0/9.31 GiB objects (0.0/1.0 accelerator_type:GTX)<br>Result logdir: /root/ray_results/main_2021-05-07_17-34-25<br>Number of trials: 50/50 (9 PENDING, 2 RUNNING, 39 TERMINATED)<br><table>\n",
       "<thead>\n",
       "<tr><th>Trial name      </th><th>status    </th><th>loc              </th><th style=\"text-align: right;\">  epochs</th><th style=\"text-align: right;\">  l1</th><th style=\"text-align: right;\">  l2</th><th style=\"text-align: right;\">  l3</th><th style=\"text-align: right;\">    lr</th><th style=\"text-align: right;\">  weight_decay</th><th style=\"text-align: right;\">  iter</th><th style=\"text-align: right;\">  total time (s)</th><th style=\"text-align: right;\">  accuracy</th></tr>\n",
       "</thead>\n",
       "<tbody>\n",
       "<tr><td>main_780bd_00039</td><td>RUNNING   </td><td>172.17.0.11:10648</td><td style=\"text-align: right;\">     800</td><td style=\"text-align: right;\"> 128</td><td style=\"text-align: right;\">  64</td><td style=\"text-align: right;\">  16</td><td style=\"text-align: right;\">0.001 </td><td style=\"text-align: right;\">        0.0009</td><td style=\"text-align: right;\">     1</td><td style=\"text-align: right;\">         15.0325</td><td style=\"text-align: right;\">  0.872727</td></tr>\n",
       "<tr><td>main_780bd_00040</td><td>RUNNING   </td><td>                 </td><td style=\"text-align: right;\">     800</td><td style=\"text-align: right;\"> 128</td><td style=\"text-align: right;\">  64</td><td style=\"text-align: right;\">  16</td><td style=\"text-align: right;\">0.0016</td><td style=\"text-align: right;\">        0.0009</td><td style=\"text-align: right;\">      </td><td style=\"text-align: right;\">                </td><td style=\"text-align: right;\">          </td></tr>\n",
       "<tr><td>main_780bd_00041</td><td>PENDING   </td><td>                 </td><td style=\"text-align: right;\">     800</td><td style=\"text-align: right;\"> 128</td><td style=\"text-align: right;\">  64</td><td style=\"text-align: right;\">  16</td><td style=\"text-align: right;\">0.0018</td><td style=\"text-align: right;\">        0.0009</td><td style=\"text-align: right;\">      </td><td style=\"text-align: right;\">                </td><td style=\"text-align: right;\">          </td></tr>\n",
       "<tr><td>main_780bd_00042</td><td>PENDING   </td><td>                 </td><td style=\"text-align: right;\">     700</td><td style=\"text-align: right;\"> 128</td><td style=\"text-align: right;\">  64</td><td style=\"text-align: right;\">  16</td><td style=\"text-align: right;\">0.0016</td><td style=\"text-align: right;\">        0.0006</td><td style=\"text-align: right;\">      </td><td style=\"text-align: right;\">                </td><td style=\"text-align: right;\">          </td></tr>\n",
       "<tr><td>main_780bd_00043</td><td>PENDING   </td><td>                 </td><td style=\"text-align: right;\">     800</td><td style=\"text-align: right;\"> 128</td><td style=\"text-align: right;\">  64</td><td style=\"text-align: right;\">  16</td><td style=\"text-align: right;\">0.0012</td><td style=\"text-align: right;\">        0.0003</td><td style=\"text-align: right;\">      </td><td style=\"text-align: right;\">                </td><td style=\"text-align: right;\">          </td></tr>\n",
       "<tr><td>main_780bd_00044</td><td>PENDING   </td><td>                 </td><td style=\"text-align: right;\">     700</td><td style=\"text-align: right;\"> 128</td><td style=\"text-align: right;\">  64</td><td style=\"text-align: right;\">  16</td><td style=\"text-align: right;\">0.0008</td><td style=\"text-align: right;\">        0.0006</td><td style=\"text-align: right;\">      </td><td style=\"text-align: right;\">                </td><td style=\"text-align: right;\">          </td></tr>\n",
       "<tr><td>main_780bd_00045</td><td>PENDING   </td><td>                 </td><td style=\"text-align: right;\">     800</td><td style=\"text-align: right;\"> 128</td><td style=\"text-align: right;\">  64</td><td style=\"text-align: right;\">  16</td><td style=\"text-align: right;\">0.0018</td><td style=\"text-align: right;\">        0.0009</td><td style=\"text-align: right;\">      </td><td style=\"text-align: right;\">                </td><td style=\"text-align: right;\">          </td></tr>\n",
       "<tr><td>main_780bd_00046</td><td>PENDING   </td><td>                 </td><td style=\"text-align: right;\">     700</td><td style=\"text-align: right;\"> 128</td><td style=\"text-align: right;\">  64</td><td style=\"text-align: right;\">  16</td><td style=\"text-align: right;\">0.0016</td><td style=\"text-align: right;\">        0.0003</td><td style=\"text-align: right;\">      </td><td style=\"text-align: right;\">                </td><td style=\"text-align: right;\">          </td></tr>\n",
       "<tr><td>main_780bd_00047</td><td>PENDING   </td><td>                 </td><td style=\"text-align: right;\">     700</td><td style=\"text-align: right;\"> 128</td><td style=\"text-align: right;\">  64</td><td style=\"text-align: right;\">  16</td><td style=\"text-align: right;\">0.0006</td><td style=\"text-align: right;\">        0.0009</td><td style=\"text-align: right;\">      </td><td style=\"text-align: right;\">                </td><td style=\"text-align: right;\">          </td></tr>\n",
       "<tr><td>main_780bd_00048</td><td>PENDING   </td><td>                 </td><td style=\"text-align: right;\">     800</td><td style=\"text-align: right;\"> 128</td><td style=\"text-align: right;\">  64</td><td style=\"text-align: right;\">  16</td><td style=\"text-align: right;\">0.0008</td><td style=\"text-align: right;\">        0.0009</td><td style=\"text-align: right;\">      </td><td style=\"text-align: right;\">                </td><td style=\"text-align: right;\">          </td></tr>\n",
       "<tr><td>main_780bd_00049</td><td>PENDING   </td><td>                 </td><td style=\"text-align: right;\">     800</td><td style=\"text-align: right;\"> 128</td><td style=\"text-align: right;\">  64</td><td style=\"text-align: right;\">  16</td><td style=\"text-align: right;\">0.0006</td><td style=\"text-align: right;\">        0.0003</td><td style=\"text-align: right;\">      </td><td style=\"text-align: right;\">                </td><td style=\"text-align: right;\">          </td></tr>\n",
       "<tr><td>main_780bd_00000</td><td>TERMINATED</td><td>                 </td><td style=\"text-align: right;\">     700</td><td style=\"text-align: right;\"> 128</td><td style=\"text-align: right;\">  64</td><td style=\"text-align: right;\">  16</td><td style=\"text-align: right;\">0.0008</td><td style=\"text-align: right;\">        0.0009</td><td style=\"text-align: right;\">     1</td><td style=\"text-align: right;\">         13.6591</td><td style=\"text-align: right;\">  0.877091</td></tr>\n",
       "<tr><td>main_780bd_00001</td><td>TERMINATED</td><td>                 </td><td style=\"text-align: right;\">     700</td><td style=\"text-align: right;\"> 128</td><td style=\"text-align: right;\">  64</td><td style=\"text-align: right;\">  16</td><td style=\"text-align: right;\">0.001 </td><td style=\"text-align: right;\">        0.0006</td><td style=\"text-align: right;\">     1</td><td style=\"text-align: right;\">         13.6453</td><td style=\"text-align: right;\">  0.883636</td></tr>\n",
       "<tr><td>main_780bd_00002</td><td>TERMINATED</td><td>                 </td><td style=\"text-align: right;\">     700</td><td style=\"text-align: right;\"> 128</td><td style=\"text-align: right;\">  64</td><td style=\"text-align: right;\">  16</td><td style=\"text-align: right;\">0.0016</td><td style=\"text-align: right;\">        0.0009</td><td style=\"text-align: right;\">     1</td><td style=\"text-align: right;\">         12.996 </td><td style=\"text-align: right;\">  0.879273</td></tr>\n",
       "<tr><td>main_780bd_00003</td><td>TERMINATED</td><td>                 </td><td style=\"text-align: right;\">     800</td><td style=\"text-align: right;\"> 128</td><td style=\"text-align: right;\">  64</td><td style=\"text-align: right;\">  16</td><td style=\"text-align: right;\">0.0012</td><td style=\"text-align: right;\">        0.0006</td><td style=\"text-align: right;\">     1</td><td style=\"text-align: right;\">         14.9518</td><td style=\"text-align: right;\">  0.883636</td></tr>\n",
       "<tr><td>main_780bd_00004</td><td>TERMINATED</td><td>                 </td><td style=\"text-align: right;\">     700</td><td style=\"text-align: right;\"> 128</td><td style=\"text-align: right;\">  64</td><td style=\"text-align: right;\">  16</td><td style=\"text-align: right;\">0.0006</td><td style=\"text-align: right;\">        0.0003</td><td style=\"text-align: right;\">     1</td><td style=\"text-align: right;\">         13.1162</td><td style=\"text-align: right;\">  0.876364</td></tr>\n",
       "<tr><td>main_780bd_00005</td><td>TERMINATED</td><td>                 </td><td style=\"text-align: right;\">     800</td><td style=\"text-align: right;\"> 128</td><td style=\"text-align: right;\">  64</td><td style=\"text-align: right;\">  16</td><td style=\"text-align: right;\">0.0018</td><td style=\"text-align: right;\">        0.0006</td><td style=\"text-align: right;\">     1</td><td style=\"text-align: right;\">         14.9799</td><td style=\"text-align: right;\">  0.869818</td></tr>\n",
       "<tr><td>main_780bd_00006</td><td>TERMINATED</td><td>                 </td><td style=\"text-align: right;\">     700</td><td style=\"text-align: right;\"> 128</td><td style=\"text-align: right;\">  64</td><td style=\"text-align: right;\">  16</td><td style=\"text-align: right;\">0.0016</td><td style=\"text-align: right;\">        0.0006</td><td style=\"text-align: right;\">     1</td><td style=\"text-align: right;\">         13.208 </td><td style=\"text-align: right;\">  0.872727</td></tr>\n",
       "<tr><td>main_780bd_00007</td><td>TERMINATED</td><td>                 </td><td style=\"text-align: right;\">     800</td><td style=\"text-align: right;\"> 128</td><td style=\"text-align: right;\">  64</td><td style=\"text-align: right;\">  16</td><td style=\"text-align: right;\">0.0012</td><td style=\"text-align: right;\">        0.0006</td><td style=\"text-align: right;\">     1</td><td style=\"text-align: right;\">         15.0515</td><td style=\"text-align: right;\">  0.864727</td></tr>\n",
       "<tr><td>main_780bd_00008</td><td>TERMINATED</td><td>                 </td><td style=\"text-align: right;\">     800</td><td style=\"text-align: right;\"> 128</td><td style=\"text-align: right;\">  64</td><td style=\"text-align: right;\">  16</td><td style=\"text-align: right;\">0.0014</td><td style=\"text-align: right;\">        0.0009</td><td style=\"text-align: right;\">     1</td><td style=\"text-align: right;\">         14.9417</td><td style=\"text-align: right;\">  0.874909</td></tr>\n",
       "</tbody>\n",
       "</table><br>... 30 more trials not shown (30 TERMINATED)<br><br>"
      ],
      "text/plain": [
       "<IPython.core.display.HTML object>"
      ]
     },
     "metadata": {},
     "output_type": "display_data"
    },
    {
     "name": "stdout",
     "output_type": "stream",
     "text": [
      "Result for main_780bd_00039:\n",
      "  accuracy: 0.8727272727272727\n",
      "  date: 2021-05-07_17-41-02\n",
      "  done: true\n",
      "  experiment_id: 8f8954c083da45dc89873ef91bc63e4f\n",
      "  experiment_tag: 39_epochs=800,l1=128,l2=64,l3=16,lr=0.001,weight_decay=0.0009\n",
      "  hostname: 4ce982eb56f7\n",
      "  iterations_since_restore: 1\n",
      "  node_ip: 172.17.0.11\n",
      "  pid: 10648\n",
      "  time_since_restore: 15.032485485076904\n",
      "  time_this_iter_s: 15.032485485076904\n",
      "  time_total_s: 15.032485485076904\n",
      "  timestamp: 1620409262\n",
      "  timesteps_since_restore: 0\n",
      "  training_iteration: 1\n",
      "  trial_id: 780bd_00039\n",
      "  \n"
     ]
    },
    {
     "name": "stderr",
     "output_type": "stream",
     "text": [
      "\u001b[2m\u001b[36m(pid=10711)\u001b[0m Using backend: pytorch\n"
     ]
    },
    {
     "name": "stdout",
     "output_type": "stream",
     "text": [
      "\u001b[2m\u001b[36m(pid=10711)\u001b[0m l1 128 l2 64 l3 16\n",
      "Result for main_780bd_00040:\n",
      "  accuracy: 0.864\n",
      "  date: 2021-05-07_17-41-10\n",
      "  done: false\n",
      "  experiment_id: 183e1fa4f75246bcaf34a202a9b44fc7\n",
      "  hostname: 4ce982eb56f7\n",
      "  iterations_since_restore: 1\n",
      "  node_ip: 172.17.0.11\n",
      "  pid: 10679\n",
      "  time_since_restore: 15.232210636138916\n",
      "  time_this_iter_s: 15.232210636138916\n",
      "  time_total_s: 15.232210636138916\n",
      "  timestamp: 1620409270\n",
      "  timesteps_since_restore: 0\n",
      "  training_iteration: 1\n",
      "  trial_id: 780bd_00040\n",
      "  \n"
     ]
    },
    {
     "data": {
      "text/html": [
       "== Status ==<br>Memory usage on this node: 31.5/62.8 GiB<br>Using FIFO scheduling algorithm.<br>Resources requested: 2.0/8 CPUs, 2.0/2 GPUs, 0.0/41.76 GiB heap, 0.0/9.31 GiB objects (0.0/1.0 accelerator_type:GTX)<br>Result logdir: /root/ray_results/main_2021-05-07_17-34-25<br>Number of trials: 50/50 (8 PENDING, 2 RUNNING, 40 TERMINATED)<br><table>\n",
       "<thead>\n",
       "<tr><th>Trial name      </th><th>status    </th><th>loc              </th><th style=\"text-align: right;\">  epochs</th><th style=\"text-align: right;\">  l1</th><th style=\"text-align: right;\">  l2</th><th style=\"text-align: right;\">  l3</th><th style=\"text-align: right;\">    lr</th><th style=\"text-align: right;\">  weight_decay</th><th style=\"text-align: right;\">  iter</th><th style=\"text-align: right;\">  total time (s)</th><th style=\"text-align: right;\">  accuracy</th></tr>\n",
       "</thead>\n",
       "<tbody>\n",
       "<tr><td>main_780bd_00040</td><td>RUNNING   </td><td>172.17.0.11:10679</td><td style=\"text-align: right;\">     800</td><td style=\"text-align: right;\"> 128</td><td style=\"text-align: right;\">  64</td><td style=\"text-align: right;\">  16</td><td style=\"text-align: right;\">0.0016</td><td style=\"text-align: right;\">        0.0009</td><td style=\"text-align: right;\">     1</td><td style=\"text-align: right;\">         15.2322</td><td style=\"text-align: right;\">  0.864   </td></tr>\n",
       "<tr><td>main_780bd_00041</td><td>RUNNING   </td><td>                 </td><td style=\"text-align: right;\">     800</td><td style=\"text-align: right;\"> 128</td><td style=\"text-align: right;\">  64</td><td style=\"text-align: right;\">  16</td><td style=\"text-align: right;\">0.0018</td><td style=\"text-align: right;\">        0.0009</td><td style=\"text-align: right;\">      </td><td style=\"text-align: right;\">                </td><td style=\"text-align: right;\">          </td></tr>\n",
       "<tr><td>main_780bd_00042</td><td>PENDING   </td><td>                 </td><td style=\"text-align: right;\">     700</td><td style=\"text-align: right;\"> 128</td><td style=\"text-align: right;\">  64</td><td style=\"text-align: right;\">  16</td><td style=\"text-align: right;\">0.0016</td><td style=\"text-align: right;\">        0.0006</td><td style=\"text-align: right;\">      </td><td style=\"text-align: right;\">                </td><td style=\"text-align: right;\">          </td></tr>\n",
       "<tr><td>main_780bd_00043</td><td>PENDING   </td><td>                 </td><td style=\"text-align: right;\">     800</td><td style=\"text-align: right;\"> 128</td><td style=\"text-align: right;\">  64</td><td style=\"text-align: right;\">  16</td><td style=\"text-align: right;\">0.0012</td><td style=\"text-align: right;\">        0.0003</td><td style=\"text-align: right;\">      </td><td style=\"text-align: right;\">                </td><td style=\"text-align: right;\">          </td></tr>\n",
       "<tr><td>main_780bd_00044</td><td>PENDING   </td><td>                 </td><td style=\"text-align: right;\">     700</td><td style=\"text-align: right;\"> 128</td><td style=\"text-align: right;\">  64</td><td style=\"text-align: right;\">  16</td><td style=\"text-align: right;\">0.0008</td><td style=\"text-align: right;\">        0.0006</td><td style=\"text-align: right;\">      </td><td style=\"text-align: right;\">                </td><td style=\"text-align: right;\">          </td></tr>\n",
       "<tr><td>main_780bd_00045</td><td>PENDING   </td><td>                 </td><td style=\"text-align: right;\">     800</td><td style=\"text-align: right;\"> 128</td><td style=\"text-align: right;\">  64</td><td style=\"text-align: right;\">  16</td><td style=\"text-align: right;\">0.0018</td><td style=\"text-align: right;\">        0.0009</td><td style=\"text-align: right;\">      </td><td style=\"text-align: right;\">                </td><td style=\"text-align: right;\">          </td></tr>\n",
       "<tr><td>main_780bd_00046</td><td>PENDING   </td><td>                 </td><td style=\"text-align: right;\">     700</td><td style=\"text-align: right;\"> 128</td><td style=\"text-align: right;\">  64</td><td style=\"text-align: right;\">  16</td><td style=\"text-align: right;\">0.0016</td><td style=\"text-align: right;\">        0.0003</td><td style=\"text-align: right;\">      </td><td style=\"text-align: right;\">                </td><td style=\"text-align: right;\">          </td></tr>\n",
       "<tr><td>main_780bd_00047</td><td>PENDING   </td><td>                 </td><td style=\"text-align: right;\">     700</td><td style=\"text-align: right;\"> 128</td><td style=\"text-align: right;\">  64</td><td style=\"text-align: right;\">  16</td><td style=\"text-align: right;\">0.0006</td><td style=\"text-align: right;\">        0.0009</td><td style=\"text-align: right;\">      </td><td style=\"text-align: right;\">                </td><td style=\"text-align: right;\">          </td></tr>\n",
       "<tr><td>main_780bd_00048</td><td>PENDING   </td><td>                 </td><td style=\"text-align: right;\">     800</td><td style=\"text-align: right;\"> 128</td><td style=\"text-align: right;\">  64</td><td style=\"text-align: right;\">  16</td><td style=\"text-align: right;\">0.0008</td><td style=\"text-align: right;\">        0.0009</td><td style=\"text-align: right;\">      </td><td style=\"text-align: right;\">                </td><td style=\"text-align: right;\">          </td></tr>\n",
       "<tr><td>main_780bd_00049</td><td>PENDING   </td><td>                 </td><td style=\"text-align: right;\">     800</td><td style=\"text-align: right;\"> 128</td><td style=\"text-align: right;\">  64</td><td style=\"text-align: right;\">  16</td><td style=\"text-align: right;\">0.0006</td><td style=\"text-align: right;\">        0.0003</td><td style=\"text-align: right;\">      </td><td style=\"text-align: right;\">                </td><td style=\"text-align: right;\">          </td></tr>\n",
       "<tr><td>main_780bd_00000</td><td>TERMINATED</td><td>                 </td><td style=\"text-align: right;\">     700</td><td style=\"text-align: right;\"> 128</td><td style=\"text-align: right;\">  64</td><td style=\"text-align: right;\">  16</td><td style=\"text-align: right;\">0.0008</td><td style=\"text-align: right;\">        0.0009</td><td style=\"text-align: right;\">     1</td><td style=\"text-align: right;\">         13.6591</td><td style=\"text-align: right;\">  0.877091</td></tr>\n",
       "<tr><td>main_780bd_00001</td><td>TERMINATED</td><td>                 </td><td style=\"text-align: right;\">     700</td><td style=\"text-align: right;\"> 128</td><td style=\"text-align: right;\">  64</td><td style=\"text-align: right;\">  16</td><td style=\"text-align: right;\">0.001 </td><td style=\"text-align: right;\">        0.0006</td><td style=\"text-align: right;\">     1</td><td style=\"text-align: right;\">         13.6453</td><td style=\"text-align: right;\">  0.883636</td></tr>\n",
       "<tr><td>main_780bd_00002</td><td>TERMINATED</td><td>                 </td><td style=\"text-align: right;\">     700</td><td style=\"text-align: right;\"> 128</td><td style=\"text-align: right;\">  64</td><td style=\"text-align: right;\">  16</td><td style=\"text-align: right;\">0.0016</td><td style=\"text-align: right;\">        0.0009</td><td style=\"text-align: right;\">     1</td><td style=\"text-align: right;\">         12.996 </td><td style=\"text-align: right;\">  0.879273</td></tr>\n",
       "<tr><td>main_780bd_00003</td><td>TERMINATED</td><td>                 </td><td style=\"text-align: right;\">     800</td><td style=\"text-align: right;\"> 128</td><td style=\"text-align: right;\">  64</td><td style=\"text-align: right;\">  16</td><td style=\"text-align: right;\">0.0012</td><td style=\"text-align: right;\">        0.0006</td><td style=\"text-align: right;\">     1</td><td style=\"text-align: right;\">         14.9518</td><td style=\"text-align: right;\">  0.883636</td></tr>\n",
       "<tr><td>main_780bd_00004</td><td>TERMINATED</td><td>                 </td><td style=\"text-align: right;\">     700</td><td style=\"text-align: right;\"> 128</td><td style=\"text-align: right;\">  64</td><td style=\"text-align: right;\">  16</td><td style=\"text-align: right;\">0.0006</td><td style=\"text-align: right;\">        0.0003</td><td style=\"text-align: right;\">     1</td><td style=\"text-align: right;\">         13.1162</td><td style=\"text-align: right;\">  0.876364</td></tr>\n",
       "<tr><td>main_780bd_00005</td><td>TERMINATED</td><td>                 </td><td style=\"text-align: right;\">     800</td><td style=\"text-align: right;\"> 128</td><td style=\"text-align: right;\">  64</td><td style=\"text-align: right;\">  16</td><td style=\"text-align: right;\">0.0018</td><td style=\"text-align: right;\">        0.0006</td><td style=\"text-align: right;\">     1</td><td style=\"text-align: right;\">         14.9799</td><td style=\"text-align: right;\">  0.869818</td></tr>\n",
       "<tr><td>main_780bd_00006</td><td>TERMINATED</td><td>                 </td><td style=\"text-align: right;\">     700</td><td style=\"text-align: right;\"> 128</td><td style=\"text-align: right;\">  64</td><td style=\"text-align: right;\">  16</td><td style=\"text-align: right;\">0.0016</td><td style=\"text-align: right;\">        0.0006</td><td style=\"text-align: right;\">     1</td><td style=\"text-align: right;\">         13.208 </td><td style=\"text-align: right;\">  0.872727</td></tr>\n",
       "<tr><td>main_780bd_00007</td><td>TERMINATED</td><td>                 </td><td style=\"text-align: right;\">     800</td><td style=\"text-align: right;\"> 128</td><td style=\"text-align: right;\">  64</td><td style=\"text-align: right;\">  16</td><td style=\"text-align: right;\">0.0012</td><td style=\"text-align: right;\">        0.0006</td><td style=\"text-align: right;\">     1</td><td style=\"text-align: right;\">         15.0515</td><td style=\"text-align: right;\">  0.864727</td></tr>\n",
       "<tr><td>main_780bd_00008</td><td>TERMINATED</td><td>                 </td><td style=\"text-align: right;\">     800</td><td style=\"text-align: right;\"> 128</td><td style=\"text-align: right;\">  64</td><td style=\"text-align: right;\">  16</td><td style=\"text-align: right;\">0.0014</td><td style=\"text-align: right;\">        0.0009</td><td style=\"text-align: right;\">     1</td><td style=\"text-align: right;\">         14.9417</td><td style=\"text-align: right;\">  0.874909</td></tr>\n",
       "<tr><td>main_780bd_00009</td><td>TERMINATED</td><td>                 </td><td style=\"text-align: right;\">     700</td><td style=\"text-align: right;\"> 128</td><td style=\"text-align: right;\">  64</td><td style=\"text-align: right;\">  16</td><td style=\"text-align: right;\">0.0018</td><td style=\"text-align: right;\">        0.0006</td><td style=\"text-align: right;\">     1</td><td style=\"text-align: right;\">         13.1547</td><td style=\"text-align: right;\">  0.873455</td></tr>\n",
       "</tbody>\n",
       "</table><br>... 30 more trials not shown (30 TERMINATED)<br><br>"
      ],
      "text/plain": [
       "<IPython.core.display.HTML object>"
      ]
     },
     "metadata": {},
     "output_type": "display_data"
    },
    {
     "name": "stdout",
     "output_type": "stream",
     "text": [
      "Result for main_780bd_00040:\n",
      "  accuracy: 0.864\n",
      "  date: 2021-05-07_17-41-10\n",
      "  done: true\n",
      "  experiment_id: 183e1fa4f75246bcaf34a202a9b44fc7\n",
      "  experiment_tag: 40_epochs=800,l1=128,l2=64,l3=16,lr=0.0016,weight_decay=0.0009\n",
      "  hostname: 4ce982eb56f7\n",
      "  iterations_since_restore: 1\n",
      "  node_ip: 172.17.0.11\n",
      "  pid: 10679\n",
      "  time_since_restore: 15.232210636138916\n",
      "  time_this_iter_s: 15.232210636138916\n",
      "  time_total_s: 15.232210636138916\n",
      "  timestamp: 1620409270\n",
      "  timesteps_since_restore: 0\n",
      "  training_iteration: 1\n",
      "  trial_id: 780bd_00040\n",
      "  \n"
     ]
    },
    {
     "name": "stderr",
     "output_type": "stream",
     "text": [
      "\u001b[2m\u001b[36m(pid=10742)\u001b[0m Using backend: pytorch\n"
     ]
    },
    {
     "name": "stdout",
     "output_type": "stream",
     "text": [
      "\u001b[2m\u001b[36m(pid=10742)\u001b[0m l1 128 l2 64 l3 16\n",
      "Result for main_780bd_00041:\n",
      "  accuracy: 0.88\n",
      "  date: 2021-05-07_17-41-21\n",
      "  done: false\n",
      "  experiment_id: 1c6db891de084a46bed4aa6d823cf44b\n",
      "  hostname: 4ce982eb56f7\n",
      "  iterations_since_restore: 1\n",
      "  node_ip: 172.17.0.11\n",
      "  pid: 10711\n",
      "  time_since_restore: 15.070264339447021\n",
      "  time_this_iter_s: 15.070264339447021\n",
      "  time_total_s: 15.070264339447021\n",
      "  timestamp: 1620409281\n",
      "  timesteps_since_restore: 0\n",
      "  training_iteration: 1\n",
      "  trial_id: 780bd_00041\n",
      "  \n"
     ]
    },
    {
     "data": {
      "text/html": [
       "== Status ==<br>Memory usage on this node: 31.5/62.8 GiB<br>Using FIFO scheduling algorithm.<br>Resources requested: 2.0/8 CPUs, 2.0/2 GPUs, 0.0/41.76 GiB heap, 0.0/9.31 GiB objects (0.0/1.0 accelerator_type:GTX)<br>Result logdir: /root/ray_results/main_2021-05-07_17-34-25<br>Number of trials: 50/50 (7 PENDING, 2 RUNNING, 41 TERMINATED)<br><table>\n",
       "<thead>\n",
       "<tr><th>Trial name      </th><th>status    </th><th>loc              </th><th style=\"text-align: right;\">  epochs</th><th style=\"text-align: right;\">  l1</th><th style=\"text-align: right;\">  l2</th><th style=\"text-align: right;\">  l3</th><th style=\"text-align: right;\">    lr</th><th style=\"text-align: right;\">  weight_decay</th><th style=\"text-align: right;\">  iter</th><th style=\"text-align: right;\">  total time (s)</th><th style=\"text-align: right;\">  accuracy</th></tr>\n",
       "</thead>\n",
       "<tbody>\n",
       "<tr><td>main_780bd_00041</td><td>RUNNING   </td><td>172.17.0.11:10711</td><td style=\"text-align: right;\">     800</td><td style=\"text-align: right;\"> 128</td><td style=\"text-align: right;\">  64</td><td style=\"text-align: right;\">  16</td><td style=\"text-align: right;\">0.0018</td><td style=\"text-align: right;\">        0.0009</td><td style=\"text-align: right;\">     1</td><td style=\"text-align: right;\">         15.0703</td><td style=\"text-align: right;\">  0.88    </td></tr>\n",
       "<tr><td>main_780bd_00042</td><td>RUNNING   </td><td>                 </td><td style=\"text-align: right;\">     700</td><td style=\"text-align: right;\"> 128</td><td style=\"text-align: right;\">  64</td><td style=\"text-align: right;\">  16</td><td style=\"text-align: right;\">0.0016</td><td style=\"text-align: right;\">        0.0006</td><td style=\"text-align: right;\">      </td><td style=\"text-align: right;\">                </td><td style=\"text-align: right;\">          </td></tr>\n",
       "<tr><td>main_780bd_00043</td><td>PENDING   </td><td>                 </td><td style=\"text-align: right;\">     800</td><td style=\"text-align: right;\"> 128</td><td style=\"text-align: right;\">  64</td><td style=\"text-align: right;\">  16</td><td style=\"text-align: right;\">0.0012</td><td style=\"text-align: right;\">        0.0003</td><td style=\"text-align: right;\">      </td><td style=\"text-align: right;\">                </td><td style=\"text-align: right;\">          </td></tr>\n",
       "<tr><td>main_780bd_00044</td><td>PENDING   </td><td>                 </td><td style=\"text-align: right;\">     700</td><td style=\"text-align: right;\"> 128</td><td style=\"text-align: right;\">  64</td><td style=\"text-align: right;\">  16</td><td style=\"text-align: right;\">0.0008</td><td style=\"text-align: right;\">        0.0006</td><td style=\"text-align: right;\">      </td><td style=\"text-align: right;\">                </td><td style=\"text-align: right;\">          </td></tr>\n",
       "<tr><td>main_780bd_00045</td><td>PENDING   </td><td>                 </td><td style=\"text-align: right;\">     800</td><td style=\"text-align: right;\"> 128</td><td style=\"text-align: right;\">  64</td><td style=\"text-align: right;\">  16</td><td style=\"text-align: right;\">0.0018</td><td style=\"text-align: right;\">        0.0009</td><td style=\"text-align: right;\">      </td><td style=\"text-align: right;\">                </td><td style=\"text-align: right;\">          </td></tr>\n",
       "<tr><td>main_780bd_00046</td><td>PENDING   </td><td>                 </td><td style=\"text-align: right;\">     700</td><td style=\"text-align: right;\"> 128</td><td style=\"text-align: right;\">  64</td><td style=\"text-align: right;\">  16</td><td style=\"text-align: right;\">0.0016</td><td style=\"text-align: right;\">        0.0003</td><td style=\"text-align: right;\">      </td><td style=\"text-align: right;\">                </td><td style=\"text-align: right;\">          </td></tr>\n",
       "<tr><td>main_780bd_00047</td><td>PENDING   </td><td>                 </td><td style=\"text-align: right;\">     700</td><td style=\"text-align: right;\"> 128</td><td style=\"text-align: right;\">  64</td><td style=\"text-align: right;\">  16</td><td style=\"text-align: right;\">0.0006</td><td style=\"text-align: right;\">        0.0009</td><td style=\"text-align: right;\">      </td><td style=\"text-align: right;\">                </td><td style=\"text-align: right;\">          </td></tr>\n",
       "<tr><td>main_780bd_00048</td><td>PENDING   </td><td>                 </td><td style=\"text-align: right;\">     800</td><td style=\"text-align: right;\"> 128</td><td style=\"text-align: right;\">  64</td><td style=\"text-align: right;\">  16</td><td style=\"text-align: right;\">0.0008</td><td style=\"text-align: right;\">        0.0009</td><td style=\"text-align: right;\">      </td><td style=\"text-align: right;\">                </td><td style=\"text-align: right;\">          </td></tr>\n",
       "<tr><td>main_780bd_00049</td><td>PENDING   </td><td>                 </td><td style=\"text-align: right;\">     800</td><td style=\"text-align: right;\"> 128</td><td style=\"text-align: right;\">  64</td><td style=\"text-align: right;\">  16</td><td style=\"text-align: right;\">0.0006</td><td style=\"text-align: right;\">        0.0003</td><td style=\"text-align: right;\">      </td><td style=\"text-align: right;\">                </td><td style=\"text-align: right;\">          </td></tr>\n",
       "<tr><td>main_780bd_00000</td><td>TERMINATED</td><td>                 </td><td style=\"text-align: right;\">     700</td><td style=\"text-align: right;\"> 128</td><td style=\"text-align: right;\">  64</td><td style=\"text-align: right;\">  16</td><td style=\"text-align: right;\">0.0008</td><td style=\"text-align: right;\">        0.0009</td><td style=\"text-align: right;\">     1</td><td style=\"text-align: right;\">         13.6591</td><td style=\"text-align: right;\">  0.877091</td></tr>\n",
       "<tr><td>main_780bd_00001</td><td>TERMINATED</td><td>                 </td><td style=\"text-align: right;\">     700</td><td style=\"text-align: right;\"> 128</td><td style=\"text-align: right;\">  64</td><td style=\"text-align: right;\">  16</td><td style=\"text-align: right;\">0.001 </td><td style=\"text-align: right;\">        0.0006</td><td style=\"text-align: right;\">     1</td><td style=\"text-align: right;\">         13.6453</td><td style=\"text-align: right;\">  0.883636</td></tr>\n",
       "<tr><td>main_780bd_00002</td><td>TERMINATED</td><td>                 </td><td style=\"text-align: right;\">     700</td><td style=\"text-align: right;\"> 128</td><td style=\"text-align: right;\">  64</td><td style=\"text-align: right;\">  16</td><td style=\"text-align: right;\">0.0016</td><td style=\"text-align: right;\">        0.0009</td><td style=\"text-align: right;\">     1</td><td style=\"text-align: right;\">         12.996 </td><td style=\"text-align: right;\">  0.879273</td></tr>\n",
       "<tr><td>main_780bd_00003</td><td>TERMINATED</td><td>                 </td><td style=\"text-align: right;\">     800</td><td style=\"text-align: right;\"> 128</td><td style=\"text-align: right;\">  64</td><td style=\"text-align: right;\">  16</td><td style=\"text-align: right;\">0.0012</td><td style=\"text-align: right;\">        0.0006</td><td style=\"text-align: right;\">     1</td><td style=\"text-align: right;\">         14.9518</td><td style=\"text-align: right;\">  0.883636</td></tr>\n",
       "<tr><td>main_780bd_00004</td><td>TERMINATED</td><td>                 </td><td style=\"text-align: right;\">     700</td><td style=\"text-align: right;\"> 128</td><td style=\"text-align: right;\">  64</td><td style=\"text-align: right;\">  16</td><td style=\"text-align: right;\">0.0006</td><td style=\"text-align: right;\">        0.0003</td><td style=\"text-align: right;\">     1</td><td style=\"text-align: right;\">         13.1162</td><td style=\"text-align: right;\">  0.876364</td></tr>\n",
       "<tr><td>main_780bd_00005</td><td>TERMINATED</td><td>                 </td><td style=\"text-align: right;\">     800</td><td style=\"text-align: right;\"> 128</td><td style=\"text-align: right;\">  64</td><td style=\"text-align: right;\">  16</td><td style=\"text-align: right;\">0.0018</td><td style=\"text-align: right;\">        0.0006</td><td style=\"text-align: right;\">     1</td><td style=\"text-align: right;\">         14.9799</td><td style=\"text-align: right;\">  0.869818</td></tr>\n",
       "<tr><td>main_780bd_00006</td><td>TERMINATED</td><td>                 </td><td style=\"text-align: right;\">     700</td><td style=\"text-align: right;\"> 128</td><td style=\"text-align: right;\">  64</td><td style=\"text-align: right;\">  16</td><td style=\"text-align: right;\">0.0016</td><td style=\"text-align: right;\">        0.0006</td><td style=\"text-align: right;\">     1</td><td style=\"text-align: right;\">         13.208 </td><td style=\"text-align: right;\">  0.872727</td></tr>\n",
       "<tr><td>main_780bd_00007</td><td>TERMINATED</td><td>                 </td><td style=\"text-align: right;\">     800</td><td style=\"text-align: right;\"> 128</td><td style=\"text-align: right;\">  64</td><td style=\"text-align: right;\">  16</td><td style=\"text-align: right;\">0.0012</td><td style=\"text-align: right;\">        0.0006</td><td style=\"text-align: right;\">     1</td><td style=\"text-align: right;\">         15.0515</td><td style=\"text-align: right;\">  0.864727</td></tr>\n",
       "<tr><td>main_780bd_00008</td><td>TERMINATED</td><td>                 </td><td style=\"text-align: right;\">     800</td><td style=\"text-align: right;\"> 128</td><td style=\"text-align: right;\">  64</td><td style=\"text-align: right;\">  16</td><td style=\"text-align: right;\">0.0014</td><td style=\"text-align: right;\">        0.0009</td><td style=\"text-align: right;\">     1</td><td style=\"text-align: right;\">         14.9417</td><td style=\"text-align: right;\">  0.874909</td></tr>\n",
       "<tr><td>main_780bd_00009</td><td>TERMINATED</td><td>                 </td><td style=\"text-align: right;\">     700</td><td style=\"text-align: right;\"> 128</td><td style=\"text-align: right;\">  64</td><td style=\"text-align: right;\">  16</td><td style=\"text-align: right;\">0.0018</td><td style=\"text-align: right;\">        0.0006</td><td style=\"text-align: right;\">     1</td><td style=\"text-align: right;\">         13.1547</td><td style=\"text-align: right;\">  0.873455</td></tr>\n",
       "<tr><td>main_780bd_00010</td><td>TERMINATED</td><td>                 </td><td style=\"text-align: right;\">     700</td><td style=\"text-align: right;\"> 128</td><td style=\"text-align: right;\">  64</td><td style=\"text-align: right;\">  16</td><td style=\"text-align: right;\">0.0008</td><td style=\"text-align: right;\">        0.0003</td><td style=\"text-align: right;\">     1</td><td style=\"text-align: right;\">         13.1582</td><td style=\"text-align: right;\">  0.872727</td></tr>\n",
       "</tbody>\n",
       "</table><br>... 30 more trials not shown (30 TERMINATED)<br><br>"
      ],
      "text/plain": [
       "<IPython.core.display.HTML object>"
      ]
     },
     "metadata": {},
     "output_type": "display_data"
    },
    {
     "name": "stdout",
     "output_type": "stream",
     "text": [
      "Result for main_780bd_00041:\n",
      "  accuracy: 0.88\n",
      "  date: 2021-05-07_17-41-21\n",
      "  done: true\n",
      "  experiment_id: 1c6db891de084a46bed4aa6d823cf44b\n",
      "  experiment_tag: 41_epochs=800,l1=128,l2=64,l3=16,lr=0.0018,weight_decay=0.0009\n",
      "  hostname: 4ce982eb56f7\n",
      "  iterations_since_restore: 1\n",
      "  node_ip: 172.17.0.11\n",
      "  pid: 10711\n",
      "  time_since_restore: 15.070264339447021\n",
      "  time_this_iter_s: 15.070264339447021\n",
      "  time_total_s: 15.070264339447021\n",
      "  timestamp: 1620409281\n",
      "  timesteps_since_restore: 0\n",
      "  training_iteration: 1\n",
      "  trial_id: 780bd_00041\n",
      "  \n"
     ]
    },
    {
     "name": "stderr",
     "output_type": "stream",
     "text": [
      "\u001b[2m\u001b[36m(pid=10773)\u001b[0m Using backend: pytorch\n"
     ]
    },
    {
     "name": "stdout",
     "output_type": "stream",
     "text": [
      "\u001b[2m\u001b[36m(pid=10773)\u001b[0m l1 128 l2 64 l3 16\n",
      "Result for main_780bd_00042:\n",
      "  accuracy: 0.8661818181818182\n",
      "  date: 2021-05-07_17-41-27\n",
      "  done: false\n",
      "  experiment_id: 09a6d82e0263489787c94da3f14411c9\n",
      "  hostname: 4ce982eb56f7\n",
      "  iterations_since_restore: 1\n",
      "  node_ip: 172.17.0.11\n",
      "  pid: 10742\n",
      "  time_since_restore: 13.260818481445312\n",
      "  time_this_iter_s: 13.260818481445312\n",
      "  time_total_s: 13.260818481445312\n",
      "  timestamp: 1620409287\n",
      "  timesteps_since_restore: 0\n",
      "  training_iteration: 1\n",
      "  trial_id: 780bd_00042\n",
      "  \n"
     ]
    },
    {
     "data": {
      "text/html": [
       "== Status ==<br>Memory usage on this node: 31.6/62.8 GiB<br>Using FIFO scheduling algorithm.<br>Resources requested: 2.0/8 CPUs, 2.0/2 GPUs, 0.0/41.76 GiB heap, 0.0/9.31 GiB objects (0.0/1.0 accelerator_type:GTX)<br>Result logdir: /root/ray_results/main_2021-05-07_17-34-25<br>Number of trials: 50/50 (6 PENDING, 2 RUNNING, 42 TERMINATED)<br><table>\n",
       "<thead>\n",
       "<tr><th>Trial name      </th><th>status    </th><th>loc              </th><th style=\"text-align: right;\">  epochs</th><th style=\"text-align: right;\">  l1</th><th style=\"text-align: right;\">  l2</th><th style=\"text-align: right;\">  l3</th><th style=\"text-align: right;\">    lr</th><th style=\"text-align: right;\">  weight_decay</th><th style=\"text-align: right;\">  iter</th><th style=\"text-align: right;\">  total time (s)</th><th style=\"text-align: right;\">  accuracy</th></tr>\n",
       "</thead>\n",
       "<tbody>\n",
       "<tr><td>main_780bd_00042</td><td>RUNNING   </td><td>172.17.0.11:10742</td><td style=\"text-align: right;\">     700</td><td style=\"text-align: right;\"> 128</td><td style=\"text-align: right;\">  64</td><td style=\"text-align: right;\">  16</td><td style=\"text-align: right;\">0.0016</td><td style=\"text-align: right;\">        0.0006</td><td style=\"text-align: right;\">     1</td><td style=\"text-align: right;\">         13.2608</td><td style=\"text-align: right;\">  0.866182</td></tr>\n",
       "<tr><td>main_780bd_00043</td><td>RUNNING   </td><td>                 </td><td style=\"text-align: right;\">     800</td><td style=\"text-align: right;\"> 128</td><td style=\"text-align: right;\">  64</td><td style=\"text-align: right;\">  16</td><td style=\"text-align: right;\">0.0012</td><td style=\"text-align: right;\">        0.0003</td><td style=\"text-align: right;\">      </td><td style=\"text-align: right;\">                </td><td style=\"text-align: right;\">          </td></tr>\n",
       "<tr><td>main_780bd_00044</td><td>PENDING   </td><td>                 </td><td style=\"text-align: right;\">     700</td><td style=\"text-align: right;\"> 128</td><td style=\"text-align: right;\">  64</td><td style=\"text-align: right;\">  16</td><td style=\"text-align: right;\">0.0008</td><td style=\"text-align: right;\">        0.0006</td><td style=\"text-align: right;\">      </td><td style=\"text-align: right;\">                </td><td style=\"text-align: right;\">          </td></tr>\n",
       "<tr><td>main_780bd_00045</td><td>PENDING   </td><td>                 </td><td style=\"text-align: right;\">     800</td><td style=\"text-align: right;\"> 128</td><td style=\"text-align: right;\">  64</td><td style=\"text-align: right;\">  16</td><td style=\"text-align: right;\">0.0018</td><td style=\"text-align: right;\">        0.0009</td><td style=\"text-align: right;\">      </td><td style=\"text-align: right;\">                </td><td style=\"text-align: right;\">          </td></tr>\n",
       "<tr><td>main_780bd_00046</td><td>PENDING   </td><td>                 </td><td style=\"text-align: right;\">     700</td><td style=\"text-align: right;\"> 128</td><td style=\"text-align: right;\">  64</td><td style=\"text-align: right;\">  16</td><td style=\"text-align: right;\">0.0016</td><td style=\"text-align: right;\">        0.0003</td><td style=\"text-align: right;\">      </td><td style=\"text-align: right;\">                </td><td style=\"text-align: right;\">          </td></tr>\n",
       "<tr><td>main_780bd_00047</td><td>PENDING   </td><td>                 </td><td style=\"text-align: right;\">     700</td><td style=\"text-align: right;\"> 128</td><td style=\"text-align: right;\">  64</td><td style=\"text-align: right;\">  16</td><td style=\"text-align: right;\">0.0006</td><td style=\"text-align: right;\">        0.0009</td><td style=\"text-align: right;\">      </td><td style=\"text-align: right;\">                </td><td style=\"text-align: right;\">          </td></tr>\n",
       "<tr><td>main_780bd_00048</td><td>PENDING   </td><td>                 </td><td style=\"text-align: right;\">     800</td><td style=\"text-align: right;\"> 128</td><td style=\"text-align: right;\">  64</td><td style=\"text-align: right;\">  16</td><td style=\"text-align: right;\">0.0008</td><td style=\"text-align: right;\">        0.0009</td><td style=\"text-align: right;\">      </td><td style=\"text-align: right;\">                </td><td style=\"text-align: right;\">          </td></tr>\n",
       "<tr><td>main_780bd_00049</td><td>PENDING   </td><td>                 </td><td style=\"text-align: right;\">     800</td><td style=\"text-align: right;\"> 128</td><td style=\"text-align: right;\">  64</td><td style=\"text-align: right;\">  16</td><td style=\"text-align: right;\">0.0006</td><td style=\"text-align: right;\">        0.0003</td><td style=\"text-align: right;\">      </td><td style=\"text-align: right;\">                </td><td style=\"text-align: right;\">          </td></tr>\n",
       "<tr><td>main_780bd_00000</td><td>TERMINATED</td><td>                 </td><td style=\"text-align: right;\">     700</td><td style=\"text-align: right;\"> 128</td><td style=\"text-align: right;\">  64</td><td style=\"text-align: right;\">  16</td><td style=\"text-align: right;\">0.0008</td><td style=\"text-align: right;\">        0.0009</td><td style=\"text-align: right;\">     1</td><td style=\"text-align: right;\">         13.6591</td><td style=\"text-align: right;\">  0.877091</td></tr>\n",
       "<tr><td>main_780bd_00001</td><td>TERMINATED</td><td>                 </td><td style=\"text-align: right;\">     700</td><td style=\"text-align: right;\"> 128</td><td style=\"text-align: right;\">  64</td><td style=\"text-align: right;\">  16</td><td style=\"text-align: right;\">0.001 </td><td style=\"text-align: right;\">        0.0006</td><td style=\"text-align: right;\">     1</td><td style=\"text-align: right;\">         13.6453</td><td style=\"text-align: right;\">  0.883636</td></tr>\n",
       "<tr><td>main_780bd_00002</td><td>TERMINATED</td><td>                 </td><td style=\"text-align: right;\">     700</td><td style=\"text-align: right;\"> 128</td><td style=\"text-align: right;\">  64</td><td style=\"text-align: right;\">  16</td><td style=\"text-align: right;\">0.0016</td><td style=\"text-align: right;\">        0.0009</td><td style=\"text-align: right;\">     1</td><td style=\"text-align: right;\">         12.996 </td><td style=\"text-align: right;\">  0.879273</td></tr>\n",
       "<tr><td>main_780bd_00003</td><td>TERMINATED</td><td>                 </td><td style=\"text-align: right;\">     800</td><td style=\"text-align: right;\"> 128</td><td style=\"text-align: right;\">  64</td><td style=\"text-align: right;\">  16</td><td style=\"text-align: right;\">0.0012</td><td style=\"text-align: right;\">        0.0006</td><td style=\"text-align: right;\">     1</td><td style=\"text-align: right;\">         14.9518</td><td style=\"text-align: right;\">  0.883636</td></tr>\n",
       "<tr><td>main_780bd_00004</td><td>TERMINATED</td><td>                 </td><td style=\"text-align: right;\">     700</td><td style=\"text-align: right;\"> 128</td><td style=\"text-align: right;\">  64</td><td style=\"text-align: right;\">  16</td><td style=\"text-align: right;\">0.0006</td><td style=\"text-align: right;\">        0.0003</td><td style=\"text-align: right;\">     1</td><td style=\"text-align: right;\">         13.1162</td><td style=\"text-align: right;\">  0.876364</td></tr>\n",
       "<tr><td>main_780bd_00005</td><td>TERMINATED</td><td>                 </td><td style=\"text-align: right;\">     800</td><td style=\"text-align: right;\"> 128</td><td style=\"text-align: right;\">  64</td><td style=\"text-align: right;\">  16</td><td style=\"text-align: right;\">0.0018</td><td style=\"text-align: right;\">        0.0006</td><td style=\"text-align: right;\">     1</td><td style=\"text-align: right;\">         14.9799</td><td style=\"text-align: right;\">  0.869818</td></tr>\n",
       "<tr><td>main_780bd_00006</td><td>TERMINATED</td><td>                 </td><td style=\"text-align: right;\">     700</td><td style=\"text-align: right;\"> 128</td><td style=\"text-align: right;\">  64</td><td style=\"text-align: right;\">  16</td><td style=\"text-align: right;\">0.0016</td><td style=\"text-align: right;\">        0.0006</td><td style=\"text-align: right;\">     1</td><td style=\"text-align: right;\">         13.208 </td><td style=\"text-align: right;\">  0.872727</td></tr>\n",
       "<tr><td>main_780bd_00007</td><td>TERMINATED</td><td>                 </td><td style=\"text-align: right;\">     800</td><td style=\"text-align: right;\"> 128</td><td style=\"text-align: right;\">  64</td><td style=\"text-align: right;\">  16</td><td style=\"text-align: right;\">0.0012</td><td style=\"text-align: right;\">        0.0006</td><td style=\"text-align: right;\">     1</td><td style=\"text-align: right;\">         15.0515</td><td style=\"text-align: right;\">  0.864727</td></tr>\n",
       "<tr><td>main_780bd_00008</td><td>TERMINATED</td><td>                 </td><td style=\"text-align: right;\">     800</td><td style=\"text-align: right;\"> 128</td><td style=\"text-align: right;\">  64</td><td style=\"text-align: right;\">  16</td><td style=\"text-align: right;\">0.0014</td><td style=\"text-align: right;\">        0.0009</td><td style=\"text-align: right;\">     1</td><td style=\"text-align: right;\">         14.9417</td><td style=\"text-align: right;\">  0.874909</td></tr>\n",
       "<tr><td>main_780bd_00009</td><td>TERMINATED</td><td>                 </td><td style=\"text-align: right;\">     700</td><td style=\"text-align: right;\"> 128</td><td style=\"text-align: right;\">  64</td><td style=\"text-align: right;\">  16</td><td style=\"text-align: right;\">0.0018</td><td style=\"text-align: right;\">        0.0006</td><td style=\"text-align: right;\">     1</td><td style=\"text-align: right;\">         13.1547</td><td style=\"text-align: right;\">  0.873455</td></tr>\n",
       "<tr><td>main_780bd_00010</td><td>TERMINATED</td><td>                 </td><td style=\"text-align: right;\">     700</td><td style=\"text-align: right;\"> 128</td><td style=\"text-align: right;\">  64</td><td style=\"text-align: right;\">  16</td><td style=\"text-align: right;\">0.0008</td><td style=\"text-align: right;\">        0.0003</td><td style=\"text-align: right;\">     1</td><td style=\"text-align: right;\">         13.1582</td><td style=\"text-align: right;\">  0.872727</td></tr>\n",
       "<tr><td>main_780bd_00011</td><td>TERMINATED</td><td>                 </td><td style=\"text-align: right;\">     800</td><td style=\"text-align: right;\"> 128</td><td style=\"text-align: right;\">  64</td><td style=\"text-align: right;\">  16</td><td style=\"text-align: right;\">0.0018</td><td style=\"text-align: right;\">        0.0009</td><td style=\"text-align: right;\">     1</td><td style=\"text-align: right;\">         14.9075</td><td style=\"text-align: right;\">  0.863273</td></tr>\n",
       "</tbody>\n",
       "</table><br>... 30 more trials not shown (30 TERMINATED)<br><br>"
      ],
      "text/plain": [
       "<IPython.core.display.HTML object>"
      ]
     },
     "metadata": {},
     "output_type": "display_data"
    },
    {
     "name": "stdout",
     "output_type": "stream",
     "text": [
      "Result for main_780bd_00042:\n",
      "  accuracy: 0.8661818181818182\n",
      "  date: 2021-05-07_17-41-27\n",
      "  done: true\n",
      "  experiment_id: 09a6d82e0263489787c94da3f14411c9\n",
      "  experiment_tag: 42_epochs=700,l1=128,l2=64,l3=16,lr=0.0016,weight_decay=0.0006\n",
      "  hostname: 4ce982eb56f7\n",
      "  iterations_since_restore: 1\n",
      "  node_ip: 172.17.0.11\n",
      "  pid: 10742\n",
      "  time_since_restore: 13.260818481445312\n",
      "  time_this_iter_s: 13.260818481445312\n",
      "  time_total_s: 13.260818481445312\n",
      "  timestamp: 1620409287\n",
      "  timesteps_since_restore: 0\n",
      "  training_iteration: 1\n",
      "  trial_id: 780bd_00042\n",
      "  \n"
     ]
    },
    {
     "name": "stderr",
     "output_type": "stream",
     "text": [
      "\u001b[2m\u001b[36m(pid=10804)\u001b[0m Using backend: pytorch\n"
     ]
    },
    {
     "name": "stdout",
     "output_type": "stream",
     "text": [
      "\u001b[2m\u001b[36m(pid=10804)\u001b[0m l1 128 l2 64 l3 16\n",
      "Result for main_780bd_00043:\n",
      "  accuracy: 0.8749090909090909\n",
      "  date: 2021-05-07_17-41-39\n",
      "  done: false\n",
      "  experiment_id: 1f2b0d9818ba4bb88ccb9f567a3925b6\n",
      "  hostname: 4ce982eb56f7\n",
      "  iterations_since_restore: 1\n",
      "  node_ip: 172.17.0.11\n",
      "  pid: 10773\n",
      "  time_since_restore: 15.038440942764282\n",
      "  time_this_iter_s: 15.038440942764282\n",
      "  time_total_s: 15.038440942764282\n",
      "  timestamp: 1620409299\n",
      "  timesteps_since_restore: 0\n",
      "  training_iteration: 1\n",
      "  trial_id: 780bd_00043\n",
      "  \n"
     ]
    },
    {
     "data": {
      "text/html": [
       "== Status ==<br>Memory usage on this node: 31.5/62.8 GiB<br>Using FIFO scheduling algorithm.<br>Resources requested: 2.0/8 CPUs, 2.0/2 GPUs, 0.0/41.76 GiB heap, 0.0/9.31 GiB objects (0.0/1.0 accelerator_type:GTX)<br>Result logdir: /root/ray_results/main_2021-05-07_17-34-25<br>Number of trials: 50/50 (5 PENDING, 2 RUNNING, 43 TERMINATED)<br><table>\n",
       "<thead>\n",
       "<tr><th>Trial name      </th><th>status    </th><th>loc              </th><th style=\"text-align: right;\">  epochs</th><th style=\"text-align: right;\">  l1</th><th style=\"text-align: right;\">  l2</th><th style=\"text-align: right;\">  l3</th><th style=\"text-align: right;\">    lr</th><th style=\"text-align: right;\">  weight_decay</th><th style=\"text-align: right;\">  iter</th><th style=\"text-align: right;\">  total time (s)</th><th style=\"text-align: right;\">  accuracy</th></tr>\n",
       "</thead>\n",
       "<tbody>\n",
       "<tr><td>main_780bd_00043</td><td>RUNNING   </td><td>172.17.0.11:10773</td><td style=\"text-align: right;\">     800</td><td style=\"text-align: right;\"> 128</td><td style=\"text-align: right;\">  64</td><td style=\"text-align: right;\">  16</td><td style=\"text-align: right;\">0.0012</td><td style=\"text-align: right;\">        0.0003</td><td style=\"text-align: right;\">     1</td><td style=\"text-align: right;\">         15.0384</td><td style=\"text-align: right;\">  0.874909</td></tr>\n",
       "<tr><td>main_780bd_00044</td><td>RUNNING   </td><td>                 </td><td style=\"text-align: right;\">     700</td><td style=\"text-align: right;\"> 128</td><td style=\"text-align: right;\">  64</td><td style=\"text-align: right;\">  16</td><td style=\"text-align: right;\">0.0008</td><td style=\"text-align: right;\">        0.0006</td><td style=\"text-align: right;\">      </td><td style=\"text-align: right;\">                </td><td style=\"text-align: right;\">          </td></tr>\n",
       "<tr><td>main_780bd_00045</td><td>PENDING   </td><td>                 </td><td style=\"text-align: right;\">     800</td><td style=\"text-align: right;\"> 128</td><td style=\"text-align: right;\">  64</td><td style=\"text-align: right;\">  16</td><td style=\"text-align: right;\">0.0018</td><td style=\"text-align: right;\">        0.0009</td><td style=\"text-align: right;\">      </td><td style=\"text-align: right;\">                </td><td style=\"text-align: right;\">          </td></tr>\n",
       "<tr><td>main_780bd_00046</td><td>PENDING   </td><td>                 </td><td style=\"text-align: right;\">     700</td><td style=\"text-align: right;\"> 128</td><td style=\"text-align: right;\">  64</td><td style=\"text-align: right;\">  16</td><td style=\"text-align: right;\">0.0016</td><td style=\"text-align: right;\">        0.0003</td><td style=\"text-align: right;\">      </td><td style=\"text-align: right;\">                </td><td style=\"text-align: right;\">          </td></tr>\n",
       "<tr><td>main_780bd_00047</td><td>PENDING   </td><td>                 </td><td style=\"text-align: right;\">     700</td><td style=\"text-align: right;\"> 128</td><td style=\"text-align: right;\">  64</td><td style=\"text-align: right;\">  16</td><td style=\"text-align: right;\">0.0006</td><td style=\"text-align: right;\">        0.0009</td><td style=\"text-align: right;\">      </td><td style=\"text-align: right;\">                </td><td style=\"text-align: right;\">          </td></tr>\n",
       "<tr><td>main_780bd_00048</td><td>PENDING   </td><td>                 </td><td style=\"text-align: right;\">     800</td><td style=\"text-align: right;\"> 128</td><td style=\"text-align: right;\">  64</td><td style=\"text-align: right;\">  16</td><td style=\"text-align: right;\">0.0008</td><td style=\"text-align: right;\">        0.0009</td><td style=\"text-align: right;\">      </td><td style=\"text-align: right;\">                </td><td style=\"text-align: right;\">          </td></tr>\n",
       "<tr><td>main_780bd_00049</td><td>PENDING   </td><td>                 </td><td style=\"text-align: right;\">     800</td><td style=\"text-align: right;\"> 128</td><td style=\"text-align: right;\">  64</td><td style=\"text-align: right;\">  16</td><td style=\"text-align: right;\">0.0006</td><td style=\"text-align: right;\">        0.0003</td><td style=\"text-align: right;\">      </td><td style=\"text-align: right;\">                </td><td style=\"text-align: right;\">          </td></tr>\n",
       "<tr><td>main_780bd_00000</td><td>TERMINATED</td><td>                 </td><td style=\"text-align: right;\">     700</td><td style=\"text-align: right;\"> 128</td><td style=\"text-align: right;\">  64</td><td style=\"text-align: right;\">  16</td><td style=\"text-align: right;\">0.0008</td><td style=\"text-align: right;\">        0.0009</td><td style=\"text-align: right;\">     1</td><td style=\"text-align: right;\">         13.6591</td><td style=\"text-align: right;\">  0.877091</td></tr>\n",
       "<tr><td>main_780bd_00001</td><td>TERMINATED</td><td>                 </td><td style=\"text-align: right;\">     700</td><td style=\"text-align: right;\"> 128</td><td style=\"text-align: right;\">  64</td><td style=\"text-align: right;\">  16</td><td style=\"text-align: right;\">0.001 </td><td style=\"text-align: right;\">        0.0006</td><td style=\"text-align: right;\">     1</td><td style=\"text-align: right;\">         13.6453</td><td style=\"text-align: right;\">  0.883636</td></tr>\n",
       "<tr><td>main_780bd_00002</td><td>TERMINATED</td><td>                 </td><td style=\"text-align: right;\">     700</td><td style=\"text-align: right;\"> 128</td><td style=\"text-align: right;\">  64</td><td style=\"text-align: right;\">  16</td><td style=\"text-align: right;\">0.0016</td><td style=\"text-align: right;\">        0.0009</td><td style=\"text-align: right;\">     1</td><td style=\"text-align: right;\">         12.996 </td><td style=\"text-align: right;\">  0.879273</td></tr>\n",
       "<tr><td>main_780bd_00003</td><td>TERMINATED</td><td>                 </td><td style=\"text-align: right;\">     800</td><td style=\"text-align: right;\"> 128</td><td style=\"text-align: right;\">  64</td><td style=\"text-align: right;\">  16</td><td style=\"text-align: right;\">0.0012</td><td style=\"text-align: right;\">        0.0006</td><td style=\"text-align: right;\">     1</td><td style=\"text-align: right;\">         14.9518</td><td style=\"text-align: right;\">  0.883636</td></tr>\n",
       "<tr><td>main_780bd_00004</td><td>TERMINATED</td><td>                 </td><td style=\"text-align: right;\">     700</td><td style=\"text-align: right;\"> 128</td><td style=\"text-align: right;\">  64</td><td style=\"text-align: right;\">  16</td><td style=\"text-align: right;\">0.0006</td><td style=\"text-align: right;\">        0.0003</td><td style=\"text-align: right;\">     1</td><td style=\"text-align: right;\">         13.1162</td><td style=\"text-align: right;\">  0.876364</td></tr>\n",
       "<tr><td>main_780bd_00005</td><td>TERMINATED</td><td>                 </td><td style=\"text-align: right;\">     800</td><td style=\"text-align: right;\"> 128</td><td style=\"text-align: right;\">  64</td><td style=\"text-align: right;\">  16</td><td style=\"text-align: right;\">0.0018</td><td style=\"text-align: right;\">        0.0006</td><td style=\"text-align: right;\">     1</td><td style=\"text-align: right;\">         14.9799</td><td style=\"text-align: right;\">  0.869818</td></tr>\n",
       "<tr><td>main_780bd_00006</td><td>TERMINATED</td><td>                 </td><td style=\"text-align: right;\">     700</td><td style=\"text-align: right;\"> 128</td><td style=\"text-align: right;\">  64</td><td style=\"text-align: right;\">  16</td><td style=\"text-align: right;\">0.0016</td><td style=\"text-align: right;\">        0.0006</td><td style=\"text-align: right;\">     1</td><td style=\"text-align: right;\">         13.208 </td><td style=\"text-align: right;\">  0.872727</td></tr>\n",
       "<tr><td>main_780bd_00007</td><td>TERMINATED</td><td>                 </td><td style=\"text-align: right;\">     800</td><td style=\"text-align: right;\"> 128</td><td style=\"text-align: right;\">  64</td><td style=\"text-align: right;\">  16</td><td style=\"text-align: right;\">0.0012</td><td style=\"text-align: right;\">        0.0006</td><td style=\"text-align: right;\">     1</td><td style=\"text-align: right;\">         15.0515</td><td style=\"text-align: right;\">  0.864727</td></tr>\n",
       "<tr><td>main_780bd_00008</td><td>TERMINATED</td><td>                 </td><td style=\"text-align: right;\">     800</td><td style=\"text-align: right;\"> 128</td><td style=\"text-align: right;\">  64</td><td style=\"text-align: right;\">  16</td><td style=\"text-align: right;\">0.0014</td><td style=\"text-align: right;\">        0.0009</td><td style=\"text-align: right;\">     1</td><td style=\"text-align: right;\">         14.9417</td><td style=\"text-align: right;\">  0.874909</td></tr>\n",
       "<tr><td>main_780bd_00009</td><td>TERMINATED</td><td>                 </td><td style=\"text-align: right;\">     700</td><td style=\"text-align: right;\"> 128</td><td style=\"text-align: right;\">  64</td><td style=\"text-align: right;\">  16</td><td style=\"text-align: right;\">0.0018</td><td style=\"text-align: right;\">        0.0006</td><td style=\"text-align: right;\">     1</td><td style=\"text-align: right;\">         13.1547</td><td style=\"text-align: right;\">  0.873455</td></tr>\n",
       "<tr><td>main_780bd_00010</td><td>TERMINATED</td><td>                 </td><td style=\"text-align: right;\">     700</td><td style=\"text-align: right;\"> 128</td><td style=\"text-align: right;\">  64</td><td style=\"text-align: right;\">  16</td><td style=\"text-align: right;\">0.0008</td><td style=\"text-align: right;\">        0.0003</td><td style=\"text-align: right;\">     1</td><td style=\"text-align: right;\">         13.1582</td><td style=\"text-align: right;\">  0.872727</td></tr>\n",
       "<tr><td>main_780bd_00011</td><td>TERMINATED</td><td>                 </td><td style=\"text-align: right;\">     800</td><td style=\"text-align: right;\"> 128</td><td style=\"text-align: right;\">  64</td><td style=\"text-align: right;\">  16</td><td style=\"text-align: right;\">0.0018</td><td style=\"text-align: right;\">        0.0009</td><td style=\"text-align: right;\">     1</td><td style=\"text-align: right;\">         14.9075</td><td style=\"text-align: right;\">  0.863273</td></tr>\n",
       "<tr><td>main_780bd_00012</td><td>TERMINATED</td><td>                 </td><td style=\"text-align: right;\">     700</td><td style=\"text-align: right;\"> 128</td><td style=\"text-align: right;\">  64</td><td style=\"text-align: right;\">  16</td><td style=\"text-align: right;\">0.0018</td><td style=\"text-align: right;\">        0.0009</td><td style=\"text-align: right;\">     1</td><td style=\"text-align: right;\">         13.2968</td><td style=\"text-align: right;\">  0.868364</td></tr>\n",
       "</tbody>\n",
       "</table><br>... 30 more trials not shown (30 TERMINATED)<br><br>"
      ],
      "text/plain": [
       "<IPython.core.display.HTML object>"
      ]
     },
     "metadata": {},
     "output_type": "display_data"
    },
    {
     "name": "stdout",
     "output_type": "stream",
     "text": [
      "Result for main_780bd_00043:\n",
      "  accuracy: 0.8749090909090909\n",
      "  date: 2021-05-07_17-41-39\n",
      "  done: true\n",
      "  experiment_id: 1f2b0d9818ba4bb88ccb9f567a3925b6\n",
      "  experiment_tag: 43_epochs=800,l1=128,l2=64,l3=16,lr=0.0012,weight_decay=0.0003\n",
      "  hostname: 4ce982eb56f7\n",
      "  iterations_since_restore: 1\n",
      "  node_ip: 172.17.0.11\n",
      "  pid: 10773\n",
      "  time_since_restore: 15.038440942764282\n",
      "  time_this_iter_s: 15.038440942764282\n",
      "  time_total_s: 15.038440942764282\n",
      "  timestamp: 1620409299\n",
      "  timesteps_since_restore: 0\n",
      "  training_iteration: 1\n",
      "  trial_id: 780bd_00043\n",
      "  \n"
     ]
    },
    {
     "name": "stderr",
     "output_type": "stream",
     "text": [
      "\u001b[2m\u001b[36m(pid=10834)\u001b[0m Using backend: pytorch\n"
     ]
    },
    {
     "name": "stdout",
     "output_type": "stream",
     "text": [
      "\u001b[2m\u001b[36m(pid=10834)\u001b[0m l1 128 l2 64 l3 16\n",
      "Result for main_780bd_00044:\n",
      "  accuracy: 0.866909090909091\n",
      "  date: 2021-05-07_17-41-44\n",
      "  done: false\n",
      "  experiment_id: 9ddced0bef9b4f61a00772f5fc08f477\n",
      "  hostname: 4ce982eb56f7\n",
      "  iterations_since_restore: 1\n",
      "  node_ip: 172.17.0.11\n",
      "  pid: 10804\n",
      "  time_since_restore: 13.190750122070312\n",
      "  time_this_iter_s: 13.190750122070312\n",
      "  time_total_s: 13.190750122070312\n",
      "  timestamp: 1620409304\n",
      "  timesteps_since_restore: 0\n",
      "  training_iteration: 1\n",
      "  trial_id: 780bd_00044\n",
      "  \n",
      "Result for main_780bd_00044:\n",
      "  accuracy: 0.866909090909091\n",
      "  date: 2021-05-07_17-41-44\n",
      "  done: true\n",
      "  experiment_id: 9ddced0bef9b4f61a00772f5fc08f477\n",
      "  experiment_tag: 44_epochs=700,l1=128,l2=64,l3=16,lr=0.0008,weight_decay=0.0006\n",
      "  hostname: 4ce982eb56f7\n",
      "  iterations_since_restore: 1\n",
      "  node_ip: 172.17.0.11\n",
      "  pid: 10804\n",
      "  time_since_restore: 13.190750122070312\n",
      "  time_this_iter_s: 13.190750122070312\n",
      "  time_total_s: 13.190750122070312\n",
      "  timestamp: 1620409304\n",
      "  timesteps_since_restore: 0\n",
      "  training_iteration: 1\n",
      "  trial_id: 780bd_00044\n",
      "  \n"
     ]
    },
    {
     "name": "stderr",
     "output_type": "stream",
     "text": [
      "\u001b[2m\u001b[36m(pid=10866)\u001b[0m Using backend: pytorch\n"
     ]
    },
    {
     "name": "stdout",
     "output_type": "stream",
     "text": [
      "\u001b[2m\u001b[36m(pid=10866)\u001b[0m l1 128 l2 64 l3 16\n",
      "Result for main_780bd_00045:\n",
      "  accuracy: 0.8785454545454545\n",
      "  date: 2021-05-07_17-41-58\n",
      "  done: false\n",
      "  experiment_id: 922cef725c5643798b86c6e8ada6282e\n",
      "  hostname: 4ce982eb56f7\n",
      "  iterations_since_restore: 1\n",
      "  node_ip: 172.17.0.11\n",
      "  pid: 10834\n",
      "  time_since_restore: 14.99494457244873\n",
      "  time_this_iter_s: 14.99494457244873\n",
      "  time_total_s: 14.99494457244873\n",
      "  timestamp: 1620409318\n",
      "  timesteps_since_restore: 0\n",
      "  training_iteration: 1\n",
      "  trial_id: 780bd_00045\n",
      "  \n"
     ]
    },
    {
     "data": {
      "text/html": [
       "== Status ==<br>Memory usage on this node: 31.5/62.8 GiB<br>Using FIFO scheduling algorithm.<br>Resources requested: 2.0/8 CPUs, 2.0/2 GPUs, 0.0/41.76 GiB heap, 0.0/9.31 GiB objects (0.0/1.0 accelerator_type:GTX)<br>Result logdir: /root/ray_results/main_2021-05-07_17-34-25<br>Number of trials: 50/50 (3 PENDING, 2 RUNNING, 45 TERMINATED)<br><table>\n",
       "<thead>\n",
       "<tr><th>Trial name      </th><th>status    </th><th>loc              </th><th style=\"text-align: right;\">  epochs</th><th style=\"text-align: right;\">  l1</th><th style=\"text-align: right;\">  l2</th><th style=\"text-align: right;\">  l3</th><th style=\"text-align: right;\">    lr</th><th style=\"text-align: right;\">  weight_decay</th><th style=\"text-align: right;\">  iter</th><th style=\"text-align: right;\">  total time (s)</th><th style=\"text-align: right;\">  accuracy</th></tr>\n",
       "</thead>\n",
       "<tbody>\n",
       "<tr><td>main_780bd_00045</td><td>RUNNING   </td><td>172.17.0.11:10834</td><td style=\"text-align: right;\">     800</td><td style=\"text-align: right;\"> 128</td><td style=\"text-align: right;\">  64</td><td style=\"text-align: right;\">  16</td><td style=\"text-align: right;\">0.0018</td><td style=\"text-align: right;\">        0.0009</td><td style=\"text-align: right;\">     1</td><td style=\"text-align: right;\">         14.9949</td><td style=\"text-align: right;\">  0.878545</td></tr>\n",
       "<tr><td>main_780bd_00046</td><td>RUNNING   </td><td>                 </td><td style=\"text-align: right;\">     700</td><td style=\"text-align: right;\"> 128</td><td style=\"text-align: right;\">  64</td><td style=\"text-align: right;\">  16</td><td style=\"text-align: right;\">0.0016</td><td style=\"text-align: right;\">        0.0003</td><td style=\"text-align: right;\">      </td><td style=\"text-align: right;\">                </td><td style=\"text-align: right;\">          </td></tr>\n",
       "<tr><td>main_780bd_00047</td><td>PENDING   </td><td>                 </td><td style=\"text-align: right;\">     700</td><td style=\"text-align: right;\"> 128</td><td style=\"text-align: right;\">  64</td><td style=\"text-align: right;\">  16</td><td style=\"text-align: right;\">0.0006</td><td style=\"text-align: right;\">        0.0009</td><td style=\"text-align: right;\">      </td><td style=\"text-align: right;\">                </td><td style=\"text-align: right;\">          </td></tr>\n",
       "<tr><td>main_780bd_00048</td><td>PENDING   </td><td>                 </td><td style=\"text-align: right;\">     800</td><td style=\"text-align: right;\"> 128</td><td style=\"text-align: right;\">  64</td><td style=\"text-align: right;\">  16</td><td style=\"text-align: right;\">0.0008</td><td style=\"text-align: right;\">        0.0009</td><td style=\"text-align: right;\">      </td><td style=\"text-align: right;\">                </td><td style=\"text-align: right;\">          </td></tr>\n",
       "<tr><td>main_780bd_00049</td><td>PENDING   </td><td>                 </td><td style=\"text-align: right;\">     800</td><td style=\"text-align: right;\"> 128</td><td style=\"text-align: right;\">  64</td><td style=\"text-align: right;\">  16</td><td style=\"text-align: right;\">0.0006</td><td style=\"text-align: right;\">        0.0003</td><td style=\"text-align: right;\">      </td><td style=\"text-align: right;\">                </td><td style=\"text-align: right;\">          </td></tr>\n",
       "<tr><td>main_780bd_00000</td><td>TERMINATED</td><td>                 </td><td style=\"text-align: right;\">     700</td><td style=\"text-align: right;\"> 128</td><td style=\"text-align: right;\">  64</td><td style=\"text-align: right;\">  16</td><td style=\"text-align: right;\">0.0008</td><td style=\"text-align: right;\">        0.0009</td><td style=\"text-align: right;\">     1</td><td style=\"text-align: right;\">         13.6591</td><td style=\"text-align: right;\">  0.877091</td></tr>\n",
       "<tr><td>main_780bd_00001</td><td>TERMINATED</td><td>                 </td><td style=\"text-align: right;\">     700</td><td style=\"text-align: right;\"> 128</td><td style=\"text-align: right;\">  64</td><td style=\"text-align: right;\">  16</td><td style=\"text-align: right;\">0.001 </td><td style=\"text-align: right;\">        0.0006</td><td style=\"text-align: right;\">     1</td><td style=\"text-align: right;\">         13.6453</td><td style=\"text-align: right;\">  0.883636</td></tr>\n",
       "<tr><td>main_780bd_00002</td><td>TERMINATED</td><td>                 </td><td style=\"text-align: right;\">     700</td><td style=\"text-align: right;\"> 128</td><td style=\"text-align: right;\">  64</td><td style=\"text-align: right;\">  16</td><td style=\"text-align: right;\">0.0016</td><td style=\"text-align: right;\">        0.0009</td><td style=\"text-align: right;\">     1</td><td style=\"text-align: right;\">         12.996 </td><td style=\"text-align: right;\">  0.879273</td></tr>\n",
       "<tr><td>main_780bd_00003</td><td>TERMINATED</td><td>                 </td><td style=\"text-align: right;\">     800</td><td style=\"text-align: right;\"> 128</td><td style=\"text-align: right;\">  64</td><td style=\"text-align: right;\">  16</td><td style=\"text-align: right;\">0.0012</td><td style=\"text-align: right;\">        0.0006</td><td style=\"text-align: right;\">     1</td><td style=\"text-align: right;\">         14.9518</td><td style=\"text-align: right;\">  0.883636</td></tr>\n",
       "<tr><td>main_780bd_00004</td><td>TERMINATED</td><td>                 </td><td style=\"text-align: right;\">     700</td><td style=\"text-align: right;\"> 128</td><td style=\"text-align: right;\">  64</td><td style=\"text-align: right;\">  16</td><td style=\"text-align: right;\">0.0006</td><td style=\"text-align: right;\">        0.0003</td><td style=\"text-align: right;\">     1</td><td style=\"text-align: right;\">         13.1162</td><td style=\"text-align: right;\">  0.876364</td></tr>\n",
       "<tr><td>main_780bd_00005</td><td>TERMINATED</td><td>                 </td><td style=\"text-align: right;\">     800</td><td style=\"text-align: right;\"> 128</td><td style=\"text-align: right;\">  64</td><td style=\"text-align: right;\">  16</td><td style=\"text-align: right;\">0.0018</td><td style=\"text-align: right;\">        0.0006</td><td style=\"text-align: right;\">     1</td><td style=\"text-align: right;\">         14.9799</td><td style=\"text-align: right;\">  0.869818</td></tr>\n",
       "<tr><td>main_780bd_00006</td><td>TERMINATED</td><td>                 </td><td style=\"text-align: right;\">     700</td><td style=\"text-align: right;\"> 128</td><td style=\"text-align: right;\">  64</td><td style=\"text-align: right;\">  16</td><td style=\"text-align: right;\">0.0016</td><td style=\"text-align: right;\">        0.0006</td><td style=\"text-align: right;\">     1</td><td style=\"text-align: right;\">         13.208 </td><td style=\"text-align: right;\">  0.872727</td></tr>\n",
       "<tr><td>main_780bd_00007</td><td>TERMINATED</td><td>                 </td><td style=\"text-align: right;\">     800</td><td style=\"text-align: right;\"> 128</td><td style=\"text-align: right;\">  64</td><td style=\"text-align: right;\">  16</td><td style=\"text-align: right;\">0.0012</td><td style=\"text-align: right;\">        0.0006</td><td style=\"text-align: right;\">     1</td><td style=\"text-align: right;\">         15.0515</td><td style=\"text-align: right;\">  0.864727</td></tr>\n",
       "<tr><td>main_780bd_00008</td><td>TERMINATED</td><td>                 </td><td style=\"text-align: right;\">     800</td><td style=\"text-align: right;\"> 128</td><td style=\"text-align: right;\">  64</td><td style=\"text-align: right;\">  16</td><td style=\"text-align: right;\">0.0014</td><td style=\"text-align: right;\">        0.0009</td><td style=\"text-align: right;\">     1</td><td style=\"text-align: right;\">         14.9417</td><td style=\"text-align: right;\">  0.874909</td></tr>\n",
       "<tr><td>main_780bd_00009</td><td>TERMINATED</td><td>                 </td><td style=\"text-align: right;\">     700</td><td style=\"text-align: right;\"> 128</td><td style=\"text-align: right;\">  64</td><td style=\"text-align: right;\">  16</td><td style=\"text-align: right;\">0.0018</td><td style=\"text-align: right;\">        0.0006</td><td style=\"text-align: right;\">     1</td><td style=\"text-align: right;\">         13.1547</td><td style=\"text-align: right;\">  0.873455</td></tr>\n",
       "<tr><td>main_780bd_00010</td><td>TERMINATED</td><td>                 </td><td style=\"text-align: right;\">     700</td><td style=\"text-align: right;\"> 128</td><td style=\"text-align: right;\">  64</td><td style=\"text-align: right;\">  16</td><td style=\"text-align: right;\">0.0008</td><td style=\"text-align: right;\">        0.0003</td><td style=\"text-align: right;\">     1</td><td style=\"text-align: right;\">         13.1582</td><td style=\"text-align: right;\">  0.872727</td></tr>\n",
       "<tr><td>main_780bd_00011</td><td>TERMINATED</td><td>                 </td><td style=\"text-align: right;\">     800</td><td style=\"text-align: right;\"> 128</td><td style=\"text-align: right;\">  64</td><td style=\"text-align: right;\">  16</td><td style=\"text-align: right;\">0.0018</td><td style=\"text-align: right;\">        0.0009</td><td style=\"text-align: right;\">     1</td><td style=\"text-align: right;\">         14.9075</td><td style=\"text-align: right;\">  0.863273</td></tr>\n",
       "<tr><td>main_780bd_00012</td><td>TERMINATED</td><td>                 </td><td style=\"text-align: right;\">     700</td><td style=\"text-align: right;\"> 128</td><td style=\"text-align: right;\">  64</td><td style=\"text-align: right;\">  16</td><td style=\"text-align: right;\">0.0018</td><td style=\"text-align: right;\">        0.0009</td><td style=\"text-align: right;\">     1</td><td style=\"text-align: right;\">         13.2968</td><td style=\"text-align: right;\">  0.868364</td></tr>\n",
       "<tr><td>main_780bd_00013</td><td>TERMINATED</td><td>                 </td><td style=\"text-align: right;\">     800</td><td style=\"text-align: right;\"> 128</td><td style=\"text-align: right;\">  64</td><td style=\"text-align: right;\">  16</td><td style=\"text-align: right;\">0.0016</td><td style=\"text-align: right;\">        0.0003</td><td style=\"text-align: right;\">     1</td><td style=\"text-align: right;\">         15.0173</td><td style=\"text-align: right;\">  0.884364</td></tr>\n",
       "<tr><td>main_780bd_00014</td><td>TERMINATED</td><td>                 </td><td style=\"text-align: right;\">     700</td><td style=\"text-align: right;\"> 128</td><td style=\"text-align: right;\">  64</td><td style=\"text-align: right;\">  16</td><td style=\"text-align: right;\">0.001 </td><td style=\"text-align: right;\">        0.0003</td><td style=\"text-align: right;\">     1</td><td style=\"text-align: right;\">         13.1927</td><td style=\"text-align: right;\">  0.872   </td></tr>\n",
       "</tbody>\n",
       "</table><br>... 30 more trials not shown (30 TERMINATED)<br><br>"
      ],
      "text/plain": [
       "<IPython.core.display.HTML object>"
      ]
     },
     "metadata": {},
     "output_type": "display_data"
    },
    {
     "name": "stdout",
     "output_type": "stream",
     "text": [
      "Result for main_780bd_00045:\n",
      "  accuracy: 0.8785454545454545\n",
      "  date: 2021-05-07_17-41-58\n",
      "  done: true\n",
      "  experiment_id: 922cef725c5643798b86c6e8ada6282e\n",
      "  experiment_tag: 45_epochs=800,l1=128,l2=64,l3=16,lr=0.0018,weight_decay=0.0009\n",
      "  hostname: 4ce982eb56f7\n",
      "  iterations_since_restore: 1\n",
      "  node_ip: 172.17.0.11\n",
      "  pid: 10834\n",
      "  time_since_restore: 14.99494457244873\n",
      "  time_this_iter_s: 14.99494457244873\n",
      "  time_total_s: 14.99494457244873\n",
      "  timestamp: 1620409318\n",
      "  timesteps_since_restore: 0\n",
      "  training_iteration: 1\n",
      "  trial_id: 780bd_00045\n",
      "  \n",
      "Result for main_780bd_00046:\n",
      "  accuracy: 0.8785454545454545\n",
      "  date: 2021-05-07_17-42-01\n",
      "  done: false\n",
      "  experiment_id: 5af0ed88a1804ac2add493d638acbd4f\n",
      "  hostname: 4ce982eb56f7\n",
      "  iterations_since_restore: 1\n",
      "  node_ip: 172.17.0.11\n",
      "  pid: 10866\n",
      "  time_since_restore: 13.152120113372803\n",
      "  time_this_iter_s: 13.152120113372803\n",
      "  time_total_s: 13.152120113372803\n",
      "  timestamp: 1620409321\n",
      "  timesteps_since_restore: 0\n",
      "  training_iteration: 1\n",
      "  trial_id: 780bd_00046\n",
      "  \n",
      "Result for main_780bd_00046:\n",
      "  accuracy: 0.8785454545454545\n",
      "  date: 2021-05-07_17-42-01\n",
      "  done: true\n",
      "  experiment_id: 5af0ed88a1804ac2add493d638acbd4f\n",
      "  experiment_tag: 46_epochs=700,l1=128,l2=64,l3=16,lr=0.0016,weight_decay=0.0003\n",
      "  hostname: 4ce982eb56f7\n",
      "  iterations_since_restore: 1\n",
      "  node_ip: 172.17.0.11\n",
      "  pid: 10866\n",
      "  time_since_restore: 13.152120113372803\n",
      "  time_this_iter_s: 13.152120113372803\n",
      "  time_total_s: 13.152120113372803\n",
      "  timestamp: 1620409321\n",
      "  timesteps_since_restore: 0\n",
      "  training_iteration: 1\n",
      "  trial_id: 780bd_00046\n",
      "  \n"
     ]
    },
    {
     "name": "stderr",
     "output_type": "stream",
     "text": [
      "\u001b[2m\u001b[36m(pid=10896)\u001b[0m Using backend: pytorch\n"
     ]
    },
    {
     "name": "stdout",
     "output_type": "stream",
     "text": [
      "\u001b[2m\u001b[36m(pid=10896)\u001b[0m l1 128 l2 64 l3 16\n"
     ]
    },
    {
     "name": "stderr",
     "output_type": "stream",
     "text": [
      "\u001b[2m\u001b[36m(pid=10926)\u001b[0m Using backend: pytorch\n"
     ]
    },
    {
     "name": "stdout",
     "output_type": "stream",
     "text": [
      "\u001b[2m\u001b[36m(pid=10926)\u001b[0m l1 128 l2 64 l3 16\n",
      "Result for main_780bd_00047:\n",
      "  accuracy: 0.8618181818181818\n",
      "  date: 2021-05-07_17-42-14\n",
      "  done: false\n",
      "  experiment_id: e56020aab5ac4d7a953d517cd0ae1f58\n",
      "  hostname: 4ce982eb56f7\n",
      "  iterations_since_restore: 1\n",
      "  node_ip: 172.17.0.11\n",
      "  pid: 10896\n",
      "  time_since_restore: 12.968825817108154\n",
      "  time_this_iter_s: 12.968825817108154\n",
      "  time_total_s: 12.968825817108154\n",
      "  timestamp: 1620409334\n",
      "  timesteps_since_restore: 0\n",
      "  training_iteration: 1\n",
      "  trial_id: 780bd_00047\n",
      "  \n"
     ]
    },
    {
     "data": {
      "text/html": [
       "== Status ==<br>Memory usage on this node: 31.5/62.8 GiB<br>Using FIFO scheduling algorithm.<br>Resources requested: 2.0/8 CPUs, 2.0/2 GPUs, 0.0/41.76 GiB heap, 0.0/9.31 GiB objects (0.0/1.0 accelerator_type:GTX)<br>Result logdir: /root/ray_results/main_2021-05-07_17-34-25<br>Number of trials: 50/50 (1 PENDING, 2 RUNNING, 47 TERMINATED)<br><table>\n",
       "<thead>\n",
       "<tr><th>Trial name      </th><th>status    </th><th>loc              </th><th style=\"text-align: right;\">  epochs</th><th style=\"text-align: right;\">  l1</th><th style=\"text-align: right;\">  l2</th><th style=\"text-align: right;\">  l3</th><th style=\"text-align: right;\">    lr</th><th style=\"text-align: right;\">  weight_decay</th><th style=\"text-align: right;\">  iter</th><th style=\"text-align: right;\">  total time (s)</th><th style=\"text-align: right;\">  accuracy</th></tr>\n",
       "</thead>\n",
       "<tbody>\n",
       "<tr><td>main_780bd_00047</td><td>RUNNING   </td><td>172.17.0.11:10896</td><td style=\"text-align: right;\">     700</td><td style=\"text-align: right;\"> 128</td><td style=\"text-align: right;\">  64</td><td style=\"text-align: right;\">  16</td><td style=\"text-align: right;\">0.0006</td><td style=\"text-align: right;\">        0.0009</td><td style=\"text-align: right;\">     1</td><td style=\"text-align: right;\">         12.9688</td><td style=\"text-align: right;\">  0.861818</td></tr>\n",
       "<tr><td>main_780bd_00048</td><td>RUNNING   </td><td>                 </td><td style=\"text-align: right;\">     800</td><td style=\"text-align: right;\"> 128</td><td style=\"text-align: right;\">  64</td><td style=\"text-align: right;\">  16</td><td style=\"text-align: right;\">0.0008</td><td style=\"text-align: right;\">        0.0009</td><td style=\"text-align: right;\">      </td><td style=\"text-align: right;\">                </td><td style=\"text-align: right;\">          </td></tr>\n",
       "<tr><td>main_780bd_00049</td><td>PENDING   </td><td>                 </td><td style=\"text-align: right;\">     800</td><td style=\"text-align: right;\"> 128</td><td style=\"text-align: right;\">  64</td><td style=\"text-align: right;\">  16</td><td style=\"text-align: right;\">0.0006</td><td style=\"text-align: right;\">        0.0003</td><td style=\"text-align: right;\">      </td><td style=\"text-align: right;\">                </td><td style=\"text-align: right;\">          </td></tr>\n",
       "<tr><td>main_780bd_00000</td><td>TERMINATED</td><td>                 </td><td style=\"text-align: right;\">     700</td><td style=\"text-align: right;\"> 128</td><td style=\"text-align: right;\">  64</td><td style=\"text-align: right;\">  16</td><td style=\"text-align: right;\">0.0008</td><td style=\"text-align: right;\">        0.0009</td><td style=\"text-align: right;\">     1</td><td style=\"text-align: right;\">         13.6591</td><td style=\"text-align: right;\">  0.877091</td></tr>\n",
       "<tr><td>main_780bd_00001</td><td>TERMINATED</td><td>                 </td><td style=\"text-align: right;\">     700</td><td style=\"text-align: right;\"> 128</td><td style=\"text-align: right;\">  64</td><td style=\"text-align: right;\">  16</td><td style=\"text-align: right;\">0.001 </td><td style=\"text-align: right;\">        0.0006</td><td style=\"text-align: right;\">     1</td><td style=\"text-align: right;\">         13.6453</td><td style=\"text-align: right;\">  0.883636</td></tr>\n",
       "<tr><td>main_780bd_00002</td><td>TERMINATED</td><td>                 </td><td style=\"text-align: right;\">     700</td><td style=\"text-align: right;\"> 128</td><td style=\"text-align: right;\">  64</td><td style=\"text-align: right;\">  16</td><td style=\"text-align: right;\">0.0016</td><td style=\"text-align: right;\">        0.0009</td><td style=\"text-align: right;\">     1</td><td style=\"text-align: right;\">         12.996 </td><td style=\"text-align: right;\">  0.879273</td></tr>\n",
       "<tr><td>main_780bd_00003</td><td>TERMINATED</td><td>                 </td><td style=\"text-align: right;\">     800</td><td style=\"text-align: right;\"> 128</td><td style=\"text-align: right;\">  64</td><td style=\"text-align: right;\">  16</td><td style=\"text-align: right;\">0.0012</td><td style=\"text-align: right;\">        0.0006</td><td style=\"text-align: right;\">     1</td><td style=\"text-align: right;\">         14.9518</td><td style=\"text-align: right;\">  0.883636</td></tr>\n",
       "<tr><td>main_780bd_00004</td><td>TERMINATED</td><td>                 </td><td style=\"text-align: right;\">     700</td><td style=\"text-align: right;\"> 128</td><td style=\"text-align: right;\">  64</td><td style=\"text-align: right;\">  16</td><td style=\"text-align: right;\">0.0006</td><td style=\"text-align: right;\">        0.0003</td><td style=\"text-align: right;\">     1</td><td style=\"text-align: right;\">         13.1162</td><td style=\"text-align: right;\">  0.876364</td></tr>\n",
       "<tr><td>main_780bd_00005</td><td>TERMINATED</td><td>                 </td><td style=\"text-align: right;\">     800</td><td style=\"text-align: right;\"> 128</td><td style=\"text-align: right;\">  64</td><td style=\"text-align: right;\">  16</td><td style=\"text-align: right;\">0.0018</td><td style=\"text-align: right;\">        0.0006</td><td style=\"text-align: right;\">     1</td><td style=\"text-align: right;\">         14.9799</td><td style=\"text-align: right;\">  0.869818</td></tr>\n",
       "<tr><td>main_780bd_00006</td><td>TERMINATED</td><td>                 </td><td style=\"text-align: right;\">     700</td><td style=\"text-align: right;\"> 128</td><td style=\"text-align: right;\">  64</td><td style=\"text-align: right;\">  16</td><td style=\"text-align: right;\">0.0016</td><td style=\"text-align: right;\">        0.0006</td><td style=\"text-align: right;\">     1</td><td style=\"text-align: right;\">         13.208 </td><td style=\"text-align: right;\">  0.872727</td></tr>\n",
       "<tr><td>main_780bd_00007</td><td>TERMINATED</td><td>                 </td><td style=\"text-align: right;\">     800</td><td style=\"text-align: right;\"> 128</td><td style=\"text-align: right;\">  64</td><td style=\"text-align: right;\">  16</td><td style=\"text-align: right;\">0.0012</td><td style=\"text-align: right;\">        0.0006</td><td style=\"text-align: right;\">     1</td><td style=\"text-align: right;\">         15.0515</td><td style=\"text-align: right;\">  0.864727</td></tr>\n",
       "<tr><td>main_780bd_00008</td><td>TERMINATED</td><td>                 </td><td style=\"text-align: right;\">     800</td><td style=\"text-align: right;\"> 128</td><td style=\"text-align: right;\">  64</td><td style=\"text-align: right;\">  16</td><td style=\"text-align: right;\">0.0014</td><td style=\"text-align: right;\">        0.0009</td><td style=\"text-align: right;\">     1</td><td style=\"text-align: right;\">         14.9417</td><td style=\"text-align: right;\">  0.874909</td></tr>\n",
       "<tr><td>main_780bd_00009</td><td>TERMINATED</td><td>                 </td><td style=\"text-align: right;\">     700</td><td style=\"text-align: right;\"> 128</td><td style=\"text-align: right;\">  64</td><td style=\"text-align: right;\">  16</td><td style=\"text-align: right;\">0.0018</td><td style=\"text-align: right;\">        0.0006</td><td style=\"text-align: right;\">     1</td><td style=\"text-align: right;\">         13.1547</td><td style=\"text-align: right;\">  0.873455</td></tr>\n",
       "<tr><td>main_780bd_00010</td><td>TERMINATED</td><td>                 </td><td style=\"text-align: right;\">     700</td><td style=\"text-align: right;\"> 128</td><td style=\"text-align: right;\">  64</td><td style=\"text-align: right;\">  16</td><td style=\"text-align: right;\">0.0008</td><td style=\"text-align: right;\">        0.0003</td><td style=\"text-align: right;\">     1</td><td style=\"text-align: right;\">         13.1582</td><td style=\"text-align: right;\">  0.872727</td></tr>\n",
       "<tr><td>main_780bd_00011</td><td>TERMINATED</td><td>                 </td><td style=\"text-align: right;\">     800</td><td style=\"text-align: right;\"> 128</td><td style=\"text-align: right;\">  64</td><td style=\"text-align: right;\">  16</td><td style=\"text-align: right;\">0.0018</td><td style=\"text-align: right;\">        0.0009</td><td style=\"text-align: right;\">     1</td><td style=\"text-align: right;\">         14.9075</td><td style=\"text-align: right;\">  0.863273</td></tr>\n",
       "<tr><td>main_780bd_00012</td><td>TERMINATED</td><td>                 </td><td style=\"text-align: right;\">     700</td><td style=\"text-align: right;\"> 128</td><td style=\"text-align: right;\">  64</td><td style=\"text-align: right;\">  16</td><td style=\"text-align: right;\">0.0018</td><td style=\"text-align: right;\">        0.0009</td><td style=\"text-align: right;\">     1</td><td style=\"text-align: right;\">         13.2968</td><td style=\"text-align: right;\">  0.868364</td></tr>\n",
       "<tr><td>main_780bd_00013</td><td>TERMINATED</td><td>                 </td><td style=\"text-align: right;\">     800</td><td style=\"text-align: right;\"> 128</td><td style=\"text-align: right;\">  64</td><td style=\"text-align: right;\">  16</td><td style=\"text-align: right;\">0.0016</td><td style=\"text-align: right;\">        0.0003</td><td style=\"text-align: right;\">     1</td><td style=\"text-align: right;\">         15.0173</td><td style=\"text-align: right;\">  0.884364</td></tr>\n",
       "<tr><td>main_780bd_00014</td><td>TERMINATED</td><td>                 </td><td style=\"text-align: right;\">     700</td><td style=\"text-align: right;\"> 128</td><td style=\"text-align: right;\">  64</td><td style=\"text-align: right;\">  16</td><td style=\"text-align: right;\">0.001 </td><td style=\"text-align: right;\">        0.0003</td><td style=\"text-align: right;\">     1</td><td style=\"text-align: right;\">         13.1927</td><td style=\"text-align: right;\">  0.872   </td></tr>\n",
       "<tr><td>main_780bd_00015</td><td>TERMINATED</td><td>                 </td><td style=\"text-align: right;\">     800</td><td style=\"text-align: right;\"> 128</td><td style=\"text-align: right;\">  64</td><td style=\"text-align: right;\">  16</td><td style=\"text-align: right;\">0.0008</td><td style=\"text-align: right;\">        0.0003</td><td style=\"text-align: right;\">     1</td><td style=\"text-align: right;\">         14.9919</td><td style=\"text-align: right;\">  0.88    </td></tr>\n",
       "<tr><td>main_780bd_00016</td><td>TERMINATED</td><td>                 </td><td style=\"text-align: right;\">     700</td><td style=\"text-align: right;\"> 128</td><td style=\"text-align: right;\">  64</td><td style=\"text-align: right;\">  16</td><td style=\"text-align: right;\">0.001 </td><td style=\"text-align: right;\">        0.0003</td><td style=\"text-align: right;\">     1</td><td style=\"text-align: right;\">         16.6717</td><td style=\"text-align: right;\">  0.873455</td></tr>\n",
       "</tbody>\n",
       "</table><br>... 30 more trials not shown (30 TERMINATED)<br><br>"
      ],
      "text/plain": [
       "<IPython.core.display.HTML object>"
      ]
     },
     "metadata": {},
     "output_type": "display_data"
    },
    {
     "name": "stdout",
     "output_type": "stream",
     "text": [
      "Result for main_780bd_00047:\n",
      "  accuracy: 0.8618181818181818\n",
      "  date: 2021-05-07_17-42-14\n",
      "  done: true\n",
      "  experiment_id: e56020aab5ac4d7a953d517cd0ae1f58\n",
      "  experiment_tag: 47_epochs=700,l1=128,l2=64,l3=16,lr=0.0006,weight_decay=0.0009\n",
      "  hostname: 4ce982eb56f7\n",
      "  iterations_since_restore: 1\n",
      "  node_ip: 172.17.0.11\n",
      "  pid: 10896\n",
      "  time_since_restore: 12.968825817108154\n",
      "  time_this_iter_s: 12.968825817108154\n",
      "  time_total_s: 12.968825817108154\n",
      "  timestamp: 1620409334\n",
      "  timesteps_since_restore: 0\n",
      "  training_iteration: 1\n",
      "  trial_id: 780bd_00047\n",
      "  \n"
     ]
    },
    {
     "name": "stderr",
     "output_type": "stream",
     "text": [
      "\u001b[2m\u001b[36m(pid=10959)\u001b[0m Using backend: pytorch\n"
     ]
    },
    {
     "name": "stdout",
     "output_type": "stream",
     "text": [
      "\u001b[2m\u001b[36m(pid=10959)\u001b[0m l1 128 l2 64 l3 16\n",
      "Result for main_780bd_00048:\n",
      "  accuracy: 0.8625454545454545\n",
      "  date: 2021-05-07_17-42-19\n",
      "  done: false\n",
      "  experiment_id: a75fdbab53ad4edbb78fcba7aae494cf\n",
      "  hostname: 4ce982eb56f7\n",
      "  iterations_since_restore: 1\n",
      "  node_ip: 172.17.0.11\n",
      "  pid: 10926\n",
      "  time_since_restore: 14.965997219085693\n",
      "  time_this_iter_s: 14.965997219085693\n",
      "  time_total_s: 14.965997219085693\n",
      "  timestamp: 1620409339\n",
      "  timesteps_since_restore: 0\n",
      "  training_iteration: 1\n",
      "  trial_id: 780bd_00048\n",
      "  \n",
      "Result for main_780bd_00048:\n",
      "  accuracy: 0.8625454545454545\n",
      "  date: 2021-05-07_17-42-19\n",
      "  done: true\n",
      "  experiment_id: a75fdbab53ad4edbb78fcba7aae494cf\n",
      "  experiment_tag: 48_epochs=800,l1=128,l2=64,l3=16,lr=0.0008,weight_decay=0.0009\n",
      "  hostname: 4ce982eb56f7\n",
      "  iterations_since_restore: 1\n",
      "  node_ip: 172.17.0.11\n",
      "  pid: 10926\n",
      "  time_since_restore: 14.965997219085693\n",
      "  time_this_iter_s: 14.965997219085693\n",
      "  time_total_s: 14.965997219085693\n",
      "  timestamp: 1620409339\n",
      "  timesteps_since_restore: 0\n",
      "  training_iteration: 1\n",
      "  trial_id: 780bd_00048\n",
      "  \n",
      "Result for main_780bd_00049:\n",
      "  accuracy: 0.8727272727272727\n",
      "  date: 2021-05-07_17-42-33\n",
      "  done: false\n",
      "  experiment_id: ac9879b88c264685ab7cee5b07430edc\n",
      "  hostname: 4ce982eb56f7\n",
      "  iterations_since_restore: 1\n",
      "  node_ip: 172.17.0.11\n",
      "  pid: 10959\n",
      "  time_since_restore: 14.550278425216675\n",
      "  time_this_iter_s: 14.550278425216675\n",
      "  time_total_s: 14.550278425216675\n",
      "  timestamp: 1620409353\n",
      "  timesteps_since_restore: 0\n",
      "  training_iteration: 1\n",
      "  trial_id: 780bd_00049\n",
      "  \n"
     ]
    },
    {
     "data": {
      "text/html": [
       "== Status ==<br>Memory usage on this node: 29.4/62.8 GiB<br>Using FIFO scheduling algorithm.<br>Resources requested: 1.0/8 CPUs, 1.0/2 GPUs, 0.0/41.76 GiB heap, 0.0/9.31 GiB objects (0.0/1.0 accelerator_type:GTX)<br>Result logdir: /root/ray_results/main_2021-05-07_17-34-25<br>Number of trials: 50/50 (1 RUNNING, 49 TERMINATED)<br><table>\n",
       "<thead>\n",
       "<tr><th>Trial name      </th><th>status    </th><th>loc              </th><th style=\"text-align: right;\">  epochs</th><th style=\"text-align: right;\">  l1</th><th style=\"text-align: right;\">  l2</th><th style=\"text-align: right;\">  l3</th><th style=\"text-align: right;\">    lr</th><th style=\"text-align: right;\">  weight_decay</th><th style=\"text-align: right;\">  iter</th><th style=\"text-align: right;\">  total time (s)</th><th style=\"text-align: right;\">  accuracy</th></tr>\n",
       "</thead>\n",
       "<tbody>\n",
       "<tr><td>main_780bd_00049</td><td>RUNNING   </td><td>172.17.0.11:10959</td><td style=\"text-align: right;\">     800</td><td style=\"text-align: right;\"> 128</td><td style=\"text-align: right;\">  64</td><td style=\"text-align: right;\">  16</td><td style=\"text-align: right;\">0.0006</td><td style=\"text-align: right;\">        0.0003</td><td style=\"text-align: right;\">     1</td><td style=\"text-align: right;\">         14.5503</td><td style=\"text-align: right;\">  0.872727</td></tr>\n",
       "<tr><td>main_780bd_00000</td><td>TERMINATED</td><td>                 </td><td style=\"text-align: right;\">     700</td><td style=\"text-align: right;\"> 128</td><td style=\"text-align: right;\">  64</td><td style=\"text-align: right;\">  16</td><td style=\"text-align: right;\">0.0008</td><td style=\"text-align: right;\">        0.0009</td><td style=\"text-align: right;\">     1</td><td style=\"text-align: right;\">         13.6591</td><td style=\"text-align: right;\">  0.877091</td></tr>\n",
       "<tr><td>main_780bd_00001</td><td>TERMINATED</td><td>                 </td><td style=\"text-align: right;\">     700</td><td style=\"text-align: right;\"> 128</td><td style=\"text-align: right;\">  64</td><td style=\"text-align: right;\">  16</td><td style=\"text-align: right;\">0.001 </td><td style=\"text-align: right;\">        0.0006</td><td style=\"text-align: right;\">     1</td><td style=\"text-align: right;\">         13.6453</td><td style=\"text-align: right;\">  0.883636</td></tr>\n",
       "<tr><td>main_780bd_00002</td><td>TERMINATED</td><td>                 </td><td style=\"text-align: right;\">     700</td><td style=\"text-align: right;\"> 128</td><td style=\"text-align: right;\">  64</td><td style=\"text-align: right;\">  16</td><td style=\"text-align: right;\">0.0016</td><td style=\"text-align: right;\">        0.0009</td><td style=\"text-align: right;\">     1</td><td style=\"text-align: right;\">         12.996 </td><td style=\"text-align: right;\">  0.879273</td></tr>\n",
       "<tr><td>main_780bd_00003</td><td>TERMINATED</td><td>                 </td><td style=\"text-align: right;\">     800</td><td style=\"text-align: right;\"> 128</td><td style=\"text-align: right;\">  64</td><td style=\"text-align: right;\">  16</td><td style=\"text-align: right;\">0.0012</td><td style=\"text-align: right;\">        0.0006</td><td style=\"text-align: right;\">     1</td><td style=\"text-align: right;\">         14.9518</td><td style=\"text-align: right;\">  0.883636</td></tr>\n",
       "<tr><td>main_780bd_00004</td><td>TERMINATED</td><td>                 </td><td style=\"text-align: right;\">     700</td><td style=\"text-align: right;\"> 128</td><td style=\"text-align: right;\">  64</td><td style=\"text-align: right;\">  16</td><td style=\"text-align: right;\">0.0006</td><td style=\"text-align: right;\">        0.0003</td><td style=\"text-align: right;\">     1</td><td style=\"text-align: right;\">         13.1162</td><td style=\"text-align: right;\">  0.876364</td></tr>\n",
       "<tr><td>main_780bd_00005</td><td>TERMINATED</td><td>                 </td><td style=\"text-align: right;\">     800</td><td style=\"text-align: right;\"> 128</td><td style=\"text-align: right;\">  64</td><td style=\"text-align: right;\">  16</td><td style=\"text-align: right;\">0.0018</td><td style=\"text-align: right;\">        0.0006</td><td style=\"text-align: right;\">     1</td><td style=\"text-align: right;\">         14.9799</td><td style=\"text-align: right;\">  0.869818</td></tr>\n",
       "<tr><td>main_780bd_00006</td><td>TERMINATED</td><td>                 </td><td style=\"text-align: right;\">     700</td><td style=\"text-align: right;\"> 128</td><td style=\"text-align: right;\">  64</td><td style=\"text-align: right;\">  16</td><td style=\"text-align: right;\">0.0016</td><td style=\"text-align: right;\">        0.0006</td><td style=\"text-align: right;\">     1</td><td style=\"text-align: right;\">         13.208 </td><td style=\"text-align: right;\">  0.872727</td></tr>\n",
       "<tr><td>main_780bd_00007</td><td>TERMINATED</td><td>                 </td><td style=\"text-align: right;\">     800</td><td style=\"text-align: right;\"> 128</td><td style=\"text-align: right;\">  64</td><td style=\"text-align: right;\">  16</td><td style=\"text-align: right;\">0.0012</td><td style=\"text-align: right;\">        0.0006</td><td style=\"text-align: right;\">     1</td><td style=\"text-align: right;\">         15.0515</td><td style=\"text-align: right;\">  0.864727</td></tr>\n",
       "<tr><td>main_780bd_00008</td><td>TERMINATED</td><td>                 </td><td style=\"text-align: right;\">     800</td><td style=\"text-align: right;\"> 128</td><td style=\"text-align: right;\">  64</td><td style=\"text-align: right;\">  16</td><td style=\"text-align: right;\">0.0014</td><td style=\"text-align: right;\">        0.0009</td><td style=\"text-align: right;\">     1</td><td style=\"text-align: right;\">         14.9417</td><td style=\"text-align: right;\">  0.874909</td></tr>\n",
       "<tr><td>main_780bd_00009</td><td>TERMINATED</td><td>                 </td><td style=\"text-align: right;\">     700</td><td style=\"text-align: right;\"> 128</td><td style=\"text-align: right;\">  64</td><td style=\"text-align: right;\">  16</td><td style=\"text-align: right;\">0.0018</td><td style=\"text-align: right;\">        0.0006</td><td style=\"text-align: right;\">     1</td><td style=\"text-align: right;\">         13.1547</td><td style=\"text-align: right;\">  0.873455</td></tr>\n",
       "<tr><td>main_780bd_00010</td><td>TERMINATED</td><td>                 </td><td style=\"text-align: right;\">     700</td><td style=\"text-align: right;\"> 128</td><td style=\"text-align: right;\">  64</td><td style=\"text-align: right;\">  16</td><td style=\"text-align: right;\">0.0008</td><td style=\"text-align: right;\">        0.0003</td><td style=\"text-align: right;\">     1</td><td style=\"text-align: right;\">         13.1582</td><td style=\"text-align: right;\">  0.872727</td></tr>\n",
       "<tr><td>main_780bd_00011</td><td>TERMINATED</td><td>                 </td><td style=\"text-align: right;\">     800</td><td style=\"text-align: right;\"> 128</td><td style=\"text-align: right;\">  64</td><td style=\"text-align: right;\">  16</td><td style=\"text-align: right;\">0.0018</td><td style=\"text-align: right;\">        0.0009</td><td style=\"text-align: right;\">     1</td><td style=\"text-align: right;\">         14.9075</td><td style=\"text-align: right;\">  0.863273</td></tr>\n",
       "<tr><td>main_780bd_00012</td><td>TERMINATED</td><td>                 </td><td style=\"text-align: right;\">     700</td><td style=\"text-align: right;\"> 128</td><td style=\"text-align: right;\">  64</td><td style=\"text-align: right;\">  16</td><td style=\"text-align: right;\">0.0018</td><td style=\"text-align: right;\">        0.0009</td><td style=\"text-align: right;\">     1</td><td style=\"text-align: right;\">         13.2968</td><td style=\"text-align: right;\">  0.868364</td></tr>\n",
       "<tr><td>main_780bd_00013</td><td>TERMINATED</td><td>                 </td><td style=\"text-align: right;\">     800</td><td style=\"text-align: right;\"> 128</td><td style=\"text-align: right;\">  64</td><td style=\"text-align: right;\">  16</td><td style=\"text-align: right;\">0.0016</td><td style=\"text-align: right;\">        0.0003</td><td style=\"text-align: right;\">     1</td><td style=\"text-align: right;\">         15.0173</td><td style=\"text-align: right;\">  0.884364</td></tr>\n",
       "<tr><td>main_780bd_00014</td><td>TERMINATED</td><td>                 </td><td style=\"text-align: right;\">     700</td><td style=\"text-align: right;\"> 128</td><td style=\"text-align: right;\">  64</td><td style=\"text-align: right;\">  16</td><td style=\"text-align: right;\">0.001 </td><td style=\"text-align: right;\">        0.0003</td><td style=\"text-align: right;\">     1</td><td style=\"text-align: right;\">         13.1927</td><td style=\"text-align: right;\">  0.872   </td></tr>\n",
       "<tr><td>main_780bd_00015</td><td>TERMINATED</td><td>                 </td><td style=\"text-align: right;\">     800</td><td style=\"text-align: right;\"> 128</td><td style=\"text-align: right;\">  64</td><td style=\"text-align: right;\">  16</td><td style=\"text-align: right;\">0.0008</td><td style=\"text-align: right;\">        0.0003</td><td style=\"text-align: right;\">     1</td><td style=\"text-align: right;\">         14.9919</td><td style=\"text-align: right;\">  0.88    </td></tr>\n",
       "<tr><td>main_780bd_00016</td><td>TERMINATED</td><td>                 </td><td style=\"text-align: right;\">     700</td><td style=\"text-align: right;\"> 128</td><td style=\"text-align: right;\">  64</td><td style=\"text-align: right;\">  16</td><td style=\"text-align: right;\">0.001 </td><td style=\"text-align: right;\">        0.0003</td><td style=\"text-align: right;\">     1</td><td style=\"text-align: right;\">         16.6717</td><td style=\"text-align: right;\">  0.873455</td></tr>\n",
       "<tr><td>main_780bd_00017</td><td>TERMINATED</td><td>                 </td><td style=\"text-align: right;\">     800</td><td style=\"text-align: right;\"> 128</td><td style=\"text-align: right;\">  64</td><td style=\"text-align: right;\">  16</td><td style=\"text-align: right;\">0.0018</td><td style=\"text-align: right;\">        0.0009</td><td style=\"text-align: right;\">     1</td><td style=\"text-align: right;\">         15.7958</td><td style=\"text-align: right;\">  0.864   </td></tr>\n",
       "<tr><td>main_780bd_00018</td><td>TERMINATED</td><td>                 </td><td style=\"text-align: right;\">     800</td><td style=\"text-align: right;\"> 128</td><td style=\"text-align: right;\">  64</td><td style=\"text-align: right;\">  16</td><td style=\"text-align: right;\">0.0018</td><td style=\"text-align: right;\">        0.0003</td><td style=\"text-align: right;\">     1</td><td style=\"text-align: right;\">         21.5724</td><td style=\"text-align: right;\">  0.873455</td></tr>\n",
       "</tbody>\n",
       "</table><br>... 30 more trials not shown (30 TERMINATED)<br><br>"
      ],
      "text/plain": [
       "<IPython.core.display.HTML object>"
      ]
     },
     "metadata": {},
     "output_type": "display_data"
    },
    {
     "name": "stdout",
     "output_type": "stream",
     "text": [
      "Result for main_780bd_00049:\n",
      "  accuracy: 0.8727272727272727\n",
      "  date: 2021-05-07_17-42-33\n",
      "  done: true\n",
      "  experiment_id: ac9879b88c264685ab7cee5b07430edc\n",
      "  experiment_tag: 49_epochs=800,l1=128,l2=64,l3=16,lr=0.0006,weight_decay=0.0003\n",
      "  hostname: 4ce982eb56f7\n",
      "  iterations_since_restore: 1\n",
      "  node_ip: 172.17.0.11\n",
      "  pid: 10959\n",
      "  time_since_restore: 14.550278425216675\n",
      "  time_this_iter_s: 14.550278425216675\n",
      "  time_total_s: 14.550278425216675\n",
      "  timestamp: 1620409353\n",
      "  timesteps_since_restore: 0\n",
      "  training_iteration: 1\n",
      "  trial_id: 780bd_00049\n",
      "  \n"
     ]
    },
    {
     "data": {
      "text/html": [
       "== Status ==<br>Memory usage on this node: 29.4/62.8 GiB<br>Using FIFO scheduling algorithm.<br>Resources requested: 0/8 CPUs, 0/2 GPUs, 0.0/41.76 GiB heap, 0.0/9.31 GiB objects (0.0/1.0 accelerator_type:GTX)<br>Result logdir: /root/ray_results/main_2021-05-07_17-34-25<br>Number of trials: 50/50 (50 TERMINATED)<br><table>\n",
       "<thead>\n",
       "<tr><th>Trial name      </th><th>status    </th><th>loc  </th><th style=\"text-align: right;\">  epochs</th><th style=\"text-align: right;\">  l1</th><th style=\"text-align: right;\">  l2</th><th style=\"text-align: right;\">  l3</th><th style=\"text-align: right;\">    lr</th><th style=\"text-align: right;\">  weight_decay</th><th style=\"text-align: right;\">  iter</th><th style=\"text-align: right;\">  total time (s)</th><th style=\"text-align: right;\">  accuracy</th></tr>\n",
       "</thead>\n",
       "<tbody>\n",
       "<tr><td>main_780bd_00000</td><td>TERMINATED</td><td>     </td><td style=\"text-align: right;\">     700</td><td style=\"text-align: right;\"> 128</td><td style=\"text-align: right;\">  64</td><td style=\"text-align: right;\">  16</td><td style=\"text-align: right;\">0.0008</td><td style=\"text-align: right;\">        0.0009</td><td style=\"text-align: right;\">     1</td><td style=\"text-align: right;\">         13.6591</td><td style=\"text-align: right;\">  0.877091</td></tr>\n",
       "<tr><td>main_780bd_00001</td><td>TERMINATED</td><td>     </td><td style=\"text-align: right;\">     700</td><td style=\"text-align: right;\"> 128</td><td style=\"text-align: right;\">  64</td><td style=\"text-align: right;\">  16</td><td style=\"text-align: right;\">0.001 </td><td style=\"text-align: right;\">        0.0006</td><td style=\"text-align: right;\">     1</td><td style=\"text-align: right;\">         13.6453</td><td style=\"text-align: right;\">  0.883636</td></tr>\n",
       "<tr><td>main_780bd_00002</td><td>TERMINATED</td><td>     </td><td style=\"text-align: right;\">     700</td><td style=\"text-align: right;\"> 128</td><td style=\"text-align: right;\">  64</td><td style=\"text-align: right;\">  16</td><td style=\"text-align: right;\">0.0016</td><td style=\"text-align: right;\">        0.0009</td><td style=\"text-align: right;\">     1</td><td style=\"text-align: right;\">         12.996 </td><td style=\"text-align: right;\">  0.879273</td></tr>\n",
       "<tr><td>main_780bd_00003</td><td>TERMINATED</td><td>     </td><td style=\"text-align: right;\">     800</td><td style=\"text-align: right;\"> 128</td><td style=\"text-align: right;\">  64</td><td style=\"text-align: right;\">  16</td><td style=\"text-align: right;\">0.0012</td><td style=\"text-align: right;\">        0.0006</td><td style=\"text-align: right;\">     1</td><td style=\"text-align: right;\">         14.9518</td><td style=\"text-align: right;\">  0.883636</td></tr>\n",
       "<tr><td>main_780bd_00004</td><td>TERMINATED</td><td>     </td><td style=\"text-align: right;\">     700</td><td style=\"text-align: right;\"> 128</td><td style=\"text-align: right;\">  64</td><td style=\"text-align: right;\">  16</td><td style=\"text-align: right;\">0.0006</td><td style=\"text-align: right;\">        0.0003</td><td style=\"text-align: right;\">     1</td><td style=\"text-align: right;\">         13.1162</td><td style=\"text-align: right;\">  0.876364</td></tr>\n",
       "<tr><td>main_780bd_00005</td><td>TERMINATED</td><td>     </td><td style=\"text-align: right;\">     800</td><td style=\"text-align: right;\"> 128</td><td style=\"text-align: right;\">  64</td><td style=\"text-align: right;\">  16</td><td style=\"text-align: right;\">0.0018</td><td style=\"text-align: right;\">        0.0006</td><td style=\"text-align: right;\">     1</td><td style=\"text-align: right;\">         14.9799</td><td style=\"text-align: right;\">  0.869818</td></tr>\n",
       "<tr><td>main_780bd_00006</td><td>TERMINATED</td><td>     </td><td style=\"text-align: right;\">     700</td><td style=\"text-align: right;\"> 128</td><td style=\"text-align: right;\">  64</td><td style=\"text-align: right;\">  16</td><td style=\"text-align: right;\">0.0016</td><td style=\"text-align: right;\">        0.0006</td><td style=\"text-align: right;\">     1</td><td style=\"text-align: right;\">         13.208 </td><td style=\"text-align: right;\">  0.872727</td></tr>\n",
       "<tr><td>main_780bd_00007</td><td>TERMINATED</td><td>     </td><td style=\"text-align: right;\">     800</td><td style=\"text-align: right;\"> 128</td><td style=\"text-align: right;\">  64</td><td style=\"text-align: right;\">  16</td><td style=\"text-align: right;\">0.0012</td><td style=\"text-align: right;\">        0.0006</td><td style=\"text-align: right;\">     1</td><td style=\"text-align: right;\">         15.0515</td><td style=\"text-align: right;\">  0.864727</td></tr>\n",
       "<tr><td>main_780bd_00008</td><td>TERMINATED</td><td>     </td><td style=\"text-align: right;\">     800</td><td style=\"text-align: right;\"> 128</td><td style=\"text-align: right;\">  64</td><td style=\"text-align: right;\">  16</td><td style=\"text-align: right;\">0.0014</td><td style=\"text-align: right;\">        0.0009</td><td style=\"text-align: right;\">     1</td><td style=\"text-align: right;\">         14.9417</td><td style=\"text-align: right;\">  0.874909</td></tr>\n",
       "<tr><td>main_780bd_00009</td><td>TERMINATED</td><td>     </td><td style=\"text-align: right;\">     700</td><td style=\"text-align: right;\"> 128</td><td style=\"text-align: right;\">  64</td><td style=\"text-align: right;\">  16</td><td style=\"text-align: right;\">0.0018</td><td style=\"text-align: right;\">        0.0006</td><td style=\"text-align: right;\">     1</td><td style=\"text-align: right;\">         13.1547</td><td style=\"text-align: right;\">  0.873455</td></tr>\n",
       "<tr><td>main_780bd_00010</td><td>TERMINATED</td><td>     </td><td style=\"text-align: right;\">     700</td><td style=\"text-align: right;\"> 128</td><td style=\"text-align: right;\">  64</td><td style=\"text-align: right;\">  16</td><td style=\"text-align: right;\">0.0008</td><td style=\"text-align: right;\">        0.0003</td><td style=\"text-align: right;\">     1</td><td style=\"text-align: right;\">         13.1582</td><td style=\"text-align: right;\">  0.872727</td></tr>\n",
       "<tr><td>main_780bd_00011</td><td>TERMINATED</td><td>     </td><td style=\"text-align: right;\">     800</td><td style=\"text-align: right;\"> 128</td><td style=\"text-align: right;\">  64</td><td style=\"text-align: right;\">  16</td><td style=\"text-align: right;\">0.0018</td><td style=\"text-align: right;\">        0.0009</td><td style=\"text-align: right;\">     1</td><td style=\"text-align: right;\">         14.9075</td><td style=\"text-align: right;\">  0.863273</td></tr>\n",
       "<tr><td>main_780bd_00012</td><td>TERMINATED</td><td>     </td><td style=\"text-align: right;\">     700</td><td style=\"text-align: right;\"> 128</td><td style=\"text-align: right;\">  64</td><td style=\"text-align: right;\">  16</td><td style=\"text-align: right;\">0.0018</td><td style=\"text-align: right;\">        0.0009</td><td style=\"text-align: right;\">     1</td><td style=\"text-align: right;\">         13.2968</td><td style=\"text-align: right;\">  0.868364</td></tr>\n",
       "<tr><td>main_780bd_00013</td><td>TERMINATED</td><td>     </td><td style=\"text-align: right;\">     800</td><td style=\"text-align: right;\"> 128</td><td style=\"text-align: right;\">  64</td><td style=\"text-align: right;\">  16</td><td style=\"text-align: right;\">0.0016</td><td style=\"text-align: right;\">        0.0003</td><td style=\"text-align: right;\">     1</td><td style=\"text-align: right;\">         15.0173</td><td style=\"text-align: right;\">  0.884364</td></tr>\n",
       "<tr><td>main_780bd_00014</td><td>TERMINATED</td><td>     </td><td style=\"text-align: right;\">     700</td><td style=\"text-align: right;\"> 128</td><td style=\"text-align: right;\">  64</td><td style=\"text-align: right;\">  16</td><td style=\"text-align: right;\">0.001 </td><td style=\"text-align: right;\">        0.0003</td><td style=\"text-align: right;\">     1</td><td style=\"text-align: right;\">         13.1927</td><td style=\"text-align: right;\">  0.872   </td></tr>\n",
       "<tr><td>main_780bd_00015</td><td>TERMINATED</td><td>     </td><td style=\"text-align: right;\">     800</td><td style=\"text-align: right;\"> 128</td><td style=\"text-align: right;\">  64</td><td style=\"text-align: right;\">  16</td><td style=\"text-align: right;\">0.0008</td><td style=\"text-align: right;\">        0.0003</td><td style=\"text-align: right;\">     1</td><td style=\"text-align: right;\">         14.9919</td><td style=\"text-align: right;\">  0.88    </td></tr>\n",
       "<tr><td>main_780bd_00016</td><td>TERMINATED</td><td>     </td><td style=\"text-align: right;\">     700</td><td style=\"text-align: right;\"> 128</td><td style=\"text-align: right;\">  64</td><td style=\"text-align: right;\">  16</td><td style=\"text-align: right;\">0.001 </td><td style=\"text-align: right;\">        0.0003</td><td style=\"text-align: right;\">     1</td><td style=\"text-align: right;\">         16.6717</td><td style=\"text-align: right;\">  0.873455</td></tr>\n",
       "<tr><td>main_780bd_00017</td><td>TERMINATED</td><td>     </td><td style=\"text-align: right;\">     800</td><td style=\"text-align: right;\"> 128</td><td style=\"text-align: right;\">  64</td><td style=\"text-align: right;\">  16</td><td style=\"text-align: right;\">0.0018</td><td style=\"text-align: right;\">        0.0009</td><td style=\"text-align: right;\">     1</td><td style=\"text-align: right;\">         15.7958</td><td style=\"text-align: right;\">  0.864   </td></tr>\n",
       "<tr><td>main_780bd_00018</td><td>TERMINATED</td><td>     </td><td style=\"text-align: right;\">     800</td><td style=\"text-align: right;\"> 128</td><td style=\"text-align: right;\">  64</td><td style=\"text-align: right;\">  16</td><td style=\"text-align: right;\">0.0018</td><td style=\"text-align: right;\">        0.0003</td><td style=\"text-align: right;\">     1</td><td style=\"text-align: right;\">         21.5724</td><td style=\"text-align: right;\">  0.873455</td></tr>\n",
       "<tr><td>main_780bd_00019</td><td>TERMINATED</td><td>     </td><td style=\"text-align: right;\">     700</td><td style=\"text-align: right;\"> 128</td><td style=\"text-align: right;\">  64</td><td style=\"text-align: right;\">  16</td><td style=\"text-align: right;\">0.0014</td><td style=\"text-align: right;\">        0.0006</td><td style=\"text-align: right;\">     1</td><td style=\"text-align: right;\">         13.8533</td><td style=\"text-align: right;\">  0.881455</td></tr>\n",
       "<tr><td>main_780bd_00020</td><td>TERMINATED</td><td>     </td><td style=\"text-align: right;\">     700</td><td style=\"text-align: right;\"> 128</td><td style=\"text-align: right;\">  64</td><td style=\"text-align: right;\">  16</td><td style=\"text-align: right;\">0.0012</td><td style=\"text-align: right;\">        0.0009</td><td style=\"text-align: right;\">     1</td><td style=\"text-align: right;\">         19.0489</td><td style=\"text-align: right;\">  0.871273</td></tr>\n",
       "<tr><td>main_780bd_00021</td><td>TERMINATED</td><td>     </td><td style=\"text-align: right;\">     800</td><td style=\"text-align: right;\"> 128</td><td style=\"text-align: right;\">  64</td><td style=\"text-align: right;\">  16</td><td style=\"text-align: right;\">0.001 </td><td style=\"text-align: right;\">        0.0003</td><td style=\"text-align: right;\">     1</td><td style=\"text-align: right;\">         15.7092</td><td style=\"text-align: right;\">  0.868364</td></tr>\n",
       "<tr><td>main_780bd_00022</td><td>TERMINATED</td><td>     </td><td style=\"text-align: right;\">     800</td><td style=\"text-align: right;\"> 128</td><td style=\"text-align: right;\">  64</td><td style=\"text-align: right;\">  16</td><td style=\"text-align: right;\">0.001 </td><td style=\"text-align: right;\">        0.0003</td><td style=\"text-align: right;\">     1</td><td style=\"text-align: right;\">         15.8013</td><td style=\"text-align: right;\">  0.874909</td></tr>\n",
       "<tr><td>main_780bd_00023</td><td>TERMINATED</td><td>     </td><td style=\"text-align: right;\">     800</td><td style=\"text-align: right;\"> 128</td><td style=\"text-align: right;\">  64</td><td style=\"text-align: right;\">  16</td><td style=\"text-align: right;\">0.0014</td><td style=\"text-align: right;\">        0.0009</td><td style=\"text-align: right;\">     1</td><td style=\"text-align: right;\">         21.8149</td><td style=\"text-align: right;\">  0.873455</td></tr>\n",
       "<tr><td>main_780bd_00024</td><td>TERMINATED</td><td>     </td><td style=\"text-align: right;\">     800</td><td style=\"text-align: right;\"> 128</td><td style=\"text-align: right;\">  64</td><td style=\"text-align: right;\">  16</td><td style=\"text-align: right;\">0.0012</td><td style=\"text-align: right;\">        0.0009</td><td style=\"text-align: right;\">     1</td><td style=\"text-align: right;\">         15.3702</td><td style=\"text-align: right;\">  0.872   </td></tr>\n",
       "<tr><td>main_780bd_00025</td><td>TERMINATED</td><td>     </td><td style=\"text-align: right;\">     800</td><td style=\"text-align: right;\"> 128</td><td style=\"text-align: right;\">  64</td><td style=\"text-align: right;\">  16</td><td style=\"text-align: right;\">0.0016</td><td style=\"text-align: right;\">        0.0006</td><td style=\"text-align: right;\">     1</td><td style=\"text-align: right;\">         17.3478</td><td style=\"text-align: right;\">  0.866182</td></tr>\n",
       "<tr><td>main_780bd_00026</td><td>TERMINATED</td><td>     </td><td style=\"text-align: right;\">     700</td><td style=\"text-align: right;\"> 128</td><td style=\"text-align: right;\">  64</td><td style=\"text-align: right;\">  16</td><td style=\"text-align: right;\">0.0016</td><td style=\"text-align: right;\">        0.0009</td><td style=\"text-align: right;\">     1</td><td style=\"text-align: right;\">         13.8919</td><td style=\"text-align: right;\">  0.869091</td></tr>\n",
       "<tr><td>main_780bd_00027</td><td>TERMINATED</td><td>     </td><td style=\"text-align: right;\">     800</td><td style=\"text-align: right;\"> 128</td><td style=\"text-align: right;\">  64</td><td style=\"text-align: right;\">  16</td><td style=\"text-align: right;\">0.0006</td><td style=\"text-align: right;\">        0.0003</td><td style=\"text-align: right;\">     1</td><td style=\"text-align: right;\">         21.838 </td><td style=\"text-align: right;\">  0.870545</td></tr>\n",
       "<tr><td>main_780bd_00028</td><td>TERMINATED</td><td>     </td><td style=\"text-align: right;\">     700</td><td style=\"text-align: right;\"> 128</td><td style=\"text-align: right;\">  64</td><td style=\"text-align: right;\">  16</td><td style=\"text-align: right;\">0.0016</td><td style=\"text-align: right;\">        0.0003</td><td style=\"text-align: right;\">     1</td><td style=\"text-align: right;\">         13.6358</td><td style=\"text-align: right;\">  0.853091</td></tr>\n",
       "<tr><td>main_780bd_00029</td><td>TERMINATED</td><td>     </td><td style=\"text-align: right;\">     700</td><td style=\"text-align: right;\"> 128</td><td style=\"text-align: right;\">  64</td><td style=\"text-align: right;\">  16</td><td style=\"text-align: right;\">0.0018</td><td style=\"text-align: right;\">        0.0003</td><td style=\"text-align: right;\">     1</td><td style=\"text-align: right;\">         13.8798</td><td style=\"text-align: right;\">  0.887273</td></tr>\n",
       "<tr><td>main_780bd_00030</td><td>TERMINATED</td><td>     </td><td style=\"text-align: right;\">     700</td><td style=\"text-align: right;\"> 128</td><td style=\"text-align: right;\">  64</td><td style=\"text-align: right;\">  16</td><td style=\"text-align: right;\">0.0006</td><td style=\"text-align: right;\">        0.0006</td><td style=\"text-align: right;\">     1</td><td style=\"text-align: right;\">         19.4451</td><td style=\"text-align: right;\">  0.860364</td></tr>\n",
       "<tr><td>main_780bd_00031</td><td>TERMINATED</td><td>     </td><td style=\"text-align: right;\">     800</td><td style=\"text-align: right;\"> 128</td><td style=\"text-align: right;\">  64</td><td style=\"text-align: right;\">  16</td><td style=\"text-align: right;\">0.0006</td><td style=\"text-align: right;\">        0.0009</td><td style=\"text-align: right;\">     1</td><td style=\"text-align: right;\">         15.8248</td><td style=\"text-align: right;\">  0.876364</td></tr>\n",
       "<tr><td>main_780bd_00032</td><td>TERMINATED</td><td>     </td><td style=\"text-align: right;\">     800</td><td style=\"text-align: right;\"> 128</td><td style=\"text-align: right;\">  64</td><td style=\"text-align: right;\">  16</td><td style=\"text-align: right;\">0.0016</td><td style=\"text-align: right;\">        0.0006</td><td style=\"text-align: right;\">     1</td><td style=\"text-align: right;\">         21.8981</td><td style=\"text-align: right;\">  0.868364</td></tr>\n",
       "<tr><td>main_780bd_00033</td><td>TERMINATED</td><td>     </td><td style=\"text-align: right;\">     800</td><td style=\"text-align: right;\"> 128</td><td style=\"text-align: right;\">  64</td><td style=\"text-align: right;\">  16</td><td style=\"text-align: right;\">0.0006</td><td style=\"text-align: right;\">        0.0009</td><td style=\"text-align: right;\">     1</td><td style=\"text-align: right;\">         15.6793</td><td style=\"text-align: right;\">  0.878545</td></tr>\n",
       "<tr><td>main_780bd_00034</td><td>TERMINATED</td><td>     </td><td style=\"text-align: right;\">     700</td><td style=\"text-align: right;\"> 128</td><td style=\"text-align: right;\">  64</td><td style=\"text-align: right;\">  16</td><td style=\"text-align: right;\">0.0016</td><td style=\"text-align: right;\">        0.0006</td><td style=\"text-align: right;\">     1</td><td style=\"text-align: right;\">         13.7263</td><td style=\"text-align: right;\">  0.882182</td></tr>\n",
       "<tr><td>main_780bd_00035</td><td>TERMINATED</td><td>     </td><td style=\"text-align: right;\">     800</td><td style=\"text-align: right;\"> 128</td><td style=\"text-align: right;\">  64</td><td style=\"text-align: right;\">  16</td><td style=\"text-align: right;\">0.001 </td><td style=\"text-align: right;\">        0.0006</td><td style=\"text-align: right;\">     1</td><td style=\"text-align: right;\">         15.0189</td><td style=\"text-align: right;\">  0.874909</td></tr>\n",
       "<tr><td>main_780bd_00036</td><td>TERMINATED</td><td>     </td><td style=\"text-align: right;\">     700</td><td style=\"text-align: right;\"> 128</td><td style=\"text-align: right;\">  64</td><td style=\"text-align: right;\">  16</td><td style=\"text-align: right;\">0.0006</td><td style=\"text-align: right;\">        0.0006</td><td style=\"text-align: right;\">     1</td><td style=\"text-align: right;\">         13.2963</td><td style=\"text-align: right;\">  0.866909</td></tr>\n",
       "<tr><td>main_780bd_00037</td><td>TERMINATED</td><td>     </td><td style=\"text-align: right;\">     800</td><td style=\"text-align: right;\"> 128</td><td style=\"text-align: right;\">  64</td><td style=\"text-align: right;\">  16</td><td style=\"text-align: right;\">0.0012</td><td style=\"text-align: right;\">        0.0009</td><td style=\"text-align: right;\">     1</td><td style=\"text-align: right;\">         14.9727</td><td style=\"text-align: right;\">  0.862545</td></tr>\n",
       "<tr><td>main_780bd_00038</td><td>TERMINATED</td><td>     </td><td style=\"text-align: right;\">     700</td><td style=\"text-align: right;\"> 128</td><td style=\"text-align: right;\">  64</td><td style=\"text-align: right;\">  16</td><td style=\"text-align: right;\">0.0016</td><td style=\"text-align: right;\">        0.0009</td><td style=\"text-align: right;\">     1</td><td style=\"text-align: right;\">         13.0983</td><td style=\"text-align: right;\">  0.875636</td></tr>\n",
       "<tr><td>main_780bd_00039</td><td>TERMINATED</td><td>     </td><td style=\"text-align: right;\">     800</td><td style=\"text-align: right;\"> 128</td><td style=\"text-align: right;\">  64</td><td style=\"text-align: right;\">  16</td><td style=\"text-align: right;\">0.001 </td><td style=\"text-align: right;\">        0.0009</td><td style=\"text-align: right;\">     1</td><td style=\"text-align: right;\">         15.0325</td><td style=\"text-align: right;\">  0.872727</td></tr>\n",
       "<tr><td>main_780bd_00040</td><td>TERMINATED</td><td>     </td><td style=\"text-align: right;\">     800</td><td style=\"text-align: right;\"> 128</td><td style=\"text-align: right;\">  64</td><td style=\"text-align: right;\">  16</td><td style=\"text-align: right;\">0.0016</td><td style=\"text-align: right;\">        0.0009</td><td style=\"text-align: right;\">     1</td><td style=\"text-align: right;\">         15.2322</td><td style=\"text-align: right;\">  0.864   </td></tr>\n",
       "<tr><td>main_780bd_00041</td><td>TERMINATED</td><td>     </td><td style=\"text-align: right;\">     800</td><td style=\"text-align: right;\"> 128</td><td style=\"text-align: right;\">  64</td><td style=\"text-align: right;\">  16</td><td style=\"text-align: right;\">0.0018</td><td style=\"text-align: right;\">        0.0009</td><td style=\"text-align: right;\">     1</td><td style=\"text-align: right;\">         15.0703</td><td style=\"text-align: right;\">  0.88    </td></tr>\n",
       "<tr><td>main_780bd_00042</td><td>TERMINATED</td><td>     </td><td style=\"text-align: right;\">     700</td><td style=\"text-align: right;\"> 128</td><td style=\"text-align: right;\">  64</td><td style=\"text-align: right;\">  16</td><td style=\"text-align: right;\">0.0016</td><td style=\"text-align: right;\">        0.0006</td><td style=\"text-align: right;\">     1</td><td style=\"text-align: right;\">         13.2608</td><td style=\"text-align: right;\">  0.866182</td></tr>\n",
       "<tr><td>main_780bd_00043</td><td>TERMINATED</td><td>     </td><td style=\"text-align: right;\">     800</td><td style=\"text-align: right;\"> 128</td><td style=\"text-align: right;\">  64</td><td style=\"text-align: right;\">  16</td><td style=\"text-align: right;\">0.0012</td><td style=\"text-align: right;\">        0.0003</td><td style=\"text-align: right;\">     1</td><td style=\"text-align: right;\">         15.0384</td><td style=\"text-align: right;\">  0.874909</td></tr>\n",
       "<tr><td>main_780bd_00044</td><td>TERMINATED</td><td>     </td><td style=\"text-align: right;\">     700</td><td style=\"text-align: right;\"> 128</td><td style=\"text-align: right;\">  64</td><td style=\"text-align: right;\">  16</td><td style=\"text-align: right;\">0.0008</td><td style=\"text-align: right;\">        0.0006</td><td style=\"text-align: right;\">     1</td><td style=\"text-align: right;\">         13.1908</td><td style=\"text-align: right;\">  0.866909</td></tr>\n",
       "<tr><td>main_780bd_00045</td><td>TERMINATED</td><td>     </td><td style=\"text-align: right;\">     800</td><td style=\"text-align: right;\"> 128</td><td style=\"text-align: right;\">  64</td><td style=\"text-align: right;\">  16</td><td style=\"text-align: right;\">0.0018</td><td style=\"text-align: right;\">        0.0009</td><td style=\"text-align: right;\">     1</td><td style=\"text-align: right;\">         14.9949</td><td style=\"text-align: right;\">  0.878545</td></tr>\n",
       "<tr><td>main_780bd_00046</td><td>TERMINATED</td><td>     </td><td style=\"text-align: right;\">     700</td><td style=\"text-align: right;\"> 128</td><td style=\"text-align: right;\">  64</td><td style=\"text-align: right;\">  16</td><td style=\"text-align: right;\">0.0016</td><td style=\"text-align: right;\">        0.0003</td><td style=\"text-align: right;\">     1</td><td style=\"text-align: right;\">         13.1521</td><td style=\"text-align: right;\">  0.878545</td></tr>\n",
       "<tr><td>main_780bd_00047</td><td>TERMINATED</td><td>     </td><td style=\"text-align: right;\">     700</td><td style=\"text-align: right;\"> 128</td><td style=\"text-align: right;\">  64</td><td style=\"text-align: right;\">  16</td><td style=\"text-align: right;\">0.0006</td><td style=\"text-align: right;\">        0.0009</td><td style=\"text-align: right;\">     1</td><td style=\"text-align: right;\">         12.9688</td><td style=\"text-align: right;\">  0.861818</td></tr>\n",
       "<tr><td>main_780bd_00048</td><td>TERMINATED</td><td>     </td><td style=\"text-align: right;\">     800</td><td style=\"text-align: right;\"> 128</td><td style=\"text-align: right;\">  64</td><td style=\"text-align: right;\">  16</td><td style=\"text-align: right;\">0.0008</td><td style=\"text-align: right;\">        0.0009</td><td style=\"text-align: right;\">     1</td><td style=\"text-align: right;\">         14.966 </td><td style=\"text-align: right;\">  0.862545</td></tr>\n",
       "<tr><td>main_780bd_00049</td><td>TERMINATED</td><td>     </td><td style=\"text-align: right;\">     800</td><td style=\"text-align: right;\"> 128</td><td style=\"text-align: right;\">  64</td><td style=\"text-align: right;\">  16</td><td style=\"text-align: right;\">0.0006</td><td style=\"text-align: right;\">        0.0003</td><td style=\"text-align: right;\">     1</td><td style=\"text-align: right;\">         14.5503</td><td style=\"text-align: right;\">  0.872727</td></tr>\n",
       "</tbody>\n",
       "</table><br><br>"
      ],
      "text/plain": [
       "<IPython.core.display.HTML object>"
      ]
     },
     "metadata": {},
     "output_type": "display_data"
    },
    {
     "name": "stderr",
     "output_type": "stream",
     "text": [
      "2021-05-07 17:42:33,239\tINFO tune.py:549 -- Total run time: 487.41 seconds (487.00 seconds for the tuning loop).\n"
     ]
    }
   ],
   "source": [
    "if __name__ == '__main__':\n",
    "    parameters = {\n",
    "        #\"l1\": tune.sample_from(lambda _: 2**np.random.randint(2, 9)),\n",
    "        \"l1\": tune.choice([128]),\n",
    "        #\"l2\": tune.sample_from(lambda _: 2**np.random.randint(2, 9)),\n",
    "        \"l2\": tune.choice([64]),\n",
    "        #\"l3\": tune.sample_from(lambda _: 2**np.random.randint(2, 9)),\n",
    "        \"l3\": tune.choice([16]),\n",
    "        #\"lr\": tune.loguniform(1e-4, 1e-1),\n",
    "        \"lr\": tune.sample_from(lambda _: 0.0002*np.random.randint(3, 10)),\n",
    "        \"epochs\": tune.sample_from(lambda _: 100*np.random.randint(7, 9)),\n",
    "        \"weight_decay\": tune.sample_from(lambda _: 0.0003*np.random.randint(1, 4)),\n",
    "    }\n",
    "    #tune.run(main, config = parameters)\n",
    "    analysis = tune.run(main, config = parameters, num_samples = 50,resources_per_trial={'gpu': 1})    "
   ]
  },
  {
   "cell_type": "code",
   "execution_count": 32,
   "metadata": {},
   "outputs": [
    {
     "name": "stdout",
     "output_type": "stream",
     "text": [
      "Best config:  {'l1': 128, 'l2': 64, 'l3': 16, 'lr': 0.0012000000000000001, 'epochs': 700, 'weight_decay': 0.0003}\n",
      "Best trial final validation accuracy: 0.8872727272727273\n"
     ]
    }
   ],
   "source": [
    "print(\"Best config: \", analysis.get_best_config(metric=\"accuracy\", mode=\"max\"))\n",
    "best_trial = analysis.get_best_trial(\"accuracy\", \"max\")\n",
    "print(\"Best trial final validation accuracy: {}\".format(best_trial.last_result[\"accuracy\"]))"
   ]
  },
  {
   "cell_type": "code",
   "execution_count": 35,
   "metadata": {},
   "outputs": [
    {
     "name": "stdout",
     "output_type": "stream",
     "text": [
      "Best config:  {'l1': 128, 'l2': 64, 'l3': 16, 'lr': 0.0018000000000000002, 'epochs': 700, 'weight_decay': 0.0003}\n",
      "Best trial final validation accuracy: 0.8872727272727273\n"
     ]
    }
   ],
   "source": [
    "print(\"Best config: \", analysis.get_best_config(metric=\"accuracy\", mode=\"max\"))\n",
    "best_trial = analysis.get_best_trial(\"accuracy\", \"max\")\n",
    "print(\"Best trial final validation accuracy: {}\".format(best_trial.last_result[\"accuracy\"]))"
   ]
  },
  {
   "cell_type": "code",
   "execution_count": 49,
   "metadata": {},
   "outputs": [
    {
     "name": "stdout",
     "output_type": "stream",
     "text": [
      "Best config:  {'l1': 128, 'l2': 64, 'l3': 16, 'lr': 0.0018000000000000002, 'epochs': 700, 'weight_decay': 0.0003}\n",
      "Best trail:  main_780bd_00028\n",
      "Best trial final validation accuracy: 0.8872727272727273\n"
     ]
    }
   ],
   "source": [
    "print(\"Best trail: \", analysis.get_best_trial(metric=\"accuracy\", mode=\"max\"))\n",
    "print(\"Best config: \", analysis.get_best_config(metric=\"accuracy\", mode=\"max\"))\n",
    "best_trial = analysis.get_best_trial(\"accuracy\", \"max\")\n",
    "print(\"Best trial final validation accuracy: {}\".format(best_trial.last_result[\"accuracy\"]))"
   ]
  },
  {
   "cell_type": "code",
   "execution_count": 44,
   "metadata": {},
   "outputs": [
    {
     "name": "stdout",
     "output_type": "stream",
     "text": [
      "/root/ray_results/main_2021-05-07_17-34-25/main_780bd_00000_0_epochs=700,l1=128,l2=64,l3=16,lr=0.0008,weight_decay=0.0009_2021-05-07_17-34-34\n",
      "/root/ray_results/main_2021-05-07_17-34-25/main_780bd_00001_1_epochs=700,l1=128,l2=64,l3=16,lr=0.001,weight_decay=0.0006_2021-05-07_17-34-35\n",
      "/root/ray_results/main_2021-05-07_17-34-25/main_780bd_00002_2_epochs=700,l1=128,l2=64,l3=16,lr=0.0016,weight_decay=0.0009_2021-05-07_17-34-35\n",
      "/root/ray_results/main_2021-05-07_17-34-25/main_780bd_00003_3_epochs=800,l1=128,l2=64,l3=16,lr=0.0012,weight_decay=0.0006_2021-05-07_17-34-51\n",
      "/root/ray_results/main_2021-05-07_17-34-25/main_780bd_00004_4_epochs=700,l1=128,l2=64,l3=16,lr=0.0006,weight_decay=0.0003_2021-05-07_17-34-52\n",
      "/root/ray_results/main_2021-05-07_17-34-25/main_780bd_00005_5_epochs=800,l1=128,l2=64,l3=16,lr=0.0018,weight_decay=0.0006_2021-05-07_17-35-08\n",
      "/root/ray_results/main_2021-05-07_17-34-25/main_780bd_00006_6_epochs=700,l1=128,l2=64,l3=16,lr=0.0016,weight_decay=0.0006_2021-05-07_17-35-10\n",
      "/root/ray_results/main_2021-05-07_17-34-25/main_780bd_00007_7_epochs=800,l1=128,l2=64,l3=16,lr=0.0012,weight_decay=0.0006_2021-05-07_17-35-25\n",
      "/root/ray_results/main_2021-05-07_17-34-25/main_780bd_00008_8_epochs=800,l1=128,l2=64,l3=16,lr=0.0014,weight_decay=0.0009_2021-05-07_17-35-28\n",
      "/root/ray_results/main_2021-05-07_17-34-25/main_780bd_00009_9_epochs=700,l1=128,l2=64,l3=16,lr=0.0018,weight_decay=0.0006_2021-05-07_17-35-41\n",
      "/root/ray_results/main_2021-05-07_17-34-25/main_780bd_00010_10_epochs=700,l1=128,l2=64,l3=16,lr=0.0008,weight_decay=0.0003_2021-05-07_17-35-47\n",
      "/root/ray_results/main_2021-05-07_17-34-25/main_780bd_00011_11_epochs=800,l1=128,l2=64,l3=16,lr=0.0018,weight_decay=0.0009_2021-05-07_17-36-00\n",
      "/root/ray_results/main_2021-05-07_17-34-25/main_780bd_00012_12_epochs=700,l1=128,l2=64,l3=16,lr=0.0018,weight_decay=0.0009_2021-05-07_17-36-04\n",
      "/root/ray_results/main_2021-05-07_17-34-25/main_780bd_00013_13_epochs=800,l1=128,l2=64,l3=16,lr=0.0016,weight_decay=0.0003_2021-05-07_17-36-17\n",
      "/root/ray_results/main_2021-05-07_17-34-25/main_780bd_00014_14_epochs=700,l1=128,l2=64,l3=16,lr=0.001,weight_decay=0.0003_2021-05-07_17-36-22\n",
      "/root/ray_results/main_2021-05-07_17-34-25/main_780bd_00015_15_epochs=800,l1=128,l2=64,l3=16,lr=0.0008,weight_decay=0.0003_2021-05-07_17-36-34\n",
      "/root/ray_results/main_2021-05-07_17-34-25/main_780bd_00016_16_epochs=700,l1=128,l2=64,l3=16,lr=0.001,weight_decay=0.0003_2021-05-07_17-36-41\n",
      "/root/ray_results/main_2021-05-07_17-34-25/main_780bd_00017_17_epochs=800,l1=128,l2=64,l3=16,lr=0.0018,weight_decay=0.0009_2021-05-07_17-36-51\n",
      "/root/ray_results/main_2021-05-07_17-34-25/main_780bd_00018_18_epochs=800,l1=128,l2=64,l3=16,lr=0.0018,weight_decay=0.0003_2021-05-07_17-37-00\n",
      "/root/ray_results/main_2021-05-07_17-34-25/main_780bd_00019_19_epochs=700,l1=128,l2=64,l3=16,lr=0.0014,weight_decay=0.0006_2021-05-07_17-37-11\n",
      "/root/ray_results/main_2021-05-07_17-34-25/main_780bd_00020_20_epochs=700,l1=128,l2=64,l3=16,lr=0.0012,weight_decay=0.0009_2021-05-07_17-37-19\n",
      "/root/ray_results/main_2021-05-07_17-34-25/main_780bd_00021_21_epochs=800,l1=128,l2=64,l3=16,lr=0.001,weight_decay=0.0003_2021-05-07_17-37-36\n",
      "/root/ray_results/main_2021-05-07_17-34-25/main_780bd_00022_22_epochs=800,l1=128,l2=64,l3=16,lr=0.001,weight_decay=0.0003_2021-05-07_17-37-37\n",
      "/root/ray_results/main_2021-05-07_17-34-25/main_780bd_00023_23_epochs=800,l1=128,l2=64,l3=16,lr=0.0014,weight_decay=0.0009_2021-05-07_17-37-56\n",
      "/root/ray_results/main_2021-05-07_17-34-25/main_780bd_00024_24_epochs=800,l1=128,l2=64,l3=16,lr=0.0012,weight_decay=0.0009_2021-05-07_17-37-59\n",
      "/root/ray_results/main_2021-05-07_17-34-25/main_780bd_00025_25_epochs=800,l1=128,l2=64,l3=16,lr=0.0016,weight_decay=0.0006_2021-05-07_17-38-16\n",
      "/root/ray_results/main_2021-05-07_17-34-25/main_780bd_00026_26_epochs=700,l1=128,l2=64,l3=16,lr=0.0016,weight_decay=0.0009_2021-05-07_17-38-25\n",
      "/root/ray_results/main_2021-05-07_17-34-25/main_780bd_00027_27_epochs=800,l1=128,l2=64,l3=16,lr=0.0006,weight_decay=0.0003_2021-05-07_17-38-35\n",
      "/root/ray_results/main_2021-05-07_17-34-25/main_780bd_00028_28_epochs=700,l1=128,l2=64,l3=16,lr=0.0016,weight_decay=0.0003_2021-05-07_17-38-46\n",
      "/root/ray_results/main_2021-05-07_17-34-25/main_780bd_00029_29_epochs=700,l1=128,l2=64,l3=16,lr=0.0018,weight_decay=0.0003_2021-05-07_17-38-52\n",
      "/root/ray_results/main_2021-05-07_17-34-25/main_780bd_00030_30_epochs=700,l1=128,l2=64,l3=16,lr=0.0006,weight_decay=0.0006_2021-05-07_17-39-10\n",
      "/root/ray_results/main_2021-05-07_17-34-25/main_780bd_00031_31_epochs=800,l1=128,l2=64,l3=16,lr=0.0006,weight_decay=0.0009_2021-05-07_17-39-11\n",
      "/root/ray_results/main_2021-05-07_17-34-25/main_780bd_00032_32_epochs=800,l1=128,l2=64,l3=16,lr=0.0016,weight_decay=0.0006_2021-05-07_17-39-28\n",
      "/root/ray_results/main_2021-05-07_17-34-25/main_780bd_00033_33_epochs=800,l1=128,l2=64,l3=16,lr=0.0006,weight_decay=0.0009_2021-05-07_17-39-35\n",
      "/root/ray_results/main_2021-05-07_17-34-25/main_780bd_00034_34_epochs=700,l1=128,l2=64,l3=16,lr=0.0016,weight_decay=0.0006_2021-05-07_17-39-47\n",
      "/root/ray_results/main_2021-05-07_17-34-25/main_780bd_00035_35_epochs=800,l1=128,l2=64,l3=16,lr=0.001,weight_decay=0.0006_2021-05-07_17-40-01\n",
      "/root/ray_results/main_2021-05-07_17-34-25/main_780bd_00036_36_epochs=700,l1=128,l2=64,l3=16,lr=0.0006,weight_decay=0.0006_2021-05-07_17-40-07\n",
      "/root/ray_results/main_2021-05-07_17-34-25/main_780bd_00037_37_epochs=800,l1=128,l2=64,l3=16,lr=0.0012,weight_decay=0.0009_2021-05-07_17-40-18\n",
      "/root/ray_results/main_2021-05-07_17-34-25/main_780bd_00038_38_epochs=700,l1=128,l2=64,l3=16,lr=0.0016,weight_decay=0.0009_2021-05-07_17-40-25\n",
      "/root/ray_results/main_2021-05-07_17-34-25/main_780bd_00039_39_epochs=800,l1=128,l2=64,l3=16,lr=0.001,weight_decay=0.0009_2021-05-07_17-40-35\n",
      "/root/ray_results/main_2021-05-07_17-34-25/main_780bd_00040_40_epochs=800,l1=128,l2=64,l3=16,lr=0.0016,weight_decay=0.0009_2021-05-07_17-40-44\n",
      "/root/ray_results/main_2021-05-07_17-34-25/main_780bd_00041_41_epochs=800,l1=128,l2=64,l3=16,lr=0.0018,weight_decay=0.0009_2021-05-07_17-40-52\n",
      "/root/ray_results/main_2021-05-07_17-34-25/main_780bd_00042_42_epochs=700,l1=128,l2=64,l3=16,lr=0.0016,weight_decay=0.0006_2021-05-07_17-41-02\n",
      "/root/ray_results/main_2021-05-07_17-34-25/main_780bd_00043_43_epochs=800,l1=128,l2=64,l3=16,lr=0.0012,weight_decay=0.0003_2021-05-07_17-41-11\n",
      "/root/ray_results/main_2021-05-07_17-34-25/main_780bd_00044_44_epochs=700,l1=128,l2=64,l3=16,lr=0.0008,weight_decay=0.0006_2021-05-07_17-41-21\n",
      "/root/ray_results/main_2021-05-07_17-34-25/main_780bd_00045_45_epochs=800,l1=128,l2=64,l3=16,lr=0.0018,weight_decay=0.0009_2021-05-07_17-41-27\n",
      "/root/ray_results/main_2021-05-07_17-34-25/main_780bd_00046_46_epochs=700,l1=128,l2=64,l3=16,lr=0.0016,weight_decay=0.0003_2021-05-07_17-41-40\n",
      "/root/ray_results/main_2021-05-07_17-34-25/main_780bd_00047_47_epochs=700,l1=128,l2=64,l3=16,lr=0.0006,weight_decay=0.0009_2021-05-07_17-41-44\n",
      "/root/ray_results/main_2021-05-07_17-34-25/main_780bd_00048_48_epochs=800,l1=128,l2=64,l3=16,lr=0.0008,weight_decay=0.0009_2021-05-07_17-41-58\n",
      "/root/ray_results/main_2021-05-07_17-34-25/main_780bd_00049_49_epochs=800,l1=128,l2=64,l3=16,lr=0.0006,weight_decay=0.0003_2021-05-07_17-42-01\n"
     ]
    }
   ],
   "source": [
    "dc = analysis.get_all_configs()\n",
    "for keys in dc:\n",
    "    print(keys)\n",
    "    "
   ]
  }
 ],
 "metadata": {
  "kernelspec": {
   "display_name": "Python 3",
   "language": "python",
   "name": "python3"
  },
  "language_info": {
   "codemirror_mode": {
    "name": "ipython",
    "version": 3
   },
   "file_extension": ".py",
   "mimetype": "text/x-python",
   "name": "python",
   "nbconvert_exporter": "python",
   "pygments_lexer": "ipython3",
   "version": "3.6.8"
  }
 },
 "nbformat": 4,
 "nbformat_minor": 2
}
